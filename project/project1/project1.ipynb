{
 "cells": [
  {
   "cell_type": "code",
   "execution_count": null,
   "metadata": {
    "deletable": false,
    "editable": false
   },
   "outputs": [],
   "source": [
    "# Initialize Otter\n",
    "import otter\n",
    "grader = otter.Notebook(\"project1.ipynb\")"
   ]
  },
  {
   "cell_type": "markdown",
   "metadata": {},
   "source": [
    "<img style=\"display: block; margin-left: auto; margin-right: auto\" src=\"./ccsf-logo.png\" width=\"250rem;\" alt=\"The CCSF black and white logo\">"
   ]
  },
  {
   "cell_type": "markdown",
   "metadata": {},
   "source": [
    "<div style=\"text-align: center;\">\n",
    "    <h1>Project 1: World Progress</h1>\n",
    "    <em>View the related <a href=\"https://ccsf.instructure.com\" target=\"_blank\">Canvas</a> Assignment page for additional details.</em>\n",
    "</div>"
   ]
  },
  {
   "cell_type": "markdown",
   "metadata": {},
   "source": [
    "In this project, you'll explore data from [Gapminder.org](http://gapminder.org), a website dedicated to providing a fact-based view of the world and how it has changed. That site includes several data visualizations and presentations, but also publishes the raw data that we will use in this project to recreate and extend some of their most famous visualizations.\n",
    "\n",
    "The Gapminder website collects data from many sources and compiles them into tables that describe many countries around the world. All of the data they aggregate are published in the [Systema Globalis](https://github.com/open-numbers/ddf--gapminder--systema_globalis/blob/master/README.md). Their goal is \"to compile all public statistics; Social, Economic and Environmental; into a comparable total dataset.\" All data sets in this project are copied directly from the Systema Globalis folder [countries-etc-datapoints](https://github.com/open-numbers/ddf--gapminder--systema_globalis/tree/master/countries-etc-datapoints) on GitHub without any changes. \n",
    "\n",
    "*Since the data changes over time, the project will actually use CSV files in the project folder for consistency rather than drawing from the real data that could update while you are working on the project.*\n",
    "\n",
    "This project is dedicated to [Hans Rosling](https://en.wikipedia.org/wiki/Hans_Rosling) (1948-2017), who championed the use of data to understand and prioritize global development challenges."
   ]
  },
  {
   "cell_type": "markdown",
   "metadata": {},
   "source": [
    "## 🎗️ Reminders\n",
    "\n",
    "* **[Optional] Project Partner.** \n",
    "    * For this assignment, you are allowed to complete this project with a partner. You aren't required to work with a partner.\n",
    "    * If you want to work with someone, you and your partner should set up a Canvas group with your instructor for this assignment.\n",
    "    * Keep in mind that for group assignments, one submission will count for the entire group in Canvas.\n",
    "    * You and your partner will receive the same grade for this project.\n",
    "* **Code Sharing.** Don't share your code directly with anybody but your partner. You are welcome to discuss questions with other students, but don't share the answers. The experience of solving the problems in this project will prepare you for our exams and potentially for future work in this field. If someone asks you for the answer, resist! Instead, you can demonstrate how you would solve a similar problem or you can focus on a specific part of a task.\n",
    "* **Support.** You are not alone! Meet with your instructor or the tutors, post questions on Canvas or the student Discord channel, and talk to your classmates during our meetings. If you're ever feeling overwhelmed or don't know how to make progress, talk to your instructor or a tutor.\n",
    "* **Tests.** The tests that are given are **not comprehensive** and passing the tests for a question **does not** mean that you answered the question correctly. Tests usually only check that your table has the correct column labels. However, more tests will be applied to verify the correctness of your submission in order to assign your final score, so be careful and check your work! You might want to create your own checks along the way to see if your answers make sense. Additionally, before you submit, make sure that none of your cells take a very long time to run (several minutes).\n",
    "* **Open Response Tasks:** Make sure that you put the answers to the written questions in the indicated cell we provide and generate the graphs as requested. Usually, the point number for the open response tasks corresponds to the number of things you need to address in your response.\n",
    "* **Advice.** Develop your answers incrementally. To perform a complicated table manipulation, break it up into steps, perform each step on a different line, give a new name to each result, and check that each intermediate result is what you expect. You can add any additional names or functions you want to the provided cells. Make sure that you are using distinct and meaningful variable names throughout the notebook. Along that line, **DO NOT** reuse the variable names that we use when we grade your answers. For example, in the first task, we ask you to assign an answer to `latest`. Do not reassign the variable name `latest` to anything else in your notebook, otherwise there is the chance that our tests grade against what `latest` was reassigned to.\n",
    "* You are never expected to use just one line in this project or any others. Use intermediate variables and multiple lines as much as you would like! \n",
    "\n",
    "Run the following cell to get and import the relevant tools."
   ]
  },
  {
   "cell_type": "code",
   "execution_count": null,
   "metadata": {},
   "outputs": [],
   "source": [
    "from datascience import *\n",
    "import numpy as np\n",
    "%matplotlib inline\n",
    "import matplotlib.pyplot as plots\n",
    "plots.style.use('fivethirtyeight')\n",
    "from ipywidgets import interact, interactive, fixed, interact_manual\n",
    "import ipywidgets as widgets"
   ]
  },
  {
   "cell_type": "markdown",
   "metadata": {
    "deletable": false,
    "tags": []
   },
   "source": [
    "## 📈 Global Population Growth\n"
   ]
  },
  {
   "cell_type": "markdown",
   "metadata": {
    "deletable": false,
    "tags": []
   },
   "source": [
    "The global population of humans reached 1 billion around 1800, 3 billion around 1960, 7 billion around 2011, and 8 billion around 2022. The potential impact of population growth has concerned scientists, economists, and politicians alike.\n",
    "\n",
    "The United Nations Population Division estimates that the world population will likely continue to grow throughout the 21st century, but at a slower rate, perhaps reaching and stabilizing at 11 billion by 2100. However, the UN does not rule out scenarios of slower or more extreme growth. These projections help us understand long-term population processes, even if they leave out possible global catastrophic events like war or climate crises.\n",
    "\n",
    "The following image was taken from the [United Nation's World Population Prospects 2022 report](https://www.un.org/development/desa/pd/sites/www.un.org.development.desa.pd/files/wpp2022_summary_of_results.pdf).\n",
    "\n",
    "<img src=\"UN_WPP_2022_Global_Projection.png\" alt=\"The UN's projection of Global population size and growth rate from 1950 through 2050.\"/> \n",
    "\n",
    "In this part of the project, we will examine some of the factors that influence population growth and how they have been changing over the years and around the world. There are two main sub-parts of this analysis.\n",
    "\n",
    "- First, we will examine the data for one country, Poland. We will see how factors such as life expectancy, fertility rate, and child mortality have changed over time in Poland, and how they are related to the rate of population growth.\n",
    "- Next, we will examine whether the changes we have observed for Poland are particular to that country or whether they reflect general patterns observable in other countries too. We will study aspects of world population growth and see how they have been changing.\n",
    "\n",
    "The first table we will consider contains the total population of each country over time. Run the cell below."
   ]
  },
  {
   "cell_type": "code",
   "execution_count": null,
   "metadata": {
    "deletable": false,
    "tags": []
   },
   "outputs": [],
   "source": [
    "population = Table.read_table('population.csv')\n",
    "population.show(3)"
   ]
  },
  {
   "cell_type": "markdown",
   "metadata": {
    "deletable": false,
    "tags": []
   },
   "source": [
    "### 🇵🇱 Poland\n",
    "\n",
    "The Central European nation of Poland has undergone many changes over the centuries. In modern times it was (re)created as a democratic republic in 1919 after World War I. It was invaded and divided in World War II between Germany and the Soviet Union. War and the Holocaust had a devastating impact on its people. Poland was constituted in its current borders at the end of World War II (1945) under a communist government. In 1989, with the fall of the Soviet Union, Poland re-established itself as a democratic republic.\n",
    "\n",
    "In this section of the project, we will examine aspects of the population of Poland since 1900. Poland's borders have changed, so we will look at the population within its current (2012) borders.\n",
    "\n",
    "In the `population` table, the `geo` column contains three-letter codes established by the [International Organization for Standardization](https://en.wikipedia.org/wiki/International_Organization_for_Standardization) (ISO) in the [Alpha-3](https://en.wikipedia.org/wiki/ISO_3166-1_alpha-3#Current_codes) standard. Use the Alpha-3 link to find the 3-letter code for Poland."
   ]
  },
  {
   "cell_type": "markdown",
   "metadata": {},
   "source": [
    "### Task 01 📍"
   ]
  },
  {
   "cell_type": "markdown",
   "metadata": {},
   "source": [
    "Create a table called `p_pop` that has two columns labeled `time` and `population_total`. The first column should contain the years from 1900 through 2020 (including both 1900 and 2020) and the second should contain the population of Poland in each of those years.\n",
    "\n",
    "\n",
    "_Points:_ 4"
   ]
  },
  {
   "cell_type": "code",
   "execution_count": null,
   "metadata": {
    "tags": []
   },
   "outputs": [],
   "source": [
    "p_pop = ...\n",
    "p_pop.show(3)"
   ]
  },
  {
   "cell_type": "code",
   "execution_count": null,
   "metadata": {
    "deletable": false,
    "editable": false
   },
   "outputs": [],
   "source": [
    "grader.check(\"task_01\")"
   ]
  },
  {
   "cell_type": "markdown",
   "metadata": {
    "deletable": false,
    "editable": false
   },
   "source": [
    "Run the following cell to create a table called `p_five` that has the population of Poland every five years."
   ]
  },
  {
   "cell_type": "code",
   "execution_count": null,
   "metadata": {
    "tags": []
   },
   "outputs": [],
   "source": [
    "p_pop.set_format('population_total', NumberFormatter)\n",
    "\n",
    "fives = np.arange(1900, 2021, 5) # 1900, 1905, 1910, ...\n",
    "p_five = p_pop.sort('time').where('time', are.contained_in(fives))\n",
    "p_five.show(3)"
   ]
  },
  {
   "cell_type": "markdown",
   "metadata": {},
   "source": [
    "Run the following cell to visualize the population over time. Following the devastating effects of World War I and World War II, Poland's population increased steadily from 1950 to 2000 and then leveled off. In the following questions we'll investigate this period of population growth."
   ]
  },
  {
   "cell_type": "code",
   "execution_count": null,
   "metadata": {},
   "outputs": [],
   "source": [
    "p_five.plot(0, 1)"
   ]
  },
  {
   "cell_type": "markdown",
   "metadata": {},
   "source": [
    "### Task 02 📍"
   ]
  },
  {
   "cell_type": "markdown",
   "metadata": {},
   "source": [
    "Assign `initial` to an array that contains the population for every five year interval from **1900 to 2015** (inclusive). Then, assign `changed` to an array that contains the population for every five year interval from **1905 to 2020** (inclusive). The first array should include both 1900 and 2015, and the second array should include both 1905 and 2020. You should use the `p_five` table to create both arrays, by first filtering the table to only contain the relevant years.\n",
    "\n",
    "The annual growth rate for a time period is equal to:\n",
    "\n",
    "$$\\left(\\left(\\frac{\\text{Population at end of period}}{\\text{Population at start of period}}\\right)^{\\displaystyle\\frac{1}{\\text{number of years}}}\\right) -1$$\n",
    "\n",
    "We have provided the code below that uses  `initial` and `changed` in order to add a column to `p_five` called `annual_growth`. **Don't worry about the calculation of the growth rates**; run the test below to test your solution.\n",
    "\n",
    "If you are interested in how we came up with the formula for growth rates, consult the [growth rates](https://inferentialthinking.com/chapters/03/2/1/Growth.html) section of the textbook.\n",
    "\n",
    "_Points:_ 6"
   ]
  },
  {
   "cell_type": "code",
   "execution_count": null,
   "metadata": {
    "tags": []
   },
   "outputs": [],
   "source": [
    "initial = ...\n",
    "changed = ...\n",
    "\n",
    "p_1900_through_2015 = p_five.where('time', are.between_or_equal_to(1900, 2015)) \n",
    "p_five_growth = p_1900_through_2015.with_column('annual_growth', (changed/initial)**0.2-1)\n",
    "p_five_growth.set_format('annual_growth', PercentFormatter)\n",
    "\n",
    "\n",
    "initial = p_five.where(\"time\", are.between_or_equal_to(1900, 2015)).column(1)\n",
    "#initial\n",
    "changed = p_five.where(\"time\", are.between_or_equal_to(1905, 2020)).column(1)\n",
    "#changed\n",
    "p_1900_through_2015 = p_five.where('time', are.between_or_equal_to(1900, 2015))\n",
    "p_five_growth = p_1900_through_2015.with_column('annual_growth', (changed/initial)**0.2-1)\n",
    "p_five_growth.set_format('annual_growth', PercentFormatter).show()"
   ]
  },
  {
   "cell_type": "code",
   "execution_count": null,
   "metadata": {
    "deletable": false,
    "editable": false
   },
   "outputs": [],
   "source": [
    "grader.check(\"task_02\")"
   ]
  },
  {
   "cell_type": "markdown",
   "metadata": {},
   "source": [
    "The annual growth rate in Poland has been declining since 1950, as shown in the table below. "
   ]
  },
  {
   "cell_type": "code",
   "execution_count": null,
   "metadata": {},
   "outputs": [],
   "source": [
    "p_five_growth.where('time', are.above_or_equal_to(1950)).show()"
   ]
  },
  {
   "cell_type": "markdown",
   "metadata": {
    "deletable": false,
    "editable": false
   },
   "source": [
    "Next, we'll try to understand what has changed in Poland that might explain the slowing population growth rate. Run the next cell to load three additional tables of measurements about countries over time."
   ]
  },
  {
   "cell_type": "code",
   "execution_count": null,
   "metadata": {
    "deletable": false,
    "tags": []
   },
   "outputs": [],
   "source": [
    "life_expectancy = Table.read_table('life_expectancy.csv').where('time', are.below(2021))\n",
    "child_mortality = Table.read_table('child_mortality.csv').relabel(2, 'child_mortality_under_5_per_1000_born').where('time', are.below(2021))\n",
    "fertility = Table.read_table('fertility.csv').where('time', are.below(2021))"
   ]
  },
  {
   "cell_type": "markdown",
   "metadata": {
    "deletable": false,
    "editable": false
   },
   "source": [
    "The `life_expectancy` table contains a statistic that is often used to measure how long people live, called *life expectancy at birth*. This number, for a country in a given year, [does not measure how long babies born in that year are expected to live](http://blogs.worldbank.org/opendata/what-does-life-expectancy-birth-really-mean). Instead, it measures how long someone would live, on average, if the *mortality conditions* in that year persisted throughout their lifetime. These \"mortality conditions\" describe what fraction of people at each age survived the year. So, it is a way of measuring the proportion of people that are staying alive, aggregated over different age groups in the population."
   ]
  },
  {
   "cell_type": "markdown",
   "metadata": {},
   "source": [
    "Run the following cells below to see `life_expectancy`, `child_mortality`, and `fertility`. Refer back to these tables as they will be helpful for answering further questions!"
   ]
  },
  {
   "cell_type": "code",
   "execution_count": null,
   "metadata": {},
   "outputs": [],
   "source": [
    "life_expectancy.show(3)"
   ]
  },
  {
   "cell_type": "code",
   "execution_count": null,
   "metadata": {},
   "outputs": [],
   "source": [
    "child_mortality.show(3)"
   ]
  },
  {
   "cell_type": "code",
   "execution_count": null,
   "metadata": {},
   "outputs": [],
   "source": [
    "fertility.show(3)"
   ]
  },
  {
   "cell_type": "markdown",
   "metadata": {},
   "source": [
    "### Task 03 📍🔎"
   ]
  },
  {
   "cell_type": "markdown",
   "metadata": {},
   "source": [
    "<!-- BEGIN QUESTION -->\n",
    "\n",
    "Is population growing more slowly perhaps because people aren't living as long? Use the `life_expectancy` table to draw a line graph with the years 1950 and later on the horizontal axis that shows how the *life expectancy at birth* has changed in Poland. Make sure you filter the table properly; otherwise, the graph may look strange!\n",
    "\n",
    "\n",
    "_Points:_ 2"
   ]
  },
  {
   "cell_type": "code",
   "execution_count": null,
   "metadata": {
    "export_pdf": true,
    "manual_grade": true,
    "manual_problem_id": "global_pop_3",
    "tags": []
   },
   "outputs": [],
   "source": [
    "#Fill in code here\n",
    "..."
   ]
  },
  {
   "cell_type": "markdown",
   "metadata": {},
   "source": [
    "<!-- END QUESTION -->\n",
    "\n",
    "### Task 04 📍🔎"
   ]
  },
  {
   "cell_type": "markdown",
   "metadata": {},
   "source": [
    "<!-- BEGIN QUESTION -->\n",
    "\n",
    "Do the trends in life expectancy in the graph above directly explain why the population growth rate decreased since 1950 in Poland? Why or why not?\n",
    "\n",
    "_Points:_ 2"
   ]
  },
  {
   "cell_type": "markdown",
   "metadata": {},
   "source": [
    "_Type your answer here, replacing this text._"
   ]
  },
  {
   "cell_type": "markdown",
   "metadata": {
    "deletable": false,
    "editable": false
   },
   "source": [
    "<!-- END QUESTION -->\n",
    "\n",
    "The `fertility` table contains a statistic that is often used to measure how many babies are being born, the *total fertility rate*. This number describes the [number of children a woman would have in her lifetime](https://www.measureevaluation.org/prh/rh_indicators/specific/fertility/total-fertility-rate), on average, if the current rates of birth by age of the mother persisted throughout her child bearing years, assuming she survived through age 49. "
   ]
  },
  {
   "cell_type": "markdown",
   "metadata": {},
   "source": [
    "### Task 05 📍"
   ]
  },
  {
   "cell_type": "markdown",
   "metadata": {},
   "source": [
    "* Complete the function `fertility_over_time`. It takes the Alpha-3 code of a country as `country_code` and a `start` year. It returns a two-column table with labels `Year` and `Children per woman` with one row per year starting with (and including) the `start` year and including all later years in the `fertility` table. You will probably need to use the `relabeled` method from the `datascience` module to relabel the columns.\n",
    "* Then, set `poland_code` to the Alpha-3 code for Poland. The provided call `fertility_over_time(poland_code, 1950)` returns a table that shows Poland's annual fertility rates since 1950. \n",
    "\n",
    "\n",
    "_Points:_ 5"
   ]
  },
  {
   "cell_type": "code",
   "execution_count": null,
   "metadata": {
    "tags": []
   },
   "outputs": [],
   "source": [
    "def fertility_over_time(country, start):\n",
    "    \"\"\"Create a two-column table that describes a country's total fertility rate each year.\"\"\"\n",
    "    country_fertility = ...\n",
    "    country_fertility_after_start = ...\n",
    "    cleaned_table = ...\n",
    "    ...\n",
    "\n",
    "poland_code = ...\n",
    "fertility_over_time(poland_code, 1950).plot(0, 1) # You should *not* change this line."
   ]
  },
  {
   "cell_type": "code",
   "execution_count": null,
   "metadata": {
    "deletable": false,
    "editable": false
   },
   "outputs": [],
   "source": [
    "grader.check(\"task_05\")"
   ]
  },
  {
   "cell_type": "markdown",
   "metadata": {
    "tags": []
   },
   "source": [
    "Plotting the fertility rate in Poland since 1950, we see a downward trend."
   ]
  },
  {
   "cell_type": "markdown",
   "metadata": {},
   "source": [
    "### Task 06 📍🔎"
   ]
  },
  {
   "cell_type": "markdown",
   "metadata": {},
   "source": [
    "<!-- BEGIN QUESTION -->\n",
    "\n",
    "Do the trends in fertility in the graph above help explain why the population growth rate decreased from 1950 to 2020 in Poland? \n",
    "\n",
    "_Points:_ 2"
   ]
  },
  {
   "cell_type": "markdown",
   "metadata": {},
   "source": [
    "_Type your answer here, replacing this text._"
   ]
  },
  {
   "cell_type": "markdown",
   "metadata": {
    "deletable": false,
    "tags": []
   },
   "source": [
    "<!-- END QUESTION -->\n",
    "\n",
    "As seen in the [Population Horizons Factsheet No.5]((https://www.ageing.ox.ac.uk/download/143)), lower fertility rates are often associated with lower child mortality rates. We can see if this association is evident in Poland by plotting the relationship between total fertility rate and [child mortality rate per 1000 children](https://en.wikipedia.org/wiki/Child_mortality)."
   ]
  },
  {
   "cell_type": "markdown",
   "metadata": {},
   "source": [
    "### Task 07 📍"
   ]
  },
  {
   "cell_type": "markdown",
   "metadata": {},
   "source": [
    "Create a table `poland_since_1950` that contains one row per year starting with 1950 and:\n",
    "\n",
    "- A column `Year` containing the year\n",
    "- A column `Children per woman` describing total fertility in Poland that year\n",
    "- A column `Child deaths per 1000 born` describing child mortality\n",
    "\n",
    "_Points:_ 8"
   ]
  },
  {
   "cell_type": "code",
   "execution_count": null,
   "metadata": {
    "tags": []
   },
   "outputs": [],
   "source": [
    "pol_fertility = fertility_over_time(poland_code, 1950)  # Try starting with the table you built already!\n",
    "# It's a good idea (but not required) to use multiple lines in your solution.\n",
    "pol_child_mortality = child_mortality.where('geo', 'pol').drop('geo').relabeled('child_mortality_under_5_per_1000_born', 'Child deaths per 1000 born')\n",
    "poland_since_1950 =  pol_fertility.join('Year', pol_child_mortality, 'time')\n",
    "poland_since_1950"
   ]
  },
  {
   "cell_type": "code",
   "execution_count": null,
   "metadata": {
    "deletable": false,
    "editable": false
   },
   "outputs": [],
   "source": [
    "grader.check(\"task_07\")"
   ]
  },
  {
   "cell_type": "markdown",
   "metadata": {},
   "source": [
    "Run the following cell to generate a scatter plot from the `poland_since_1950` table you created.\n",
    "\n",
    "The plot uses **color** to encode data about the `Year` column. The colors, ranging from dark blue to white, represent the passing of time between 1950 and 2020. For example, a point on the scatter plot representing data from the 1950s would appear as **dark blue** and a point from the 2010s would appear as **light blue**."
   ]
  },
  {
   "cell_type": "code",
   "execution_count": null,
   "metadata": {},
   "outputs": [],
   "source": [
    "x_births = poland_since_1950.column(\"Children per woman\")\n",
    "y_deaths = poland_since_1950.column(\"Child deaths per 1000 born\")\n",
    "time_colors = poland_since_1950.column(\"Year\")\n",
    "\n",
    "plots.figure(figsize=(6,6))\n",
    "plots.scatter(x_births, y_deaths, c=time_colors, cmap=\"Blues_r\")\n",
    "plots.colorbar()                  \n",
    "plots.xlabel(\"Children per woman\")\n",
    "plots.ylabel(\"Child deaths per 1000 born\");"
   ]
  },
  {
   "cell_type": "markdown",
   "metadata": {},
   "source": [
    "### Task 08 📍🔎"
   ]
  },
  {
   "cell_type": "markdown",
   "metadata": {},
   "source": [
    "<!-- BEGIN QUESTION -->\n",
    "\n",
    "In one or two sentences, describe the association (if any) that is illustrated by this scatter plot. Does the diagram show any causal relation between between fertility and child mortality?\n",
    "\n",
    "_Points:_ 2"
   ]
  },
  {
   "cell_type": "markdown",
   "metadata": {},
   "source": [
    "_Type your answer here, replacing this text._"
   ]
  },
  {
   "cell_type": "markdown",
   "metadata": {},
   "source": [
    "<!-- END QUESTION -->\n",
    "\n",
    "---"
   ]
  },
  {
   "cell_type": "markdown",
   "metadata": {},
   "source": [
    "### 👋 Submit your Progress Check to Canvas"
   ]
  },
  {
   "cell_type": "markdown",
   "metadata": {},
   "source": [
    "1. In the related Canvas Assignment page, check the requirements for a Complete score for this checkpoint.\n",
    "1. Run the following code cell that will run all of the auto-graders tests for the above tasks.\n",
    "2. Double-check that you have provided a response to tasks 03, 04, 06, and 08 that will need to be manually reviewed.\n",
    "4. Select the menu items \"File\", \"Save and Export Notebook As...\", and \"HTML (.html)\" in the notebook's Toolbar to download an HTML version of this notebook file.\n",
    "5. In the related Canvas Assignment page, click Start Assignment or New Attempt to upload the downloaded HTML file.\n",
    "\n",
    "**Keep in mind that the autograder does not always check for correctness. Sometimes it just checks for the format of your answer, so passing the autograder for a question does not mean you got the answer correct for that question.**"
   ]
  },
  {
   "cell_type": "code",
   "execution_count": null,
   "metadata": {},
   "outputs": [],
   "source": [
    "try:\n",
    "    checkpoint_tests = [\"task_01\", \"task_02\", \"task_05\", \"task_07\"]\n",
    "    for test in checkpoint_tests:\n",
    "        display(grader.check(test))\n",
    "except NameError:\n",
    "    print('The auto-grader has not be initialized.')"
   ]
  },
  {
   "cell_type": "markdown",
   "metadata": {},
   "source": [
    "---"
   ]
  },
  {
   "cell_type": "markdown",
   "metadata": {
    "deletable": false,
    "tags": []
   },
   "source": [
    "### 🌐 The World\n",
    "\n",
    "The changes observed in Poland can also be observed in many other countries: except during periods of extended war, famine, and social chaos, health services generally improve, life expectancy increases, and child mortality decreases. At the same time, the fertility rate often plummets, and where it does, the population growth rate decreases despite increasing longevity."
   ]
  },
  {
   "cell_type": "markdown",
   "metadata": {
    "deletable": false,
    "editable": false
   },
   "source": [
    "Run the cell below to generate two overlaid histograms, one for 1962 and one for 2010, that show the distributions of total fertility rates for these two years among all 201 countries in the `fertility` table."
   ]
  },
  {
   "cell_type": "code",
   "execution_count": null,
   "metadata": {},
   "outputs": [],
   "source": [
    "Table().with_columns(\n",
    "    '1962', fertility.where('time', 1962).column(2),\n",
    "    '2010', fertility.where('time', 2010).column(2)\n",
    ").hist(bins=np.arange(0, 10, 0.5), unit='child per woman')\n",
    "_ = plots.xlabel('Children per woman')\n",
    "_ = plots.ylabel('Percent per children per woman')\n",
    "_ = plots.xticks(np.arange(10))"
   ]
  },
  {
   "cell_type": "markdown",
   "metadata": {},
   "source": [
    "### Task 09 📍"
   ]
  },
  {
   "cell_type": "markdown",
   "metadata": {},
   "source": [
    "Assign `fertility_statements` to an **array** of the numbers of each statement below that can be correctly inferred from these histograms.\n",
    "\n",
    "1. About the same number (within 3%) of countries had a fertility rate between 3.5 and 4.5 in both 1962 and 2010.\n",
    "1. In 1962, less than 20% of countries had a fertility rate below 3.\n",
    "1. At least half of countries had a fertility rate between 5 and 8 in 1962.\n",
    "1. In 2010, about 40% of countries had a fertility rate between 1.5 and 2.\n",
    "1. At least half of countries had a fertility rate below 3 in 2010.\n",
    "1. More countries had a fertility rate above 3 in 1962 than in 2010.\n",
    "\n",
    "\n",
    "_Points:_ 2"
   ]
  },
  {
   "cell_type": "code",
   "execution_count": null,
   "metadata": {
    "tags": []
   },
   "outputs": [],
   "source": [
    "fertility_statements = ..."
   ]
  },
  {
   "cell_type": "code",
   "execution_count": null,
   "metadata": {
    "deletable": false,
    "editable": false
   },
   "outputs": [],
   "source": [
    "grader.check(\"task_09\")"
   ]
  },
  {
   "cell_type": "markdown",
   "metadata": {},
   "source": [
    "### Task 10 📍🔎"
   ]
  },
  {
   "cell_type": "markdown",
   "metadata": {},
   "source": [
    "<!-- BEGIN QUESTION -->\n",
    "\n",
    "Draw a line plot of the world population from 1800 through 2020 (inclusive of both endpoints). The world population is the sum of all of the countries' populations. You should use the `population` table defined earlier in the project. \n",
    "\n",
    "_Points:_ 2"
   ]
  },
  {
   "cell_type": "code",
   "execution_count": null,
   "metadata": {
    "export_pdf": true,
    "manual_grade": true,
    "manual_problem_id": "global_pop_10",
    "tags": []
   },
   "outputs": [],
   "source": [
    "#Fill in code here\n",
    "..."
   ]
  },
  {
   "cell_type": "markdown",
   "metadata": {},
   "source": [
    "<!-- END QUESTION -->\n",
    "\n",
    "### Task 11 📍"
   ]
  },
  {
   "cell_type": "markdown",
   "metadata": {},
   "source": [
    "Create a function `stats_for_year` that takes a `year` and returns a table of statistics that addresses the following: \n",
    "* The table it returns should have four columns: `geo`, `population_total`, `children_per_woman_total_fertility`, and `child_mortality_under_5_per_1000_born`.\n",
    "* Each row should contain one unique Alpha-3 country code and three statistics: population, fertility rate, and child mortality for that `year` from the `population`, `fertility` and `child_mortality` tables. \n",
    "* Only include rows for which all three statistics are available for the country and year.\n",
    "* In addition, restrict the result to country codes that appears in `big_50`, an array of the 50 most populous countries in 2020. This restriction will speed up computations later in the project.\n",
    "* After you write `stats_for_year`, CALL `stats_for_year` on any year between 1960 and 2020. Try to understand the output of stats_for_year.\n",
    "\n",
    "As you work, consider the following:\n",
    "* The tests for this question are quite comprehensive, so if you pass the tests, your function is probably correct. However, without calling your function yourself and looking at the output, it will be very difficult to understand any problems you have, so try your best to write the function correctly and check that it works before you rely on the `grader` tests to confirm your work.\n",
    "* What do all three tables have in common (pay attention to column names)?\n",
    "\n",
    "\n",
    "_Points:_ 4"
   ]
  },
  {
   "cell_type": "code",
   "execution_count": null,
   "metadata": {
    "tags": []
   },
   "outputs": [],
   "source": [
    "# We first create a population table that only includes the \n",
    "# 50 countries with the largest 2020 populations. We focus on \n",
    "# these 50 countries only so that plotting later will run faster.\n",
    "big_50 = population.where('time', are.equal_to(2020)).sort(\"population_total\", descending=True).take(np.arange(50)).column('geo')\n",
    "population_of_big_50 = population.where('time', are.above(1959)).where('geo', are.contained_in(big_50))\n",
    "\n",
    "def stats_for_year(year):\n",
    "    \"\"\"Return a table of the stats for each country that year.\"\"\"\n",
    "    p = population_of_big_50.where('time', are.equal_to(year)).drop('time')\n",
    "    f = fertility.where('time', are.equal_to(year)).drop('time')\n",
    "    c = child_mortality.where('time', are.equal_to(year)).drop('time')\n",
    "    ...\n",
    "\n",
    "# Call stats_for_year for any year between 1960 and 2020.\n",
    "..."
   ]
  },
  {
   "cell_type": "code",
   "execution_count": null,
   "metadata": {
    "deletable": false,
    "editable": false
   },
   "outputs": [],
   "source": [
    "grader.check(\"task_11\")"
   ]
  },
  {
   "cell_type": "markdown",
   "metadata": {},
   "source": [
    "### Task 12 📍"
   ]
  },
  {
   "cell_type": "markdown",
   "metadata": {},
   "source": [
    "Create a table called `pop_by_decade` with two columns called `decade` and `population`, in this order. \n",
    "* It has a row for each year that starts a decade, in increasing order starting with 1960 and ending with 2020. For example, 1960 is the start of the 1960's decade. \n",
    "* The `population` column contains the total population of all countries included in the result of `stats_for_year(year)` for the first `year` of the decade. You should see that these countries contain most of the world's population.\n",
    "\n",
    "As you work on this task, consider:\n",
    "* One approach is to define a function `pop_for_year` that computes this total population, then `apply` it to the `decade` column.  **Think about how you can use the `stats_for_year` function** from the previous question if you want to implement `pop_for_year`. This first test is just a sanity check for your helper function if you choose to use it. **You will not lose points for not implementing the function `pop_for_year`**.\n",
    "* The cell where you will generate the `pop_by_decade` table is below the cell where you can choose to define the helper function `pop_for_year`. You should define your `pop_by_decade` table in the cell that starts with the table `decades` being defined. \n",
    "\n",
    "_Points:_ 0"
   ]
  },
  {
   "cell_type": "code",
   "execution_count": null,
   "metadata": {
    "tags": []
   },
   "outputs": [],
   "source": [
    "def pop_for_year(year):\n",
    "    ..."
   ]
  },
  {
   "cell_type": "code",
   "execution_count": null,
   "metadata": {
    "deletable": false,
    "editable": false
   },
   "outputs": [],
   "source": [
    "grader.check(\"task_12_pop_for_year_check\")"
   ]
  },
  {
   "cell_type": "markdown",
   "metadata": {},
   "source": [
    "Now that you've defined your helper function (if you've chosen to do so), define the `pop_by_decade` table.\n",
    "\n",
    "\n",
    "_Points:_ 7"
   ]
  },
  {
   "cell_type": "code",
   "execution_count": null,
   "metadata": {
    "tags": []
   },
   "outputs": [],
   "source": [
    "decades = Table().with_column('decade', np.arange(1960, 2021, 10))\n",
    "\n",
    "pop_by_decade = ...\n",
    "pop_by_decade.set_format(1, NumberFormatter)"
   ]
  },
  {
   "cell_type": "code",
   "execution_count": null,
   "metadata": {
    "deletable": false,
    "editable": false
   },
   "outputs": [],
   "source": [
    "grader.check(\"task_12\")"
   ]
  },
  {
   "cell_type": "markdown",
   "metadata": {
    "deletable": false,
    "editable": false
   },
   "source": [
    "The `countries` table describes various characteristics of countries. The `country` column contains the same codes as the `geo` column in each of the other data tables (`population`, `fertility`, and `child_mortality`). The `world_6region` column classifies each country into a region of the world. Run the cell below to inspect the data."
   ]
  },
  {
   "cell_type": "code",
   "execution_count": null,
   "metadata": {},
   "outputs": [],
   "source": [
    "countries = Table.read_table('countries.csv').where('country', are.contained_in(population.group('geo').column('geo')))\n",
    "countries.select('country', 'name', 'world_6region')"
   ]
  },
  {
   "cell_type": "markdown",
   "metadata": {},
   "source": [
    "### Task 13 📍"
   ]
  },
  {
   "cell_type": "markdown",
   "metadata": {},
   "source": [
    "Create a table called `region_counts`. \n",
    "* It should contain two columns called `region` and `count`. \n",
    "    * The `region` column should contain regions of the world\n",
    "    * The`count` column should contain the number of countries in each region that appears in the result of `stats_for_year(2020)`. \n",
    "\n",
    "For example, one row would have `south_asia` as its `region` value and an integer as its `count` value: the number of large South Asian countries for which we have population, fertility, and child mortality numbers from 2020.\n",
    "\n",
    "As you work, consider that you may have to relabel a column to name it `region`.\n",
    "\n",
    "_Points:_ 4"
   ]
  },
  {
   "cell_type": "code",
   "execution_count": null,
   "metadata": {
    "tags": []
   },
   "outputs": [],
   "source": [
    "stats_for_2020 = ...\n",
    "region_counts = ...\n",
    "region_counts"
   ]
  },
  {
   "cell_type": "code",
   "execution_count": null,
   "metadata": {
    "deletable": false,
    "editable": false
   },
   "outputs": [],
   "source": [
    "grader.check(\"task_13\")"
   ]
  },
  {
   "cell_type": "markdown",
   "metadata": {
    "deletable": false,
    "editable": false
   },
   "source": [
    "The following scatter diagram compares total fertility rate and child mortality rate for each country in 1960. The area of each dot represents the population of the country, and the color represents its region of the world. Run the cell. Do you think you can identify any of the dots?"
   ]
  },
  {
   "cell_type": "code",
   "execution_count": null,
   "metadata": {},
   "outputs": [],
   "source": [
    "from functools import lru_cache as cache\n",
    "\n",
    "# This cache annotation makes sure that if the same year\n",
    "# is passed as an argument twice, the work of computing\n",
    "# the result is only carried out once.\n",
    "@cache(None)\n",
    "def stats_relabeled(year):\n",
    "    \"\"\"Relabeled and cached version of stats_for_year.\"\"\"\n",
    "    return stats_for_year(year).relabel(2, 'Children per woman').relabel(3, 'Child deaths per 1000 born')\n",
    "\n",
    "def fertility_vs_child_mortality(year):\n",
    "    \"\"\"Draw a color scatter diagram comparing child mortality and fertility.\"\"\"\n",
    "    with_region = stats_relabeled(year).join('geo', countries.select('country', 'world_6region'), 'country')\n",
    "    with_region.scatter(2, 3, sizes=1, group=4, s=500)\n",
    "    plots.xlim(0,10)\n",
    "    plots.ylim(-50, 500)\n",
    "    plots.title(year)\n",
    "    plots.show()\n",
    "\n",
    "fertility_vs_child_mortality(1960)"
   ]
  },
  {
   "cell_type": "markdown",
   "metadata": {},
   "source": [
    "### Task 14 📍"
   ]
  },
  {
   "cell_type": "markdown",
   "metadata": {},
   "source": [
    "Assign `scatter_statements` to an array of the numbers of each statement below that can be inferred from this scatter diagram for 1960. \n",
    "1. All countries in `europe_central_asia` had uniformly low fertility rates.\n",
    "1. The lowest child mortality rate of any country was from an `east_asia_pacific` country.\n",
    "1. Most countries had a fertility rate above 5.\n",
    "1. There was an association between child mortality and fertility.\n",
    "1. The two largest countries by population also had the two highest child mortality rates.\n",
    "\n",
    "_Points:_ 2"
   ]
  },
  {
   "cell_type": "code",
   "execution_count": null,
   "metadata": {
    "tags": []
   },
   "outputs": [],
   "source": [
    "scatter_statements = ..."
   ]
  },
  {
   "cell_type": "code",
   "execution_count": null,
   "metadata": {
    "deletable": false,
    "editable": false
   },
   "outputs": [],
   "source": [
    "grader.check(\"task_14\")"
   ]
  },
  {
   "cell_type": "markdown",
   "metadata": {},
   "source": [
    "The result of the cell below is interactive. Drag the slider to the right to see how countries have changed over time. You’ll find that in terms of population growth, the divide between the countries of the global North and global South that existed in the 1960s has shrunk significantly. \n",
    "\n",
    "This shift in fertility rates is the reason that the global population is expected to grow more slowly in the 21st century than it did in the 19th and 20th centuries. Fertility rates change for reasons that include cultural patterns, better prospects for children surviving to adulthood, and family planning (such as contraception and women’s greater control over their reproduction).\n",
    "\n",
    "**Note:** Don't worry if a red warning pops up when running the cell below. You'll still be able to run the cell!"
   ]
  },
  {
   "cell_type": "code",
   "execution_count": null,
   "metadata": {},
   "outputs": [],
   "source": [
    "_ = widgets.interact(fertility_vs_child_mortality, year=widgets.IntSlider(min=1960, max=2020, value=1960))"
   ]
  },
  {
   "cell_type": "markdown",
   "metadata": {
    "deletable": false,
    "editable": false
   },
   "source": [
    "Now is a great time to take a break and watch the same data presented by [Hans Rosling in a 2010 TEDx talk](https://www.gapminder.org/videos/reducing-child-mortality-a-moral-and-environmental-imperative) with smoother animation and witty commentary."
   ]
  },
  {
   "cell_type": "code",
   "execution_count": null,
   "metadata": {},
   "outputs": [],
   "source": [
    "from IPython.display import YouTubeVideo\n",
    "YouTubeVideo(\"N-x7eHuUhNM\")"
   ]
  },
  {
   "cell_type": "markdown",
   "metadata": {},
   "source": [
    "When we look at population and fertility as data scientists, we need to learn about the experiences of people in real life, not just abstractly as data. We should also recognize that population studies have sometimes had political undercurrents. Those undercurrents have included population control, control of reproduction, or fears of shifts between racial groups. To do better as data scientists, we should check our assumptions to avoid unthinkingly reproducing past patterns."
   ]
  },
  {
   "cell_type": "markdown",
   "metadata": {},
   "source": [
    "---"
   ]
  },
  {
   "cell_type": "markdown",
   "metadata": {
    "deletable": false,
    "tags": []
   },
   "source": [
    "## 💰 Global Poverty\n"
   ]
  },
  {
   "cell_type": "markdown",
   "metadata": {
    "deletable": false,
    "tags": []
   },
   "source": [
    "In 1800, 85% of the world's 1 billion people lived in [extreme poverty](https://en.wikipedia.org/wiki/Extreme_poverty), defined by the United Nations as \"a condition characterized by severe deprivation of basic human needs, including food, safe drinking water, sanitation facilities, health, shelter, education and information.\" At the time when the data in this project were gathered, a common definition of extreme poverty was a person living on less than \\$1.90 per day.\n",
    "\n",
    "In 2018, the proportion of people living in extreme poverty was estimated to be [about 9\\%](https://unstats.un.org/sdgs/report/2019/goal-01/). Although the world rate of extreme poverty has declined consistently for hundreds of years, the number of people living in extreme poverty is still over 600 million. The United Nations adopted an [ambitious goal](http://www.un.org/sustainabledevelopment/poverty/): \"By 2030, eradicate extreme poverty for all people everywhere.\" However, recently, researchers projected on [the World Bank blog](https://blogs.worldbank.org/opendata/updated-estimates-impact-covid-19-global-poverty-turning-corner-pandemic-2021) that there will be an increase in extreme poverty since the start of COVID-19 pandemic.\n",
    "\n",
    "In this part of the project, we will examine some aspects of global poverty that might affect whether the goal is achievable. The causes of poverty are complex. They include global histories, such as colonialism, as well as factors such as health care, economics, and social inequality in each country."
   ]
  },
  {
   "cell_type": "markdown",
   "metadata": {
    "deletable": false,
    "editable": false
   },
   "source": [
    "First, load the population and poverty rate by country and year and the country descriptions. While the `population` table has values for every recent year for many countries, the `poverty` table only includes certain years for each country in which a measurement of the rate of extreme poverty was available."
   ]
  },
  {
   "cell_type": "code",
   "execution_count": null,
   "metadata": {},
   "outputs": [],
   "source": [
    "population = Table.read_table('population.csv')\n",
    "countries = Table.read_table('countries.csv').where('country', are.contained_in(population.group('geo').column('geo')))\n",
    "poverty = Table.read_table('poverty.csv')\n",
    "poverty.show(3)"
   ]
  },
  {
   "cell_type": "markdown",
   "metadata": {},
   "source": [
    "### Task 15 📍"
   ]
  },
  {
   "cell_type": "markdown",
   "metadata": {},
   "source": [
    "Assign `latest_poverty` to a three-column table with one row for each country that appears in the `poverty` table. The first column should contain the 3-letter code for the country. The second column should contain the most recent year for which an extreme poverty rate is available for the country. The third column should contain the poverty rate in that year. **Do not change the last line, so that the labels of your table are set correctly.**\n",
    "\n",
    "*Hint*: think about how ```group``` works: it does a sequential search of the table (from top to bottom) and collects values in the array in the order in which they appear, and then applies a function to that array. The `first` function may be helpful, but you are not required to use it.\n",
    "\n",
    "\n",
    "_Points:_ 3"
   ]
  },
  {
   "cell_type": "code",
   "execution_count": null,
   "metadata": {
    "tags": []
   },
   "outputs": [],
   "source": [
    "def first(values):\n",
    "    return values.item(0)\n",
    "\n",
    "latest_poverty = ...\n",
    "latest_poverty = latest_poverty.relabeled(0, 'geo').relabeled(1, 'time').relabeled(2, 'poverty_percent') # You should *not* change this line.  \n",
    "latest_poverty"
   ]
  },
  {
   "cell_type": "code",
   "execution_count": null,
   "metadata": {
    "deletable": false,
    "editable": false
   },
   "outputs": [],
   "source": [
    "grader.check(\"task_15\")"
   ]
  },
  {
   "cell_type": "markdown",
   "metadata": {},
   "source": [
    "### Task 16 📍"
   ]
  },
  {
   "cell_type": "markdown",
   "metadata": {},
   "source": [
    "Using both `latest_poverty` and `population`, create a four-column table called `recent_poverty_total` with one row for each country in `latest_poverty`. The four columns should have the following labels and contents:\n",
    "1. `geo` contains the 3-letter country code,\n",
    "1. `poverty_percent` contains the most recent poverty percent,\n",
    "1. `population_total` contains the population of the country in 2010,\n",
    "1. `poverty_total` contains the number of people in poverty **rounded to the nearest integer**, based on the 2010 population and most recent poverty rate.\n",
    "\n",
    "You are **not** required to use `poverty_and_pop`, and you are always welcome to add any additional names.\n",
    "\n",
    "_Points:_ 4"
   ]
  },
  {
   "cell_type": "code",
   "execution_count": null,
   "metadata": {
    "tags": []
   },
   "outputs": [],
   "source": [
    "poverty_and_pop = ...\n",
    "recent_poverty_total = ...\n",
    "recent_poverty_total"
   ]
  },
  {
   "cell_type": "code",
   "execution_count": null,
   "metadata": {
    "deletable": false,
    "editable": false
   },
   "outputs": [],
   "source": [
    "grader.check(\"task_16\")"
   ]
  },
  {
   "cell_type": "markdown",
   "metadata": {},
   "source": [
    "### Task 17 📍"
   ]
  },
  {
   "cell_type": "markdown",
   "metadata": {},
   "source": [
    "Assign the name `poverty_percent` to the known percentage of the world’s 2010 population that were living in extreme poverty. Assume that the `poverty_total` numbers in the `recent_poverty_total` table describe **all** people in 2010 living in extreme poverty. You should find a number that is above the 2018 global estimate of 8%, since many country-specific poverty rates are older than 2018.\n",
    "\n",
    "*Hint*: The sum of the `population_total` column in the `recent_poverty_total` table is not the world population, because only a subset of the world's countries are included in the `recent_poverty_total` table (only some countries have known poverty rates). Use the `population` table to compute the world's 2010 total population.\n",
    "\n",
    "\n",
    "_Points:_ 2"
   ]
  },
  {
   "cell_type": "code",
   "execution_count": null,
   "metadata": {
    "tags": []
   },
   "outputs": [],
   "source": [
    "poverty_percent = ...\n",
    "poverty_percent"
   ]
  },
  {
   "cell_type": "code",
   "execution_count": null,
   "metadata": {
    "deletable": false,
    "editable": false
   },
   "outputs": [],
   "source": [
    "grader.check(\"task_17\")"
   ]
  },
  {
   "cell_type": "markdown",
   "metadata": {
    "deletable": false,
    "editable": false
   },
   "source": [
    "The `countries` table includes not only the name and region of countries, but also their positions on the globe."
   ]
  },
  {
   "cell_type": "code",
   "execution_count": null,
   "metadata": {
    "deletable": false,
    "editable": false
   },
   "outputs": [],
   "source": [
    "countries.select('country', 'name', 'world_4region', 'latitude', 'longitude')"
   ]
  },
  {
   "cell_type": "markdown",
   "metadata": {},
   "source": [
    "### Task 18 📍"
   ]
  },
  {
   "cell_type": "markdown",
   "metadata": {},
   "source": [
    "Using both `countries` and `recent_poverty_total`, create a five-column table called `poverty_map` with one row for every country in `recent_poverty_total`.  The five columns should have the following labels and contents, in this order:\n",
    "1. `latitude` contains the country's latitude,\n",
    "1. `longitude` contains the country's longitude,\n",
    "1. `name` contains the country's name,\n",
    "1. `region` contains the country's region from the `world_4region` column of `countries`,\n",
    "1. `poverty_total` contains the country's poverty total.\n",
    "\n",
    "\n",
    "_Points:_ 3"
   ]
  },
  {
   "cell_type": "code",
   "execution_count": null,
   "metadata": {
    "tags": []
   },
   "outputs": [],
   "source": [
    "poverty_map = ...\n",
    "poverty_map"
   ]
  },
  {
   "cell_type": "code",
   "execution_count": null,
   "metadata": {
    "deletable": false,
    "editable": false
   },
   "outputs": [],
   "source": [
    "grader.check(\"task_18\")"
   ]
  },
  {
   "cell_type": "markdown",
   "metadata": {
    "deletable": false,
    "tags": []
   },
   "source": [
    "Run the cell below to draw a map of the world in which the areas of circles represent the number of people living in extreme poverty according to this data. Double-click on the map to zoom in."
   ]
  },
  {
   "cell_type": "code",
   "execution_count": null,
   "metadata": {
    "deletable": false,
    "tags": []
   },
   "outputs": [],
   "source": [
    "# It may take a few seconds to generate this map.\n",
    "colors = {'africa': 'blue', 'europe': 'black', 'asia': 'red', 'americas': 'green'}\n",
    "scaled = poverty_map.with_columns(\n",
    "    'labels', poverty_map.column('poverty_total'),\n",
    "    'colors', poverty_map.apply(colors.get, 'region'),\n",
    "    'areas', 1e-4 * poverty_map.column('poverty_total') + 1\n",
    ").drop('name', 'region', 'poverty_total')\n",
    "\n",
    "Circle.map_table(scaled)"
   ]
  },
  {
   "cell_type": "markdown",
   "metadata": {
    "deletable": false,
    "tags": []
   },
   "source": [
    "Although people live in extreme poverty throughout the world (with more than 5 million in the United States), this data shows the largest numbers are in Asia and Africa. Keep in mind that what you are observing is based on the data that was collected. There are clear inconsistencies with what is seen in the data and what people actually experience in the world."
   ]
  },
  {
   "cell_type": "markdown",
   "metadata": {},
   "source": [
    "### Task 19 📍"
   ]
  },
  {
   "cell_type": "markdown",
   "metadata": {},
   "source": [
    "Assign `largest` to a two-column table with the `name` (not the 3-letter code) and `poverty_total` of the 10 countries with the largest number of people living in extreme poverty.\n",
    "\n",
    "\n",
    "_Points:_ 4"
   ]
  },
  {
   "cell_type": "code",
   "execution_count": null,
   "metadata": {
    "tags": []
   },
   "outputs": [],
   "source": [
    "largest = ...\n",
    "largest.set_format('poverty_total', NumberFormatter)"
   ]
  },
  {
   "cell_type": "code",
   "execution_count": null,
   "metadata": {
    "deletable": false,
    "editable": false
   },
   "outputs": [],
   "source": [
    "grader.check(\"task_19\")"
   ]
  },
  {
   "cell_type": "markdown",
   "metadata": {
    "tags": []
   },
   "source": [
    "### Task 20 📍🔎"
   ]
  },
  {
   "cell_type": "markdown",
   "metadata": {},
   "source": [
    "<!-- BEGIN QUESTION -->\n",
    "\n",
    "It is important to study the absolute number of people living in poverty, not just the percent. The absolute number is an important factor in determining the amount of resources needed to support people living in poverty. In the next two questions you will explore this.\n",
    "\n",
    "In the task after this, you will be asked to write a function called `poverty_timeline` that takes the name of a country as its argument (not the Alpha-3 country code). It should draw a line plot of the number of people living in poverty in that country with time on the horizontal axis. The line plot should have a point for each row in the poverty table for that country. To compute the population living in poverty from a poverty percentage, multiply by the population of the country in that year.\n",
    "\n",
    "For this task, write out a generalized process for the function you will write in the next task. What should this function output, and what steps will you take within the function? Keep in mind you are not focusing on writing the code, you are focusing on explaining the concept of how the function should work.\n",
    "\n",
    "_Points:_ 2"
   ]
  },
  {
   "cell_type": "markdown",
   "metadata": {},
   "source": [
    "_Type your answer here, replacing this text._"
   ]
  },
  {
   "cell_type": "markdown",
   "metadata": {},
   "source": [
    "<!-- END QUESTION -->\n",
    "\n",
    "### Task 21 📍🔎"
   ]
  },
  {
   "cell_type": "markdown",
   "metadata": {},
   "source": [
    "<!-- BEGIN QUESTION -->\n",
    "\n",
    "Now, we'll actually write the function called `poverty_timeline`. Recall that `poverty_timeline` takes **the name of a country** as its argument (not the Alpha-3 country code). \n",
    "* It should draw a line plot of the number of people living in poverty in that country with time on the horizontal axis. \n",
    "* The line plot should have a point for each row in the `poverty` table for that country. To compute the population living in poverty from a poverty percentage, multiply by the population of the country **in that year**.\n",
    "\n",
    "Consider the following while working on this task:\n",
    "* This question is long. Feel free to create cells and experiment. You can create cells by going to the toolbar and hitting the `+` button.\n",
    "* It might be helpful to join the information from different tables in your code.\n",
    "\n",
    "_Points:_ 2"
   ]
  },
  {
   "cell_type": "markdown",
   "metadata": {},
   "source": [
    "_Type your answer here, replacing this text._"
   ]
  },
  {
   "cell_type": "code",
   "execution_count": null,
   "metadata": {
    "tags": []
   },
   "outputs": [],
   "source": [
    "def poverty_timeline(country):\n",
    "    '''Draw a timeline of people living in extreme poverty in a country.'''\n",
    "    geo = ...\n",
    "    # This solution will take multiple lines of code. Use as many as you need\n",
    "    ...\n",
    "    \n",
    "    # Don't change anything below this line. \n",
    "    plots.title(country)\n",
    "    plots.ylim(bottom=0)\n",
    "    plots.show() # This should be the last line of your function. \n",
    "..."
   ]
  },
  {
   "cell_type": "code",
   "execution_count": null,
   "metadata": {
    "export_pdf": true,
    "tags": []
   },
   "outputs": [],
   "source": [
    "poverty_timeline('Nigeria')\n",
    "poverty_timeline('United States')\n",
    "poverty_timeline('China')\n",
    "poverty_timeline('India')"
   ]
  },
  {
   "cell_type": "markdown",
   "metadata": {},
   "source": [
    "<!-- END QUESTION -->\n",
    "\n",
    "### Task 22 📍🔎"
   ]
  },
  {
   "cell_type": "markdown",
   "metadata": {
    "deletable": false,
    "tags": []
   },
   "source": [
    "<!-- BEGIN QUESTION -->\n",
    "\n",
    "The graphic for India shows a According to the data, the number of people living in extreme poverty has been increasing in Nigeria and the United States, the massive decreases in China and India have shaped the overall trend that extreme poverty is decreasing worldwide, both in percentage and in absolute number. \n",
    "\n",
    "To learn more, watch [Hans Rosling in a 2015 film](https://www.gapminder.org/videos/dont-panic-end-poverty/) about the UN goal of eradicating extreme poverty from the world. \n",
    "\n",
    "Below, we've also added an interactive dropdown menu for you to visualize `poverty_timeline` graphs for other countries. Note that each dropdown menu selection may take a few seconds to run.\n",
    "\n",
    "For this task, make sure to address the following. Your response should be about 3-4 sentences, but you are welcome to provide more details.\n",
    "\n",
    "* Select a country that is not Nigeria, the United States, China, or India in the drop down menu of the widget below to create the plot showing poverty numbers over the time periods available in the data set.\n",
    "* In general, describe how the number of those in extreme poverty in that particular country has changed over time.\n",
    "* Almost every graph has some interesting point(s) in the line where there was a change in the trend of the poverty numbers. Connect the pattern you see to at least one historical observation about that particular country or global event. Include a link to a resource that provides context for that historical observation. Sometimes these changes are associated with changes in political leadership, war, famine, economical development, etc.\n",
    "\n",
    "_Points:_ 3"
   ]
  },
  {
   "cell_type": "code",
   "execution_count": null,
   "metadata": {
    "deletable": false,
    "tags": []
   },
   "outputs": [],
   "source": [
    "all_countries = poverty_map.column('name')\n",
    "_ = widgets.interact(poverty_timeline, country=list(all_countries))"
   ]
  },
  {
   "cell_type": "markdown",
   "metadata": {},
   "source": [
    "_Type your answer here, replacing this text._"
   ]
  },
  {
   "cell_type": "markdown",
   "metadata": {
    "deletable": false,
    "tags": []
   },
   "source": [
    "<!-- END QUESTION -->\n",
    "\n",
    "**You're finished!** Congratulations on working through your first project on data visualization and table manipulation."
   ]
  },
  {
   "cell_type": "markdown",
   "metadata": {},
   "source": [
    "## 🏁 Submit your Project to Canvas"
   ]
  },
  {
   "cell_type": "markdown",
   "metadata": {
    "tags": []
   },
   "source": [
    "Once you have finished working on the projects tasks, prepare to submit your work in Canvas by completing the following steps.\n",
    "\n",
    "1. In the related Canvas Assignment page, check the rubric to know how you will be scored for this assignment.\n",
    "2. Double-check that you have run the code cell near the end of the notebook that contains the command `\"grader.check_all()\"`. This command will run all of the run tests on all your responses to the auto-graded tasks marked with 📍.\n",
    "3. Double-check your responses to the manually graded tasks marked with 📍🔎.\n",
    "3. Select the menu item \"File\" and \"Save Notebook\" in the notebook's Toolbar to save your work and create a specific checkpoint in the notebook's work history.\n",
    "4. Select the menu items \"File\", \"Download\" in the notebook's Toolbar to download the notebook (.ipynb) file. \n",
    "5. In the related Canvas Assignment page, click Start Assignment or New Attempt to upload the downloaded .ipynb file.\n",
    "    * _Keep in mind that if you are working in a group, then you only submit one file for your group._\n",
    "\n",
    "**Keep in mind that the auto-grader does not always check for correctness. Sometimes it just checks for the format of your answer, so passing the autograder for a question does not mean you got the answer correct for that question.**"
   ]
  },
  {
   "cell_type": "markdown",
   "metadata": {
    "deletable": false,
    "editable": false
   },
   "source": [
    "---\n",
    "\n",
    "To double-check your work, the cell below will rerun all of the autograder tests."
   ]
  },
  {
   "cell_type": "code",
   "execution_count": null,
   "metadata": {
    "deletable": false,
    "editable": false
   },
   "outputs": [],
   "source": [
    "grader.check_all()"
   ]
  }
 ],
 "metadata": {
  "hide_input": false,
  "kernelspec": {
   "display_name": "Python 3 (ipykernel)",
   "language": "python",
   "name": "python3"
  },
  "language_info": {
   "codemirror_mode": {
    "name": "ipython",
    "version": 3
   },
   "file_extension": ".py",
   "mimetype": "text/x-python",
   "name": "python",
   "nbconvert_exporter": "python",
   "pygments_lexer": "ipython3",
   "version": "3.10.9"
  },
  "otter": {
   "OK_FORMAT": true,
   "assignment_name": "project1_sp23",
   "tests": {
    "task_01": {
     "name": "task_01",
     "points": 4,
     "suites": [
      {
       "cases": [
        {
         "code": ">>> \n>>> p_pop.labels == ('time', 'population_total')\nTrue",
         "failure_message": "❌ Check your column labels and spelling for p_pop",
         "hidden": false,
         "locked": false,
         "points": 1,
         "success_message": "✅ It seems like you have the correct columns in p_pop."
        },
        {
         "code": ">>> \n>>> all(p_pop.sort(\"time\").column(\"time\") == np.arange(1900, 2021))\nTrue",
         "failure_message": "❌ The values for time should range from 1900 through 2020, inclusive.",
         "hidden": false,
         "locked": false,
         "points": 1,
         "success_message": "✅ It seems the you have the correct time values in p_pop"
        }
       ],
       "scored": true,
       "setup": "",
       "teardown": "",
       "type": "doctest"
      }
     ]
    },
    "task_02": {
     "name": "task_02",
     "points": 6,
     "suites": [
      {
       "cases": [
        {
         "code": ">>> \n>>> first = round(p_five_growth.sort(0).column(2).item(0), 8)\n>>> 0.005 <= first <= 0.5\nTrue",
         "failure_message": "❌ We checked one of the values in p_five_growth, and it should be between 0.005 and 0.5",
         "hidden": false,
         "locked": false,
         "points": 1,
         "success_message": "✅ One of the values we checked in p_five_growth is between 0.005 and 0.05."
        },
        {
         "code": ">>> \n>>> max(p_five_growth.column(2)) < 0.02\nTrue",
         "failure_message": "❌ Your largest growth rate should be less than 0.02.",
         "hidden": false,
         "locked": false,
         "points": 1,
         "success_message": "✅ It seems that your largest growth rate is less than 0.02."
        }
       ],
       "scored": true,
       "setup": "",
       "teardown": "",
       "type": "doctest"
      }
     ]
    },
    "task_05": {
     "name": "task_05",
     "points": 5,
     "suites": [
      {
       "cases": [
        {
         "code": ">>> \n>>> # Check your column labels and spelling\n>>> fertility_over_time('usa', 2010).labels == ('Year', 'Children per woman')\nTrue",
         "failure_message": "❌ Your column labels are not correct. You might need to double check your spelling.",
         "hidden": false,
         "locked": false,
         "points": 1,
         "success_message": "✅ You seem to have the correct column labels!"
        },
        {
         "code": ">>> \n>>> \n>>> # Check that you use the start year to determine the data range.\n>>> all(fertility_over_time('usa',2010).column('Year') == np.arange(2010, 2021))\nTrue",
         "failure_message": "❌ It seems like you are missing some years in the Year column. Make sure to use the start year to determine the data range.",
         "hidden": false,
         "locked": false,
         "points": 1,
         "success_message": "✅ Your years seem to span the correct interval."
        },
        {
         "code": ">>> \n>>> # Check that you use the start year to determine the data range.\n>>> all(fertility_over_time('usa', 2005).column('Year') == np.arange(2005, 2021))\nTrue",
         "failure_message": "❌ It seems like you are missing some years in the Year column. Make sure to use the start year to determine the data range.",
         "hidden": false,
         "locked": false,
         "points": 1,
         "success_message": "✅ Your years seem to span the correct interval."
        }
       ],
       "scored": true,
       "setup": "",
       "teardown": "",
       "type": "doctest"
      }
     ]
    },
    "task_07": {
     "name": "task_07",
     "points": 8,
     "suites": [
      {
       "cases": [
        {
         "code": ">>> \n>>> # Make sure you are using the date range 1950 - 2020\n>>> poland_since_1950.num_rows == 71\nTrue",
         "failure_message": "❌ Make sure you are using the date range 1950 - 2020, including 1950 and 2020.",
         "hidden": false,
         "locked": false,
         "points": 1,
         "success_message": "✅ It looks like you've covered the correct range of years."
        },
        {
         "code": ">>> \n>>> # Check your column labels and spelling\n>>> all([label in poland_since_1950.labels for label in ['Children per woman', 'Child deaths per 1000 born']])\nTrue",
         "failure_message": "❌ Your labels in poland_since_1950 are not correct.",
         "hidden": false,
         "locked": false,
         "points": 1,
         "success_message": "✅ Your labels in poland_since_1950 seem correct."
        }
       ],
       "scored": true,
       "setup": "",
       "teardown": "",
       "type": "doctest"
      }
     ]
    },
    "task_09": {
     "name": "task_09",
     "points": 2,
     "suites": [
      {
       "cases": [
        {
         "code": ">>> \n>>> import numpy as np\n>>> isinstance(fertility_statements, np.ndarray) and all(x in range(1, 7) for x in set(fertility_statements))\nTrue",
         "failure_message": "❌ Make sure you are using make_array with numbers between 1 and 6, inclusive.",
         "hidden": false,
         "locked": false,
         "points": 1,
         "success_message": "✅ Great job formatting your answer as an array of integers."
        }
       ],
       "scored": true,
       "setup": "",
       "teardown": "",
       "type": "doctest"
      }
     ]
    },
    "task_11": {
     "name": "task_11",
     "points": 4,
     "suites": [
      {
       "cases": [
        {
         "code": ">>> \n>>> # Incorrect labels for columns\n>>> t = stats_for_year(1990)\n>>> t.labels == ('geo', 'population_total','children_per_woman_total_fertility', 'child_mortality_under_5_per_1000_born')\nTrue",
         "failure_message": "❌ Your function generates a table, but the columns are not correct.",
         "hidden": false,
         "locked": false,
         "points": 1,
         "success_message": "✅ Your function generates a table with the correct columns."
        },
        {
         "code": ">>> \n>>> # Incorrect number of rows\n>>> t = stats_for_year(1990)\n>>> t.num_rows == 50\nTrue",
         "failure_message": "❌ Your function produces a table, but the number of rows are not correct.",
         "hidden": false,
         "locked": false,
         "points": 1,
         "success_message": "✅ Your function produces a table with the correct number of rows."
        },
        {
         "code": ">>> \n>>> print(sum(stats_for_year(1960).sort('geo').take(np.arange(5, 50, 5)).column(2)))\n49.47\n",
         "failure_message": "❌ Your function didn't seem to create the right fertility values for the year 1960.",
         "hidden": false,
         "locked": false,
         "points": 1,
         "success_message": "✅ It seems like your function created the right fertility values for the year 1960."
        },
        {
         "code": ">>> \n>>> print(sum(stats_for_year(2010).sort('geo').take(np.arange(3, 50, 5)).column(3)))\n533.54\n",
         "failure_message": "❌ Your function didn't seem to create the right child mortality values for the year 1960.",
         "hidden": false,
         "locked": false,
         "points": 1,
         "success_message": "✅ It seems like your function created the right child mortality values for the year 1960."
        }
       ],
       "scored": true,
       "setup": "",
       "teardown": "",
       "type": "doctest"
      }
     ]
    },
    "task_12": {
     "name": "task_12",
     "points": 7,
     "suites": [
      {
       "cases": [
        {
         "code": ">>> \n>>> # Check your column labels and spelling\n>>> pop_by_decade.labels == ('decade', 'population')\nTrue",
         "failure_message": "❌ pop_by_decade doesn't have the correct labels.",
         "hidden": false,
         "locked": false,
         "points": 1,
         "success_message": "✅ pop_by_decade has the correct labels."
        },
        {
         "code": ">>> \n>>> # The first year of the 1960's is 1960.\n>>> pop_by_decade.column(0).item(0) == 1960\nTrue",
         "failure_message": "❌ The first year of the 1960s should be 1960.",
         "hidden": false,
         "locked": false,
         "points": 1,
         "success_message": "✅ The first year of the 1960s is 1960."
        }
       ],
       "scored": true,
       "setup": "",
       "teardown": "",
       "type": "doctest"
      }
     ]
    },
    "task_12_pop_for_year_check": {
     "name": "task_12_pop_for_year_check",
     "points": 0,
     "suites": [
      {
       "cases": [
        {
         "code": ">>> \n>>> pop_for_year(1972) == 3355562066\nTrue",
         "failure_message": "❌ The function doesn't seem to work correctly for 1972.",
         "hidden": false,
         "locked": false,
         "points": 0,
         "success_message": "✅ The function seems to work correctly for 1972."
        },
        {
         "code": ">>> \n>>> \n>>> pop_for_year(1989) == 4576679948\nTrue",
         "failure_message": "❌ The function doesn't seem to work correctly for 1989.",
         "hidden": false,
         "locked": false,
         "points": 0,
         "success_message": "✅ The function seems to work correctly for 1989."
        },
        {
         "code": ">>> \n>>> pop_for_year(2020) == 5514129422\nFalse",
         "failure_message": "❌ The function doesn't seem to work correctly for 2002.",
         "hidden": false,
         "locked": false,
         "points": 0,
         "success_message": "✅ The function seems to work correctly for 2002."
        }
       ],
       "scored": true,
       "setup": "",
       "teardown": "",
       "type": "doctest"
      }
     ]
    },
    "task_13": {
     "name": "task_13",
     "points": 4,
     "suites": [
      {
       "cases": [
        {
         "code": ">>> \n>>> # Check your column labels and spelling\n>>> region_counts.labels == ('region', 'count')\nTrue",
         "failure_message": "❌ region_counts doesn't contain the correct labels.",
         "hidden": false,
         "locked": false,
         "points": 1,
         "success_message": "✅ region_counts contains the correct labels."
        },
        {
         "code": ">>> \n>>> # Counts must sum to 50\n>>> sum(region_counts.column('count')) == 50\nTrue",
         "failure_message": "❌ The count sum should total 50.",
         "hidden": false,
         "locked": false,
         "points": 1,
         "success_message": "✅ The count sum totals 50 as expected."
        }
       ],
       "scored": true,
       "setup": "",
       "teardown": "",
       "type": "doctest"
      }
     ]
    },
    "task_14": {
     "name": "task_14",
     "points": null,
     "suites": [
      {
       "cases": [
        {
         "code": ">>> \n>>> # Please use a list of integers from 1 to 5\n>>> import numpy as np\n>>> isinstance(scatter_statements, np.ndarray) and all(x in range(1, 6) for x in set(scatter_statements))\nTrue",
         "failure_message": "❌ You haven't provided an array of possible values.",
         "hidden": false,
         "locked": false,
         "points": 1,
         "success_message": "✅ You have provided an array of possible values."
        }
       ],
       "scored": true,
       "setup": "",
       "teardown": "",
       "type": "doctest"
      }
     ]
    },
    "task_15": {
     "name": "task_15",
     "points": 3,
     "suites": [
      {
       "cases": [
        {
         "code": ">>> \n>>> # Please don't edit the last line.\n>>> latest_poverty.labels==('geo', 'time', 'poverty_percent')\nTrue",
         "failure_message": "❌ The labels of latest_poverty are not correct.",
         "hidden": false,
         "locked": false,
         "points": 1,
         "success_message": "✅ The labels of latest_poverty are correct."
        },
        {
         "code": ">>> \n>>> # The result should have one row per country.\n>>> latest_poverty.num_rows == 168\nTrue",
         "failure_message": "❌ latest_poverty does not have the correct number of rows.",
         "hidden": false,
         "locked": false,
         "points": 1,
         "success_message": "✅ latest_poverty has the correct number of rows."
        }
       ],
       "scored": true,
       "setup": "",
       "teardown": "",
       "type": "doctest"
      }
     ]
    },
    "task_16": {
     "name": "task_16",
     "points": 4,
     "suites": [
      {
       "cases": [
        {
         "code": ">>> \n>>> # Check your column labels and spelling\n>>> recent_poverty_total.labels==('geo', 'poverty_percent','population_total','poverty_total')\nTrue",
         "failure_message": "❌ recent_poverty_total does not have the correct labels.",
         "hidden": false,
         "locked": false,
         "points": 1,
         "success_message": "✅ recent_poverty_total has the correct labels."
        },
        {
         "code": ">>> \n>>> # Careful, the population of Australia in 2010 was 22,154,687\n>>> recent_poverty_total.where('geo','aus').column(2).item(0) == 22154687\nTrue",
         "failure_message": "❌ recent_poverty_total should show that Australia's population in 2010 is 22,154,687.",
         "hidden": false,
         "locked": false,
         "points": 1,
         "success_message": "✅ recent_poverty_total shows correctly that Australia's population in 2010 is 22,154,687."
        },
        {
         "code": ">>> \n>>> # The number of people estimated to be living in extreme poverty \n>>> # in Australia should be 110,773. That's 22,154,687 * 0.005\n>>> # rounded to the nearest integer.\n>>> float(recent_poverty_total.where('geo', 'aus').column(3).item(0)) == 110773\nTrue",
         "failure_message": "❌ The number of people estimated to be living in extreme poverty in Australia should be 110,773.",
         "hidden": false,
         "locked": false,
         "points": 1,
         "success_message": "✅ The number of people estimated to be living in extreme poverty in Australia is 110,773."
        }
       ],
       "scored": true,
       "setup": "",
       "teardown": "",
       "type": "doctest"
      }
     ]
    },
    "task_17": {
     "name": "task_17",
     "points": 2,
     "suites": [
      {
       "cases": [
        {
         "code": ">>> \n>>> 10<=poverty_percent<=20\nTrue",
         "failure_message": "❌ poverty_precent should be between 10 and 20",
         "hidden": false,
         "locked": false,
         "points": 1,
         "success_message": "✅ poverty_percent is between 10 and 20."
        }
       ],
       "scored": true,
       "setup": "",
       "teardown": "",
       "type": "doctest"
      }
     ]
    },
    "task_18": {
     "name": "task_18",
     "points": 3,
     "suites": [
      {
       "cases": [
        {
         "code": ">>> \n>>> # Check your column labels and spelling\n>>> poverty_map.labels == ('latitude', 'longitude','name', 'region', 'poverty_total')\nTrue",
         "failure_message": "❌ poverty_map does not have the correct labels.",
         "hidden": false,
         "locked": false,
         "points": 1,
         "success_message": "✅ poverty_map has the correct labels."
        },
        {
         "code": ">>> \n>>> # Something is wrong with your region column.\n>>> list(np.sort(np.unique(poverty_map.column('region'))))\n['africa', 'americas', 'asia', 'europe']",
         "failure_message": "❌ poverty_map does not have the correct region values.",
         "hidden": false,
         "locked": false,
         "points": 1,
         "success_message": "✅ poverty_map has the correct region values."
        }
       ],
       "scored": true,
       "setup": "",
       "teardown": "",
       "type": "doctest"
      }
     ]
    },
    "task_19": {
     "name": "task_19",
     "points": 4,
     "suites": [
      {
       "cases": [
        {
         "code": ">>> \n>>> # Check your column labels and spelling\n>>> largest.labels == ('name', 'poverty_total')\nTrue",
         "failure_message": "❌ largest does not contain the correct labels.",
         "hidden": false,
         "locked": false,
         "points": 1,
         "success_message": "✅ largest contains the correct labels."
        },
        {
         "code": ">>> \n>>> # India is the country with the largest number of people living\n>>> # in extreme poverty.\n>>> largest.column(0).item(0) == 'India'\nTrue",
         "failure_message": "❌ According to the data, India is the country with the largest number of people in extreme poverty.",
         "hidden": false,
         "locked": false,
         "points": 1,
         "success_message": "✅ largest correctly identifies (according to this data) India as the country with the largest number of people in extreme poverty."
        },
        {
         "code": ">>> \n>>> # The table should contain exactly 10 rows.\n>>> largest.num_rows == 10\nTrue",
         "failure_message": "❌ largest should contain 10 rows.",
         "hidden": false,
         "locked": false,
         "points": 1,
         "success_message": "✅ largest contains 10 rows."
        }
       ],
       "scored": true,
       "setup": "",
       "teardown": "",
       "type": "doctest"
      }
     ]
    }
   }
  },
  "toc-autonumbering": false,
  "widgets": {
   "application/vnd.jupyter.widget-state+json": {
    "state": {
     "13753a862d4e46c19a09f3138523379c": {
      "model_module": "@jupyter-widgets/output",
      "model_module_version": "1.0.0",
      "model_name": "OutputModel",
      "state": {
       "_dom_classes": [],
       "_model_module": "@jupyter-widgets/output",
       "_model_module_version": "1.0.0",
       "_model_name": "OutputModel",
       "_view_count": null,
       "_view_module": "@jupyter-widgets/output",
       "_view_module_version": "1.0.0",
       "_view_name": "OutputView",
       "layout": "IPY_MODEL_5af6e4c80e744e05b9ed63ce3156b6af",
       "msg_id": "",
       "outputs": [
        {
         "data": {
          "image/png": "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\n",
          "text/plain": "<Figure size 600x600 with 1 Axes>"
         },
         "metadata": {},
         "output_type": "display_data"
        }
       ]
      }
     },
     "1969be875b48474ea25bf9622c8adca8": {
      "model_module": "@jupyter-widgets/base",
      "model_module_version": "1.2.0",
      "model_name": "LayoutModel",
      "state": {
       "_model_module": "@jupyter-widgets/base",
       "_model_module_version": "1.2.0",
       "_model_name": "LayoutModel",
       "_view_count": null,
       "_view_module": "@jupyter-widgets/base",
       "_view_module_version": "1.2.0",
       "_view_name": "LayoutView",
       "align_content": null,
       "align_items": null,
       "align_self": null,
       "border": null,
       "bottom": null,
       "display": null,
       "flex": null,
       "flex_flow": null,
       "grid_area": null,
       "grid_auto_columns": null,
       "grid_auto_flow": null,
       "grid_auto_rows": null,
       "grid_column": null,
       "grid_gap": null,
       "grid_row": null,
       "grid_template_areas": null,
       "grid_template_columns": null,
       "grid_template_rows": null,
       "height": null,
       "justify_content": null,
       "justify_items": null,
       "left": null,
       "margin": null,
       "max_height": null,
       "max_width": null,
       "min_height": null,
       "min_width": null,
       "object_fit": null,
       "object_position": null,
       "order": null,
       "overflow": null,
       "overflow_x": null,
       "overflow_y": null,
       "padding": null,
       "right": null,
       "top": null,
       "visibility": null,
       "width": null
      }
     },
     "278863e7aea24891bc6d09aecd6ee3ca": {
      "model_module": "@jupyter-widgets/controls",
      "model_module_version": "1.5.0",
      "model_name": "VBoxModel",
      "state": {
       "_dom_classes": [
        "widget-interact"
       ],
       "_model_module": "@jupyter-widgets/controls",
       "_model_module_version": "1.5.0",
       "_model_name": "VBoxModel",
       "_view_count": null,
       "_view_module": "@jupyter-widgets/controls",
       "_view_module_version": "1.5.0",
       "_view_name": "VBoxView",
       "box_style": "",
       "children": [
        "IPY_MODEL_9d83c6fca46d4e16a522de30d8349aca",
        "IPY_MODEL_9d156f82aa29421ea8c6010a31d0b3f5"
       ],
       "layout": "IPY_MODEL_40760d34f8ff47cdb8a2ee18434e450f"
      }
     },
     "40760d34f8ff47cdb8a2ee18434e450f": {
      "model_module": "@jupyter-widgets/base",
      "model_module_version": "1.2.0",
      "model_name": "LayoutModel",
      "state": {
       "_model_module": "@jupyter-widgets/base",
       "_model_module_version": "1.2.0",
       "_model_name": "LayoutModel",
       "_view_count": null,
       "_view_module": "@jupyter-widgets/base",
       "_view_module_version": "1.2.0",
       "_view_name": "LayoutView",
       "align_content": null,
       "align_items": null,
       "align_self": null,
       "border": null,
       "bottom": null,
       "display": null,
       "flex": null,
       "flex_flow": null,
       "grid_area": null,
       "grid_auto_columns": null,
       "grid_auto_flow": null,
       "grid_auto_rows": null,
       "grid_column": null,
       "grid_gap": null,
       "grid_row": null,
       "grid_template_areas": null,
       "grid_template_columns": null,
       "grid_template_rows": null,
       "height": null,
       "justify_content": null,
       "justify_items": null,
       "left": null,
       "margin": null,
       "max_height": null,
       "max_width": null,
       "min_height": null,
       "min_width": null,
       "object_fit": null,
       "object_position": null,
       "order": null,
       "overflow": null,
       "overflow_x": null,
       "overflow_y": null,
       "padding": null,
       "right": null,
       "top": null,
       "visibility": null,
       "width": null
      }
     },
     "4c8484c01cfc45c7b1758ae721dea57b": {
      "model_module": "@jupyter-widgets/base",
      "model_module_version": "1.2.0",
      "model_name": "LayoutModel",
      "state": {
       "_model_module": "@jupyter-widgets/base",
       "_model_module_version": "1.2.0",
       "_model_name": "LayoutModel",
       "_view_count": null,
       "_view_module": "@jupyter-widgets/base",
       "_view_module_version": "1.2.0",
       "_view_name": "LayoutView",
       "align_content": null,
       "align_items": null,
       "align_self": null,
       "border": null,
       "bottom": null,
       "display": null,
       "flex": null,
       "flex_flow": null,
       "grid_area": null,
       "grid_auto_columns": null,
       "grid_auto_flow": null,
       "grid_auto_rows": null,
       "grid_column": null,
       "grid_gap": null,
       "grid_row": null,
       "grid_template_areas": null,
       "grid_template_columns": null,
       "grid_template_rows": null,
       "height": null,
       "justify_content": null,
       "justify_items": null,
       "left": null,
       "margin": null,
       "max_height": null,
       "max_width": null,
       "min_height": null,
       "min_width": null,
       "object_fit": null,
       "object_position": null,
       "order": null,
       "overflow": null,
       "overflow_x": null,
       "overflow_y": null,
       "padding": null,
       "right": null,
       "top": null,
       "visibility": null,
       "width": null
      }
     },
     "5af6e4c80e744e05b9ed63ce3156b6af": {
      "model_module": "@jupyter-widgets/base",
      "model_module_version": "1.2.0",
      "model_name": "LayoutModel",
      "state": {
       "_model_module": "@jupyter-widgets/base",
       "_model_module_version": "1.2.0",
       "_model_name": "LayoutModel",
       "_view_count": null,
       "_view_module": "@jupyter-widgets/base",
       "_view_module_version": "1.2.0",
       "_view_name": "LayoutView",
       "align_content": null,
       "align_items": null,
       "align_self": null,
       "border": null,
       "bottom": null,
       "display": null,
       "flex": null,
       "flex_flow": null,
       "grid_area": null,
       "grid_auto_columns": null,
       "grid_auto_flow": null,
       "grid_auto_rows": null,
       "grid_column": null,
       "grid_gap": null,
       "grid_row": null,
       "grid_template_areas": null,
       "grid_template_columns": null,
       "grid_template_rows": null,
       "height": null,
       "justify_content": null,
       "justify_items": null,
       "left": null,
       "margin": null,
       "max_height": null,
       "max_width": null,
       "min_height": null,
       "min_width": null,
       "object_fit": null,
       "object_position": null,
       "order": null,
       "overflow": null,
       "overflow_x": null,
       "overflow_y": null,
       "padding": null,
       "right": null,
       "top": null,
       "visibility": null,
       "width": null
      }
     },
     "78885588a250499fb1c52248789f3744": {
      "model_module": "@jupyter-widgets/base",
      "model_module_version": "1.2.0",
      "model_name": "LayoutModel",
      "state": {
       "_model_module": "@jupyter-widgets/base",
       "_model_module_version": "1.2.0",
       "_model_name": "LayoutModel",
       "_view_count": null,
       "_view_module": "@jupyter-widgets/base",
       "_view_module_version": "1.2.0",
       "_view_name": "LayoutView",
       "align_content": null,
       "align_items": null,
       "align_self": null,
       "border": null,
       "bottom": null,
       "display": null,
       "flex": null,
       "flex_flow": null,
       "grid_area": null,
       "grid_auto_columns": null,
       "grid_auto_flow": null,
       "grid_auto_rows": null,
       "grid_column": null,
       "grid_gap": null,
       "grid_row": null,
       "grid_template_areas": null,
       "grid_template_columns": null,
       "grid_template_rows": null,
       "height": null,
       "justify_content": null,
       "justify_items": null,
       "left": null,
       "margin": null,
       "max_height": null,
       "max_width": null,
       "min_height": null,
       "min_width": null,
       "object_fit": null,
       "object_position": null,
       "order": null,
       "overflow": null,
       "overflow_x": null,
       "overflow_y": null,
       "padding": null,
       "right": null,
       "top": null,
       "visibility": null,
       "width": null
      }
     },
     "84098ed0583e442ba6d146dc5cdcf148": {
      "model_module": "@jupyter-widgets/controls",
      "model_module_version": "1.5.0",
      "model_name": "SliderStyleModel",
      "state": {
       "_model_module": "@jupyter-widgets/controls",
       "_model_module_version": "1.5.0",
       "_model_name": "SliderStyleModel",
       "_view_count": null,
       "_view_module": "@jupyter-widgets/base",
       "_view_module_version": "1.2.0",
       "_view_name": "StyleView",
       "description_width": "",
       "handle_color": null
      }
     },
     "895ade7a5cf14543a88058df19fff282": {
      "model_module": "@jupyter-widgets/controls",
      "model_module_version": "1.5.0",
      "model_name": "VBoxModel",
      "state": {
       "_dom_classes": [
        "widget-interact"
       ],
       "_model_module": "@jupyter-widgets/controls",
       "_model_module_version": "1.5.0",
       "_model_name": "VBoxModel",
       "_view_count": null,
       "_view_module": "@jupyter-widgets/controls",
       "_view_module_version": "1.5.0",
       "_view_name": "VBoxView",
       "box_style": "",
       "children": [
        "IPY_MODEL_e0df113d622549f88c410bd23d3e560c",
        "IPY_MODEL_13753a862d4e46c19a09f3138523379c"
       ],
       "layout": "IPY_MODEL_1969be875b48474ea25bf9622c8adca8"
      }
     },
     "9d156f82aa29421ea8c6010a31d0b3f5": {
      "model_module": "@jupyter-widgets/output",
      "model_module_version": "1.0.0",
      "model_name": "OutputModel",
      "state": {
       "_dom_classes": [],
       "_model_module": "@jupyter-widgets/output",
       "_model_module_version": "1.0.0",
       "_model_name": "OutputModel",
       "_view_count": null,
       "_view_module": "@jupyter-widgets/output",
       "_view_module_version": "1.0.0",
       "_view_name": "OutputView",
       "layout": "IPY_MODEL_4c8484c01cfc45c7b1758ae721dea57b",
       "msg_id": "",
       "outputs": [
        {
         "data": {
          "image/png": "iVBORw0KGgoAAAANSUhEUgAABAIAAAH7CAYAAABWhT3DAAAAOXRFWHRTb2Z0d2FyZQBNYXRwbG90bGliIHZlcnNpb24zLjUuMywgaHR0cHM6Ly9tYXRwbG90bGliLm9yZy/NK7nSAAAACXBIWXMAAA9hAAAPYQGoP6dpAAEAAElEQVR4nOzdd1gUV9vA4d+ygCBt7aCA2BNBrIkFsKPY0NiIGmNMsyYmGk3RGOOrMSbWEEUx0RiDJqLyKhbsBeyCvTcswYIKIiB9vz94dz/WXWRpYnnu6/IKmTkz88zZoZxnTlHEx8erEUIIIYQQQgghxCvBpKQDEEIIIYQQQgghxLMjiQAhhBBCCCGEEOIVIokAIYQQQgghhBDiFSKJACGEEEIIIYQQ4hUiiQAhhBBCCCGEEOIVIokAIYQQQgghhBDiFSKJACGEEEIIIYQQ4hUiiQAhhBBCCCGEEOIVIokAIYQQQgghhBDiFSKJACGEEEIIIYQQ4hViWtIBCCGef/Hx8Rw9epTIyEiioqKIiori9u3bAHh4eLBhwwajzhMbG0tgYCDbtm3j8uXLpKamUrFiRZo1a8agQYPw9PTMV1zbtm1j5cqVHD58mDt37mBqakqFChVwdXWlVatW+Pn5YW1tnevxKSkp/P7774SEhHD58mVSUlJwcHCgbdu2fPzxx9SuXTtf8QghhBBCCPEiUMTHx6tLOgghxPPN3d2d69evG9xnbCJg8+bNfPTRRyQkJORa5qOPPuKnn35CoVA89Vz37t1j2LBhbN269anl9uzZg7u7u8F90dHR+Pn5cf78eYP7LSwsmDlzJgMGDHjqNYQQQgghhHjRSI8AIUSe1Or/zxdWrFiRhg0bsnnzZqOP379/PwMHDiQtLY1SpUrx0Ucf0aFDB2xtbbl8+TILFizg8OHDLFq0CFtbW7799ttcz3X//n18fX05c+YMAJ07d6ZHjx5Uq1aNzMxMbty4QVRUFOvWrcv1HImJiTpJgP79+9O3b1+srKw4ePAgs2bN4sGDB3z66afaHgJCCCGEEEK8LKRHgBAiT/7+/jg7O9OoUSOcnJwAUKlUQN49AtRqNZ6enpw+fRqlUsnq1atp3bq1TpmMjAzeffddNm7ciFKpZP/+/bl2y3/nnXdYv3495ubm/P7773Tr1i3X62ZmZmJqqp/v/PHHH/nxxx8BmDBhAl988YXO/gsXLtCmTRuSkpKoWbMmBw4cMHgeIYQQQgghXkQyWaAQIk+ffPIJ3bt31yYB8uP48eOcPn0agF69euklAQBMTU2ZOXMmpqamZGZm4u/vb/BcW7ZsYf369QCMHz8+1yQAgEKhMNh4T09PZ8GCBQDUrFmT0aNH65WpXbs2o0aNAuDSpUtGz4EghBBCCCHEi0ASAUKIYhUVFaX9un379rmWc3BwwM3NDYANGzaQkZGhV2bRokUAlClThqFDhxYonoiICOLj44HsIQEmJoZ/DL7zzjvaryURIIQQQgghXiaSCBBCFKsHDx5ov65YseJTy2r2P3jwgHPnzunse/jwIdu3bwey5wUoVaoUkP2G/9q1a9y4cYO0tLQ849m/f7/2aw8Pj1zLVa5cmRo1augdI4QQQgghxItOEgFCiGJlZWWl/frhw4dPLZtz/5Oz+UdFRZGVlQXAm2++yb///suQIUNwdnamfv361KtXD2dnZ/r27cuhQ4dyvUbO89apU+ep8dSqVQuAmzdvkpSU9NSyQgghhBBCvCgkESCEKFY5G9t79+7NtdyjR484efKk9v9v3rypsz9nD4GEhARatGjBP//8w+PHj7XbU1JS2LJlCz4+PgQEBBi8TkxMDJCdoNBMeJgbR0dHIHviQc1xQgghhBBCvOgkESCEKFbNmzenbNmyACxfvpzLly8bLDd9+nSSk5O1///o0SOd/XFxcdqvp0yZwsOHD/H19WXPnj3cuXOHCxcu8PPPP2NjY0NWVhbffPMNW7du1btOYmIioNtTITc5y0iPACGEEEII8bKQRIAQolhZWloyduxYILsR3rlzZ1asWMGDBw9IT0/n7NmzfPLJJ/z666+Ym5trj0tJSdE5T84kQWpqKj179uTPP//E3d2dUqVKUbFiRT766CNWrFiBiYkJarWa7777DrVad4VUTQ+CnNfKTc4yOXseCCGEEEII8SKTRIAQotgNGzaMjz76CIA7d+4wbNgwqlevToUKFWjevDnLli3D1taW8ePHa4+xtrbWOYeFhYX2axMTEyZPnmzwWp6ennTp0gWAM2fOcObMGZ39lpaWAEZNLJizjOY4IYQQQgghXnSSCBBCPBM///wzf//9Nx4eHpiZmWm3W1hY0Lt3byIiIrC3t9duf3L8fs7EwGuvvaYdv29IzmUKcy5fmPM8xnT1z1nGmKEEQgghhBBCvAhMSzoAIcSrw8fHBx8fH1JSUrhz5w4ADg4O2i74v/32m7bs66+/rnNslSpVDH5tSM4kwf3793X2Va5cGchu5MfHxz91wkDNhIUKhUJ7nBBCCCGEEC866REghHjmLCwsqFq1KlWrVtUZh79//34gu+t/w4YNdY557bXXtF9nZmY+9fw59yuVSp19OVcxeHKJwiddvHgRyE4sSI8AIYQQQgjxspBEgBDiuXD16lUOHz4MgLe3N7a2tjr7X3/9dcqUKaMtm9e5NBwcHHT2NW/eXPv105YzjImJ0a5wkPMYIYQQQgghXnSSCBBCPBdyTv734Ycf6u03NTWlc+fOQHZD/9SpU7mea926ddqvn2zEe3p6aocDLF++nKysLIPnCAoK0n6tmXxQCCGEEEKIl4EkAoQQxS4hIYH4+Phc98+YMYOQkBAAunbtire3t8Fyn376qbar/9ixY/WWGITsBrzmTX/Hjh315hMwMzNj6NChAFy6dInZs2frnePixYvMnTsXgJo1a0oiQAghhBBCvFQU8fHx6ryLCSFeZSdOnODkyZM620aMGAFArVq1+Oyzz3T2tW/fnkqVKmn//+jRo3Tu3Jnu3bvToUMHqlWrRkZGBufPnycoKEg7N0DdunUJDQ2lXLlyucbyn//8h5kzZwLg5ubGJ598Qp06dXj48CFr167ljz/+ICsrC1tbW3bv3k21atX0zpGYmEi7du20cwT0798fPz8/rKysOHToEDNmzODBgwcolUqCg4Np27Zt/itNCCGEEEKI55QkAoQQeZo2bRrTp083unxoaCheXl7a/z969Cht2rR56jHt2rVjwYIFVKhQ4anl1Go1X375JYGBgbmWqVSpEkFBQTRp0iTXMtHR0fj5+eU6YaCFhQUzZ85kwIABT41HCCGEEEKIF40sHyiEKHY1a9bk559/Zvfu3Zw5c4bY2FgyMjKoWLEib775Jn369KFDhw5GnUuhUPDTTz/h6+vL0qVLOXDgAHfv3sXCwoKaNWvSuXNnPvroI73JBp/k4uLCrl27+P333/nvf//LpUuXSElJwcHBgbZt2zJkyBBq165dFLcvhBBCCCHEc0V6BAghhBBCCCGEEK8QmSxQCCGEEEIIIYR4hbwQiYB69eqhUqkM/vv888/1yickJPDNN9/g5uZGxYoVcXNz45tvviEhISHXa2gmBKtcuTJVq1alT58+HD16tDhvSwghhBBCCCGEeOZeiKEB9erV4+HDhwwbNkxvX8OGDfHx8dH+f1JSEj4+Ppw8eZI2bdpQv359Tp06xbZt26hXrx5hYWFYWVnpnGPmzJn85z//wdHRke7du5OUlMSaNWtISUlh9erVOpOeCSGEEEIIIYQQL7IXJhEA6C1fZsgPP/zATz/9xKhRo/j+++/1to8bN45vvvlGu/3y5cs0bdoUFxcXtm/fjp2dHQBnz56lXbt2VKpUicOHD2NqKvMqCiGEEEIIIYR48b0QQwOMpVarWbZsGdbW1owbN05n3+jRo1GpVPz111+o1f+f+wgKCiIjI4MxY8ZokwAAr7/+Om+//TZXr15lz549z+wehBBCCCGEEEKI4vTCJALS0tJYvnw5M2fO5PfffzfYO+Dy5cvcunWLpk2b6nX/t7CwoEWLFsTExHDlyhXt9oiICADatm2rdz7Ntr179xblrQghhBBCCCGEECXmhenvfufOHYYPH66zrX379ixcuJBy5coB2YkAgOrVqxs8R40aNbTlcn5tbW1NpUqVnlpeCCGEEEIIIYR4GbwQPQLeeecd1q9fz+XLl7lx4wbbtm3D29ubbdu20a9fP21Xf82qADm7+OdkY2OjU07zta2trdHlhRBCCCGEEEKIF9kLkQj48ssv8fT0pFy5ctjY2NCkSRP++ecfmjdvzqFDh9iyZUtJhyiEEEIIIYQQQrwQXohEgCEmJib0798fgIMHDwJo3+w/fPjQ4DGPHj3SKaf5Orc3/obKi2cnJSWFK1eukJKSUtKhvHSkbouP1G3xkboVQgghhCgaL2wiANDODZCcnAz8/5j+nJMB5qQZ668pp/k6MTGRO3fuGFVePFuZmZklHcJLS+q2+EjdFh+pWyGEEEKIwnuhEwGRkZEAODs7A9kNdgcHBw4ePEhSUpJO2ZSUFPbt24eDg4POZIIeHh4A7NixQ+/8mm2aMkIIIYQQQgghxIvuuU8EnDt3jvj4eL3t+/fvZ968eZQqVYpu3boBoFAoGDhwIImJifz000865WfNmkV8fDwDBw5EoVBotw8YMABTU1NmzpypM6Tg7Nmz/P3331SrVo2WLVsWz80JIYQQQgghhBDP2HO/fGBISAi//PILLVu2xNnZmVKlSnH27Fl27NiBiYkJs2fPxsnJSVt+1KhRbNq0iblz53LixAkaNGjAqVOn2Lp1K/Xq1WPUqFE6569ZsyZfffUVU6ZMwcPDg+7du5OcnMzq1atJT09n7ty5mJo+99UkhBBCCCGEEEIY5blv4Xp5eXHhwgWOHz/Ovn37SElJoWLFivTs2ZPhw4fTuHFjnfJWVlasX7+e6dOns27dOiIiIqhUqRLDhw/nyy+/xMrKSu8aX3zxBc7OzgQEBLB48WLMzMx48803+eabb2jUqNGzulUhhBBCCCGEEKLYKeLj49UlHYQQhqSkpHDjxg2cnJywsLAo6XBeKlK3xUfqtvhI3QohhBBCFI3nvkeAEEIIIV5+WVlZJCUlyfKQQgghRAFYWFhgZWWFiYlx0wBKIkAIIYQQJSorK4v79+9jbW1N+fLldSb1FUIIIcTTqdVqUlJSuH//PuXKlTMqGfDcrxoghBBCiJdbUlIS1tbWWFpaShJACCGEyCeFQoGlpSXW1tYkJSUZdYwkAoQQQghRolJSUmTeByGEEKKQLCwsjB5iJ4kAIYQQQpQ46QkghBBCFE5+fpdKIkAIIYQQQgghhHiFSCJACCGEEEIIIYR4hUgiQAghhBBCCCGEeIVIIkAIIYQQQgghhHiFmJZ0AEIIIYQQT9Pj4++5eSu2pMMwyNGhAv8N/K6kwygy165do379+vTr14+AgACjjhk2bBgrVqzg+PHjVK1atZgjLHn16tUD4OTJkyUcyaupIM+oEEKfJAKEEEII8Vy7eSuWS9diSjoMUYzS0tIIDAxk1apVXLp0CQAnJyc8PDyYMWNGCUcnhBAvH0kECCGEEEKIEhMfH0+vXr2IjIykadOmvPfee0D2m981a9Y8d4mAdevWlXQIr7TKlStz6NAhbG1tSzoUIV5okggQQgghhBAlZuTIkURFRbFo0SL69Omjsy8jI6OEospdtWrVSjqEV5qZmRm1a9cu6TCEeOHJZIFCCCGEECUkLi6OsmXL0r9/f53tUVFRqFQqVCoV//77r86+du3a4ejoqG0kZ2RkMG/ePDw8PLC3t8fZ2ZmuXbuyefNmvesFBQWhUqkICgpi8+bNdOrUCUdHR+2496c5e/Ysfn5+ODo64uzsTJ8+fThz5kwh7h6OHDnC+vXr6du3r14SAMDUVPed1bVr11CpVAwbNowLFy7wzjvvUL16dVQqFdeuXdOW27BhA76+vlStWpVKlSrRvHlz/P39yczM1LtGcnIyEydOxNXVVVt26dKlhIeHo1KpmDZtmk75evXqGayv5ORkpk2bxhtvvEGlSpVwcXGhb9++HDx4UK/stGnTUKlUhIeHExISQsuWLbG3t6dOnTqMGzeOx48fG12Hxlq2bBn9+vWjXr162vh69uzJnj179MrmvPeDBw/StWtXHB0dqVGjBmPGjNHGt23bNjp27EjlypWpVasW3333ncE6BuM/k7ye0ZzPwJMePXrE9OnTadGiBZUrV8bZ2RkvLy+mTJlCenq6tlxoaCgffPABDRs2xMHBAWdnZzp16sTatWsLXL9CvGikR4AQQgghRAkpU6YMrq6u7N27l6ysLExMst/RREREaMuEh4fz9ttvA9kNnePHj9OmTRtMTU1Rq9UMHjyY0NBQatasyYcffkhycjIhISH4+fnx448/MnToUL3rrl27lh07dtCxY0c++OADEhMTnxrnmTNn8PHxITExkW7dulGjRg0iIyPx8fHB1dW1wPe/Zs0aAHr06MH9+/fZuHEjsbGxVKlSBW9vb8qWLWvwuKtXr9K+fXtef/11+vXrR1xcHObm5gBMnjyZWbNmUaVKFXx9fbGxsWHfvn18++23HDlyhKVLl2rPk5mZiZ+fH+Hh4bi5udG7d2/i4uKYMGECHh4eRt9Hamoq3bt35/Dhw9SvX59hw4YRGxtLSEgIO3bsYPHixfj6+uod99tvv7Ft2zY6d+6Mp6cn27dvJzAwkLi4OBYtWpSfqszT2LFjcXNzo3Xr1pQvX56YmBg2btxIjx49WLZsGV26dNE7JjIykrlz59K2bVvee+89wsPD+f3333n06BGdO3dm2LBhdOrUicaNG7Nlyxbmzp2LjY0NX3zxhc558vOZaOT3Gb1//z5dunTh3Llz1KtXj8GDB5OVlcXFixeZO3cuI0eORKVSaeMxMzOjWbNm2Nvbc+/ePTZt2sSgQYOYPn06Q4YMKXhFC/GCkESAEEIIIUQJ8vLyYv78+Zw4cYIGDRoA2Y3/unXrEhsbq5MI2L9/PxkZGXh5eQHwzz//EBoaioeHByEhIdrG8JgxY2jdujXffvstPj4+uLi46Fxz69athISE0Lp1a6NiHDt2LAkJCQQGBtK3b1/tdk0Dr6COHj0KwJUrVxgyZAgJCQnafdbW1vzyyy/07NlT77gDBw4wduxYxo8fr7N9586dzJo1C29vb5YuXUrp0qUBUKvVjBkzhsWLF7N27Vq6d+8OZL99Dg8Pp1OnTgQFBWkTMSNHjqRly5ZG38fcuXM5fPgwffv2ZeHChSgUCiB7RYV27drx6aef0qZNG2xsbPTi3bVrF7Vq1QLg8ePHeHl5sWrVKiZPnoyDg4O27JM9E/IybNgwbcMXsuvsyefg9u3btGnThokTJxpMBGzbto2goCDtvvT0dFq3bk1wcDDbt29nw4YNNGrUCICvv/6aRo0aMX/+fD777DNtb478fiYa+X1Gx4wZw7lz5xgzZgzffvutzr67d+9ibW2t/f/g4GC9ukhMTKRDhw5MnTqVgQMHauMU4mUlQwOEEEIIIUqQp6cnkN34h+yu/gcOHKBly5Z4enrqdN3WlNEcs3z5ciC7Qa5JAgBUqVKF4cOHk56eTnBwsN41u3TpYnQD68aNG+zduxdXV1edJADA6NGjsbOzM/JO9d27dw+AiRMn0rlzZ44dO0Z0dDSBgYGYmJgwZMgQTp06pXdcpUqVGDt2rN72wMBAAGbPnq3TkFMoFHz33XcoFApWr16t3b5y5UoAxo8fr00CANSuXZt+/foZfR/Lly/HzMxMew0NNzc3+vfvT3x8PBs3btQ7bujQodokAIClpSW9evVCrVZz7NgxnbLTp0/P17+HDx/qHP9kwxfA3t6ebt26cfnyZa5fv66339PTUydBYGZmRvfu3VGr1fj4+GiTAAA2NjZ07NiRBw8e6Axnye9nopGfZ/Tu3busXbuWatWq8dVXX+ntr1ixos4wE0N1YW1tTf/+/UlISCAqKsqo6wrxIpMeAUIIIYQQJahFixaYmJgQHh7OJ598wtGjR3n06BFeXl7cuXOHkJAQoqOjcXFxITw8HFtbW+rXrw/AiRMnsLS0pHHjxnrn1SQLDK13b6h8bjQN8ebNm+vts7a2pl69ejpDGfIjKysLAFdXVwICArSN6L59+5KYmMjo0aNZuHAh/v7+Ose5ubnpJD40jhw5gpWVFcuWLTN4PUtLSy5evKhzb1ZWVri5uemVffPNN1myZEme95CQkEB0dDR16tShSpUqevs9PT1ZsmQJJ0+exM/PT2ef5nPMSXOOJxvy8fHxecbyNNHR0cyaNYs9e/Zw69YtUlNTdfbfvn0bZ2dnnW3u7u5657G3twcwOE+CZt+tW7eoWrUqkP/PRCM/z+jRo0dRq9V4eXlhZmaWZ/nY2Fhmz57Ntm3buHHjht6cDLdv3zb62kK8qCQRIIQQQghRglQqFe7u7tpu/+Hh4ZiYmODh4UFsbCyQ3ROgTJkynDhxAm9vb5RKJZA9Z4ChxidkvwUFdLrba1SoUMHo+DTHly9f/qnXKQjNEnAdO3bUeZMO4OPjw+jRo7XDB3LKLf64uDgyMjKYPn16rtdMSkrSfm1M/eXl0aNHT43paZ+DoSXwNJ9tbpPuFcSVK1do27atNsHk4+ODjY0NJiYmREREsHfvXr3EAKA3lCFnfE/bl3Nivvx+Jhr5eUY1SZOcQylyExcXR5s2bbh58ybNmjWjVatW2NnZoVQqOXnyJBs3bjRYF0K8bCQRIIQQQghRwry8vDh27BjHjh0jIiKCevXqaVcNcHBwIDw8nPLly5OVlaWdHwCyG2OaZMGTNNsNNdiebHQ/jaaxqunG/6S7d+8afa4n1apVi6NHjxocXqDZlpKSorcvt/htbGxQKBRcuXLFqOvb2Nhw//59g/uMvS9N/Rbkc8iPwswRMH/+fOLj4/XmeAD4/PPP2bt3b6Fie5r8fiYa+XlGNc/KrVu38iy7bNkybt68yYQJE/QmNZw9e7bBIRxCvIwkESCEEEIIUcI8PT3x9/dn+/btHDx4kPfff1+7z8vLi4iICO0beU2Xf8juur1nzx4iIyP1ulJrGnfGLA34NJpu8/v379fbl5iYaHDogbG8vLxYuXIl58+f19un2fZkd/WnadKkCVu3buXy5cvUqFEjz/Jubm5ERERw6tQpveEBhw4dMuqatra2uLi4cOXKFWJiYqhcubLO/qL6HJ72Rt2Q/v37axMBV69eBaBTp046ZbKysgwub1iU8vuZFETDhg21w2vS09OfOjwgt7oAw8+4EC8rmSxQCCGEEKKENW/eHKVSyaJFi0hKStJ56+/p6UlMTAwrV67Ezs5OZ9y2ZkK777//Xqc7dkxMDPPmzcPU1FTvDXB+OTk50aJFC06fPq2dXE9j1qxZemPZ86N79+6UK1eO4OBgTp8+rd2elpamfQPeo0cPo8+nWfZt5MiRPHjwQG//nTt3dJIOmrqZOnWqdr4CgAsXLrBixQqjr9uvXz/S09P5/vvvUavV2u1nzpwhKCgIW1tbg7Py50d8fHy+/mnG6EP2ZwjZKwfkNGfOHM6cOVOouPKS38+kICpWrIivry9Xr141mDCJjY0lIyMDyL0ugoOD2bJlS6HiEOJFIj0ChBBCCCFKmK2tLQ0aNCAyMhKlUqkzMZ9mGbt79+7RuXNnndnt3377bUJDQ9m4cSMeHh507NiR5ORkQkJCePDgAVOmTDE4Q3p+zZgxAx8fH4YOHcqGDRuoUaMGUVFRREVF0bx58wK/SbW1tWXu3LkMGjQIb29vfH19UalU7N69m7Nnz9KhQwcGDBhg9Pnat2/P2LFj+fnnn2nYsCHt27fHycmJBw8ecOXKFfbv38+ECROoU6cOAAMGDODvv/9m06ZNtGrVinbt2hEXF8eaNWto3bo1YWFhOvWdm1GjRrFlyxb++ecfLly4QKtWrbh37x4hISGkp6ezYMGCQg8NKIzBgwcTFBTEwIEDeeuttyhbtixHjhzh+PHjdOzYkc2bNxfbtfP7mRTUzJkzOXv2LDNmzGDLli20bNkStVrNpUuX2LlzJxcuXEClUuHn58ecOXMYN24c4eHhODk5cfr0aXbt2kW3bt0IDQ0tojsX4vkmiQAhhBBCPNccHYyfNOxZK8rYvLy8iIyMpGHDhjqNRhcXF5ycnLhx44bOsADIHkf9559/EhAQwIoVKwgMDMTc3Bx3d3dGjBhB586diyS2unXrEhYWxqRJk9i+fTs7duygWbNmhIWF4e/vX6gu1V27dmXDhg3MmDGDTZs28fjxY2rUqMH333/PiBEjtBPQGWv8+PF4eHiwYMECdu/ezcOHDylbtixVq1blq6++ok+fPtqySqWS4OBgpk2bxurVqwkICKBatWpMmTIFlUpFWFiYUQ14CwsL1q1bx5w5cwgJCWH+/PlYWlrSokULRo8ebXDFhWepfv36rFmzhqlTp7J+/XpMTExo2rQpYWFhbNq0qVgTAZC/z6SgypUrx9atW/H392ft2rUsWrSIUqVKUbVqVT777DOsrKyA7FUZNmzYwHfffceuXbvIzMzE3d2dkJAQbt68KYkA8cpQxMfHq/MuJsSzl5KSwo0bN3BycsLCwqKkw3mpSN0WH6nb4iN1+/KKjY3N1wzhQjwLU6ZMYcaMGQQHB+Pt7V3S4QghhFGM/Z0qcwQIIYQQQohXlqE148+dO8fChQuxs7PDw8OjBKISQojiJUMDhBBCCCHEK2v06NFcv36dxo0bo1KpuHr1KmFhYaSnp+Pv70/p0qVLOkQhhChykggQQgghhBBF4tq1ayxfvjzPcnZ2dgwfPvwZRJS3Hj16sGTJEkJDQ0lISMDKygoPDw9GjhxJu3btSjo8IYQoFpIIEEIIIYQQReL69etGrXfv5OT03CQC+vbtW+glFoUQ4kUjiQAhhBBCCFEkvLy8iI+PL+kwhBBC5EEmCxRCCCGEEEIIIV4hkggQQgghhBBCCCFeIZIIEEIIIYQQQgghXiGSCBBCCCGEEEIIIV4hkggQQgghhBBCCCFeIZIIEEIIIYQQQgghXiGSCBBCCCGEEEIIIV4hkggQQgghhBBCCCFeIZIIEEIIIYQQQgghXiGmJR2AEEIIIcTTlL72GSYZd0o6DIOyTCuRXHVOSYdRZK5du0b9+vXp168fAQEBRh0zbNgwVqxYwfHjx6latWoxR1jy6tWrB8DJkydLOBJR1KZNm8b06dMJDQ3Fy8urpMN5ZsLDw+nWrRtffvklX3/9tc6+bdu28eOPP3LhwgUSEhK0Pxvk++DFJ4kAIYQQQjzXTDLuoEy7UdJhiGKUlpZGYGAgq1at4tKlSwA4OTnh4eHBjBkzSjg6UVQKkmgSJSc6OpoBAwZQpkwZBg4ciLW1tTYBIF58kggQQgghhBAlJj4+nl69ehEZGUnTpk157733gOxG45o1a567RMC6detKOgRRTD7++GN69eqFo6NjSYfyTDVu3JhDhw5Rrlw5ne179uwhNTWVqVOn0qtXL5198n3w4pNEgBBCCCGEKDEjR44kKiqKRYsW0adPH519GRkZJRRV7qpVq1bSIYhiUq5cOb3G8KugdOnS1K5dW2/7rVu3AKhYsaLePvk+ePHJZIFCCCGEECUkLi6OsmXL0r9/f53tUVFRqFQqVCoV//77r86+du3a4ejoqG0kZ2RkMG/ePDw8PLC3t8fZ2ZmuXbuyefNmvesFBQWhUqkICgpi8+bNdOrUCUdHR6O6+549exY/Pz8cHR1xdnamT58+nDlzphB3D0eOHGH9+vX07dtXLwkAYGqq+87q2rVrqFQqhg0bxoULF3jnnXeoXr06KpWKa9euactt2LABX19fqlatSqVKlWjevDn+/v5kZmbqXSM5OZmJEyfi6uqqLbt06VLCw8NRqVRMmzZNp3y9evUM1ldycjLTpk3jjTfeoFKlSri4uNC3b18OHjyoV3batGmoVCrCw8MJCQmhZcuW2NvbU6dOHcaNG8fjx4+NrsP8OHXqFO+//z516tShQoUKuLm5MXbsWB48eKBXdtmyZfTr14969epp76dnz57s2bPH4LnXrl1L586dqVmzJpUqVcLV1ZVevXqxfv16IPvZq1+/PgArVqzQPt+aesiPS5cuMXHiRFq2bEm1atWoVKkSjRs3ZtKkSSQmJuqVv337Nl9++SWNGjXC3t4eFxcXWrRowZgxY0hISNCWy/m5FKYujJHzezE0NJQ2bdrg4OBA7dq1GT16NPHx8XrHhIaG8sEHH9CwYUMcHBxwdnamU6dOrF27NtfrnDp1io8//pi6detSsWJF6tSpQ69evdi0aZO2zJPPuub7TPP/3bp1035Wmu+z3L4P1Go1y5cvp1OnTjg7O+Pg4ECjRo34/PPPuXFDhng9TwrdI+DSpUts3bqV6OhokpKSUKvVBsspFAp+/fXXwl5OCCHEc0atVhMde4mQQ8u4eT+azKwMTJXmNKnhgU+DnpSxevXerghhrDJlyuDq6srevXvJysrCxCT7HU1ERIS2THh4OG+//TYAjx494vjx47Rp0wZTU1PUajWDBw8mNDSUmjVr8uGHH5KcnExISAh+fn78+OOPDB06VO+6a9euZceOHXTs2JEPPvjAYOMppzNnzuDj40NiYiLdunWjRo0aREZG4uPjg6ura4Hvf82aNQD06NGD+/fvs3HjRmJjY6lSpQre3t6ULVvW4HFXr16lffv2vP766/Tr14+4uDjMzc0BmDx5MrNmzaJKlSr4+vpiY2PDvn37+Pbbbzly5AhLly7VniczMxM/Pz/Cw8Nxc3Ojd+/exMXFMWHCBDw8PIy+j9TUVLp3787hw4epX78+w4YNIzY2lpCQEHbs2MHixYvx9fXVO+63335j27ZtdO7cGU9PT7Zv305gYCBxcXEsWrQoP1WZp40bNzJ48GCUSiWdOnWiSpUqnD9/nkWLFrFjxw62b9+OSqXSlh87dixubm60bt2a8uXLExMTw8aNG+nRowfLli2jS5cu2rK///47Y8aMwd7enq5du1K2bFlu375NVFQUGzZsoGvXrtSrV4+hQ4eyYMEC3NzcdI53dnbO172EhoaybNkyvLy88PT0JCsriyNHjjBnzhz27t3Lxo0bMTMzA7ITNB07duT69eu0bduWrl27kpaWRnR0NMuXL+fTTz/F1tb2qdfLT13k17p169i5cyc9evSgdevW7N27l8WLF3Po0CG2bt2KpaWltuzkyZMxMzOjWbNm2Nvbc+/ePTZt2sSgQYOYPn06Q4YM0aunDz/8kKysLHx8fKhVqxaxsbFERkaybNkyOnXqZDAmOzs7vvzySyIiIti7dy/9+vXTfkZ2dna53otareaDDz5gzZo1VK5cmd69e2NjY8P169dZs2YN7dq1w8nJqcB1JYpWgRMBmZmZjBkzhj///BMg1wSAhiQChBDi5ZOYksDM0G+5fu8KShMl5qalAMjITGbr8f+y49R6POt4826rESgUihKOVojnk5eXF/Pnz+fEiRM0aNAAyG78161bl9jYWJ1EwP79+8nIyNDOaP7PP/8QGhqKh4cHISEh2sbwmDFjaN26Nd9++y0+Pj64uLjoXHPr1q2EhITQunVro2IcO3YsCQkJBAYG0rdvX+12TaO7oI4ePQrAlStXGDJkiM7bWWtra3755Rd69uypd9yBAwcYO3Ys48eP19m+c+dOZs2ahbe3N0uXLqV06dJA9t+pY8aMYfHixaxdu5bu3bsD2W9lw8PD6dSpE0FBQdpEzMiRI2nZsqXR9zF37lwOHz5M3759Wbhwofbn3bBhw2jXrh2ffvopbdq0wcbGRi/eXbt2UatWLQAeP36Ml5cXq1atYvLkyTg4OGjLPtkzIS/Dhg3TNuwfPHjA0KFDKV++PGFhYTqNsVWrVvHhhx8ydepUfv75Z+32AwcO6D03t2/fpk2bNkycOFGn8fvnn39ibm5OREQE5cuX1zlG09vA3d0dOzs7FixYQL169fRmp88PPz8/RowYoX3eNaZPn860adMICQnRPqe7d+/m2rVrDB8+nB9++EGn/KNHjyhVqlSe18tPXeTX5s2bWbt2La1atdJuGzFiBEFBQfj7+zNu3Djt9uDgYL04EhMT6dChA1OnTmXgwIHaZz42NpZhw4ZhamrKxo0btb0xNJ7saZSTSqXi66+/Ztq0aezdu5f+/fsbtYrC77//zpo1a2jVqhV///23ThLj8ePHpKSk5HkO8ewUeGjArFmzWLp0KSYmJnTt2pXvvvsOf39/5s2bZ/CfJAGEEOLlkpyaxORVn3Pj/lUszUtrkwCQnfwtXcqaUqYW7Dm7mcBtP+eZMBbiVeXp6Qmg7Y6ckZHBgQMHaNmyJZ6enjrdjzVlNMcsX74cyG6Q52wUValSheHDh5Oenk5wcLDeNbt06WJ0EuDGjRvs3bsXV1dXnSQAwOjRo5/6hjAv9+7dA2DixIl07tyZY8eOER0dTWBgICYmJgwZMoRTp07pHVepUiXGjh2rtz0wMBCA2bNnaxtEkP0z6bvvvkOhULB69Wrt9pUrVwIwfvx4bRIAoHbt2vTr18/o+1i+fDlmZmbaa2i4ubnRv39/4uPj2bhxo95xQ4cO1SYBACwtLenVqxdqtZpjx47plJ0+fXq+/j18+FB77IoVK0hISGDixIl6b2R79+5N/fr1tb0zNJ5scALY29vTrVs3Ll++zPXr13X2mZmZ6Q3lAHLt1VEYlStX1ksCQPZkfwC7du3S25ezUaphY2Nj8DxPym9d5EebNm10kgAAEyZMwMzMjBUrVuQZh7W1Nf379ychIYGoqCjt9hUrVpCYmMiIESP0kgCQ/TOiqP32228olUpmzZqlV9+WlpaUKVOmyK8pCq7APQJWrFiBQqEgKCiIjh07FmVMQgghXgB/7PqF+4l3sTQr/dRylualOXBxF2/WbEXDak2fUXRCvDhatGiBiYkJ4eHhfPLJJxw9epRHjx7h5eXFnTt3CAkJITo6GhcXF8LDw7G1tdX+YX/ixAksLS1p3Lix3nk1yQJD63wbKp8bTUO8efPmevs0y4nlHMqQH1lZWQC4uroSEBCgbUT37duXxMRERo8ezcKFC/H399c5zs3NzWAD7siRI1hZWbFs2TKD17O0tOTixYs692ZlZYWbm5te2TfffJMlS5bkeQ8JCQlER0dTp04dg40rT09PlixZwsmTJ/Hz89PZ97QGWs6GPGBwzLixjhw5ov3vlStX9PanpqZy//597t+/r50sLzo6mlmzZrFnzx5u3bpFamqqzjG3b9/Wdhd/6623mDRpEi1atKBnz554enrSrFkznaEGRUmtVvPXX3+xfPlyzp49S0JCgvZZ0sSm0aJFCypVqsSsWbM4efIkHTp0oFmzZri6uhrdUy0/dZFfhr6vHBwcqFatGhcuXODRo0faniSxsbHMnj2bbdu2cePGDb25JHLed2RkJABt27YtUFz5lZSUxLlz56hevTo1atR4JtcUhVPgRMC///6Ls7OzJAGEEOIVlJyaxMnrR/JMAmiUMrXkv4f/kkSAEAaoVCrc3d213f7Dw8MxMTHBw8OD2NhYILsnQJkyZThx4gTe3t4olUogu2tzbm/2NDN95+xur1GhQgWj49Mc/2SX7yevUxCasdkdO3bUa5T5+PgwevRo7fCBnHKLPy4ujoyMDKZPn57rNZOSkrRfG1N/eXn06NFTY3ra52BobLrmszU0sWFBxcXFAeQ570BSUhLlypXjypUrtG3bVpuQ8vHxwcbGBhMTE+248ZyN4VGjRlG2bFkWL16s7QlsamqKt7c306ZNM/gmuzDGjRvHokWLcHR0pFOnTtjb22sTQ9OnT9eJzc7Oji1btjBt2jTCwsLYsmULkJ1w+fzzz/nwww+feq381kV+5fbcVKhQQScREBcXR5s2bbh58ybNmjWjVatW2NnZoVQqOXnyJBs3btSJQ5NIyjm8pDg96+uJwitwIqBChQqF6gomhBDixbX/wk5S0h5jZWGTd2HAVGnKrbgb3H8USzkb4xsgQrwqvLy8OHbsGMeOHSMiIoJ69eppZ+l2cHAgPDyc8uXLk5WVpTNW18bGRpsseJJm+5Pj0oF8zdmhaaxquvE/6e7du0af60m1atXi6NGjBv+m1GwzNK44t/htbGxQKBQG33rnVv7+/fsG9xl7Xznf1hrytM8hPwozR4Dm2vv27aNu3bp5Hjt//nzi4+P15oQA+Pzzz9m7d6/ONoVCwbvvvsu7777LgwcP2LdvH6tXryYkJIQrV66wb98+bYKjsGJjY/ntt99wdXVl69atOkNA7ty5YzAJVLVqVRYsWEBmZianT59m586dLFy4kC+++AKVSkXv3r1zvV5+66Ig9/O07ZrPbtmyZdy8eZMJEybwxRdf6JSdPXu23tATzffPrVu3qFq1aqFiNIbm54RmyUHx/CtwIqBr164sXryYu3fvFioTLIQQ4sVz7d4llMr8/QrJyMzgfuJdSQQIYYCnpyf+/v5s376dgwcP8v7772v3eXl56UzCpunyD9kTsO3Zs4fIyEi97v6aBooxSwM+jabb/P79+/X2JSYmGhx6YCwvLy9WrlzJ+fPn9fZptuWny3WTJk3YunUrly9fNqp7spubGxEREZw6dUpveMChQ4eMuqatrS0uLi5cuXKFmJgYKleurLO/qD6Hp/VyMKR///7aRECTJk0IDQ3l8OHDRiUCrl69CqA3q3xWVpbB5RBzKlu2LF27dqVr167cv3+fPXv2cOXKFWrVqlUkvR2io6NRq9W0bt1aJwkAhp/RnJRKJe7u7ri7u/PGG2/QuXNnNm3a9NREQGHqwhiGYr516xZXr16lWrVq2kRAbnHkdo7GjRtrVwdp1qxZoePMi7W1Na+99hoXL140+vtPlKwCTxb4zTffUL16dT744AOd8ShCCCGEECJ/mjdvjlKpZNGiRSQlJem89ff09CQmJoaVK1diZ2eHu7u7dp9mQrvvv/+e9PR07faYmBjmzZuHqamp3lvM/HJycqJFixacPn1aO7mexqxZs/TGsudH9+7dKVeuHMHBwZw+fVq7PS0tTfsGvEePHkafT7N82siRI7Wz1ed0584dnaSDpm6mTp2qM8b8woULehO1PU2/fv1IT0/n+++/15kY9cyZMwQFBWFra1uomeUhe46A/PzL+RZ4wIAB2NjY8J///IezZ8/qnTs5OZnDhw9r/18zoeCBAwd0ys2ZM4czZ87oHb99+3YyMjJ0tqWnp2uHJFhYWADZw2AUCgUxMTEFrIX/j+3QoUM6n9m///7LpEmT9MqfOXPG4GR+mjfumtjyup6xdZFfO3fuZPfu3TrbpkyZQnp6us6ElbnFERwcrB3ukFO/fv2wtrZm3rx5nDhxQm9/YT6D3Hz44YfaleWenL8gJSVF+zyI50OBewQEBATQtm1bfvvtNxo3bky7du2oVq2aXmZOQ6FQ6Cx/IYQQ4sXlXK4G4ZlbwMz4Y0yVppSzlh5kQhhia2tLgwYNiIyMRKlU6kwgplnG7t69e3Tu3Flndvu3336b0NBQNm7ciIeHBx07diQ5OZmQkBAePHjAlClTimR89owZM/Dx8WHo0KFs2LCBGjVqEBUVRVRUFM2bN8/zTWxubG1tmTt3LoMGDcLb2xtfX19UKhW7d+/m7NmzdOjQgQEDBhh9vvbt2zN27Fh+/vlnGjZsSPv27XFycuLBgwdcuXKF/fv3M2HCBOrUqQNkN5D//vtvNm3aRKtWrWjXrh1xcXGsWbOG1q1bExYWplPfuRk1ahRbtmzhn3/+4cKFC7Rq1Yp79+4REhJCeno6CxYsKPTQgMIoX748v/32G++99x6enp60b9+eWrVqkZqayvXr19m3bx9vvvmmdkWFwYMHExQUxMCBA3nrrbcoW7YsR44c4fjx43Ts2JHNmzfrnH/w4MGULl2aZs2a4eTkRHp6Ort27eLcuXP07NlT24i1tramUaNG7Nu3j+HDh1OjRg1MTEzo3bu30evL29vb4+vry7p162jdujWtWrXi7t27bN68mZYtWxIdHa1TfteuXUyYMIGmTZtSu3ZtypYtS3R0NJs2bcLS0pKPPvroqdfLb13kV8eOHenTpw89evSgSpUq7N27l0OHDuHm5sYnn3yiLefn58ecOXMYN24c4eHhODk5cfr0aXbt2kW3bt0IDQ3VOW+FChUICAjggw8+oF27dnTq1IlatWpx//59jhw5grOzs3bVkaLywQcfsHfvXkJCQmjcuDGdOnXCxsaGmzdvsn37dvz9/enatWuRXlMUXIETAT/++CMKhQK1Wk16errew6ehKSOJACGEeHm0qNOW1Qf/MLp8ZlYGDmUcZViAKJAs00olHUKuijI2Ly8vIiMjadiwoU6j0cXFBScnJ27cuKEzLACy/876888/CQgIYMWKFQQGBmJubo67uzsjRoygc+fORRJb3bp1CQsLY9KkSWzfvl3b3TgsLAx/f/8CJwIge7jphg0bmDFjBps2beLx48fUqFGD77//nhEjRuR7bPn48ePx8PBgwYIF7N69m4cPH1K2bFmqVq3KV199RZ8+fbRllUolwcHBTJs2jdWrVxMQEEC1atWYMmUKKpWKsLAwoxrwFhYWrFu3jjlz5hASEsL8+fOxtLSkRYsWjB492uDM8M9ax44d2bNnD7/88gu7du1i586dlC5dmsqVK9O/f3+dFQ00ywlOnTqV9evXY2JiQtOmTQkLC2PTpk16jd/vvvuObdu2ERkZSVhYGKVLl6Z69erMmTOHd955R6fswoUL+eabb9iwYQMJCQmo1WqaNGlidCIAssftOzs7s27dOgIDA3F0dGTEiBF89tlnepPvtWvXTpvsCA0NJSkpCQcHB3r27MmoUaO0SaHc5Lcu8svX15d33nmHmTNnsm7dOmxsbBg8eDATJ07UWYKvSpUqbNiwge+++45du3aRmZmJu7s7ISEh3Lx502BbrFu3bmzbto3Zs2ezd+9eNm3aRLly5ahXrx6DBg0qVNyGKBQKFi9eTJs2bVi2bBl///03arUaBwcH3nrrLRo0aFDk1xQFp4iPjy/Qws7Tpk3L10QzAF999VVBLiVeUSkpKdy4cQMnJ6c8u22J/JG6LT6vUt3O2/wDUVf2YWlulWfZxJQEPu30HY2qF3yc4qtUt6+a2NjYfM1iL8SzMGXKFGbMmEFwcDDe3t4lHY54yQQFBTFixAjmzZuXr14vQuTF2N+pBe4R8PXXXxf0UCGEEC+Bwa0/5eqdCzxMjqOUWe4N88dpSTSt2UqWDhRCPJdu376Nvb29zrZz586xcOFC7Ozs8PDwKKHIhBCi+BQ4EdCtWzcsLCwICgrSrtsphBDi1VG6lDXf9ZnLjNDx3Lx/DaWJEnPTUgCo1WoepyejNDHF87X2DGr1ab57kQkhxLMwevRorl+/TuPGjVGpVFy9epWwsDDS09Px9/fPdf4rIYR4kRU4EXD48GFee+01SQIIIcQrzMbSjkl9/Lly5zwhh5Zx88E1MrMyMDM1p3ntNnRq2FvmBRDiFXLt2jWjJiCzs7Nj+PDhzyCivPXo0YMlS5YQGhpKQkICVlZWeHh4MHLkSNq1a1fS4b0STpw4wYYNG/Is5+zs/Nx2o4+PjycgIMCostKzWjwPCjxHQJMmTTAzMyvU5DAFNXfuXL777jsAtm7dyhtvvKFXJiEhgR9//JF169Zx9+5dKlasiK+vL1999RW2trYGzxscHExAQADnzp3DzMyMN998k2+++YaGDRsW6/0Iw2Q8cPGRui0+UrfFR+r25SVzBLw8wsPD6datW57lnJycOHny5DOISLwINOPl8+Lh4WFUwqAkXLt2jfr16xtVNj4+vniDEa+0Yp8jwNfXl7lz53Lp0iVq1qxZ0NPk2/nz5/nhhx+wsrIiKSnJYJmkpCS6dOnCyZMnadOmDb179+bUqVPMnz+f8PBwwsLCsLLSndxq5syZ/Oc//8HR0ZHBgweTlJTEmjVr6NixI6tXr9ZZz1cIIYQQQujz8vKSRo7ItwEDBjy3b/qNVbVqVXn2xQsl74VRc/HFF19Qr149+vfv/8wyupmZmQwbNgw3Nze6dOmSa7m5c+dy8uRJRo0aRUhICJMmTWLVqlWMGzeOkydPMnfuXJ3yly9fZtq0adSsWZO9e/cydepU5syZw+bNmzE1NeXTTz8lIyOjuG9PCCGEEEIIIYQodgXuETB27Fhq1KjB2rVradWqFa+99hp16tTJdUIVhULBr7/+WuBAAebMmcOpU6fYvXs3v/zyi8EyarWaZcuWYW1tzbhx43T2jR49msDAQP766y++/vpr7cRVQUFBZGRkMGbMGOzs7LTlX3/9dd5++20WL17Mnj17aNu2baHiF0IIIYQQQgghSlqBEwHLly9HoVCgVmdPMXD27FnOnj2ba/nCJgLOnDnD9OnT+eKLL3j99ddzLXf58mVu3bpFu3bt9Lr/W1hY0KJFCzZu3MiVK1eoUaMGABEREQAGG/pt27Zl8eLF7N27VxIBQgghhBBCCCFeeAVOBMybN68o43iqjIwMhg8fTu3atfn888+fWvby5csAVK9e3eB+TeP/8uXLOl9bW1tTqVKlp5bPS0pKSp5lhPHS0tJ0/iuKjtRt8ZG6LT5St8VDJl4UQgghXj0FTgT079+/KON4qpkzZ3Lq1Cm2bduGmZnZU8smJCQA6HTxz8nGxkannObr3GZWNFQ+NzExMWRmZuZZTuTPnTt3SjqEl5bUbfGRui0+UrdFR6lU5po4F0IIIcTLq8CJgGfl5MmTzJgxg08++YQGDRqUdDhPVbly5ZIO4aWSlpbGnTt3qFSpEubm5iUdzktF6rb4SN0WH6lbIYQQQoiiUWSJgEuXLnHp0iUSExOxtramZs2aRbKs4LBhw6hWrRpfffWVUeVtbW0BePjwocH9jx490imn+Tq3N/6GyudGulcWD3Nzc6nbYiJ1W3ykbouP1K0QQgghROEUOhGwZMkS5syZw40bN/T2OTs78/nnnzNo0KACn//UqVMABsfvA3h7ewPw119/0bVrV+2Y/itXrhgsrxnrrymn+frQoUPaN015lRdCCCGEEEIIIV5UJoU5ePjw4YwZM4br169jbm5OtWrVaNq0KdWqVcPc3Jxr167x+eefM3z48AJfY+DAgQb/aRrmnTp1YuDAgTg7OwPZDXYHBwcOHjxIUlKSzrlSUlLYt28fDg4OOmMiPTw8ANixY4fe9TXbNGWEEEIIIV5W165dQ6VSMWzYMKOPGTZsGCqVimvXrhVjZM+PevXqUa9evZIOQ4hiVZCfBc9Cly5dUKlUJR3GS6HAPQKCg4NZsWIFVlZWfPnllwwePBhra2vt/sTERJYsWcJPP/3E33//Tdu2bendu3e+r+Pv729w+7Bhw7h8+TKjR4/mjTfe0G5XKBQMHDiQn376iZ9++onvv/9eu2/WrFnEx8fz8ccfo1AotNsHDBiAv78/M2fOpHPnztqJBs+ePcvff/9NtWrVaNmyZb5jF0IIIUTh9dh+i5tJ6SUdhkGOVmb8t51DSYfxwktLSyMwMJBVq1Zx6dIlAJycnPDw8GDGjBklHJ0QzwdNAurkyZMlHIl4GRQ4EbB06VIUCgV//vknbdu21dtvbW3NJ598gqurK7169WLp0qUFSgQUxKhRo9i0aRNz587lxIkTNGjQgFOnTrF161bq1avHqFGjdMrXrFmTr776iilTpuDh4UH37t1JTk5m9erVpKenM3fuXExNn/t5FYUQQoiX0s2kdC49yijpMEQxiY+Pp1evXkRGRtK0aVPee+89IPuN5Jo1a567RMC6detKOgQhXlkLFizg8ePHJR3GS6HArdtTp07h4uJiMAmQU9u2balevTonTpwo6KXyzcrKivXr1zN9+nTWrVtHREQElSpVYvjw4Xz55ZdYWVnpHfPFF1/g7OxMQEAAixcvxszMjDfffJNvvvmGRo0aPbPYhRBCCCFeJSNHjiQqKopFixbRp08fnX0ZGc9fAqhatWolHYIQrywnJ6eSDuGlUeA5AlJTU7Vd6PNiY2NDWlpaQS9lUEBAAPHx8TrDAnKys7Pjhx9+4NSpU8TGxnLq1Cl++OGHp8bct29fdu7cya1bt7h+/TqrVq2SJIAQQgghik1cXBxly5alf//+OtujoqJQqVSoVCr+/fdfnX3t2rXD0dFR20jOyMhg3rx5eHh4YG9vj7OzM127dmXz5s161wsKCkKlUhEUFMTmzZvp1KkTjo6ORo15P3v2LH5+fjg6OuLs7EyfPn04c+ZMIe4ejhw5wvr16+nbt69eEgDQ65GZc9zyhQsXeOedd6hevbreHAUbNmzA19eXqlWrUqlSJZo3b46/vz+ZmZl610hOTmbixIm4urpqyy5dupTw8HBUKhXTpk3TKZ/bHAHJyclMmzaNN954g0qVKuHi4kLfvn05ePCgXtlp06ahUqkIDw8nJCSEli1bYm9vT506dRg3blyxvfE8deoU77//PnXq1KFChQq4ubkxduxYHjx4oFMut3uH3MeOa+olPj6ecePG4erqSrly5QgKCtKWCQsLo2vXrjg7O2Nvb4+npyfz58/X+1xyXuPMmTP07t0bZ2dnnJyc8PPz49y5cwbv79GjR/zwww80a9ZM+73Qq1cv9u/fX9AqAyA2NpYJEybQpEkT7Wfbvn17g0OYja3jnPcYHR3Nu+++S9WqValcuTLdu3fX6f6vKXvjxg1u3Lih/dmQ8zPK+ZkdOnSInj174uzsrDOeftmyZfTr14969epp76Nnz57s2bOnUPVjyJ49exgxYgRNmjShSpUqVKlShdatW/PHH38YLH/s2DHeffdd3NzcqFixIrVq1cLb25vZs2frlDM0R8DDhw+ZM2cOnTt35rXXXqNChQq89tprDBkyhKtXrxb5vb0sCtwjwNHRkbNnz3L//n3KlSuXa7l79+5x7tw5yd4IIYQQQjyhTJkyuLq6snfvXrKysjAxyX5HExERoS0THh7O22+/DWQ3dI4fP06bNm0wNTVFrVYzePBgQkNDqVmzJh9++CHJycmEhITg5+fHjz/+yNChQ/Wuu3btWnbs2EHHjh354IMPSExMfGqcZ86cwcfHh8TERLp160aNGjWIjIzEx8cHV1fXAt//mjVrAOjRowf3799n48aNxMbGUqVKFby9vSlbtqzB465evUr79u15/fXX6devH3FxcZibmwMwefJkZs2aRZUqVfD19cXGxoZ9+/bx7bffcuTIEZYuXao9T2ZmJn5+foSHh+Pm5kbv3r2Ji4tjwoQJ+ZooOjU1le7du3P48GHq16/PsGHDiI2NJSQkhB07drB48WJ8fX31jvvtt9/Ytm0bnTt3xtPTk+3btxMYGEhcXByLFi3KT1XmaePGjQwePBilUkmnTp2oUqUK58+fZ9GiRezYsYPt27cXehK2tLQ0fH19SUxMxMfHBzMzMypWrAhkv8T7+uuvKVOmDL1796Z06dKEhYXxzTffsH//fv7880+dObwAoqOj8fHxoVGjRnzwwQdcvnyZ9evXc+DAAbZs2UKdOnW0ZePi4ujcuTNnz56lefPmtG3bloSEBDZu3Ei3bt34448/6Nq1a77v6fLly3Tr1o2YmBiaN29Oly5dSE5O5syZM8ycOZNPPvlEW7YgdXz9+nXatWtHnTp1eOedd7h69ao25kOHDlGxYkXs7Oz48ssvCQgIANBJwnh6euqc79ChQ8yaNQsvLy/ee+89bt68qd03duxY3NzcaN26NeXLlycmJoaNGzfSo0cPli1bRpcuXfJdP7mZO3cuV65c4Y033qBy5co8fPiQbdu28dlnn3Hx4kWmTp2qLXvixAk6duyIUqmkc+fOODk58fDhQ86ePcvSpUv5/PPPn3qtCxcu8MMPP+Dl5UXXrl0pXbo0Fy5cYNWqVWzZsoXdu3drJ5YX/6/AiYBOnTrh7+/P4MGDWbx4MeXLl9crExsby/vvv09aWhqdO3cuVKBCCCGEEC8jLy8v5s+fr53XCLIb/3Xr1iU2NlYnEbB//34yMjLw8vIC4J9//iE0NBQPDw9CQkK0jeExY8bQunVrvv32W3x8fHBxcdG55tatWwkJCaF169ZGxTh27FgSEhIIDAykb9++2u2aRndBHT16FMhe9nnIkCEkJCRo91lbW/PLL7/Qs2dPveMOHDjA2LFjGT9+vM72nTt3MmvWLLy9vVm6dCmlS5cGQK1WM2bMGBYvXszatWvp3r07kN1DIjw8nE6dOhEUFKRNxIwcOTJfE0XPnTuXw4cP07dvXxYuXKht0A4bNox27drx6aef0qZNG2xsbPTi3bVrF7Vq1QLg8ePHeHl5sWrVKiZPnoyDw/9PRGno7fzTaFZzAHjw4AFDhw6lfPnyhIWF6bygW7VqFR9++CFTp07l559/ztc1nnTnzh1cXV3ZvHkzlpaW2u3R0dF8++23VKhQgZ07d+Lo6AjAxIkTeeuttwgNDWXlypX4+fnpnG///v188cUXTJgwQbttxYoVDBs2jLFjx+rM1zBu3DjOnj3Lr7/+yjvvvKPdfvfuXdq2bctnn31G+/btsbCwyNc9ffzxx8TExDB37ly9JdFz9tYpaB3v3buXSZMm8dlnn2m3TZkyhRkzZhAUFMTnn3+OSqXi66+/Zvny5QB8/fXXuca7c+dO/P39GThwoN6+AwcO6P0suH37Nm3atGHixIlFmgiYOXOm3rUyMjLo06cPCxYsYOjQodo6+ueff0hNTWX58uV6bcYne1IYUrt2bc6fP0+ZMmV0tu/Zs4cePXowY8YMfvnll8Ld0EuowEMDPv/8c6pUqUJERAT16tVj6NChzJkzh7/++os5c+YwdOhQ3N3diYiIoHLlyjoPtxBCCCGEyKZ5oxceHg5k/7F84MABWrZsiaenp063XU0ZzTGahsHkyZO1SQCAKlWqMHz4cNLT0wkODta7ZpcuXYxOAty4cYO9e/fi6uqqkwQAGD16tNFDRQ25d+8ekN0g7Ny5M8eOHSM6OprAwEBMTEwYMmQIp06d0juuUqVKjB07Vm97YGAgALNnz9YmASB7VanvvvsOhULB6tWrtdtXrlwJwPjx47VJAMhuWPTr18/o+1i+fDlmZmbaa2i4ubnRv39/4uPj2bhxo95xQ4cO1SYBACwtLenVqxdqtZpjx47plJ0+fXq+/j18+FB77IoVK0hISGDixIl6vXR79+5N/fr1tb0zCmvy5Mk6SQDIrueMjAxGjhypTQIAmJubM2nSJOD/n+WcVCqV3tvgt99+m7p167Jnzx7t2+779++zZs0aWrVqpZMEAKhYsSKffPIJ9+7dY9euXfm6l6ioKCIjI2nRooVeEgCyv880ClrHVatW5dNPP9XZpmnER0VF5SteAHd3d4NJAECvYQ5gb29Pt27duHz5MtevX8/39XJj6FqmpqYMHjyYzMxM7c+ynJ58boBcewXlZGdnp5cEAGjZsiWvvfZavj/3V0WBewSUKVOGdevW8cEHH3Ds2DH++ecfnR98arUagEaNGvHbb78Z/HCEEEIIIV51LVq0wMTEhPDwcD755BOOHj3Ko0eP8PLy4s6dO4SEhBAdHY2Liwvh4eHY2tpSv359ILtLraWlJY0bN9Y7ryZZYGipMUPlc6NpiDdv3lxvn7W1NfXq1dMZypAfWVlZALi6uhIQEKD9W7Jv374kJiYyevRoFi5cqDcW283NTSfxoXHkyBGsrKxYtmyZwetZWlpy8eJFnXuzsrLCzc1Nr+ybb77JkiVL8ryHhIQEoqOjqVOnjk7DUMPT05MlS5Zw8uRJvTfems8xJ805cjbkIXt1hYI6cuSI9r9XrlzR25+amsr9+/fzHPKbFwsLC4NDRTSThj/ZjR3gjTfewNLS0uBz6u7urjfJt0KhoFmzZpw5c4ZTp07h6OhIVFQUmZmZpKamGuw5obnnixcv4uPjY/T9REZGAuQ5OToUvI7d3Nx0klCQ+zNgjKd9b0dHRzNr1iz27NnDrVu3SE1N1dl/+/btIutC/+jRI/z9/dmwYQPR0dEkJSXpXUuje/fuBAQEMGDAAHr06EGbNm1o1qxZvoaWh4eHExAQQGRkJPfv39eZaNTQzwpRiEQAQPXq1dm5cye7d+9mx44dXLp0iaSkJKysrKhZsyZt27alVatWRRWrEEIIIcRLR6VS4e7uru32Hx4ejomJCR4eHsTGxgLZf+SWKVOGEydO4O3tjVKpBLL/2DbU+AS0Y7NzdrfXqFChgtHxaY43NAw053UKwtbWFoCOHTvqjQ/38fFh9OjR2uEDOeUWf1xcHBkZGUyfPj3Xa+ZskBhTf3l59OjRU2N62ueguf+cNJ+toYkNCyouLg4gz3kHkpKSCpUIKF++vN7nCHnXUfny5bl165be9tzKa7Zr6lRzfwcOHODAgQO5xvdkYzQvmoZ4ziEauSloHRt6BjSTZBbkGcitzq5cuULbtm21SUYfHx9sbGwwMTEhIiKCvXv36iUGCiotLY2uXbty/Phx3N3d8fPzo2zZsiiVSq5fv86KFSt0rvXmm2+ybt06Zs+ezerVq7W9Qxo0aMDkyZPzHKbz3//+l8GDB2NtbU3btm1xdnbG0tIShULB8uXLuXHjRpHc18umUIkAjVatWkmDXwghhBCigLy8vDh27BjHjh3TDrvUzAru4OBAeHg45cuXJysrSzs/AGSvzKRJFjxJs/3JcemAwcZabjQNFU03/ifdvXvX6HM9qVatWhw9etTg8ALNtpSUFL19ucVvY2ODQqEw+EY2t/L37983uM/Y+9LUb0E+h/wozBwBmmvv27ePunXr5nms5g21oYaooYSGxtM+F8iuC0NvnO/du2ewfvKqU82zqTl25MiRTJkyJdf48kvzDBpKUjwpv3VcXHL7DObPn098fLzePB+QPeR77969RRbDxo0bOX78OO+++67e2PzVq1ezYsUKvWM8PT3x9PTk8ePHHDlyhLCwMH7//Xf8/PzYt2/fU5ft/PHHH7GwsGDXrl3UqFFDZ19RDXl5GRVJIkAIIYQQQhScp6cn/v7+bN++nYMHD/L+++9r93l5eREREaF9I5+ze7W7uzt79uwhMjJSr0uw5g97Y5YGfBpNt3lDS7AlJiYa7NJtLC8vL1auXMn58+f19mm25aercpMmTdi6dSuXL1/WaxAY4ubmRkREBKdOndIbHnDo0CGjrmlra4uLiwtXrlwhJiaGypUr6+wvqs/hab0cDOnfv782EdCkSRNCQ0M5fPiwUY1UzXExMTF6+zTd/PPD3d2d9evXExERofecRkZG8vjxY4NLgp84cULb2zgnzVt/zWfWqFEjFAoFhw8fzndsT6OJdceOHXzxxRdPLZvfOi4IpVJJenp6gY7VLKPXqVMnne1ZWVkGl7gsjNyuBYZ/juRkaWmJl5cXXl5e2uXgd+3a9dREwNWrV3nttdf0vudv3bolywc+RYEnC8wpIiKCyZMn8+6779KzZ0/effddJk+ebHASCCGEEEIIoat58+YolUoWLVpEUlKSzlt/T09PYmJiWLlyJXZ2dri7u2v3aSa0+/7773UaCDExMcybNw9TU1O9t3/55eTkRIsWLTh9+rR2cj2NWbNmFWgcs0b37t0pV64cwcHBnD59Wrs9LS1N+wa8R48eRp9vyJAhQPabYUOzjd+5c0cn6aCpm6lTp2rnK4Ds5cgMvbXMTb9+/UhPT+f777/XzpMF2csuBgUFYWtrW+gZ2ePj4/P1r2rVqtpjBwwYgI2NDf/5z384e/as3rmTk5N1GtG1atXC2tqaTZs2abu8Q3YviRkzZuQ79j59+mBqasq8efN03q6np6drJwvs37+/wXt+ch35FStWcObMGVq2bKmdeLBSpUq89dZbHDx4kF9++UXnM9A4cuQIycnJ+Yq7UaNGNG7cmH379uksO6mRM1GS3zouiDJlynD//n2DvWTyohlv/+TQiTlz5nDmzJlCxWXstSIiIgzW4759+wz2NNH0/MhrpQcnJyeuXr2q04snJSWF0aNH68wVIHQVqkfA5cuXGTp0qHYijZzfdAqFgjlz5tCoUSMWLFhAzZo1CxepEEIIIcRLytbWlgYNGhAZGYlSqdSZmE8zPvbevXt07txZZ2Kxt99+m9DQUDZu3IiHhwcdO3YkOTmZkJAQHjx4wJQpUwzO3p1fM2bMwMfHh6FDh7JhwwZq1KhBVFQUUVFRNG/ePM+3fLmxtbXVLsvm7e2Nr68vKpWK3bt3c/bsWTp06MCAAQOMPl/79u0ZO3YsP//8Mw0bNqR9+/Y4OTnx4MEDrly5wv79+5kwYYJ2/fkBAwbw999/s2nTJlq1akW7du2Ii4tjzZo1tG7dmrCwML2J3AwZNWoUW7Zs4Z9//uHChQu0atWKe/fuERISQnp6OgsWLCj00IDCKF++PL/99hvvvfcenp6etG/fnlq1apGamsr169fZt28fb775pnZFBXNzcz766CNmz55Ny5Yt6dy5M4mJiYSFheHh4ZHvt6zVqlVj0qRJTJgwAQ8PD9566y1Kly7N5s2buXDhAp07d9abSBGyE2SBgYEcOXKERo0acenSJdavX4+tra3eMnwzZ87k4sWLTJw4kb///ps333wTW1tb/v33X44dO8bly5c5f/68zmoSxggMDKRr166MGjVKe96UlBTOnTvHiRMntHWR3zouiJYtW3L06FHefvttmjdvjrm5Oc2aNTM4keeTBg8eTFBQEAMHDuStt96ibNmyHDlyhOPHj9OxY0c2b95c4Lie5OPjg7OzM3PnzuXs2bO8/vrrXLx4kc2bN9OlSxedZR8Bfv31V3bt2oWXlxdVq1bFwsKC48ePs3v3bqpXr07Xrl2fer2PP/6YcePG0bJlS3x9fcnMzGTnzp2o1Wrc3NwMrjwiCpEIuHnzJj4+Pty7dw8LCwt8fX2pU6cOFSpU4N69e5w/f561a9cSGRlJp06ddNYMFUIIIYQQury8vIiMjKRhw4Y6jUYXFxecnJy4ceOG3qzrCoWCP//8k4CAAFasWEFgYCDm5ua4u7szYsQIvTW5C6pu3bqEhYUxadIktm/fzo4dO2jWrBlhYWH4+/sXOBEA0LVrVzZs2MCMGTPYtGkTjx8/pkaNGnz//feMGDFCO3mescaPH4+HhwcLFixg9+7dPHz4kLJly1K1alW++uor+vTpoy2rVCoJDg5m2rRprF69moCAAKpVq8aUKVNQqVSEhYUZ1YC3sLBg3bp1zJkzh5CQEObPn4+lpSUtWrRg9OjRRjXUilvHjh3Zs2cPv/zyC7t27WLnzp2ULl2aypUr079/f72G+IQJEzAzM2P58uUsWbIEZ2dnxo4di4+Pj15DzhgjR46kevXqzJs3j5UrV5KWlkaNGjWYMmUKQ4cONTi23cXFhRkzZvDdd9+xaNEi1Go13t7eTJo0SZvM0ShTpgxbtmxh0aJFrFmzhuDgYLKysqhYsSJubm6MHTu2QBMh1qhRg927dzNr1izCwsIICAjAysqKGjVq6A0XyG8d59fYsWOJj49n8+bN7Nmzh6ysLL788kujni/N8oVTp05l/fr1mJiY0LRpU8LCwti0aVORJgKsra1Zt24dEydOZN++fURERPDaa6+xaNEiKlSooPf8fPDBB9ja2hIZGcm+fftQq9U4OjryxRdfMHz48Dy/Bz/66CPMzMwIDAzkzz//xM7Ojg4dOjBx4kTee++9Iruvl40iPj5ev++MEYYMGcLKlStp06YNgYGBBmeSvX//Ph999BE7d+7Ez8+PBQsWFDpg8epISUnhxo0bODk55dklSOSP1G3xkbotPlK3L6/Y2NinzmLfY/stbiYVbFxscXO0MuO/7fKeUVy8eKZMmcKMGTMIDg7G29u7pMN5pVy7do369evTr18/AgICSjocIV4oef1O1Shwj4AdO3ZgaWnJ4sWLtROKPKlcuXIsXryYunXrsn379oJeSgghhBCvMGloi+J0+/Zt7O3tdbadO3eOhQsXYmdnh4eHRwlFJoQQxafAiYCkpCRee+21XJMAGiqVitdee41z584V9FJCCCGEEEIUi9GjR3P9+nUaN26MSqXi6tWrhIWFkZ6ejr+/f77HlAshxIugwIkAFxeXXNeTfdK9e/eeuuSDEEIIIYR48V27do3ly5fnWc7Ozo7hw4c/g4jy1qNHD5YsWUJoaCgJCQlYWVnh4eHByJEjadeuXUmHJ4rY+vXrjVry0tPTU2f1jled1NvLp8CJgEGDBvHVV1/x3//+96nLuqxdu5YbN27ke+1TIYQQQgjxYrl+/bpRf/M5OTk9N4mAvn37FnqJRVG0qlatSnx8fLGce8OGDUYvDSkN2v8n9fbyKfBkgQBffPEFy5Yt44MPPuDDDz+kevXq2n1Xr17lt99+4/fff2fgwIF6S3wIkReZGKz4SN0Wn1etblPuPeDWjj08uhJNVmYmChMlFuXLUtm7NdZVnQzOAl3ga71idfsqMXZiIyGEEEI8XZFOFli/fv1c92VlZbFgwQIWLFiAmZkZZcuW5cGDB6SnZ8/ua2pqypYtW9i6dSvHjh0zLnohhBDPtfRHiVxcuoLHt+6gzlKjtCgFgJpMEq/d5PzCPzCzs6VG/95YO8vSsUIIIYQQzxOjEgHXr1836mRpaWncvn1bZ1t6ejrXr18v0rdCQgghSk5a/EPO+AeSkZKK0txcb7+JmSmYmZKZnMK5BUuo9V5/7GrXKIFIhRBCCCGEIUYlAo4fP17ccQghhHgBZGVkcG7BEjJT0wwmAXJSKE0wUZhx6c+/cRs9nFJlyzyjKIUQQgghxNMYlQhwdnYu7jiEEEK8AOJOnSM1/iGmlpZGlVeYmJCVns6/m3dQvV+vYo5OCCGEEEIYw6SkAxBCCPHiuLV9N8pSpfJ1jLJUKeLPXSQzLa2YohJCCCGEEPkhiQAhhBBGSXuYQGpcHAqT/P/qyHz8mPhzF4ohKiGEEEIIkV+SCBBCCGGU9MQk1FkFXHFWoSDtwcOiDUgIIYQQQhSIUXMECCGEKF5ZWVlkZGSiUCgwNVU+lyutFDomk+fvnoQQQgghXkWSCBBCiBKgVqu5c+8Bh4+e4U7sAx6npqFWq0ENpqZKbKxK81otF9zr1qBUHrPzPytmNtYoCtyYV2NRrmyRxiOEEEIIIQpGhgYIIcQzdif2AX/8s4EVIVu4ci2G1LR0lCYmmCqVmJoqAUhITGLPgaME/vVftocfJiMjs4Sjzk4EWFSogDozf7Go1WqUlpbY1a5ZTJEJIYrKtWvXUKlUDBs2zOhjhg0bhkql4tq1a8UY2fOjXr161KtXr6TDKDHP4hkJDw9HpVIxbdo0ne2vet2/rAryTBWnefPm8eabb2Jvb49KpSIoKMio41QqFV26dCnm6IqO9AgQQohnRK1WE37wOFEnz6E0UT71Tb9CocDSInt2/uNnLnH52r/06tKGcmXsnlW4BlX2bsWlpf9gWtq45QMBslJTKf9GQ0zM5FeOKJiPF/bgVtzNkg7DIIcyjgQO+W9Jh/HCS0tLIzAwkFWrVnHp0iUAnJyc8PDwYMaMGSUcnRAlZ9iwYaxYsYLjx49TtWrVkg6nwLp06cLevXuJj48v6VCeKjg4mPHjx1O/fn2GDx+OmZnZS5t8kr/KhBDiGVCr1WzedYAzF6KxKJW/rv4WpcxJTU0jaM1m+vXwpkK5MsUUZd5UdWpjWakCKffuG7WMoDozExNzMyq3a/UMohMvq1txN7l271JJhyGKSXx8PL169SIyMpKmTZvy3nvvAdlvCdesWfPcJQLWrVtX0iGUqMqVK3Po0CFsbW1LOhQhitzWrVsBWLlyJZUqVcrXsYcOHcLS0vgXJSWtUImAmJgYLl++THx8PCkpKVhYWKBSqahRowaVK1cuqhiFEOKFF3niXIGSABpKpZLMzCyCQ3fwfr9uBT5PYSmUJtQZ8h5n/ReRlpDw1GRAVkYGAHU+GoS5nfzBKIQwbOTIkURFRbFo0SL69Omjsy/jfz9HnifVqlUr6RBKlJmZGbVr1y7pMIQoFrdu3QLIdxIAeOG+L/I9R0BMTAxff/01rq6uuLm50b17dwYNGsSQIUMYNGgQ3bt3x83NDVdXV77++mv+/fff4ohbCCFeGA8TEtl7+ASlzM0KdR6l0oSUtDTCdu0vosgKxsyqNK6fDcGudg3UGRlkPH6cPdHh/2SmppKVlopFubK4fvox1k5VSjBaIZ5vcXFxlC1blv79++tsj4qKQqVSoVKp9P6WateuHY6OjtpGckZGBvPmzcPDwwN7e3ucnZ3p2rUrmzdv1rteUFCQdszr5s2b6dSpE46OjkZ1fT179ix+fn44Ojri7OxMnz59OHPmTCHuHo4cOcL69evp27evXhIAwNRU951VzrHEFy5c4J133qF69ep64883bNiAr68vVatWpVKlSjRv3hx/f38yDcxxkpyczMSJE3F1ddWWXbp0ab7HqScnJzNt2jTeeOMNKlWqhIuLC3379uXgwYN6ZadNm4ZKpSI8PJyQkBBatmyJvb09derUYdy4cTx+/NjoOjRGzno7f/48fn5+ODs7U7VqVT744APu378PZH8ePXr0wMnJiapVq/Lpp5+SlJSU67melN9n5PHjx0yaNEmv7vNLrVazbNkyOnbsiJOTEw4ODrRu3Zply5bl+1w5paWl8euvv9KyZUsqV66Mo6MjnTp1YuPGjXplL126xMSJE2nZsiXVqlWjUqVKNG7cmEmTJpGYmKhX/vbt23z55Zc0atQIe3t7XFxcaNGiBWPGjCEhIQHIftZWrFgBQP369bU/E/I7Dj3nZxYdHc27775L1apVqVy5Mt27d+fkyZMGjzt79iyDBw+mZs2aVKxYEXd3d77++mvi4uL0ymq+L+Lj4xk3bhyurq6UK1dO+zNn7969ANp7yO0Zyk98xggNDeWDDz6gYcOGODg44OzsTKdOnVi7dq1OOU2c4eHhOnFqvtdz/jw4dOgQPXv2xNnZGZVKpT1Hbp9NWloaAQEBtG3bFkdHR6pUqULTpk355ptvdIZK7NmzhxEjRtCkSROqVKlClSpVaN26NX/88UeB7/9p8tUjICQkhJEjR/I4xx995ubm2NnZYW5uTlpaGg8fPiQtLY2YmBgWLlzI0qVL8ff3p1evXsVyA0II8bzbuucQUATL7wEW5uZcvRbDvQfxlC+rKvT5CkppYUGt9/qTnpjE3X0HiTt9DnVGJgoTE+xer0XlNl5YVChfYvEJ8aIoU6YMrq6u7N27l6ysLExMst/RREREaMuEh4fz9ttvA/Do0SOOHz9OmzZtMDU1Ra1WM3jwYEJDQ6lZsyYffvghycnJhISE4Ofnx48//sjQoUP1rrt27Vp27NhBx44d+eCDDww2VHI6c+YMPj4+JCYm0q1bN2rUqEFkZCQ+Pj64uroW+P7XrFkDQI8ePbh//z4bN24kNjaWKlWq4O3tTdmyhlcbuXr1Ku3bt+f111+nX79+xMXFYf6/eVcmT57MrFmzqFKlCr6+vtjY2LBv3z6+/fZbjhw5otPQzMzMxM/Pj/DwcNzc3OjduzdxcXFMmDABDw8Po+8jNTWV7t27c/jwYerXr8+wYcOIjY0lJCSEHTt2sHjxYnx9ffWO++2339i2bRudO3fG09OT7du3ExgYSFxcHIsWLcpPVRrl2rVrdOjQgYYNG/Luu+9y9OhRVq9ezb///sukSZN46623aN26NYMGDSIiIoI///wTgF9++SXPc+f3GcnKyqJfv37s2rWLunXr0rt3bx48eMA333yDp6en0fekVqv5+OOPCQ4OpmbNmvTu3RszMzN27drFJ598wvnz55kyZYrxlfQ/qamp9OrVi4iICNzd3XnnnXfIyMhgy5Yt9O/fn59++omPP/5YWz40NJRly5bh5eWFp6cnWVlZHDlyhDlz5rB37142btyImVn2C4Hk5GQ6duzI9evXadu2LV27diUtLY3o6GiWL1/Op59+iq2tLcOGDWP58uWcOnWKoUOHYmeXPU+Qs7Nzvu8H4Pr167Rr1446derwzjvvcPXqVTZu3Ei3bt04dOgQFStW1JY9ePAgPXv21D7bzs7OHD58mICAALZs2cLWrVv1vj/T0tLw9fUlMTERHx8fzMzMqFixIl9++SXLly/nxo0bfPnll9ryTybU8hOfsSZPnoyZmRnNmjXD3t6ee/fusWnTJgYNGsT06dMZMmSINhZDcWrqXOPQoUPMmjULLy8v3nvvPW7efPr8NSkpKfTs2ZN9+/ZRo0YN+vfvT6lSpbh8+TJLlizh7bff1iYT5s6dy5UrV3jjjTeoXLkyDx8+ZNu2bXz22WdcvHiRqVOn5vv+n8boRMCRI0f46KOPyMzMpE2bNgwcOJCmTZsaHAIQExPDwYMH+fPPP9m1axdDhw7FxcWFxo0bF2nwQgjxvEt+nELM7XuYmRbdlCwKhQn7jpzEt4NXkZ2zoMysrajSoS1VOrQt6VCEeGF5eXkxf/58Tpw4QYMGDYDsxn/dunWJjY3VSQTs37+fjIwMvLyyv///+ecfQkND8fDwICQkRNsYHjNmDK1bt+bbb7/Fx8cHFxcXnWtu3bqVkJAQWrdubVSMY8eOJSEhgcDAQPr27avdrml0F9TRo0cBuHLlCkOGDNG+CQWwtrbml19+oWfPnnrHHThwgLFjxzJ+/Hid7Tt37mTWrFl4e3uzdOlSSpcuDWQ3FseMGcPixYtZu3Yt3bt3B7LfAoaHh9OpUyeCgoK0iZiRI0fSsmVLo+9j7ty5HD58mL59+7Jw4UJt4nfYsGG0a9eOTz/9lDZt2mBjY6MX765du6hVqxaQ/Ybcy8uLVatWMXnyZBwcHLRln+yZkBfNTP057du3j2nTpmnfxKrVavz8/NiyZQt+fn789ttv2jea6enptG7dmhUrVjBhwoQ8G2H5fUZWrFjBrl27aN++Pf/88w9KZfaqOUOHDqVNmzZG3+eff/5JcHAwAwcOZPbs2dpeJGlpabz77rv8+uuv9O7dW/u9ZayffvqJiIgIvvrqK7788kvtZ/ro0SN8fX2ZMGEC3bp1035Gfn5+jBgxQvs9qDF9+nSmTZtGSEiItl52797NtWvXGD58OD/88INO+UePHlHqf8Puhg8fzsmTJzl16hTDhg0r9GSBe/fuZdKkSXz22WfabVOmTGHGjBkEBQXx+eefA9lJmuHDh5OUlMTq1atp166dtrzm8/zuu+/w9/fXOf+dO3dwdXVl8+bNOmPlvb29iYiI4MaNG3z99deFji8/goOD9X7+JSYm0qFDB6ZOncrAgQMpXbo07u7uuLu75xnnzp078ff3Z+DAgUZd/4cffmDfvn34+fkxf/587XMO8PDhQ53/nzlzpl6sGRkZ9OnThwULFjB06FCcnJyMu3EjGD00YNasWWRlZTF58mTWrFnDW2+9les8AJUrV+att94iJCSE77//noyMjEL9khBCiBfVxas3SEtPL9JzmpuZciPmjk53fCHEi0vz9lPTJTUjI4MDBw7QsmVLPD092bNnj7aspozmmOXLlwPZf5znbIBUqVKF4cOHk56eTnBwsN41u3TpYnQS4MaNG+zduxdXV1edBh7A6NGj9d6Y5ce9e/cAmDhxIp07d+bYsWNER0cTGBiIiYkJQ4YM4dSpU3rHVapUibFjx+ptDwwMBGD27NnaJABk98j67rvvUCgUrF69Wrt95cqVAIwfP16bBIDssb79+vUz+j6WL1+OmZmZ9hoabm5u9O/fn/j4eIPdyYcOHapNAgBYWlrSq1cv1Go1x44d0yk7ffr0fP17+PCh3vVcXFy0b0A19aJJtLi7u+t0azYzM6N79+6kp6dz/vz5p95/QZ6Rv//+G4AJEyboNIZcXV3x8/N76vVyCgwMxMrKip9//llnKIm5uTnffvstAKtWrTL6fJDdEP7999+pXr26ThIAwMbGhnHjxpGWlkZoaKh2e+XKlfWSAIC218CuXbv09hmaWM7GxsbgeYqCZrhHTpoGbVRUlHbbgQMHuHz5Mt7e3jpJAMhOMpYtW5ZVq1aRlpamd43JkycXeMI8Y+PLjycb1pCdZOzfvz8JCQn5Pq+7u7vRSYDMzEz++OMPbG1tmT59us5zDtm9DaytrZ8aq6mpKYMHDyYzM1P787+oGP2K6tChQ1SuXJlPPvkkXxf49NNPWbhwocHxUUII8bK7ej0Gc7PCzQ1gSEZGJgmJSdjZWOddWAjxXGvRogUmJiaEh4fzySefcPToUR49eoSXlxd37twhJCSE6OhoXFxcCA8Px9bWlvr16wNw4sQJLC0tDfa61CQLDI2vzU8vTU1DvHnz5nr7rK2tqVevns5QhvzIysoCsht/AQEB2gZX3759SUxMZPTo0SxcuFDvzaObm5vBxtKRI0ewsrLKdWy4paUlFy9e1Lk3Kysr3Nzc9Mq++eabLFmyJM97SEhIIDo6mjp16lCliv6cKJ6enixZsoSTJ0/qNXA1n2NOmnM82ZAvimXX3NzcdBIeAPb29oB+N+2c+zQTqOWmIM/IqVOnKF26tME39c2bNzdqfH9ycjJnzpzBwcGB2bNn6+3XzKOR8zM3xsWLF4mPj8fBwYEff/xRb79mToWc51Wr1fz1118sX76cs2fPkpCQoH2+IXtOAI0WLVpQqVIlZs2axcmTJ+nQoQPNmjXD1dW1SIYR5sbQ52/oeTtx4gSAwSEaVlZWNGzYkO3bt3Pp0iXq1q2r3WdhYVGooULGxpcfsbGxzJ49m23btnHjxg29+Tdyfi7GyM/PzgsXLpCQkEDr1q31eucY8ujRI/z9/dmwYQPR0dF683PkN9a8GJ0ISEpKwtHRsUAXKV++PBcuXCjQsUII8SKLi3+EUpnveVnzlJ6RSVz8I0kECPESUKlUuLu7a7v9h4eHY2JigoeHB7GxsUB2T4AyZcpw4sQJvL29tW+WHj16ZLDxCWi7cufsbq9RoUIFo+PTHF++vOF5PwoybldDswRdx44d9RpAPj4+jB49Wjt8IKfc4o+LiyMjI4Pp06fnes2cf1wbU395efTo0VNjetrnYGgJPs1na2hiw8J6cmhCzus9bV96Hj3bCvKMJCQkFLru4+PjUavVxMTEGP2ZG0MzGd7Zs2c5e/asUecdN24cixYt0k4oaG9vr01WTZ8+ndTUVG1ZOzs7tmzZwrRp0wgLC2PLli1AdqP3888/58MPP8xXvMYy9LxpelHkfN4K+kyXL1++UIkMY+MzVlxcHG3atOHmzZs0a9aMVq1aYWdnh1Kp5OTJk2zcuFHnczFGfn52apIXOYf45CYtLY2uXbty/Phx3N3d8fPzo2zZsiiVSq5fv86KFSvyHWtejE4EVK1alXPnzvHvv//m+k1ryI0bNzh37pzBrg5CiGdIrQYyQZ0BWY9RqDP+t00Up6ysrGLJ7quzssgw8pdiRmYGUVf2se/CDh49zv6lZFtaRfPabWhUrQWmyqKbv0AIUTBeXl4cO3aMY8eOERERQb169bSzVjs4OBAeHk758uXJysrSzg8A2Y03TbLgSZrthhp4+fm5pPnjXNON/0l37941+lxPqlWrFkePHjXYdVyzLSUlRW9fbvHb2NigUCi4cuWKUde3sbHRvt19krH3panfgnwO+VEUcwQUl4I8I7a2toV+pjR12qBBA4Nd7wtKc15fX1/thIlPExsby2+//Yarqytbt27VGZZy584dg0mKqlWrsmDBAjIzMzl9+jQ7d+5k4cKFfPHFF6hUKnr37l1k95NfBX2mi7M3Q0EsW7aMmzdvMmHCBL744gudfbNnzzY4XCcv+blHzc+wvHrUAGzcuJHjx4/z7rvv6k3OuXr1au3qEUXJ6L/+3nrrLX788Ud69+7Nr7/+alS3iCNHjjBy5EjS09Nl1QAhnjFFZgImKdEoU85gknoFRWb8/xr/YJGViUVWKqXulMbEzI4sc2cyLF3JKlUNtZnxmU6RN4WJCWq1ush/OSpMTDB9YqzZkx4mx7EhciX7LuwgKTURc6U5yv81+m/ej+ZY9CGsSlnTok47ujTqg13pMkUaoxDCeJ6envj7+7N9+3YOHjzI+++/r93n5eVFRESE9m1rzu667u7u7Nmzh8jISL2/zTTLdRmzNODTaLrN79+vv3RpYmJioZb28vLyYuXKlQbHoGu25WeG9CZNmrB161YuX75MjRo18izv5uZGREQEp06d0hsecOjQIaOuaWtri4uLC1euXCEmJkZvDq2i+hye9sbbkP79+z+zREBBnhE3NzfCw8M5duyY3vAAQ+cxxMbGhjp16nDhwgXi4+OL7H7r1KmDra0tR48eJT09XTvbf26io6NRq9W0bt1aJwkAed+LUqnUTlT3xhtv0LlzZzZt2qRNBGh6ZeQcZlDc3N3dgezVS0aNGqWzLzk5maNHj2Jpaakzv0VecvZ0eXKsfHG5evUqAJ06ddLbZ+wzVhi1atXC1taWqKioPJ/PkojV6P6qn332GfXr1+fcuXN4e3vTvHlzPvvsM+bMmcMff/xBUFAQf/zxB3PmzOGzzz6jefPmdOjQgfPnz+Pu7q73EAkhioFajcnjc1jcnonlzYlYxC7ANHEfJhlxKAAUpmBiCgoz1ChRYIIiMxFl8jEs7v2BZcwULP/9HmXiAVAX7QR3r6qyKhsyi+GXt5mpkjJ2ub9dunTrLF8FfcS2k+tQq9VYlbLGzNQcE4UJJgoTzEzNsSpljVqtZtuJtXwV9BFXbj99MighRPFp3rw5SqWSRYsWkZSUpPPW39PTk5iYGFauXImdnZ32j3RAO6Hd999/r9N9OyYmhnnz5mFqaqo3eVt+OTk50aJFC06fPq2dXE9j1qxZBR67C9C9e3fKlStHcHAwp0+f1m5PS0vTvgHv0aOH0efTTIQ3cuRIHjx4oLf/zp07OkkHTd1MnTpVp6F14cKFfL2B69evH+np6Xz//fc6E7meOXOGoKAgbG1t8732+5Pi4+Pz9a+wM8znR0GeEc18CVOmTNHp9n369Gn++ecfo689ZMgQkpOTGTVqlMEhANHR0Vy7ds3o80F2d/T333+fGzduMGHCBINDI86cOaN9M66Zyf3QoUM6z5FmWUZDx16/fl1vu+Z8FhYW2m1lypTRnutZadasGdWqVWPr1q16PS1mzZrF/fv36dWrV74mNSyJ+9B8LgcOHNDZHhwcrB2OUZxMTU157733SEhI4Msvv9Qb3vDw4UPt0q25xRoREaGz5GmRxmdswVKlSrFx40bGjx/PX3/9xblz5zh37lyub7nUajWmpqYMGDCAKVOmaJfBEEIUA7Ua00d7ME/YjCLjEWoTMzAxR40RP6AVClCUQk3296gi8xGl7v8FD1aTYfUmaWV8wUS+fwuqmlNlLl69iall0Wa/TU2V2NpYGdx36dZZflz7JWZKc0qXevocAgqFgtKlrMnMyuSH/47lmx4/U92+TpHGKoTIm62tLQ0aNCAyMhKlUqkz6ZpmGbt79+7RuXNnncm03n77bUJDQ9m4cSMeHh507NiR5ORkQkJCePDgAVOmTCmS4ZkzZszAx8eHoUOHsmHDBmrUqEFUVBRRUVE0b968wG+sbG1tmTt3LoMGDcLb2xtfX19UKhW7d+/m7NmzdOjQgQEDBhh9vvbt2zN27Fh+/vlnGjZsSPv27XFycuLBgwdcuXKF/fv3M2HCBOrUyf45N2DAAP7++282bdpEq1ataNeuHXFxcaxZs4bWrVsTFhamN3mZIaNGjWLLli38888/XLhwgVatWnHv3j1CQkJIT09nwYIFhR4a8LzL7zPSv39/Vq1axbZt2/Dy8sLb25u4uDhWr15NmzZt2Lx5s1HXHTx4MIcPH2bFihUcPHiQVq1a4eDgwN27d7l48SJHjhzht99+y3di5Ouvv+b48eMsXLiQLVu24OHhQfny5YmJieHMmTOcOnWKrVu3UqFCBezt7fH19WXdunW0bt2aVq1acffuXTZv3kzLli2Jjo7WOfeuXbuYMGECTZs2pXbt2pQtW5bo6Gg2bdqEpaUlH330kbZsy5Yt8ff35/PPP6d79+5YWVnh6OhInz598nU/+WFiYsL8+fPp1asXffr0oUePHjg5OXHkyBH27NlDtWrVDCY4nqZly5asXbuW9957D29vbywsLKhbty4dO3YsnpsgO9k0Z84cxo0bR3h4OE5OTpw+fZpdu3bRrVs3nVUfiss333zD4cOH+eeffzhy5Ajt27enVKlSREdHs337djZt2oS7uzs+Pj44Ozszd+5czp49y+uvv87FixfZvHkzXbp0Yd26dUUeW74GhpYuXZrZs2fz1VdfsWnTJg4fPsyVK1eIj48nJSUFCwsLVCoV1atXp0mTJtqJMoQQxUeRcZ9SdwMxSfsXTCxRKwu2ZMv/n9AEFKX/l1zYjWlyFCkVPiTLIu8ulkJfzWqO7D6gP9FVYaSnZ+DiXNlgIjY+6QEz13+LmdIcpYnxyYfssubMCJ3AD/0XorIqW4QRC1E4DmUKNlnxs1CUsXl5eREZGUnDhg11Go0uLi44OTlx48YNvVm8FQoFf/75JwEBAaxYsYLAwEDMzc1xd3dnxIgRdO7cuUhiq1u3LmFhYUyaNInt27ezY8cOmjVrRlhYGP7+/oXqutq1a1c2bNjAjBkz2LRpE48fP6ZGjRp8//33jBgxIt/diMePH4+HhwcLFixg9+7dPHz4kLJly1K1alW++uornQaUUqkkODiYadOmsXr1agICAqhWrRpTpkxBpVIRFhZmVAPewsKCdevWMWfOHEJCQpg/fz6Wlpa0aNGC0aNHG5xN/2WT32fExMSE5cuXM336dIKDg1mwYAHVqlVj6tSp1KhRw+hEgEKhICAggA4dOrB06VI2b95MUlISFSpUoHr16vznP/8xeqnMnEqVKsWqVatYtmwZf//9N+vWrSM1NZUKFSrw2muv8f777+vMmD9//nycnZ1Zt24dgYGBODo6MmLECD777DO9CebatWvH9evX2bdvH6GhoSQlJeHg4EDPnj0ZNWqUNlEF4O3tzeTJk1m6dClz584lPT0dDw+PYk0EQHYvpa1bt/LTTz+xY8cOEhISsLe3Z8iQIYwbN45y5crl63yDBg3i+vXrrF69mpkzZ5KRkUG/fv2KNRFQpUoVNmzYwHfffceuXbvIzMzE3d2dkJAQbt68+UwSARYWFvz3v/8lMDCQlStX8ueff6JUKnF0dGTw4MHaoU/W1tasW7eOiRMnsm/fPiIiInjttddYtGgRFSpUKJZEgCI+Pl5mCxPPpZSUFG7cuIGTk5NOFynxP2o1pgk7MI//3w8xE+O7Z2VlZvE45TGWFpaY5DWjvToT1OlkWL1BWlm/fF3nVZD2MIH4sxdIT3iEwswUpcqOh5bmOLu4aJ/b4NDt3LpzT2d948JITUvnnV4+VCin0tv3154AdpzeQGlzw70F8pKcmkh7d1/6ew7Ju/AzJj8TXl6xsbH5molZiGdhypQpzJgxg+DgYLy9vUs6HCGEMIqxv1NlqmghXkTqTErF/oYy+SSYWGZ37y8uCiUolJgmHkSZeo3H9qNBWTrv415yj65e42bYNpL/vU1mahoKpQmo1WRlZZGuAGXTJjh3bIuZtTXeLd/kj5Ubi2TSwNS0NFycKhtMAqRnprP/wk4szQr++ViaW7Hv/A76Nv9AVhMQQrwSbt++rdeD9dy5cyxcuBA7Ozs8PDxKKDIhhCg+hforT61Wc/36db2hAc7Ozs/d8hFCvDTUGZS6E4Ay5cKzbZArS6PIiMXy9nQe248DZcHeOL/o1Go1/27ewa1dEZiYmWn/aWRlZZKW/Jh7hyJJOHmW2kMGoXKwp3ljN/YePoFFqYL3qMjMysLc3JxObZsZ3H/4UjjJaYlYlSr4OFSFQkFS6iMiL++lae1WBT6PEEK8KEaPHs3169dp3LgxKpWKq1evEhYWRnp6Ov7+/nqzwAshxMsg34mAx48f88cff7B27VqOHTtGWlqaXhlzc3MaNGhA9+7dGTRokPwAFaKoqNWUiv0d09QLhZ8LoCBMSqHIiMfy9kweO4wDk1eve3bM9j3c3hWBqWXu9a9QKDC1sCArK4vzAUtw/Wwobzasy70H8Vy4cp1S+ZhlVyMzMwu1Oove3dphYWDy1cysTPac3YxpEQzdMDe1YN+FHZIIEELk27Vr11i+fHme5ezs7Bg+fPgziChvPXr0YMmSJYSGhpKQkICVlRUeHh6MHDmSdu3alXR4ooicOHGCDRs25FnO2dk5XxNUlpT58+cbtWJH//79n+kKEsUtKCjI4IoLT+rSpYvOCitCX74SAfv372fw4MHcvXtXZ2mUJ6WmpnLw4EEOHTrE3LlzWbx4MS1atCh0sEK86sziN6JMPom6JLvmm5RCkXGPUncDSa30SfEOS3jOpNx7wK0dezAxcny6iVJJVkYGl5atxHXUEDq3a4FVaQuOnrqAqdIUZV7zM/xPaloapS0t6Nm5NRXKldFuf5gcx+ZjIRy5spdHjx9y8dZp0jJSMTFRYqY0p7xtJcpalUOhMHqlWABMTZQ8elzw5cCEEK+u69evG7XevZOT03OTCOjbt2+hl1gUz7+TJ08a9Wx6eHi8EImAgIAAbty4kWc5T0/PlyoRsHz5cvbu3ZtnOWdnZ0kE5MHoyQIvXLhA69atefz4MXXq1KFfv340bdoUFxcXVCoVpUqVIjU1lfj4eKKjozl48CArVqzg/PnzWFpasmvXLmrXrl3c9yNeIjIxmC5F+h0sY34AhXmhG9/5miwwt3gyk0kpP4hM6zcKFcuL5Grwf7kfdQLlU57HrKxMHj9OwdLSApP/zdqflZaK62fDsKhQHoDbd++zYdteEhKTUJqYGJxEUK1Wk5qWjqmpktdqVqWNR2PM/lcuPSONf/b9zu4zYWRkZVDa3AqFQsH5mFOkZaSiUChQq9VkqTMxUShxLOdCGSvjZ/dVq7OoYOfApD6/5Kd6ip38THh5yWSBQgghRNEo8skCZ8yYwePHjxkyZAg//PCDwTVVLSwssLe3x97enmbNmvHJJ5/w1VdfsWjRImbMmEFgYGD+7kIIkU2dicXdhf9b2u/5eAOvNrGk1IN/SLZ8DZQv99rIAFnp6cSdOvfUJEBu1FkQsyOc6n5vAWBfsRzv9+vGrTv3OHj0DPcexPM4JRU1oACUShOsrUvTuLoTDdxq6wwFeJgcx7SQsdxNuE1pcytyDhIwU5qRlpECKFAoFCgVpqBWc/3eZR4mx+FSoaZR8WZmZWJrYZfv+xRCCCGEEC8GoxMBe/bsoUKFCkydOtVgEsAQExMTfvjhB0JCQti9e3eBgxTiVWf2cAuKjNjsFQKeFwoFZKVR6t4f2UMEXnKP794jKz0dpYHx+XlRWpQiMVp3PJtCoaCyfQXe6pQ9Dj8zM5O09AxMTBSYm5kZnHA1OTWJKatHE5/0wODygKrSZXn0+KHukIP/JQQeJscRHXvJqGRAakYqTWvJ/ABCCCGEEC8ro/sEx8fHU6VKFZRKZb4uYGpqiqOjo1GTWQghDFBnYJawAxTPYVdok1IoUy6hSI8t6UiKXVZaGmRlFfh4dWbmU/crlUosLUpRytw811VXluycy4PEWEqZGX4WVNblMDFRGpzDRWmi5GHyA+KTHjw9TrWa0uZWvFmz5VPLCSGEEEKIF5fRiQAHBwcuXrxIfHx8vi4QFxfHhQsXcHBwyG9sQghAmXwMspKfmyEB+tSYPdxc0kEUOxMzMzCyN5QhCgPzAOTH1TsXiLq6D0sDPQE0TBQmqKzKkqU2nHRQKpTcfHD1qZO9Pk5Lolnt1piZFn71ASGEEEII8Xwy+q/aLl26kJSUxIABA4iJiTHqmH///ZcBAwbw+PFjunTpUuAghXiVmceHPd/L9JlYYJp8DLL0lxJ9mZQqVxaTfPaI0shKT8eifNlCXX/1waUoTfJOJlSyq4KJwsRwY1+hIDMrk/ik+4bjzMrEzLQUXRv7FSpWIYQQQgjxfDP6FdXYsWNZt24d+/bto0GDBrRp00Zn1QAzMzPS09N1Vg3YuXMn6enpODs7M3bs2OK8DyFeSor02/+bGyD/49KfJUXWY0yTDpNh41HSoRQbU0sLbKq7kHDpKibmZvk6Vp2ZSRXvNgW+dmZWJpfvnMfcNO/nwNzUnGoVa3P5znlMMNEbZmCiUBL76A5lrMvrbM/KyiQ1I5Wxvj/ka4UBDbVazb0HD0lMSkahUKCytUZl9/JPIimEEEII8SIyOhFgZ2fHtm3bGDZsGDt27GDLli1s3bo11/Kat1Ft2rRh/vz52NnJDNRC5Jcy+TSo04HnOxGgNrFAmRT5UicCACp3aMPDC5cA4xMB6qwszFV2lHasXODr3o6/SUZWOkoT43okWFvYUqNiba7GXiQzK1OnJ4FCoSA9I/X/41OreZyWjJmpOWN9f+C1KvXyFVtmZhYnz13i8LGzJCU/JiMjExQKTJVKytjZ0LyxG7WqO+U674EQQgghhHj28jVotWLFiqxevZpjx46xbt06Dh8+zJUrV4iPjyclJQULCwtUKhXVq1enSZMmdOvWjUaNGhVX7EK89JQp557vYQEaCiXKjLslHUWxs6riQJl6dYk7ecaoZQTVajVZ6elU9xtQqIbw/UexpKWnUsrU+GfB2tKOOpXrcedhDPFJD8jMytAmBLLUWaRnpJOemYqluRUt63agW+N+lLPJ3zru6ekZrNqwg5jb97AoZY65mRnmZv+fJHmUmETo1gheq1mVzu1aSDJACCGEEOI5UaDZqxo0aECDBg2KOBQhxJNM0m+DonCTzD0zWcmQlfrcD2MorOp+PbmUlk78uQsoLSxybdxmZWSgUEPNd/pi7eJUqGuq1VnkPr1f7sxNS+FUrhpVylYlLvE+cUn3yMzKJEudSbWKtfB83ZumNVsWaGJAtVpNSNhubt99gKWF4c/cxMQES4tSnL9yHYtS5rTzeqMAdyGEEEIIIYraC9LCEOIVlJWGIivphUkEKLLSMUn/l6xS1Us6lGKlUJpQc9Db3N17kNt79pGW8AiFUolCqQS1mozUVNQZGVg6O1KtVzesHOwLfU3b0mUwL8Qs/iYKE8rZVNC+8Vej5ssePxbqDf2tO/e4GXMXi1J5x2Vhbs7p81dp1tgNq9KWBb6meHVFTphKSuy9kg7DIIsK5Wk8ZXxJh1Fkrl27Rv369enXrx8BAQFGHTNs2DBWrFjB8ePHqVq1ajFHWPLq1cseQnXy5MkSjuTlU5Dnr6TJ8yBeVIVuYWRmZvLo0SMeP36MpaUlNjY2KAs4s7YQ4v8pMhNAnQUvTG/qNBTp8c/7dAZFQqFQUMmzGRU9mvLo6jXuHT5KesIjTMxMMS1fltQq9ri8/hoWRgwfMEaVss6YGrFigDHUajUqq7KF7qa/78hJTJXGL6eYnplB5MnztGzaoFDXFa+mlNh7JP97q6TDEMUoLS2NwMBAVq1axaVLlwBwcnLCw8ODGTNmlHB0oih16dKFvXv35ntJciFE0SrQX5YbNmxg7dq1HDlyhOvXr5OVlaXdZ2JigrOzM02aNMHX15euXbsWWbBCvFLU6UBWnsWeHyYo1CklHcQzpVAosK3ugm11F+22lJQUbty4UaTXMTctRSVVZe4+vGXUEoJPk5yWiE+DnoU6h1qt5tbd+5iaGh+Lhbk5Fy5fl0SAEEJPfHw8vXr1IjIykqZNm/Lee+8B2W+H16xZ89wlAtatW1fSIYjniDwP4kWVr78oL126xODBgzl9+rThNarJ7iFw9epVrl69yqpVq6hbty5LliyhVq1aRRKwEK+OFykJoJFR0gG8tHybDODXsClYlbIu8DnUajXmpqVo69alULFkZmbl+jsgNwqFgqzMF/GZFkIUt5EjRxIVFcWiRYvo06ePzr6MjOfv90q1atVKOgTxHJHnQbyojO7XeevWLTp27MipU6coU6YM77//PgsXLmTz5s0cPHiQo0ePcvDgQTZv3szChQt5//33KVOmDKdPn6ZTp07culWwLn3x8fGMGzcOb29vateuTcWKFXn99dfp1q0ba9euNfjHaEJCAt988w1ubm5UrFgRNzc3vvnmGxISEnK9TnBwMG3btqVy5cpUrVqVPn36cPTo0QLFLESRUJiSj2/R54AateIVGBdQQhpVa4Zz+Wqk5Vj6L78epyfTsUFPrCxsChWLUmlSoBErCpMXZpyLEM9MXFwcZcuWpX///jrbo6KiUKlUqFQq/v33X5197dq1w9HRUdtIzsjIYN68eXh4eGBvb4+zszNdu3Zl8+bNetcLCgr6P/buO76KKm3g+G9mbk0PCYSW0HtVLHSpK4qAKCK2dRXX/q6KHcuuvbuLrqLY1gKuoKIgiIIsvQgoAoIgPRBKAunJbTPn/SPkyiUJ3Nwk1Oe7n6xh5sw5z0xubu48cwoJCQlMnDiR7777josuuoiGDRsGxzkfzYYNG7jyyitp2LAhaWlpXHHFFaxfv74KZw8rV67km2++YeTIkWWSAECZnkc7duwgISGB2267jU2bNnHttdfStGlTEhIS2LFjR7DcjBkzGDp0KI0aNSIlJYVu3brx+uuvY5pmmTaKiop4/PHHadeuXbDshx9+yMKFC0lISOC5554LKd+hQ4dyr1dRURHPPfcc5557LikpKTRu3JiRI0eyfPnyMmWfe+45EhISWLhwIVOnTqV3797UrVuXVq1a8cADD1BcXBz2NQzXggULGDFiBK1bt6ZOnTq0bt2awYMH89FHH5Upu3z5ckaOHEnjxo1JSUnh3HPP5bnnnqOoqCik3OE/j/IkJCQwePDgkH8vXrw4+H3pV3nHb9++nT//+c80atSI+vXrM2zYsCqNw58+fTqjR4/mrLPOol69eqSlpXHRRRfx9ddfl1s+3OtV3uthz549PPvsswwYMIDmzZtTp04dOnTowL333ktmZmbE5yBEdQq7R8CLL77IwYMHGTp0KG+88QYxMRU/lTrvvPMYOXIkTzzxBLfffjvTp0/npZde4tVXX610gAcPHmTixImcc845DB48mMTERDIzM5k1axbXX389119/PePGjQuWLywsZPDgwaxdu5a+ffsyYsQI1q1bx5tvvsnChQuZNWsW0dHRIW288sorPPXUUzRs2JAbbriBwsJCvvzySy688EK++OILevXqVem4hagy7RRYNjCEBnr0sYuJiGiaxt8uepyxn94ashRguDz+YhrWasywc64+duEwYomNjaagoAhdDy9Z5fMHaFi/TpXbFuJ0k5iYSLt27Vi8eDGWZQV/pxYtWhQss3DhQkaNGgVAfn4+v/zyC3379sVms6GU4oYbbmD69Ok0b96cm266iaKiIqZOncqVV17J888/z6233lqm3a+//pq5c+dy4YUXMnr0aAoKCo4a5/r16xk0aBAFBQUMGTKEZs2asWrVKgYNGkS7du0iPv8vv/wSgEsvvZQDBw4wc+ZMMjMzadCgAQMHDqRWrVrlHrdt2zYGDBhAmzZtuOqqq8jOzsbhKJm89Mknn+TVV1+lQYMGDB06lNjYWJYsWcJjjz3GypUr+fDDD4P1mKbJlVdeycKFC2nfvj0jRowgOzubRx99lB49eoR9Hl6vl2HDhrFixQo6derEbbfdRmZmJlOnTmXu3Lm8//77DB06tMxx7777LnPmzOHiiy+mZ8+e/PDDD0yYMIHs7GzeeeedylzKo/ruu+8YNWoU8fHxXHzxxdStW5esrCzWrl3L5MmT+fOf/xws+/XXXzN69GgcDgfDhw+ndu3azJs3jxdeeIH//e9/TJ8+HaczssT/gw8+yKRJk0hPT+fBBx8Mbj/yRnrnzp3079+fVq1ace2117Jt2zZmzpzJkCFD+PHHH6lTp/J/T5588knsdjtdu3YNnv+3337L9ddfzwsvvMAtt9wSLFuZ61WeJUuW8MYbb9C7d2+6dOmC3W5nzZo1vPfee/zwww/Mnz+f+Pj4Sp+DENUp7E+Ss2fPJj4+nrfeegu3O7xZn2NiYnjrrbeYP38+33//fUQBNmrUiB07dpTJCOfn5zNw4EA+/PBDbr31Vtq0aQPAuHHjWLt2LXfddRdPPPFEsPyzzz7Liy++yLhx4xg7dmxw+5YtW3juuedo3rw5P/zwQ/CX8pZbbqF///787W9/Y8WKFZUaCytEdVBGHGiRzxR/vCnNgeWod6LDOK0lxdbhoWEv8OK0h/D6vTjt4X0QK/YVkhJfnweHPYehV89krl3Pas/MuUvCWjWghKJbl2M/cRTiTNSrVy/efPNN1qxZE1yeeeHChbRt25bMzMyQRMDSpUsJBALBhxSfffYZ06dPp0ePHkydOjV4M3zvvffSp08fHnvsMQYNGkTjxo1D2pw9ezZTp06lT58+YcV4//33k5eXx4QJExg5cmRwe+lNd6RKe19u3bqVW265JaT3ZkxMDK+99hqXXVZ2XpNly5Zx//3388gjoSs2/O9//+PVV18NfkaMiooCSoZG3Xvvvbz//vt8/fXXDBs2DCjpIbFw4UIuuugiJk6cGEzE3HnnnfTu3Tvs8xg3bhwrVqxg5MiRvP3228EJWW+77bbg58m+ffsSGxvaI+t///sf8+bNCw6hLS4uplevXnz++ec8+eST1Kv3x9/VI3smHMttt91GQkICAJ988glKKb755hvat28fUu7gwYPB7/Pz8/nb3/6GYRh8//33wbJKKW6++WamTJnCa6+9xv3331+pWEo9/PDDLFq0iPT0dB5++OEKyy1evJh//OMf3H333cFtTz/9NC+//DITJ07knnvuqXTbU6ZMKfN7UFBQwJ/+9CeeeeYZrrvuuuDrJdzrVZHevXuzcePGMg9OP/30U2677Tbeeecd7rvvvkqfgxDVKex+x5mZmTRp0iTsJECpqKgomjZtSlZWZMv+GIZR7k14bGws/fr1A0r+eEDJm9THH39MTEwMDzzwQEj5MWPGkJCQEPzFLjVx4kQCgQD33ntvSGauTZs2jBo1im3btrFgwYKIYheiSjQNy5YIlRyLfcJoDpRR/pMbUX2apLTg6VFv0TApjUJvAQGz4vGzHn8xxb4ierYeyD9Gvl7lIQGHa9E0lZhoN4Fyutkeyev3k1K7FrWTEqqtfSFOJz179gRKbv6hpKv/smXL6N27Nz179gz5HFJapvSYSZMmASU35KVJAIAGDRpw++234/f7mTJlSpk2Bw8eHHYSID09ncWLF9OuXbuQJACUfL6qypPN0s+Hjz/+OBdffDGrV69m+/btTJgwAV3XueWWW1i3bl2Z41JSUsq9GZ0wYQIA//znP4M3dVDSk+nvf/87mqbxxRdfBLdPnjwZgEceeSSkh1PLli256qqrwj6PSZMmYbfbg22Uat++PVdffTU5OTnMnDmzzHG33npryDxabrebyy+/HKUUq1evDin7wgsvVOorNze3THvlfY4/vNfFjBkzyM3N5dprrw25AS69fjabLfiaq0mNGjXib3/7W8i26667DigZNhOJI5MAUJJsuvrqq8nLyyu33mNdr4rUrl273N7To0aNIi4ujnnz5oUVsxA1KexEQO3atdm2bRseT+VmBS8uLmbr1q0kJydXOrij8Xg8LFiwAE3TaN26NVDydH/Pnj2cf/75Zbr/u1wuunfvTkZGRjBxAH90vStNKhyudFvpWCYhjjfL2RRU5GPCjxulsGwJUMUl6UR4kmJr8/iIcdwz+B/Ur5WKaQXw+Isp8ORT6C3Ae2gegbOadOXJK//NDX3vwmGr3vkbDEPnyqEDsBkGfn/FyQivz098TDTDL+pTre0LcTrp3r07uq4Hb/J//vln8vPz6dWrF7169SI9PZ3t27cDJYmAuLg4OnXqBMCaNWtwu9106dKlTL2lyYLyxlWXV74ipTfi3bp1K7MvJiYmrPkFKlK68lS7du0YP348jRs3JiEhgZEjR/KPf/wDv9/P22+/Xea49u3bhyQ+Sq1cuZLo6Gg+/vhjnnvuuZCvN998E7fbze+//x5ybtHR0WWe+kLJUNdw5OXlsX37dpo2bUqDBg3K7D/az6H053i40jqOvJHPycmp1FejRo2Cxw4fPhwomV/ivvvu4+uvvy53rPqaNWtCYj5cw4YNadKkCdu2bSM/P7/C61Ed2rdvX2boWUXXJVyZmZmMHTuW8847j3r16gXnJ3j00UcB2Lt3b7BsuNfraKZNm8Zll11Gs2bNSEpKIiEhgcTERPLy8kLaEuJECbu/e//+/fnoo4+47bbb+Pe//13mRrs8hYWF3H777eTn5wd/oSKVk5PD+PHjsSyLrKwsZs+eza5du3jwwQdp1qwZUJIIAGjatGm5dRxe7vDvY2JiSElJOWr5cFQ2SSKOzufzhfz3TGTqzYkx56FU9Q4RsJT1x3+P/UD3mDSrGK+zk/wOcHxfty1TOvDAJc8TMAPsy91NXnEOuqaTFJtCUkzt4FOpmvq5OB02Rg7px/cLfmRf5kECARObzUChMAMWdruNJql16dejCyirynHIe0LNcLlOtflITj8JCQl07Ngx2O1/4cKF6LpOjx49gjcfCxcuJDExkTVr1jBw4EAMo2SYT35+frk3n0BwHHV5kyXXrl077PhKj6/ooU4k47VLxcXFAXDhhReGPEkHGDRoEGPGjCl38uaK4s/OziYQCPDCCy9U2GZhYWHw+3Cu37GU3hRXFNPRfg6l53+40p9teRMbRuqyyy7DZrMxfvx4PvjgA9599100TaNnz54888wzdOzYEQjvXH7//Xfy8/PLDHOoTuVdl9IewpFcl+zsbPr27cuuXbvo2rUrF1xwAfHx8RiGwdq1a5k5cyZe7x8PXsK9XhV5/fXXeeyxx0hOTg5ORl76Xjt+/PiQtoQ4UcJOBDz00ENMmzaNr7/+moULFzJ8+HDOP//8YObWbrfj9/vJyclh+/btLF++nKlTp3Lw4EESEhLKdNWvrNzc3JA3dbvdzlNPPcWdd94Z3Fb6BltRF7XSN6zD34jz8vIqfLMrr/zRZGRkVOubtiixb9++Ex3CCaOpKJqZGmjVP3swUG1/iDTlY0egGb689Gqp73Rw/F+3OjGUdFcszvGyK2fXcWv53PZNKfY2ZOvOPeTlF6FpGrUSYmjSsC52u419+6r3yceZ/J5Q3QzDqDB5Lo6vXr16sXr1alavXs2iRYvo0KFD8IllvXr1WLhwIcnJyViWFTKJcWxsbIVPKku3l3fDduRN99GU3pRVNMxz//79Ydd1pBYtWvDzzz+X+9mtdFt5ScSK4o+NjUXTtJDen0cTGxvLgQMHyt0X7nmVXt9Ifg6VUZU5AgCGDh3K0KFDycvL48cff2T69Ol8/PHHXH755axYsYKEhIRKn0vpU/vyPv9G+uS+Jnz88cfs2rWLRx99tMzY/H/+85/lDtsI53qVJxAI8NJLL4X83pZSSvHaa69V67kJEamwEwH16tXj22+/5S9/+QsbN27kvffe47333jvqMUopWrZsyX/+8x/q169fpUAbNWpETk4Opmmya9cuvvzyS5566imWL1/Of/7zn5NiMr+qnqMI5fP52LdvHykpKeV2/ztTGDldcRYtR+mVm5/jaCxl4fV6cTqd6FoVlyhUJpatDim1z6qe4E5xZ/LrtmXzZjVa/5l8bcXpr2fPnrz++uv88MMPLF++nBtvvDG4r1evXixatCh4Q3F4t+2OHTuyYMECVq1aVaa7f+nQxqp03QeC3eaXLl1aZl9BQUGVlnTr1asXkydPZuPGjWX2lW5LS0sLu75zzjmH2bNnh/T+PJr27duzaNEi1q1bV2Z4wI8//hhWm3FxcTRu3JitW7eSkZFR5vNgdf0cjtbLoTxXX311uTercXFxDBgwgAEDBmCaJp988gmrVq2if//+wSfdixYtKtObNyMjg23bttG4ceNgIqA0WZORkVGmndJhBkc6vMdD6fc1bdu2bQBcdNFFZfaV97o+3NGuV3kOHDhAXl4eF1xwQZleND///HONLA0pRCQqdffcunVrlixZwvTp05k+fTorVqxg165dwfFdUJIZbNiwIeeccw5Dhgxh6NChYS8vFQ7DMGjUqBH33HMPhmHw+OOP8+GHHzJ69OhgxrqiDGRpd6fDuxvFxcVV+MS/vPJHI90ra4bD4Tijr61KuhjNuwqtGn+PSocD6JqOblSxXtODv9YlZ/TPqDxn+uu2Jsm1Faejbt26YRgG77zzDoWFhSFP/Xv27MnkyZOZPHky8fHxId2Sr7rqKhYsWMATTzzBF198gd1uB0puzN544w1sNluZCf4qKzU1le7du7NkyRImT54cUt+rr75apSe/w4YN4x//+AdTpkzh1ltvDS5F6PP5gk/AL7300rDru+WWW5g9ezZ33nknEydOLDOx2759+8jJyaFVq1YAjBw5kkWLFvHMM8+ErBqwadMmPv3007Dbveqqq3juued44okneOutt4I9FtavX8/EiROJi4tj8ODBYddXnpycnIiPnT9/Pueff36Z987SJ/yl2y+++GLi4uKYOHEiN910U3BVLqUUTzzxBH6/n6uv/mMZ2ri4OJo3b86yZcvYunVrsIdRfn4+Tz75ZLmxJCYmArB79+5KJXmqIjU1FShZbeLw5S6nTJlS7spm4V6v8tSuXRu3280vv/xCUVFRcNLKnJycKveQFqI6Vfoxuq7rDBs2LLjsit/vJy8vD4/Hg8vlIi4uLvhHqKb17dsXKMlajh49Opj5rag7WOlY/8MzxM2aNePHH38MPmU6VnkhjjdlT8ZypKL7d4N2fH63wqYs0KMwo8pOdiSEECJ8cXFxdO7cmVWrVmEYRsjEfKXL2GVlZXHxxReHPGAZNWoU06dPZ+bMmfTo0YMLL7yQoqKi4PDMp59+utzZ0ivr5ZdfZtCgQdx6663MmDGDZs2a8dNPP/HTTz/RrVu3Yz5VrUhcXBzjxo3j+uuvZ+DAgQwdOpSEhATmz5/Phg0b+NOf/sQ111wTdn0DBgzg/vvv56WXXuKss85iwIABpKamcvDgQbZu3crSpUt59NFHg4mAa665hv/+9798++23XHDBBfTv35/s7Gy+/PJL+vTpw6xZs8J6oHXXXXfx/fff89lnn7Fp0yYuuOACsrKymDp1Kn6/n7feeqtGx9QfyyOPPMKuXbvo2bMnaWlpaJrGsmXLWLVqFeeffz5du3YFSn4er732GqNHj2bAgAEMHz6c5ORk5s+fz88//0yXLl3KzOZ/xx13cM899zBw4EAuvfRSLMti9uzZnHVW+T0Fe/fuzddff81f/vIXBg4ciMvlom3btlx44YU1dv5XXnkl//rXv3jggQdYuHAhqamp/Prrr8ybN48hQ4Ywffr0kPLhXq/y6LrO6NGj+fe//03Pnj0ZNGgQ+fn5zJkzh9TU1JAlIYU4karcn95ut5OUlFQdsVRa6YybpcMCmjVrRr169Vi+fDmFhYUhExp6PB6WLFlCvXr1QsZD9ujRgx9//JG5c+eWWSZm7ty5wTJCnEje5OtxZzwNqJNqZn5NefEk3wDaiR+aI4Q4fblqV+/KQ9WpOmPr1asXq1at4qyzzgq5aWzcuDGpqamkp6eXmc1d0zQ++ugjxo8fz6effsqECRNwOBx07NiRO+64g4svvrhaYmvbti2zZs3iH//4Bz/88ANz586la9euzJo1i9dffz3iRADAJZdcwowZM3j55Zf59ttvKS4uplmzZjzxxBPccccdle4+/sgjj9CjRw/eeust5s+fT25uLrVq1aJRo0Y89NBDXHHFFcGyhmEwZcoUnnvuOb744gvGjx9PkyZNePrpp0lISGDWrFlh3cC7XC6mTZvGv/71L6ZOnRpcoaB79+6MGTOm3BUXjqcxY8Ywffp0Vq9ezdy5c7HZbDRq1Ignn3yS0aNHh1zjSy+9lDp16vDPf/6T6dOnU1xcTFpaGvfffz933313mafhN9xwQzDZ8dFHH5GSksLVV1/N/fffX+48XNdffz07d+7kiy++4JVXXiEQCHDVVVfVaCKgQYMGzJgxg7///e/MmzcP0zTp2LEjU6dOZdeuXWUSAZW5XuX5+9//TmJiIpMmTeK9996jdu3aXHbZZTz88MMn/LUgRCktJyfnpF6kfM2aNTRq1KjMJDLZ2dkMHTqUtWvX8vbbb3PllVcC8Oyzz/Liiy9y11138cQTTwTLl25/4IEHGDt2bHD75s2b6dq1K40bN+aHH34ItrNhwwb69+9PSkoKK1asOCnmIDjTeDwe0tPTSU1NlW7AgD13Fvacb0CPOnbhY7BMi2JPMW6XO/KhAZYH09UKb8odVY7ndCKv25oj1/b0lZmZWalZ7IU4Hp5++mlefvllpkyZwsCBA090OEIIEZZw/6Yel7vbqVOn4vF4yjxxD8ekSZP4+OOPg11zoqKiSE9P5/vvv6egoIChQ4eGZHbvuusuvv32W8aNG8eaNWvo3Lkz69atY/bs2XTo0IG77rorpP7mzZvz0EMP8fTTT9OjRw+GDRtGUVERX3zxBX6/n3HjxkkSQJwU/HF/wlawEs08cOKHCCgLNAfe5L+c2DiEEEKIKtq7dy9169YN2fbbb7/x9ttvEx8fLz1DhRCnpePSI6BZs2bk5ORUuDzL0SxdupSPP/6YlStXsnfvXoqKikhMTKRTp06MGjWKyy+/vMwSMqVLDU6bNi049n/o0KE8+OCDFS4tOHnyZMaPH89vv/2G3W7nvPPOY+zYsZx99tkRnbOoOnn6V5bmz8K959DyQVrkM+1WqUeAUmiWB0+dmzGjqjYD8unoZHzdKqXwBwLomo7NdnxmaK4JJ+O1FdVDegSIE+nqq69m586ddOnShYSEBLZt28asWbPw+/28/vrrXHvttSc6RCGECFu4f1OPWyIgOzubgwcP1nRT4jQiH/rLp3t34tr7akkiIMJkQMSJAKXAKsabfA1mjIxxK8/J8roNBEw2btnB8p9/pbCoGHXonV7XderVSaLHuR1JqV2rUmuJn2gny7UV1U8SAaePHTt2MGnSpGOWi4+P5/bbbz8OER3b5MmT+eCDD9i4cSN5eXlER0dz9tlnc+edd1a4RJw48SZOnMjOnTuPWW7w4MEhK20Icbo7qYYGCCGqj+VMw5NyN67940puzI/XRH1KoSkPnqSrJAlwErMsiwXLVrNu4xZ8Pj8OuwNDNzBNk9y8QvILi9iRvoelq9bhdNjp270LfbqffUr3FBBCnDx27twZ1nr3qampJ00iYOTIkVVeYlEcf5MmTWLx4sXHLJeWliaJACHKEfYdxPDhwyNuJD8/P+JjhRBlWa7GFKfcj2v/v9HMPDCqPoHg0Rv0gmbgSR6NGd25Zts6Be3POsiSles4mJ2Lz+/H4ymmXsp2ep7fmfopycftqbs/EODLGfPYvS8Tp92Oy+lEKUXWgRzyC4uwlELXNDRNQwO8Pj8z5i7mx9W/cvngfrRqdnzWcxZCnL569epVpfXuhQjXjBkzTnQIQpzSwk4EzJs3D03TUCqykQSnUvdTIU4Fylmf4gb/wHFwMrbC5aA5qjRvQPmNKFAeLEcTvHVuQhlx1Vv/Ke73reksWL6avIJCdE3DbrNhWiZ+v0nGviwmT5tDTJSbbud2oH2rZjUai2Uppn47n4x9WbgcDqBkboB9WQcpLPZgaDrGEe/DuqahGzYOHMxl8rQfGH5Rb9q3rtk4hRBCCCHEiRd2IsDtduPxeHj88cdJSUmpVCMPPvgghYWFlQ5OCHEMugNf8rUEYrrjzHy3pHeA7qx6QkApNKsIpbvw1jo0FECSeSGWrFzDslW/4nDYcdrLruJgsxkYuoHPH+D7eT+yb/9B+vU8p8aSoit+Wc+ujP24nI7gttz8QoqKPBj60eeBMAyDnLx8Zs1bRv26tamVIAkfIYQQQojTWdiJgE6dOrF8+XKaNm3KsGHDKtXIY489JokAIWqQ5WpKccMnMYrWYc+die7fByjQnJW7gVd+NBXAMuLxxQ8mENsVdJmU7Uir1vzGslXrcDocx7yx1zQNl9PBL+s343DY6XV+52qPRynFT2s34nTYQ7bl5hWEnXjQgPyCIpauXMvgAbJUlhBCCCHE6Szs6cK7dOkCwM8//1xjwQghqkCzYUZ3xlN/LMX1xxKIPhdlRIEywfKgmflgFYPlAcuLrrxoVgGaWQwqAJoD09mC4pS7KW7wFIH4PpIEKEdBYRELl60OKwlwOJfTwcpfNnDgYG61x7Rj1x6Ki70h8RR7vJimGXaMuq5TXOxl687d+Pz+ao9RCCGEEEKcPMLuEdClSxeUUqxcubLSjUQ6r4AQIjLKnoIv+bpD/wig+fdheLej+fejKS9+v49sXxHxcY0xYlth2euXDCkQx7Tylw1Yyoqoi7+maSxdtZZLBvas1piWrlqH/YhZ/4uKPZWux7Qs8vILyTqYS/2U5OoKTwghhBBCnGTCTgT069ePTz75BLfbXelGtm7dWuljhBDVRLOhHA0IOBoEN3k8HjLz03HFpOJyylP/cJmmxfpN23E6HMcuXA6H3c629D0ly/o5ys4rEKn8giIMIzQRYFkWJR3+w6dp4PX68UuPACGEEEKI01rYiYD4+HgGDx5ck7EIIcRJbW/mATxeX8iEfJXl9frYsXsvLZqkVktMlt+PN78Af2ERpseLUgrdMLBQKGVSibd5QMNSFvZyJj8UQgghhBCnj8p8QhRCiDNasceLaZlVqkPTNAoKi6ociy8nl93f/4/sX3+jwGuhlAb6oR4ACjRlYWoGSvOh2+3oYd3cK+w2G8m14qscnxBCCCGEOHmFPVmgEEKc6ZRSUA1TnlhW5JUopdi7cClrX/43B35ei6brOAwb6Aaappd86TpO3YaOhqUUps9HoKgIpayj1m2aFvXr1sYhPQKEOGPt2LGDhIQEbrvttrCPue2220hISGDHjh01GNnJo0OHDnTo0OFEh3HSGDx4MAkJCSc6jLA999xzJCQksHDhwhMdyiknNzeX+++/n/bt25OUlBT27/3ChQtJSEjgueeeOw5RinBJjwAhhAiTy+nA0KuWP1XKIiY66rB/K7YXBFiZ5WX1QS95fhOnrtE6wUGXJCcdE50Yh570W6bJlo8+I2fj7xguF7q9ZHsjHX614PABC5oGUQry0dAOtRMoKsZwOdGNsm/9Sil0TePift2rdH5C1IRx737GwZy8Ex1GuWolxHHXTVee6DBOeT6fjwkTJvD555+zefNmAFJTU+nRowcvv/zyCY5OCAHw+OOP8+GHH3LRRRdx1VVXoes68fHSi/BUJYkAIYQIU906STicVXta7nA4SGuQAsCy/R4mbMwly2vityDKpmFoYAG/5fr5cnshcQ6dIalRjGwcw/ZPppCzaTO2IyZtTTNgYzkjFqI08CvwQmk6ANPjBZeGftjkgkopLMuieZOGNKhXu0rnJ0RNOJiTx/6s7BMdhqghOTk5XH755axatYrzzz+fv/zlL0BJ74Qvv/zypEsETJs27USHIMQJMXv2bFq0aMGnn35aqeO6dOnCjz/+SFJSUg1FJiIhiQAhhAiDUgpVWERzu8G+tRuIKixAN01KxwooTccfE0NRYgKm3QGusssxBgIBGtSrg2538MTPB1iR5cVt03DbdA6/tTeA6ENP+y2l+HRrAd/+msG1m3eS4nKVDFGwLNA0NF3HrkFtHfaZYDtsoQBNg3ggX0FxyRZKkwF6tBulSurXdZ3EhFiGXti7Rq6dEEIczZ133slPP/3EO++8wxVXXBGyLxAInKCoKtakSZMTHYIQJ8SePXvo3r3yPQejoqJo2bJlDUQkqkLmCBBCiKMIFBWTMXcBvzzzKmtfep34n34idm8GNk8xesCPHgigBwIYPi/urEySN2wgbe0aGi5ZQsJvv2EUF/9Rl2lxTpcO3Lcii5VZXqLtOrp29CX+NE0jSrPYs3s/LyV3YWv6fvI2bSZv81byft9C3u9byN++kzb5udiUxZHTD2gaxOlQW4NoQEcDLEyvF5vNoE5SAvXqJNGudTPqpyRX/wUUQhxVdnY2tWrV4uqrrw7Z/tNPP5GQkEBCQgK7d+8O2de/f38aNmwYvEkOBAK88cYb9OjRg7p165KWlsYll1zCd999V6a9iRMnkpCQwMSJE/nuu++46KKLaNiwYVhj3jds2MCVV15Jw4YNSUtL44orrmD9+vVVOHtYuXIl33zzDSNHjiyTBACw2UKfWR0+h8GmTZu49tpradq0aZmxyjNmzGDo0KE0atSIlJQUunXrxuuvv45plu0+VVRUxOOPP067du2CZT/88MMKxzVXNEdAUVERzz33HOeeey4pKSk0btyYkSNHsnz58jJlDx+nPnXqVHr37k3dunVp1aoVDzzwAMWH/e2oLgsWLGDEiBG0bt2aOnXq0Lp1awYPHsxHH30ULHOsOSISEhIqXEXM4/GEXMfu3bvz8ccfRxyvx+Ph9ddfp0ePHqSlpdGgQQM6d+7M6NGj+fXXX4PlcnNz+de//sXFF19M69atqV27Nq1bt+aWW25h27ZtR20jnGvv8/l4++23ueyyy2jXrh116tShefPmXHvttfzyyy9l6jzW71hV6ps/fz6DBg2ifv36NGnShFtvvZWDBw9GcnkrFUfpPCBKKRYvXhx8byp9nRz+ep40aRIXXHAB9erVC75WjjZHQGZmJo8++ijnnHNO8PdmwIABvP766yHlPv74Y6666io6dOgQLHfZZZexYMGCiM5fSI8AIYQoly8nlx1TZ5C3bTuWz39oTL4dV7ydOEuRm18QehOvaSjDQOk6lmlhaBpR+/YStW8fgago9jVuTOuzO/LxXp1t+R6i7eHlYQOFhRRs34nm8RLQDd5p0597V0/Dfmj1AqUUltcL+/Zyjp7JlrhEshJqBecVKKVrEKNBTMm/wAwQm5KM3zSpWyeJoQN7oh0jKSGEqH6JiYm0a9eOxYsXY1kW+qF5SBYtWhQss3DhQkaNGgVAfn4+v/zyC3379sVms6GU4oYbbmD69Ok0b96cm266iaKiIqZOncqVV17J888/z6233lqm3a+//pq5c+dy4YUXMnr0aAoKCo4a5/r16xk0aBAFBQUMGTKEZs2asWrVKgYNGkS7du0iPv8vv/wSgEsvvZQDBw4wc+ZMMjMzadCgAQMHDqRWrVrlHrdt2zYGDBhAmzZtuOqqq8jOzsbhKJkp5cknn+TVV1+lQYMGDB06lNjYWJYsWcJjjz3GypUr+fDDD4P1mKbJlVdeycKFC2nfvj0jRowgOzubRx99lB49eoR9Hl6vl2HDhrFixQo6derEbbfdRmZmJlOnTmXu3Lm8//77DB06tMxx7777LnPmzOHiiy+mZ8+e/PDDD0yYMIHs7GzeeeedylzKo/ruu+8YNWoU8fHxXHzxxdStW5esrCzWrl3L5MmT+fOf/1zlNq6//np+/fVXhg0bht/v56uvvuL//u//yMzMZMyYMZWu77bbbmPq1Km0a9eOq6++GqfTya5du1i4cCH9+vULvu42bdrEs88+S69evbjkkkuIiopi06ZNfP7553z//ffMnz+ftLS0MvWHe+2zs7N5+OGH6datGwMHDiQhIYHt27fz7bffMmfOHGbOnMnZZ59dpv6KfscirW/WrFl89913DBo0iBtvvJElS5bw3//+l+3btzNr1qxKX9/KxDF48GDS0tJ44YUXSE1NDSYuj0yIvf766yxcuJCLLroo+B51NFu2bGHIkCFkZGTQrVs3Bg8eTFFREevXr+eVV17h//7v/4JlSycp7NOnD8nJyWRkZDBz5kwuvfRSPv74Y1nmPgKSCBBCiMMopdi/5Ed2fTsHpRSGw4HuDn2rTEqMx7QsCgqL0DW9pMd9eXXZbCVL+RUV0vT3TXgbNmapWUSMI4y3XqUoytiLPy8f0+sHTcemFAU2J9806sLwbT8Gi2qaBoaBTSla5B4goSCfrfUbogwbegWx+ZWiMOsAbc5qz+D+PTAM6SAmxInSq1cv3nzzTdasWUPnzp2Bkpv/tm3bkpmZGZIIWLp0KYFAgF69egHw2WefMX36dHr06MHUqVODN8P33nsvffr04bHHHmPQoEE0btw4pM3Zs2czdepU+vTpE1aM999/P3l5eUyYMIGRI0cGt5fedEfq559/BmDr1q3ccsst5OX9MSlkTEwMr732GpdddlmZ45YtW8b999/PI488ErL9f//7H6+++ioDBw7kww8/JCqqZHJWpRT33nsv77//Pl9//TXDhg0DSp62lt64TJw4MZiIufPOO+ndO/zhUuPGjWPFihWMHDmSt99+O5hYve222+jfvz9/+9vf6Nu3L7GxsWXinTdvHi1atACguLiYXr168fnnn/Pkk09Sr169YNnKzrhe+hQX4JNPPkEpxTfffEP79u1DykX6RPlIO3bsYOnSpcFzvO+++7jgggt49tlnueyyy8q8Bo8mNzeXr776irPOOos5c+ZgHDavjWma5OfnB//dsmVLNm7cSGJiYkgdCxYs4NJLL+Xll1/mtddeK9NGuNc+ISGBdevWUb9+/ZDjN2zYwMCBA3nyySf56quvytRf0e9YpPV9++23fPPNN3Tt2jV4HYYNG8aiRYtYsWIF5557bpljjqYycVxyySVccsklvPDCC6SlpfHwww+XW+fixYuZM2dO2MnBm2++mYyMDMaNG8f1118fsu/InlDLli0r8xrau3cvffv25fHHH5dEQAQi/uSXmJhI06ZN8Xq91RmPEEKcML7cPDa8/g7p38xCs9kwHI4Ky9ZJSqRWQjxoYFkWqNA++aUT8AEkJMRRt0FdJh6w4d+xA7PoGF0+laIwfTf+vPySvv2HrVnoMgP8ktSYYqPspIWapmHoOimmjy67dxBvBTABr/rjy3eotgaGzgU2xdA/9ZIkgBAnWM+ePQGCy5kFAgGWLVtG79696dmzZ0jX19IypcdMmjQJKLkhdxz2ntWgQQNuv/12/H4/U6ZMKdPm4MGDw04CpKens3jxYtq1axeSBAAYM2ZMlWYNz8rKAkpmI7/44otZvXo127dvZ8KECei6zi233MK6devKHJeSksL9999fZvuECRMA+Oc//xlMAkDJ++Pf//53NE3jiy++CG6fPHkyAI888kgwCQAlN5dXXXVV2OcxadIk7HZ7sI1S7du35+qrryYnJ4eZM2eWOe7WW28N3ogCuN1uLr/8cpRSrF69OqTsCy+8UKmv3NzcMu25j5hsFqiw10Vl3XvvvSGJjpSUFO644w4CgUC5r8Gj0TQNpRROpzMkCQBgGEbIcoXx8fFlkgAAvXv3pnXr1sybN6/cNsK99k6ns8zNMkCbNm3o2bMnS5Yswe/3l9lf0e9YpPWNGDEimASAkutQ+hr96aefyj3Ho4k0jqO5/vrrw04C/PTTT6xatYru3buXSQJAyXvY4cpLJNWtW5chQ4awZcsWdu7cWalYRRV6BMTExNCkSROczrITYgkhxKnGk3WADW++h+n1YbjKflAqT0JcDPFx0RQVecjOzcc0zZIx+hrYbAaJ8XFER7vR0Mg0XBxwROOwTAp2pBPVoB72uNhy6y3eu59AYRGaoWMFzJI798Oe7PsMG6tqN6Xn3o3lHq/pOg7LpMOedIwmjclXGh5VMgmhU4daGtg0DQoLUErJkAAhTrDu3buj6zoLFy7k//7v//j555/Jz8+nV69e7Nu3j6lTp7J9+3YaN27MwoULiYuLo1OnTgCsWbMGt9tNly5dytRbmixYu3ZtmX3lla9I6Y14t27dyuyLiYmhQ4cOIUMZKqM0YdquXTvGjx8ffD8aOXIkBQUFjBkzhrfffrvMeOH27duHJD5KrVy5kujo6ArHprvdbn7//feQc4uOji7zlBzgvPPO44MPPjjmOeTl5bF9+3ZatWpV5uYFSn4OH3zwAWvXruXKK0OXmiz9OR6utI4jb+RzcnKOGUtFhg8fzvTp0+nfvz8jRoygV69edO/endq1q2+lmPJeH6XbynsNHk1cXBwDBgxgzpw59O7dm2HDhtGtWzfOOeeccn/uCxcuZPz48axatYoDBw6ETDJZXnmo3LVfs2YNr732GsuWLWPfvn1lbpAPHDhA3bp1Q7Yd7XcskvoqE2+4IonjaCrzvrJq1SoA+vXrF1b57du38+qrr7JgwQL27NlT5mH03r17yx0CIioWcSKgRYsW7N+/vzpjEUKIE8KTdZD1r09AWeqovQDKo6ERHeUmOqokeWBZJsXFHtxuF7r+x1OMzc4EfLqO0zJRuk7R7j1EQZlkgFlUjC8nF630Kf2hD8mHcwb8rK+VWmEiAEqSAZbPjz0ri7p1yv+gZ/kDKMtCO+JpixDi+EpISKBjx47Bbv8LFy5E13V69OhBZmYmUHKjk5iYyJo1axg4cGDwKWl+fn65N58AderUAQjpbl+qMjeApccnJ5c/oWhpO5GIi4sD4MILLyyTlBw0aBBjxowJDh84XEXxZ2dnEwgEeOGFFypss7CwMPh9ONfvWEq7qVcU09F+DqXnf7jSn215ExtG6rLLLsNmszF+/Hg++OAD3n33XTRNo2fPnjzzzDN07Nixym2Ud/6l28o792P58MMPefXVV/n888956qmnAIiNjeWaa67h8ccfD/b4+Oqrr7jhhhuIiYmhX79+pKWl4Xa70TSNSZMmkZ6eXm794V775cuXB+d36Nu3L8OGDSM6OhpN05gxYwbr1q0rt4d0Ra+HSOur7tdKpHEcTWXeV0qTF4cPf6nI1q1b6devXzBBOmjQIGJjY9F1nUWLFrF48WLppR6BiBMB119/PXfffTffffcdF154YXXGJIQQx40/v4ANb76LshT6MSa1OTqFO7aQlEbbsbsKsNt1UDqmaZC1uy6/e1rhVCV/qDWNYDIg2jCwRf/RfbVoz14qHNh/iIEixxl97JB0DV92Ds5atdBtFdzsW4e6CgghTqhevXqxevVqVq9ezaJFi+jQoUNwZu569eqxcOFCkpOTsSwrOD8AlNwYlSYLjlS6/chx6UClegKV3oCUduM/UlUeDLVo0YKff/653OEFpds8Hk+ZfRXFHxsbi6ZpbN26Naz2Y2NjOXDgQLn7wj2v0usbyc+hMqoyRwDA0KFDGTp0KHl5efz4449Mnz6djz/+mMsvv5wVK1aQkJAQHB5R3o3lsZ46Z2Zm0rBhwzLboPyb2GOJjo7mscce47HHHmP79u0sXLiQDz74gLfeeguPx8O//vUvAJ5//nlcLhfz5s2jWbNmIXWUTkZZFa+88gper5dZs2aFdM2Hkh4o5Q1dgYpfo5HWV91qIo7KvK+U/n7v2bPnmGXffPNNcnJyysxRAnDPPfewePHiygUqgComAtasWcNNN93E2LFjGTVqVLnjc4QQ4mSllGLzJ5MxPT4MZ+V6AhxWC4l191O3cToOpxfLgoBfQ9cBTaHbAqS23II7uz3RhW4CRW6U0g5LBmQQ16wJGAam14vl96MdNk6VCv6omtqx7941TUOZJr7sbFy1yz7J03QdraIEgRDiuOrZsyevv/46P/zwA8uXL+fGG28M7uvVqxeLFi0KPpEv7fIP0LFjRxYsWMCqVavKdMst/XAcztKAR1PabX7p0qVl9hUUFFS62/fhevXqxeTJk9m4sWwPp9Jtlenue8455zB79my2bNlS5qawPO3bt2fRokWsW7euzPCAH3/8sYKjQsXFxdG4cWO2bt1KRkZGmXHX1fVzOFovh/JcffXVIYmAUqXd7gcMGIBpmnzyySesWrWK/v37B2/OMjIyyhy3Zs2ao7a3dOnSMktAlr5mqnrujRs3pnHjxowYMYIWLVrw7bffBhMB27Zto3Xr1mV+3nv27Dnm8oHh2LZtG4mJiWVulouKispd7u941xepEx1H6fvV3Llzue+++45atvTneNFFF4Vstyyr3OU5RXginiGqU6dOzJkzh+LiYh555BGaNWtGixYt6NSpU7lfpbPgCiHEySJr5c8U7twVeRJAUzRqu4m01r9j2AKYpg1lHXljrREI2HETwHAGiEnIRTcO6xlgWSW9AABfdu7h8wKWlDHKX5VAV2WHDJRL1/Hllu2SqZTCHhMt8wMIcZLo1q0bhmHwzjvvUFhYGPLUv2fPnmRkZDB58mTi4+NDunGXThb2xBNPhIzvzcjI4I033sBms5V5glZZqampdO/enV9//TU4uV6pV199NeLxyQDDhg0jKSmJKVOmhKwN7/P5gk/AL7300rDru+WWW4CSWf/Lmw1/3759IUmH0mvzzDPPBOcrgJIl6T799NOw273qqqvw+/088cQTqMMmj12/fj0TJ04kLi6uyrOa5+TkVOqrUaNGwWPnz59fbs+K0if2LpcLKEkSNG/enGXLloX0qsjPz+fJJ588anyvvPJKyGz++/fvD74Gj0wQHEtWVlZwDPmR18Dr9QbjhZLX57Zt20J6cHg8HsaMGRMyV0CkUlNTycnJYcOGDcFtpmny2GOPVdhL5njWF6kTHcfZZ59Nly5dWLJkSciSnqUOT0alpqYCJSsHHO5f//oX69evr9lAT2MR9wgob2bGo71o5MOmEOJk4s8vIH36LPSIJzxVNG77G/G1D2IGys7gf6R2tgwW+ZoRrxcTHZ9PYU4clqWj6Tr+/EICBYUlqwnoofnZkt4Boe+fFhDrO8bKA6XHH+oVoCyFdtiQA8vrI6Z967DqEELUvLi4ODp37syqVaswDCNk4rXSZeyysrK4+OKLQ2a3HzVqFNOnT2fmzJn06NGDCy+8kKKiIqZOncrBgwd5+umnK7VsW0VefvllBg0axK233sqMGTNo1qwZP/30Ez/99BPdunUrt7dAOOLi4oJLhw0cOJChQ4eSkJDA/Pnz2bBhA3/605+45pprwq5vwIAB3H///bz00kucddZZDBgwgNTUVA4ePMjWrVtZunQpjz76KK1atQLgmmuu4b///S/ffvstF1xwAf379yc7O5svv/ySPn36MGvWrJDrXZG77rqL77//ns8++4xNmzZxwQUXkJWVxdSpU/H7/bz11ltVHhpQFY888gi7du2iZ8+epKWloWkay5YtY9WqVZx//vkhT4XvuOMO7rnnHgYOHMill16KZVnMnj2bs84666htNGrUiG7dujF06FD8fj9fffUVmZmZPPbYY5V+DWZkZNC/f3/atGlDx44dqV+/PgcPHmTmzJn4/X7uuuuuYNmbb76ZBx54gN69ezN06FBM0+R///sfSinat29f5a72N998M3PnzmXQoEEMHz4cp9PJokWL2LNnDz179qz0RJnVXV+kToY4JkyYwCWXXMJdd93Ff//7X8477zw8Hg+//fYba9asCfYEuOGGG5g4cSLXXXcdw4cPp1atWqxcuZJffvmFCy+8kO+++67GYz0dRdwj4JdffqnU15FLoAghxIm0a9YcLH8g4iRlcsOMQ0mA8PKp7e17sGsWJTf1iqi4P56aoOsU792HZQbKHQlQMr7/jydMXpudljm7yxY8RAEFho0cu4M8mx2PpmMduQSQBnV79wgr9sqyLIsibyF+s3LLDglxpivtBXDWWWeF3DQ2btw4+ETs8GEBUJLs++ijj3jqqaew2WxMmDCByZMn06ZNGyZNmsSdd95ZLbG1bduWWbNmMWDAAH744Qfeeecd7HY7s2bNqnKi4ZJLLmHGjBl0796db7/9lvfffx8o6eUwadKkMsvHHcsjjzzCV199Rbdu3Zg/fz5vvPEG3333HT6fj4ceeijk6bRhGEyZMoU777yTrKwsxo8fz/Lly3n66aeDvS3CuYF3uVxMmzaN+++/n/z8fN58802mT59O9+7d+eabbyrVq6EmjBkzhr59+/Lrr7/yn//8h48//hifz8eTTz7Jl19+GXKNb7jhBl588UXi4+P56KOPmD17NldffXXw51KR//znPwwfPpyvvvqKDz/8kOTkZF577TXuvffeSseblpbGQw89RGJiYvBn+P3339OpUye+/PLLkKEzf/3rX/nnP/9JYmIiH330Ed988w09evTg+++/r9LSlqUGDRrEhx9+SOPGjZk8eTKff/45LVu2ZO7cucHfyxNZX6ROhjiaNWvG/PnzufXWW9mzZw/jx49n8uTJFBYWhgwXKP25d+7cmW+++YZPPvmE+Ph4Zs2aJb3Oq0DLyclRxy4mxPHn8XhIT08nNTU1pAuYqLoz/dpafj+rn34ldCx+pSjadV+Bppfe2B++S2GaFoahh4zvVwpuyrmWImVH10DTFEV5MQT8Jb0JlGmBRrkxKUsRKCoKtuXXde5dPY04f2g3T5+ms8sdzW53NAFNQ2kamgINRaLbSWuHjdo6KDOAKzmJdnfdEuH5lxUwA6zasphpqz7lQP5+1KE1D112F73bDmJgx6HEuROq1MaZ/ro9nWVmZh51tulx737GwZzKzzp+PNRKiOOum648dkFxynn66ad5+eWXmTJlCgMHDjzR4QghRFiO9Te1VFWmyBZCiFPSgZ/WYHo82KKijl24HDGJOdjsfkwz/LdQTYOro37ktYK+xGg+lAJnVDGBXHuwgOn1YnOXvcHVdA3dbsPyB/AadlrmZJRJAmQ6nPwaVwtT07ArVfLmfmicqlKKfHSWByBeU5ynLNpdffkxY7Ysi/QD2yj05uO0uUhNboLDVnYoxdqdq3h79osUevNx2aOwGX8MlQiYAb5Z9V++W/0lF7QdxNU9b5GhYqLS5EZb1KS9e/eWWSv9t99+4+233yY+Pp4ePWqm95QQQpxIVU4E+Hw+vvrqKxYvXsyePXvweDxMmzYtuP/HH3+koKCACy64oNJdu4QQoibsWbAEowpPlOs12YllVb43QT/HJr63t+X3QB3cmh/DMNF169BcARooC6VUuTfKhsOJGbBwmAFGbAmdLCfT4WRtfBI2pTBU2U5emqZh6BoGkGta/FyvPueUM5N0KV/Ay6zVX/LD2m8o9OQRsEx0TcflcHNO0x5cdv6fSYiuBcCPmxfy9uwXcNrdRDvLX6KsdPsP677hYEEWdw56RJIBQoiTxpgxY9i5cyddunQhISGBbdu2MWvWLPx+P6+//npwvXohhDidVCkRsGLFCm644QYyMjKCM6Qe+eFu5syZvPbaa0yZMoX+/ftXpTkhhKgyyx/An5+PbkT+9udwe1Cq8okATYNHYmZxd+4IcpUbt+5DN8w/kgqajgqYaPaysVkaWNHR/Pnnb3H7vXBo4j+fpvNrXEkSoLxba4VCO7RHWSZRiQl43W6+m7eMi/p3Y2/OLoq8hdgMO4nRSThsTp758l4ysncQ5YjF5Qj9ALx44xxWbV3C2MteQinF27NfxGV3o2nHvh5Rjmh+3r6ML5d/zOVd/1y5iyeEOCXs2LGDSZMmHbNcfHw8t99++3GI6NguvfRSPvjgA6ZPn05eXh7R0dH06NGDO++8Uz67VqNT8bVxqildaeNYbrvttnKXlhRnlojnCNi+fTu9e/cmPz+foUOHctFFF/Haa6/x22+/hSzXsn79enr06MGf//xnxo0bV22Bi9OfjAeuOWfytS3clcGGN9/FcEZ+3h16LUOpCp5oVzBHwOFyLReP5g0lXSWgF9oIeEu621v+AMo0MVyh3e+LseFWAW46sJYmnhwKd2cEVxjYEh3LjqhY7OX0BCgJR6Hb7egOO+46yTgTE/Gbfvbn7CE3fgXeQCGmMtHQ0DWDfbm7cTuiqB1Xt9z6oKS7v91mp0GtNLbu21TucIGKKKVQKMb9ZSJ2W+WWbTyTX7enu3DHM4qT38KFCxkyZMgxy6WmprJ27drjEJE4Wchro+aFe3P/yy+/hCwvKU4vNT5HwEsvvUR+fj6PPfYYY8aMASh3Dci2bduSmJjITz/9FGlTQghRbQp27MTymxiRrhpIcOh9xOJ1D+Pip/CVvz2fFPamULNhx8Jms5Us9acUpqbj0Ww4lUknTyZX5mzCrUwwDGLSUvHl5lGUmUWGKwqbZZWbdCjtqWWPiyG6fj10u53MvL1kZKejLA1Di8MZbwbLF3kLOFiQiaZpZOXvo3ndNtiNsjfrNsNGblE2GQd3UC8xrVLnrmkaRZ4Clv0+n15tZPItIU43vXr1Iicn50SHIU5C8tqoeXJ9RWVEnAiYN28ecXFx3HPPPccsm5aWRnp6eqRNCSFEtcnfvB3DWYUsAKAsHU2vWjZA1xQjo36iU66PJcXN+cVdm932GPw2HT3gI1n5aes5wLlF+4hWgTLHO+Lj8MTGobwm+qGeBCEZCl1H13VctZOIqpsCwL7c3ezJ3o2hG2CAVhwH8dnBQ/bk7EbXDHRdx2/62Zixjlb125ebDPD4itmft4+6CamVHu/vdkTz3S9fSiJACCGEEOIEiTgRkJWVRZs2bcL6AGgYBoWFhZE2JYQQ1SZQXIxmRLpsYIm8A4kk1t2PVYlVA8pjmja8ubGcZWVxlicLKFkhIKFtazJX/oztGN3ffQC6geEsOxGrUha6zYY7pU5JzMW5fyQBSt+2j5jnwOsvQj+0fKGu6VjKYvPeDbRp0KlM/V6/B5SFaZnYKjnfgq7rFHoLKnWMEEIIIYSoPhF/Go6Pj2fPnj1hld22bZuM/RNCnBQsM1Dh2P1w7duRChXNERAm3QiQm1kLywq9iVcK0i69mNgmjTA9ngqOPlRHBduVZaHpOjGN/nhan5G9E0PXCZ1RMLRXw5FDHnRNxxfwklecU6YNS1mAhsI6aowVUVUdXyGEEEIIISIWcSLg7LPPJjMzkyVLlhy13DfffEN2djbdunWLtCkhhKg2umErZ5C/iWZmo/t2Yng2YXh+O/S1EcO7FT2wH9QfN+U+jwtPYRSaFtlNcAmNvTtSy27VQDcMWo6+lsRO7TA9HpRVfjtu7Yj7ehTKMjEcdmKbNEK3lTyp9/qLS57gH54AURoYoUMODN0oc4OuawZ7c3aXadthc6BQGHrle0UopSrdi0AIIYQQQlSfiBMBf/3rX1FKceedd7Ju3bpyyyxevJi7774bTdP461//GnGQQghRXWxuN8o8dGOtfOi+HRjFv6H7dqGZ+aACgHXoywTLg+bfh+HZjOHZhGbmApC+sRm6rjjyqXo4SnsD+IrdZfZphnGojEGzUZfT4sZrMJxOTE8xViD0xt2tQawGllIlcwQAruQkYpr+kQQAyMzbVzZOS4O4AyGbkuNSsCwzZJumaXj9xQTM0LajnbFEOWPQw1g28EjFvkLObtK90seJ05eu65imeeyCQgghhKiQaZrBYZ7HEnEioH///txyyy1s27aNvn37MmDAADZv3gzALbfcQu/evRkyZAgHDhzgnnvu4dxzz420KSGEqDYxzRpjej3o/v0Ynt9Lbv41DTTj0H+POEDj0D4dVKCk14B3K8X5Lrb/2hLDMKlMMsAwAhTlxbFzQ8sy+5Rl4UiID9kW36IZHR++m5Y3/ZnYxmkYTgfKNLECfqxAgNZ2sOx23PVSiGvRFFdyEtoRJ+EJFAdv2C0TPIWKwqIA6TsLyNpnBXsB1IpORi+nV4BSCr/pC9lmM2y0qte+TOIgHDbDxkVnXV7p48TpKzY2lgMHDuDxeGTYiBBCCFFJSik8Hg8HDhwgNjY2rGOq1Dfz+eefp1WrVjz//POsWrUquH3y5MkAJCUlMXbsWG688caqNCOEENUmNi0Fm5WBFvABeuXmC9AADLCKMDybyNvfmC2BtjTp8Bu6EcAMVPyWqukmuq7IzazFjvWtUKpsHtb0eIlr3rTssZpGXLMmxDVrAoBlmii/v6T3gGGw/4tZHMzJQ6vg6bxSCp8PivIVAX/J2P/t+3ZzsMBC08Dh1GjYVKNRC51GtZuxbf/v6Oghk8GqQ8kOpRTFvkIuOusKGtRK4505LxPtCu8PDpQMU2hRrx2J0UlhHyNOfw6Hg+TkZPLy8sjPzz/R4QghhBCnHLvdTnJyctg9Aqo8SPOGG27g2muv5ccff2T9+vXk5eURHR1N69at6datG84qLtMlhBDVxvJSi4kYurfkKX+kNB0U6N5tFB5swvql55Jcfw/JDfdgs/vQdAtNM9D0kun0TNOgMCeePdsaUZwfTdluB6X1QlzzJsdsXj+UACg1cmh/Jn35Pbn5hTgd9pCyCsjPscjNVWiahmHo7M3JpMCfj8NZEodlKbZuUOzepji3bzxN67RkZ9ZW/JYfXdNRSqEBhd583I4oRnS9gYvPHoFSil+2/8jKrYtwO6KPGbfX7yXWHc/tFz58zLLizKPrOgkJCSc6DCGEEOKMUC2zNdntdnr06EGPHj2qozohhKgRzqwPMKz92GPs+ItMNL0KM/9rgNLRvTsw9Zbs25nKvp0NiYrLxu4+SHQMWJYdX7GT3KwkzID9mFXqDjvuenUrHYrL6eTaywfx7dyl7Ni9l0AggNPhQNM0dmbsx1MENkPHVBbpWRnkFOWFnoqmYXeA369YPtek+8A42jbsTH5xLpl5ezFVgKZ1WtGj9QC6t+qHw+YMHnfzwPvRfzBY9vs8HDYHdsNRJj5LWRR5C6kTX4+Hh79IjCuu0ucohBBCCCGqj0zbLIQ4IxhFv2AU/wqGmwbnWGyZk4fNVbUlAEuSARa6Nx3L2QTQKMiJp3iPE7fbha6H3+vA8vuJbdIIm9sVUSgOh51hg3pT7PHy89pNbNy6g5zcAvbsO4jN5uD33ZspKC4CDeyGjeS4WrjtTkDD4/eRlX8QHz5Mv2LNcotzLzCIi0rAMAyGnXsNl557TbntGrrBzQPu44K2F/Lljx+zff/vFPuK0DQNpRQOm5PEmCRGdP0LPVsPCCYRhBBCCCHEiVPlRMD+/ft5//33mTt3Lps3b6agoICYmBiaN29Ov379uOGGG0hJSamOWIUQIjIqgPPAJNBKbkLrtHGzfUFB9dSt6WhWAZqVj9LDHytfJkTTpMGf+lY5HLfLSfdzO9D93A78418fk1vkx+V04LTFUGx4aFInDbfdiaZpmIeWJYx2RpEUk4An4CM9aze5B7x4ixUOF9gMB/3bX3LUNjVNo3WDjowd/hLZhQfYtn8TuYXZRDmiSUlsQKPkZiHzDQghhBBCiBOrSomAr7/+mr/97W/k5+eHzPKbnZ3NihUrWLlyJW+++SavvfYal156aVVjFUKIiBhFa8AsBCOq5N92jaQWTvavL8bmjHjxlMPo6P59mM7IEgHKsnDExxPVsH41xFIiv7CYNRu24nKWdNWvn9iA+rWSsCwTSyk47D3bUiUJAYdho0XdJmzavYNtG4tJbePhL33+j1h3fLltlCcxOonEJt2q7TyEEEIIIUT1izgRsHTpUm688UYsy6JTp06MHj2aVq1aUadOHTIzM9m4cSPvvvsuv/zyCzfddBN169ala9eu1Rm7EEKExZ77LeihXdIb94gha2PJUmVVflqtaWB5QfmJZFVWy+cjbdTwan1qvnXnHjxeP3a7HQ2IdtlQKppCbwGWMsssMRiMRVm0aJDG7/s3cv/o0VzQdlC1xSSEEEIIIU4OET8Ke/HFF1FKcffddzNv3jyuu+46zjvvPBo3bsy5557Ltddey7x587jnnnswTZMXXnihOuMWQojwqAB64ECZVQIcMQZN+8ZiequrIQvNqvxwA9PrIaFNSxLatKquQAAoKvZiWiYAdlvJbb+macS4YnHaSuYhUIf+V6r034am065+Zy7sfFm1xiSEEEIIIU4OEScCVq1aRa1atXjssceOWu6RRx4hKSmJVatWRdqUEEJETPfvARUod19Kezex9e2YPlXu/kq2hGZWLhGgLAvD6aTJyEurof1QLqcdwyh5i3fYNA4/Q6fdRaw7nihHNHbDjq4bGLqBw+YkxhWH2xlDtNOF31/+dRNCCCGEEKe2Kg2ObdSoEbp+9CoMw6BRo0ZVaUYIISKm+TLQlL/8fZpGmyHxGA4Ny6xqMkBDszxhl1ZKYfl8NL16BIYrspUCjqZh3WQcdjtHWyHRZthxO6KJdsYQ5YzBZXejazqmpXA67GTsy6z2uIQQQgghxIkXcSKgQ4cObN++HdM0j1ouEAiwfft2OnbsGGlTQggRMc0qhgrGwwM4og06XVULjSomAzQAK6yiSiksr4cmVw4nvkWzyNs8itpJCTRuWBfLso5y9hVRJNeKp9jjq4HIhBBCCCHEiRZxImDMmDFkZ2fzxBNPHLXcU089RXZ2Nvfee2+kTQkhROQ0G3D0G3x3oo3O19RC1zVMf1V6Bhz7lltZFpbXS5NRl5PUuUMV2jq2ay7ti8dbuZt5pRQuhwO304HdXuUVZoUQQgghxEko4k95LVu25PHHH+eZZ55h/vz5jB49mpYtW1K7dm2ysrLYuHEj7733Hhs2bODvf/87zZs3Jz09vUw9qampVToBIYQ4GmVLRoWR83TXsnHWn5NY/1UOhZkBDCeVm8VfAfrR31JNjxdbtJvm148irmnj8OuO0DkdWtK6eRr79+8/5jAuABRYStE0rS52u43kWuEvGyiEEEIIIU4dWk5OTkSPvxITE9E07ZhLbx1tv6ZpHDhwIJLmxRnA4/GQnp5OamoqrhoYQ30mO6OurZlH1K6/g24Pq7hSioyfitixqLBkBn17mMkAZaJsdQgYyRQXe3C7Xei6cWiXieX3k9ipHY0vG4LhcER6NhXKPJDDsp/WcSA7F2Up3C4nXTq2on7dOjz43FsUFBQFJw8sN3ylUErRonEDYqOjqJUYxzWXXVjtcVbFGfW6FUIIIYSoQRH3CGjYsGG1rnkthBA1wogD3QnKhDDeszRNo0GXaJKau9jyQx65u3xYAcLoIaChjJiQLabHCxq46ySTOmQQcc2aVPFkysrJzeerWQvIyc0HTcNxqDt/YVEx02cvxuVycPnFvfl27lIOZOdjmiaapqNrGgqFZZUka6PcTpqkphDlclHs9dKtS80OWxBCCCGEECdOxImAtWvXVmccQghRYwJRXbAVLADNHfYxrniDdpcl4i+22LO6iD2/FGN6LcyAQjPAsGt/JAYUKHTMgJ2Atwhlmiink1qd21O/Xy9ctZNr5LyyDuYwaer3ADgcoT0edF3H5XSgLMXPazbSsXUz9mUeoMjjI+tgHgHTRNc1otwu6tVOxGEvOd7j9dGpbQuaNqpfIzELIYQQQogTT2aCEkKc9vzxA7AVLI7oWLtbJ61bDKldo/HlWxTs95Ozw0dehr9kYkEFqADK1YCYRq1xN2lErg6N27fDHR1VvSdyGL8/wJTpP6ChHbXLv6ZpOB129mdl07ZFUzZt20m024nT4QgmMpRSFHu92AyDczq3odd5nWosbiGEEEIIceJJIkAIcdpTtkTMqE4YhT+DEdnYck3TcMYZOOMMkpofVoeyAI2iho+BHoXH46EwPR3tKDfn1WH979so9vhwOY8934CmadhtNg5k53LztZfy87pNrN2wBZ/fDyjsNhvndmrD2R1aExMdfq8JIYQQQghxapJEgBDijOBNuoooz0ZQAdCq8Sbd8uKt81fQa+7p/5GUUqz4eX2Z4QBHYxg6Wdm5+Hx+up/Tge7ndECpkrliZb4XIYQQQogzS80+shJCiJOF7sJTezQoH6iIFkspyyomEHMuZlTH6qkvTF6fn6JiD3olb+ADgQDbd+0J/lvTNEkCCCGEEEKcgSQRIIQ4Y1iuFnhr/xWUt2QVgUgpBWYRprsjvqRrqy/AMPn8fhSVv4HXNY1ij7cGIhJCCCGEEKcSGRoghDijmFEd8KTcjSvzHTALwKjkmHjlB2Xijx+EP2FwWEsSVjeH3UYEeQAspXC7nNUfUDWzLIutOzJYtmod+YWFWJZCN3Rq14onrW4tUlNPdIRCCCGEEKe2k75HQEZGBm+++SbDhw+nffv21K5dm5YtW3LdddexcuXKco/Jy8tj7NixtG/fnjp16tC+fXvGjh1LXl5ehe1MmTKFfv36Ub9+fRo1asQVV1zBzz//XFOnJYQ4gSxXU4oaPEEg5nyw/Ghm0bGHC1hesDxYtmSK64/Fn3jJCUkCADgdDqJczuAY/3DZ7AZpDerWUFTVY9ee/bz98VdM+34h2Xn5KFUyhEFZip0Z+5iz+Gc+/XoOhUXFJzpUIYQQQohT1kmfCJgwYQJjx45l+/bt9OnThzvvvJOuXbsyc+ZM/vSnPzF16tSQ8oWFhQwePJg333yTFi1acPvtt9O6dWvefPNNBg8eTGFhYZk2XnnlFf7617+yf/9+brjhBoYPH87y5cu58MILWbhw4fE6VSHE8aQ78CVfS1HDp/ElDEbpUaACaFYxmpmPZuaDWQSWHzAw3W3w1HsAT/1HUPYTezOtaRrndGqNx+sL+xjLsqgVH0difGwNRlY1O9L3MGX6XEzTxOV0YOihf6LsNht2m43snDw+/mKWJAOEEEIIISKk5eTkVNOsWTVj2rRpJCcn071795DtS5YsYdiwYcTExPDbb7/hdJZ0d3322Wd58cUXueuuu3jiiSeC5Uu3P/DAA4wdOza4fcuWLZx//vk0btyYH374gfj4eAA2bNhA//79SUlJYcWKFdhsMoriePN4PKSnp5OamorLFdmSb6J8cm0roPzovj1oVgFgoTQnlr0uGOHfPFd0bU3TxOP1o+saDrsdo4rLC/r8ft6ZOA1lWej6sevyeL0Mv6gPTdLqV6ndmlJQWMz7/52OrusVToJoWiaeYg8utwvLVCTEx/DnKy6WCQ+FEEIIISop4k+ieXl5rFu3joyMjDL7pk2bxogRI+jRowd33HEHu3fvjjjAoUOHlkkCAHTv3p1evXqRnZ3N+vXrgZIltT7++GNiYmJ44IEHQsqPGTOGhIQEPvnkk5DutBMnTiQQCHDvvfcGkwAAbdq0YdSoUWzbto0FCxZEHL8Q4hSi2bGcaZjutpju9liuFpVKAhzJNC02bt7Bh5Nn8sZ/vuDdT79mwsSveeM/nzNp6nds2bGr0t37SznsdkYM7oulFKZZ8cSHSik8Ph/nn9X+pE0CAKxcs4FAIBD2Sgh2u42DOXns2ZdVw5EJIYQQQpx+In7M/cYbb/DSSy8xbtw4rrvuuuD2SZMmceeddwY/3K5fv5758+ezZMkS4uLiqh7xYez2kjW0DcMASp7u79mzh/79+xMdHR1S1uVy0b17d2bOnMnWrVtp1qwZAIsWLQKgX79+Zerv168f77//PosXLy53/5E8Hk+VzkeE8vl8If8V1Ueubc0pvabrNmxm6U/r8Xp92B22kqf2CnKLDrI/bw/r033MXz0fzTBJSjMZ0esKWtfvWKmn2/GxUVx+8QXM+GEpBQVFaLqGzVbyfmhZFn5/AIfDQc9zOtCxbfOT9j3KNC3Wrt+MzWZgWkdJalgq+F+TknILl69m2IW9jkucpyvpFSSEEEKceSJOBMybNw/DMBg+fHjI9ueffx6Ae+65h3POOYe33nqLRYsW8d5773HPPfdULdrDpKenM2/ePFJSUmjXrh1QkggAaNq0abnHlN78b9myJeT7mJgYUlJSjlo+HBkZGUd9Micis2/fvhMdwmlLrm3N+PX3Hfy6aSd2m4Gmafi8Pjz+ItJztmFaJoamUzrtvwrA/i02XtnzMnGJOjd2v5d4d2Kl2utzXluycwtY9/sOCgqLUQrsNoO2rRuTWr82hq6Tnp5eA2daPbJz88kvKMAe5hAsr/ePJRB3pGec1Od2sjMMo8K/mUIIIYQ4fUWcCNi5cyd169YlJiYmuG316tWkp6fTu3dvHn/8cQC6du1KmzZtmDZtWrUlAvx+P7fccgter5cnnngi2COgdFWAw7v4Hy42NjakXOn3tWvXDrv80dSvf/J2uz0V+Xw+9u3bR0pKCg6H40SHc1qRa1tz1qz/nV837SAmOhr90DwAxb4idmVuQ9d0jENP7EMoiPW2wufZzAfLX+axy/5JQnRSpdpNAzp1aFsNZ3ACGPtx2B04XUd/LSpL4fV6cTqdaHpJIsUMWDRo0BBdl3kChBBCCCHCFXEi4ODBg3To0CFk2+LFi9E0jcGDBwe31apVi2bNmlXbExvLsrjjjjtYsmQJ119/PaNGjaqWequDdK+sGQ6HQ65tDZFrW738/gBLf/oVu82GbugYuoGlLLZn/l4yNKCibv8aoCzs+U3wOTfw5pznePLKfx/X2E+kqCg3umFg6OUkSQ5TOhxA07U/yto03G6XTBgohBBCCFEJEU8W6HA4yM7ODtm2ZMkSgDKT+7ndboqKiiJtKkgpxd/+9jcmT57MyJEj+ec//xmyv3QOgtzc3HKPz8/PDylX+n1FT/zLKy+EEBVZ//s2/P5AyE1pTtFBAqa/4iRAKQ2wDOxWAhnZO9h1YHuNxnoySYyPDc5tUBmWUkS5nJIEEEIIIYSopIgTAS1atGDbtm1s3rwZgJycHObNm0etWrVo3759SNm9e/eSnJxcpUAty+LOO+/kk08+YcSIEYwfP77MklmlY/q3bt1abh2lY/1Ly5V+X1BQUO5Y6fLKCyFEeZRSrPh5PQ6HPWT7/pyMYz7pDtIU5CUBGl+tmFj9QZ6kotwu6tauRSBQuTlWfD4/53RuU0NRCSGEEEKcviJOBFxxxRUopRg+fDiPPvooQ4YMobi4mJEjR4aU27lzJxkZGbRo0SLiIC3L4v/+7/+YOHEil112GW+//XZwXoDDNWvWjHr16rF8+XIKCwtD9nk8HpYsWUK9evVCJkbq0aMHAHPnzi1TX+m20jJCCFGRwqJiCos9IU+nFeAzfcfuDVBKUyifC6fNzfbMzTUT6Emq+7kd8ZuBsMsrpbDbbbRt0aQGoxJCCCGEOD1FnAi4+eabGTJkCLt27eKNN95g3bp1dOnShQcffDCk3GeffQZAnz59ImqntCfAxIkTufTSS5kwYUK5SQAATdO47rrrKCgo4MUXXwzZ9+qrr5KTk8N1110X8kH9mmuuwWaz8corr4QMKdiwYQP//e9/adKkCb17944odiHEmaPY4wsum1pKKYuSdEAlKR3TCv+m+HTQoG5t2jRvjCeMJS2VUnh9fv7U+zzs9oinuhFCCCGEOGNF/AnKMAw++ugjVq9ezdatW2nQoAHnnXdembGajRs35tlnn2XYsGERtfPCCy8wadIkYmJiaN68OS+99FKZMoMHD6Zjx44A3HXXXXz77beMGzeONWvW0LlzZ9atW8fs2bPp0KEDd911V8ixzZs356GHHuLpp5+mR48eDBs2jKKiIr744gv8fj/jxo3DFuaSVkIIcThN09Go/Ph1pRQ2/cx639E0jUF9uwKw4fftOOy2cpO+/oCJ7je5sM/5tGre6HiHKYQQQghxWqjyJ83OnTvTuXPnCvdfccUVVap/586dABQUFPDyyy+XWyYtLS2YCIiOjuabb77hhRdeYNq0aSxatIiUlBRuv/12HnzwQaKjo8scf99995GWlsb48eN5//33sdvtnHfeeYwdO5azzz67SvELIc4MTqe9TCJUAxx2F16/J/wJ7TTw+As4r0X3Y5c9zei6zkX9utG2ZROWrFxD5oEc/IEAylLouo7N0GlYN4mBfbpRL6X8ZV+FEEIIIcSxaTk5ORH0WxWi5nk8HtLT00lNTZUl7qqZXNvqp5Riwidf4/V58Xq8uNwuDN0gtziHbfs2VTikKbQS0Gw+/Em/8+xVb1M7rm7NB34Syy8o4kB2LgHTxGG3kRAbzb59e+V1K4QQQghRRVXuEZCXl8fChQvZvn07hYWFZcbIltI0jQceeKCqzQkhxElJ0zTO6dSK/y1eFbI9zh2PzbDj8XkwAwrTMg87RsduM7DZDAxDB8vA595Ny7ptw0oC5BUUsvKXDWzbuQfLstB1nfopyXTt0p7E+NhqP8fjLTYmitiYqOC/PR7PCYxGCCGEEOL0UaVEwKuvvsrLL78c8uHsyESApmkopSQRIIQ47bVv3YyFy3/B5/UCUFBUzM6MTIqKnHj1vEOLBxw+RMAkYJpo3pL3SrtDp05yFHcOevSo7Xh9Pr6ZvZhde/ZjWhZO+x/DEjZu3sHGrTuok1SLYRf2IjrKXTMnK4QQQgghTlkRJwLeffddnnrqKQA6derE2WefTXJyMroe8UIEQghxSnM6HJzfuS1zFv7I3gO5HMwpQNM0DN2OmxS8HEBRuhqAdtj/KzRlsCt3K9q6bmT1LyStftn5TAA8Xh+TvvyOvPxCHA479iP2OxwlWzKzsvno82+57vJBxERHla1ICCGEEEKcsSJOBLz33ntomsYrr7zCDTfcUJ0xCSHEKSsttS4bt+3Bbj/U3f8QDQOXqoOFH7+WhyKAQqGhYcONz2eQpM4jJ8fLHY//m/v+OoILzu9Ypv6vZs0nt6AAp8Nx1Djsdhs+n5/J037ghlGXhD9ZoRBCCCGEOO1F/Ph+27Zt1KtXT5IAQghxSE5eAfc9+y77swvwBUqGSR15+61jx6mScKkU3KouLpVCwBuDZZZ04XfYbbidTl58ewoLf1wbcuyBg7ns2XcAp/3oSYBSdpuNnLwCduzaU+VzE0IIIYQQp4+IEwEJCQnUqVOnOmMRQohTllKKx179kILCYhx2G76ARYHHwuNXHDmHasCwkxOVyIakFvxY7yw21W1DseOP7vuaphHldvHyO1+wN/NgcPuSVWsq/WTfbjNYsnLtsQsKIYQQQogzRsSJgP79+7Nx40by8vKqMx4hhDglfT17Kdt27sXlDH1a7zcVhd6SpMB2dwrLG3RhSep5rK7Tjv0xdSh2RHEgPoV1zc5jbbPzKXCVzPavaxqapvHU65OCk7Du2pOJw165EV2GYXDgYC6WJSvFCiGEEEKIEhEnAh577DHi4uK4++67KS4urs6YhBDilOL1+flk6g9Euctf214B2+q1Ymu91nhsLlCgK4VGydABwzIxLBOfzcmGpl3IjkkCwOmwsy19H0t/2gCAZVoRxacAn98f0bFCCCGEEOL0E9ajpU8//bTc7TfccAOvvPIKS5cu5fLLL6dJkyZERVU8O/VVV10VWZRCCHESm7tkNUXFXmJjosoMAwDISG5MZmJ9bGag7M7DaCh002Rzagfabl1BtLcQt8vBxK/n0r1LWzRdK7mrj4DNMCI7UAghhBBCnHbCSgTcfvvtFY5LVUqxd+9e3nzzzWPWI4kAIcTp6OvZS4iOKr83gKnp7ElOwzhGEqCUBmjKYke9VrTd/hM2w2D3niyyDuYSE+UmL7+wUsu0KqVwOR3YbJIIEEIIIYQQJcJKBIwaNUqWnhJCiHKYpknWwTyMCp64ZyXUxdKNY/YGOJyuFIXuOHw2B46AD4/Xx6Ztu+nWpT3TZy/C5XSGXZfH6+O8s9qFXV4IIYQQQpz+wkoEjB8/vqbjEEKIU9KuvQfwBwIVJgL21UoNuzfA4SxNZ39ifRpmbsdut7Nq3e/cfu0QXC4nlmmF1StAKYXNbqNj22aVbl8IIYQQQpy+Ip4sUAghBGTn5uP3mxXuNw0bkfSnMiwT76ElBR12G3v3H8QwdIb+qRf+QOCYqwAopfD6fAy64HycDsdRywohhBBCiDNLxImATp06ceONN4ZVdvTo0XTu3DnSpoQQ4qSllAKthpfm08CySlYMaFivDpdd3BeFwuP1BpcWPDwej9dLwDS5qF83WjVvVLOxCSGEEEKIU07lFqQ+zM6dO6lfv35YZfft28fOnTsjbUoIIU5abpcTXas4p2pYJn5Dr3SvAEvXcfpKlmY1TYvYmD9WZGnUsC43XT2U1b9uYvWvv+Pz+VFKoWkaNpvB2R1ac06n1sREV7yKixBCCCGEOHNFnAioDK/Xi812XJoSQojjKrVebez2it/f6hzYxY56LbBXcp4ATSlqZ2cA4PF66dSmach+t8tJty4dOP+s9uQXFuLzBXDYbcRER2EYMupLCCGEEEJUrMbvzg8cOMDGjRupU6dOTTclhBDHXXSUi9hoNx6vv9zVVWrn7mFXStNyjqyYpWlEefJxBrxAyRwBrZullltW1zWi3W5+2fArPyxezc6MTIo9XjRNw+mw07Bebfqc34He53fAYbdX/gSFEEIIIcRpJ+xEwKRJk/j0009Dtq1fv54hQ4ZUeIzH42Hjxo0UFBQwdOjQyKMUQoiT2HmdWzNr3kqio1xl9hmWScrBXexJbhTWEoIKsHSDRns2lfxbKaKj3DRJrVumrGVZfDFrMZ/PXEBBYTEOhwPHod4JSimKPT7W/76Dn9b9ztuTZnJJ//O5Zlg/bLbyVzgQQgghhBBnhrATATt37mTRokXBf2uaRl5eXsi2ivTu3Zt//OMfEQUohBAnuysu7sWchT9VuL/h/q147S4OxqdgmIEK5wtQgGXYaLbrV2I8+QAUFBVz1ZA+ZZYLzM7N55GX/sPOjP1EuV0Vzgdgt9mw22wopZgyYwELf1zL0/f9hbq1a0VyqkIIIYQQ4jQQdiLg6quvpmfPnkDJk6ahQ4fStm1bXnjhhXLLa5qG2+2mUaNGJCUlVU+0QghxEkpJTqRjmyasXr8FpyO0+72hW6TEFtPGXMxv3uasd7ekULnQAyYaJTP+W5p+aHJAD43T1xJflFOyXSmiXE6G/al7SJ0HsvO464nx5BcWEx3lDitGTdOIjnJzICefv/1jPOP+fhv16kgyQAghhBDiTBR2IiAtLY20tLTgv7t370779u2DyQEhhDiT3fvXEdz04KtYh5bza5KUx+D2u6kXX4Rdt7AZFrABr2ljhacZM4rOZktOIrnFDly+YupnbifKkx/SW6DY4+Hem0YQd9iKAYGAycMvvk9BYTEup6PScTrsdnz+AA8+/y7vvnCPzBsghBBCCHEGiniywBkzZlRnHEIIcUqLj43m3r+O4JW3PuSOPttoXb8Iv2lgWjqmpcNh0wN0tm3j7PgtuJItMnKj+HB5K7I9zpD6ioo9nNepNX26dgzZPunr/5Gx70DYPQHK47DbOJibz/hPZnDXDZdGXI8QQgghhDg1yRpTQghRTbq1r817t2TTJDmfYl9JEqAiltIp8tmoHVPMvf1/oWF8QXBfQVExHVs3Yezto0JWIigq9vLV7CVEuctOSlhZ0W4385b9Qk5ewbELCyGEEEKI00qVlw8sLCxk1qxZrFu3juzsbPx+f7nlNE3j3//+d1WbE0KIk5NVjGvvqzgTXaDqsntfNqZlYuhHn6HfbxromuLWXut5/vv2ZOYZDB3QlZuuHIRhhB47e9FPeLw+YiuYGLCyvD4/X323hL9c8adqqU8IIYQQQpwaqpQI+OKLLxgzZgz5+fnBberQ+NjDn2IppSQRIIQ4rTmzPkazClCag9hoNx1ax7MzI5Oc3AIsS2EYOlSwXkDAVNgMi9v7bCe+w/M0b9Kw3HJzFv1EdDX0BigVE+Vm0apfJREghBBCCHGGiTgR8OOPP3LLLbfgdru59957mTp1Klu3bmXcuHHs3r2bdevWMWvWLJxOJ/fddx9165ZdA1sIIU4Hmm8PRvE60F1gWgDYdIPmjeoTCFjsy8rmQE4efn8ApdShtQJK0gI2m0F8bAz1U5KIcpp4ax/EpGwiQClF5sHcMssIViluTSMntwDTNMv0PhBCCCGEEKeviBMBr7/+OpZlMWHCBC666CIWLVrE1q1b+fOf/xwss2nTJv7yl7/w7rvvMm/evOqIVwghTjqO3JlU9LTfZtNpUDeJBnWTQIEvEMCyFBpgt9vQ9cOOUyb2nJmYUR3L1OMPBPD5/NireZZ/07LIKygiMT62WusVQgghhBAnr4gfLa1YsYKkpCQuuuiiCsu0bNmSjz76iL179/Lcc89F2pQQQpzUDM9m0J3HLqiVzNjvctpxOu2hSQAAzUAPZIIqO9eKUgR7ElQ3y6qpmoUQQgghxMko4kTAwYMHadjwj+6rpU+pCgsLQ8o1b96c1q1bM3v27EibEkKIk5dZAMpTbdVpyofu21Nmu8NuwxZ2932FaVn4/H4CgUBw7pZy29M0oqOqb94BIYQQQghx8ot4aECtWrXweP748JuUlATAtm3baN++fUhZy7LIzMyMtCkhhDhpaWY+KKuikQGVpwJoVl7ZdjSNhLhocvOLQiZjPZxlWWQdzCVj/0ECpnmoPtA0iIl207BebaLdTg4PNjbajcvpqKbghRBCCCHEqSDiHgFpaWns3bs3+O9OnTqhlGLKlCkh5dauXcvmzZtJTk6OPEohhDhjaFSUVejcthlFxd5y9igy9mXx86+b2b57H6ZpomtayZeuoWka+QXFrN+0gzW/bcPr8wHg8fpo0aRBzZ2KEEIIIYQ4KUWcCOjTpw+5ubls2LABgBEjRuByuXj99de5+eabeeedd3jmmWcYNmwYlmUxZMiQagtaCCFOFsqWCFr1zeSvNDuWUavcfZdf1PPQMoQhR7AtfS+79maBpmEzjHJ7DOi6hmHo+PwB1m3cTlGxB0tZXD20b7XFLoQQQgghTg0Rf3odPnw4vXv35vfffwegYcOGvPLKK9hsNqZMmcKDDz7IK6+8QnZ2Nueccw6PPvpotQUthBAnDd0FenTJbH7VQbOh7HXK3VW3di3atUyj2PNHr4Ddew+QeTC3JAEQTriHkgS/btpOvdq1aJpWrzqiFkIIIYQQp5CI5who06YNX331Vci2q6++mu7duzN16lR27tyJy+Wia9euXHLJJbJGtRDitBVwd8JWsAA0d9UqUn5MZxPQKn6/fOCWkYx+4FUsy8JSFnsyD0b0/mopRa1EWTJQCCGEEOJMFHEioCKNGzfmnnvuqe5qhRDipOWPH4CtYFHVK7L8+OOPPowqIS6Gh26/kif+9QnZuQVYllWJ1QRAqZIVBZql1WfT1t0UFnlk1QAhhBBCiDNM9Q1sFUKIM5SyJeKPvQDNLIq8EqsYM6o9lqvJMYue27EVY+8Yxd7MgxWuIFBuE5aFpRRNUuuSXCsej9fHrPkrIo9ZCCGEEEKckqqcCNi/fz8vv/wyw4cPp2vXrnTu3Dlk/zfffMN//vOfkKUGhRDidONPHIrlqI+mInivs3woPRZv0p/DPqRxw7q0bNIQt9NBwDSxLKvi6i1FwDRxOOy0b9mE2rUSAIiJcvO/ZWsqH68QQgghhDilVWlowDfffMPtt99OQUEB6tBEWUc+ndq4cSPPPPMMSUlJsnKAEOL0pdkornsPjt0vo3u2gwqzu73pQdni8NS9F4yosJsrLPJgsxm0a9mYgsJidu/LorDYi2Wp4MSFmga6rhPldtKgbjJxMVEh79GapuH1+StzlkIIIYQQ4jQQcY+ANWvWcOONN1JcXMwdd9zBjBkzyvQGALj88stRSjF9+vSqxCmEECc/3U1e8hgOaucBfjCLKl5NwPKgWR4C0WdRXP+xkmUIK9OUrqFpJV+xMVG0bpbG2e2a07F1E9q0SKNNizQ6tG7KWe2a07ZFI+Jjo8tfVrASQwuEEEIIIcTpIeIeAa+++iqBQIDXXnuNa6+9FgCXq+wTsMaNG1OnTh3WrVsXeZRCCHGq0AyyjH5E1bmUGO8ibEU/o1lFoExAK/nS3QSiz8EfP6jCpQKPJS4mCl0PvYnXNA2nw47TYQ+rDtM0iZGJAoUQQgghzjgRJwKWLFlCrVq1gkmAo2nQoAFbt26NtCkhhDjlKCMef63L8de6HCwvmplzaHss6OEPAahI7aQEkmvFk5tXiK5H1rmr2ONj2J+6VzkWIYQQQghxaol4aEBOTg4NGzYMq6xSCp/PF2lTQghxatOdKHsKyp5SLUmAUlcO7k1RhBOxKqWIiXbT/ey21RaPEEIIIYQ4NUScCEhOTiY9Pf2Y5UzTZMuWLdStWzfSpoQQQpTjgq4diXa5jrpiQEUKi4sZ0PMsbDajBiITQgghhBAns4gTAV27diU7O5sZM2YctdzEiRPJz8+nd+/ekTYlhBCiHA67nftuGUGxxxtcuSUcxR4vDevW5s+XDajB6IQQQgghxMkq4kTAnXfeCcDdd9/Nd999V26ZTz/9lIcffhibzcatt94aaVNCCCEqcF6n1twz+jKKPV5M0zxm+SKPh7q1E3nx4ZvCnlRQCCGEEEKcXiKeLPDss8/mqaee4rHHHuOqq66idu3aeA6NVb3ooovYtGkT2dnZALz00ku0bt26eiIWQoiTnFPtI/rgbBzWXlCBksUCsGO62+GPH1jppQKPpX+Ps0hJTuSNj6exe+8BANwuZ3C/ZVkUFhUT5XbRt2snbr9uCC6no1pjEEIIIYQQpw4tJycn/P6k5ZgzZw5PPfUUa9asKbOvTZs2PPHEEwwcOLAqTYgzlMfjIT09ndTU1HKXphSRk2tbA5TCKFyBcXA6/sI9OF1R6DZXyH6UBzCwHA3xJQ7HcjWr9jB2Zuxn0tf/Y+OWdPwBE13XiHI7GdK/K/17nHVKJwDkdSuEEEIIUT2qnAgolZ6ezvr168nLyyM6OprWrVvTtGnT6qhanKHkQ3/NkWtbzZSJI+sj7IUrMZWTYq8Xt8uNblQw+koF0Cwf3lojCMT1Oa6hnsrkdSuEEEIIUT0iHhpwpNTUVFJTU6urOiGEODUohTPzPYyitSgjGswwZvDXbCjdwHHwc1AWgfh+NR+nEEIIIYQQh0Q8WaAQQgiw536LUbQWDHflDtQ00N04c75EL95YM8EJIYQQQghRjrB6BHz66afV0thVV11VLfUIIcRJQQWw5/0P9Ai7qWsaCieO7Kl43A9Vb2xCCCGEEEJUIKxEwO23346maRE3opRC0zRJBAghTitG4U+gikGPirwSzUD370HzZ6HsydUXXGUphe7bgVG0DsP7O1jFoDkwnU0w3e2xXC1Ak05kQgghhBCng7ASAaNGjSo3EeDz+Zg2bRp+v5/69evTrFkz6tSpQ2ZmJps3byYjIwOHw8GQIUNwOE7dmaqFEKI8jtxZoFXDpHXKxJH9Of64P4GmY9mSwYiper1hta0wClfiyPka3cxFKQW6EzQDlIXu24E9/3+gx+CLG0ggrl/JsAYhhBBCCHHKCisRMH78+DLbCgsLGTx4MLVr1+aFF15g8ODBIckCpRQzZszgoYceYsuWLcyYMaP6ohZCiBPNKkYLZINuj+x4pdDMXLRAFpryYfi2YxT/CmiAAbqTgLs9/vhBNddTwPLg3D8Bm2cTSnej9CPmOdB00A5tUyaOnKnYCpfjTbkTZcTVTExCCCGEEKLGRdzP87nnnmPt2rVMnjyZSy65pEyPAU3TuOSSS/jvf//LL7/8wvPPP1/lYIUQ4mShWUVAhKuvmkUYnk3ovl1olo+Sm/+SyQPRXYeSCxa2wuW4M57CkTURLF/1BQ9geXHveRnDuxllRB37Kb+mgR6F7t+PO+M5tEBu9cYjhBBCCCGOm4gTAdOmTaNVq1a0a9fuqOXat29P69at+frrryNtSgghTj4qjGUCy6H5szC8W0GZJd3vj3YDrrtBd2IrXIZ7zzNoZl6EwZblzPoAzb+v8hMd6g6winHt/3fE10AIIYQQQpxYEScC9u/fH/YEgpqmsW/fvkibEkKIk46KYKUALXAQ3b8X0MtJABw9IaAFcnDteQmsokq3eySjaG3JMITKLnkYjMeB5t+DLW9ulWMRQgghhBDHX8SJgJSUFH777Tc2bdp01HKbNm1iw4YNpKSkRNqUEEKcfPTokkn1VJjDAywfun8P5ScBFEo/xoSquhPNzMWZ9Ukk0YZwZH8FmrNqlWhuHHmzpVeAEEIIIcQpKOJEwGWXXYZlWYwcOZIffvih3DJz587lyiuvBODyyy+PtCk+++wz7r77bvr06UOdOnVISEhg4sSJFZbPy8tj7NixtG/fnjp16tC+fXvGjh1LXl7F3WqnTJlCv379qF+/Po0aNeKKK67g559/jjhmIcRpTtPxx3QvWWYvDLovvWRKgfJ6UikLZQsjWaq7MIrWoBdvrlysh9H8mWiBrKovBahpYBWie46eDBZCCCGEECefsFYNKM/999/PggUL+Omnn7jiiitITU2lZcuWJCUlceDAAX7//Xd27tyJUoqzzjqL++67L+Ign376adLT00lKSiIlJYX09PQKy5auZrB27Vr69u3LiBEjWLduHW+++SYLFy5k1qxZREdHhxzzyiuv8NRTT9GwYUNuuOEGCgsL+fLLL7nwwgv54osv6NWrV8SxCyFOX4G4vtjz5h27oOVFszwV33xrNpQeXf6+I+l2HLnT8LjHhB1nyOHeLWjKj6KKPQIA0DCKf8Vyt66GuoQQQgghxPES8SOhqKgopk+fzm233Ybb7Wbnzp3MmTOHzz77jDlz5rBjxw7cbje33nor06dPJyoqKuIgX3/9ddasWcOWLVu48cYbj1p23LhxrF27lrvuuoupU6fyj3/8g88//5wHHniAtWvXMm7cuJDyW7Zs4bnnnqN58+YsXryYZ555hn/9619899132Gw2/va3vxEIBCKOXQhx+lJGHKarBVjeo5bTAgeocIUBZWLZko86RUBoZfaS3gVh9kQ4kuHZjNIiXPKwTCzOkokPhRBCCCHEKSXiHgFQkgx49tlnGTt2LEuXLmXz5s0UFhYSHR1N8+bN6dq1K7GxsVUOsk+fPmGVU0rx8ccfExMTwwMPPBCyb8yYMUyYMIFPPvmEhx9+ODjR4cSJEwkEAtx7773Ex8cHy7dp04ZRo0bx/vvvs2DBAvr161fl8xBCnH68yX/BvedZNLOgZEb9cmhWIeXmXZWJMqJRtuRy9gGYh745YnUB5Uf37cZyNa90vJo6Ss+ESlemg/JXT11CCCGEEOK4qVIioFRMTAwDBw5k4MCB1VFdxLZs2cKePXvo379/me7/LpeL7t27M3PmTLZu3UqzZs0AWLRoEUC5N/r9+vXj/fffZ/HixZIIEEKUz4jCU/deXHteRrMKgHKetqtA2bkBlIkyorAcjUJ7A1g+9MD+Q0sFquC8Akp3o2wpKD0KlIXu3RFRIkBp0YeWLqyGXgHKKpkwUQghhBBCnFKqJRFwstiyZQsATZs2LXd/6c3/li1bQr6PiYkpd1WDw8uEw+PxVDpmUTGfzxfyX1F95NpWNzeepHuJzv4PuncruvJgWX/0DtCVOmxggAnoWEYClq0eWFDyfwrDn4Fm5QKg0AlmCBRgFqGZW9E0F6atDgFffkTvOabRhBhzPkodY5WCMGhWER5X4+P23iev25rhclV+KUwhhBBCnNpOq0RA6aoAh3fxP1zpMIXDVw/Iy8ujdu3aYZc/moyMDEzTDDteEZ59+/ad6BBOW3Jtq9sQbCqPWtpy4ry/ouEHFG4CaIDCwE8tAsShlA6BQzfQClzsQVGIwjhUV0XL8hWhmdvJ8uWRnVPxxKkVsSk7TUwLpUU2x8DhdOUlPZCEJ7fycVSFvG6rj2EYFSbPhRBCCHH6Oq0SASda/fr1T3QIpxWfz8e+fftISUnB4aj600vxB7m2Nafk2sah1bkKl1GMpopwHPwA3cwH3YGNsm+8mnkQI1BMucMKytABP/WidhFTOzWiGO1ZjTH8+0Grwp8ApVB6LLXrnF/+kog1QF63QgghhBDV47RKBMTFxQGQm5tb7v78/PyQcqXfV/TEv7zyRyPdK2uGw+GQa1tD5NrWHIfTjcOVCIAKnIeeOxuM8iYMBMN3ADSD8JcOsGO39uOyB8CIqXRsZvIo7Pv+BXrkkwZqZjGepCtwud0R1xEped0KIYQQQlRNNU0dfXIoHdO/dWv5y1mVjvUvLVf6fUFBQbldTcsrL4QQlRWI7V3h03fNKjo0836YSQBlofQoNBXAnr8gongsV1MC0eehRbgEIZYX09UMM/r8yI4XQgghhBAn1GmXCKhXrx7Lly+nsLAwZJ/H42HJkiXUq1cvZDxkjx49AJg7d26Z+kq3lZYRQohIKFsipqsZWGUn1dOs8OYgOaw2LHsKSndjFK2OOCZf0ihMZ7PKJwMsD8qWjKfOLcdtSIAQQgghhKhep1UiQNM0rrvuOgoKCnjxxRdDBiHSiwAAQItJREFU9r366qvk5ORw3XXXoR324fWaa67BZrPxyiuvhAwp2LBhA//9739p0qQJvXv3Pm7nIIQ4PfmSry/pFaBU6A5lEn5vABPLlgi6GzQNTfkjD0iz4Um5E3/0+SUJCnWMiU6VhWYVYbpaUVzv/pIYhBBCCCHEKemUmCPgo48+YunSpQCsX78egI8//phFixYBMHjwYC655BIA7rrrLr799lvGjRvHmjVr6Ny5M+vWrWP27Nl06NCBu+66K6Tu5s2b89BDD/H000/To0cPhg0bRlFREV988QV+v59x48Zhs50Sl0kIcRJTRhzepOtxZb6L0l2HPU03AHW0Qw9VYILuRNnrHfq3QlVlsj8AzYYv+VoCMd1xZE9B9+1Bs7wo3QGaXnLzr3wozYGyJeNN/DNmVMeqtSmEEEIIIU64sD5FpqdXz9JQqamRzXC9dOlSPv3005Bty5YtY9myZQCkpaUFEwHR0dF88803vPDCC0ybNo1FixaRkpLC7bffzoMPPkh0dHSZ+u+77z7S0tIYP34877//Pna7nfPOO4+xY8dy9tlnRxSzEEIcyYzuhIcbcGZ9VHLvrztQRgxaIKvig5QCTJTuxnI2AU0nYCr2ZBaQZ2+LXc8iJSkBuz3ypIDlaoqn3oNogWx07xaM4k1oVgHobgKuFljOpih7nYjrF0IIIYQQJxctJyfnmI+iEhMTQ7rTR9SQpnHgwIEq1SHOLB6Ph/T0dFJTU2WG8Gom17bmhHNtNX8Wzsx30P0ZgA3Du4UyvQKUAizQNCxbbZStNpl5Fp/Nz2fOT0V4fBZ+R2N03Y7T4aBvt46MuKgXtZMSavgMTxx53QohhBBCVI+wHiE1bNiwwkTAnj17CAQCJZXZbCQlJXHw4EH8/pKxq3a7nbp161ZTuEIIcepT9mQ89R5C927HnjsTzcpD9+0+tIQggIbSbSgjAWVLAs3g+1WFvPJFDqapiHYpXK5o7M6SpQOVUsyY+yPfzl/JnX8eyp96dTlxJyeEEEIIIU56YSUC1q5dW+72+++/nw8//JBbbrmFm266iWbNmqFpGkoptm7dyjvvvMMHH3zAhRdeyEsvvVStgQtxMsorKGLG3OX8+MtGij1eNE0nMT6aof27cW6nlhiGcexKxJlB07BcTfC67sCrArj2vILu3Qa6CzR7yIz8s1cV8sLkbGLcWsm0gpoN05l2WFUa0VFulFKM+2AqgCQDhBBCCCFEhSIeVPruu+/y3nvv8d577zF8+PCQfZqm0axZM55//nnOP/98Ro8eTevWrRk9enSVAxbiZLR9117en/wd6zbuwOPzEe12oes6Sin2ZWXzy/qJxMZEcdEF53D5xb2IiZIZ18VhNBueemNw7XsLw7MRpWmAHYDcQpNXvswhxqWhYYHmwHI2pby3b03TiHa7eeOj6ZzbsSWJ8bHH9zyEEEIIIcQpIeLlAz/44AMaNmxYJglwpOHDh9OwYUM++OCDSJsS4qT2w+Kf+b+/v8ma37Zjt9uIjY5C10t+tTRNw26zERMdhWUpPpuxgNsffZ39B3JObNDi5KPZ8aTcSXHKXViORqD8YHn4alEOvoCFptuxHKmYrhYozV5xNZqGPxDgq++XHMfghRBCCCHEqSTiRMC2bdtITk4Oq2xycjJbt26NtCkhTlpzl6zm1Xe/wO1y4nRUfHMGJTdosdFR5BcU87d/vMnBnPzjFKU4ZWgalrsFnrp3U9TgGYrqPsjUXxoQndAK09USZSQQztt2TJSb7xaswjTNGg9ZCCGEEEKceiJOBERHR/Pbb7+Rk5Nz1HI5OTn89ttvREVFRdqUEDVCKYVSYazfXoEdu/fzz/e/JDrKXalVNRwOOx6Pj4deeK9K7YvTnBFFjjeeYq8BuqNSh2qahsfrJyevsIaCE0IIIYQQp7KI5wjo27cvU6ZM4eabb+btt98mMTGxTJmcnBxuvvlmPB4Pl1xySZUCFaIq/JZiWaaHxfuK2ZwfIM9nElCgAXZdI9Gh0zreTt96bjokOsO6sf9gyncYmh5SNqAbFLrjyItKxOdwgVJEe/KILcojypNPaUmn08HufQdY+9s2OrZpWjMnLU55Hq8PdeSygmFSSlHs9VVzREIIIYQQ4nQQcSLgscceY86cOcyZM4f27dszbNgwWrVqRVJSEgcOHGDTpk18/fXXFBYWUqtWLR599NHqjFuIsOT5LSZuyWPenmLyAxYOXcehHxq7f+iuXAEHvCY/7Akwe08xiQ6dYWkxDEuLxq6XnxDILyxmzW/bcDpLntR67S521G1BXnQipmFDsxS6slBAVkI9dCwMM0Cdg7uon7UTXVk47XY++nIOLz9y8/G5GOKU43aFl5Qqj65rRLmc1RyREEIIIYQ4HUScCEhNTeXbb7/l5ptvZs2aNXz66achH1hLuzx37NiRt99+m7S0tIqqEqJGLNpXzLj1ORQFFNE2jVh7xUv3aZqG21by+vWaig825fFNeiGPdkykeXzZbtkz//cjHq8Pm83G3qQ0dtVpAgoMZaEH/CFlDdMCQKGxu3YTshLq0yJ9DdEUsHlHBgey80hKjKvGMxeni7iYKGJjoij2+NArkRBQShEd5SIxPqYGoxNCCCGEEKeqiBMBAK1atWL+/PnMnz+fuXPnsnnzZgoLC4mOjqZ58+b069ePCy64oLpiFSIspqV4cV02i/d5cNs0YuyVmwpD0zRiHP/f3n2HV1Gm/x9/z5ySk8qBVDqEIiAqAoKAqy6CiqggQVbZZRU7WL6ydnS/6ldXFl3Lz4Jib6y7LlhAXREEpIOVjlICBBI6gfRTZn5/HBIJSUgnJvm8riu7MDNn5p5JItdzz/3cj0GW32LCt/v5U4do/tC++DJs363+hfBwD6nNu7C/aXMcwQDlDdMMwBUMEDCdrG/fm87bf8LI2sW2nXuUCJBSGYbBiIsG8OoHXxAdWfE+K9m5uYwdelGVqwlEREREpGGrViKg0HnnnacBv/wmWLbNIz8d5KcDBURWMgFwPKdp4DDg3c1Z5Adtrun462A9Jy+fPfHt2N+0Oc5goFLnNbGxrSC/tO1Bm4P7OayGbnICF/6uF+9//DVBy8Jhlv8zbVkWnrAwhpx/1kmITkRERETqo+qNlER+Y55fn8lPBwqIqGYSoJBhGEQ6DT5MzearXb8O2Avc4aQnJOOoZBKg6LyAYdvs7NQbl7tG8nHSQEWEh/HX2/9IQYGPoGWd8FjLssgv8PHQbaOJigg/SRGKiIiISH2jRIA0GGsOFjA3Pa/aSQDbtsnxW+zODZCa5WdbdmiVgX+szWR3bmjgvzWpM7ZllTsd4ERM28IX0YRdppbWlBM7o1syT9wzFgObrJxcrOMSApZlkZWTi23bPHbXNfTs3rGOIhURERGR+qBCryLPOOOMal/IMAx++umnap9HpDQFQZu/rzmEx1l8aG7ZNsGjywQ6DE44Zzpo2+zKCbA/P0jQBgsoXDTAtsGyAwyavYs/d4zGjm8B23aCo+wGhOWxARc2S31RXFXls0hjcVqX9rz/3P3MW/oT//liIYcOZ2MQ+jlqEh3JtSMHc8GAM/GElWxuKSIiIiJyrAolAnbs2FHtC6lpldSmeRm5HPJZRDkNcvxBduQEyA7YBCwbg9CA3mEYuEyDZmEOEsMdxZYGPOwLsuWIn4AdShg4TCg2xDdC/5MbsJiRms0enwM8Edj+gipXBQSDQRLjm5KeHyRo2TjKWKpQpFCY28WQ889iyPln4fP7ycv3Ee5x43a56jo0EREREalHKpQIWLVqVW3HIVJltm3zYWo2BUGL1Qf95AdDS1cWvi0tGl4bNg4gN2CxOy9AM7dJ22gXB/ODpGYHcBjgLG9WgQH7CiwMA3zRTfEdOURkoKBKcRuGQfP4ZviDNjtzA7SN0mBOKs7tcikBICIiIiJVUqFEQJs2bWo7DpEqW3vIx/yMXLIDoQTAsS/Wj3/HHgRyAzYOE4JWkP0FQQKWTZjDpCJFKw4jtKxghBPC3S4OR0RTkGMRFvRXKuagZZEY58XtdpHttzjsO3ETOBERERERkZqiZoFSr606UMBVCzLI8v86BeBEDMAwIGjZ5ARtsnw2+UEI2pUbiFuAYUJMhIf8iBiO5iAqJGhZNI2Jok2LhKJtmhUgIiIiIiInixIBUm+tOlDAbSv2sr/AwjSp0Bv9QoYBlh2qELBsyAmEphhU9LP+YOjPpmkQGRFOMCqGoBXEKuMcNhAIBrGOVgJ0bNeiKGCXCQmeqjcdFBERERERqYwKTQ249dZbAUhKSuKvf/1rsW0VZRgGL774YiXDEyldZkGQh388QHpuELtYI4CKs46O2S3AsCEnYBPlKv9ELtPAZ/064HeYBo6YJnROiGbXngNk5+RhWRaWbR+tQDBwOhwkxTejeUJTXMfN6w4zDeKVCBARERERkZOkQomAf/7znwB07ty5KBFQuK2ilAiQmjRp9SHScgJYduUqAQod/+LesiFghZYQdJRzQqcBfjtUQWAYBoYR+qwR5qFLh9YEAgFy8woIBC1Mw8DpNImMCC915Yz8oMVZsR6tqiEiIiIiIidNhRIBL730EgAxMTEltonUCjuI6d9NhL0NZ0EOJlFYrkRwRLPliJ91mQUc9ls4jBOX8xfuPX6YffynbELJgYKgTYSz/EYDkU6DoG1w7KFZfosol4nT6SQmukK/Wlg2/KlDdIWOFRERERERqQkVGq2MHj26QttEqsXKx5m1HFf2QozgETzBAsKCOXgOuDEcTsCJbYZzKDOWZsbvCdrNcJoGhmGHKgMIDeaPrh5YYrBf2CjQLGUfhKYI+CvQM9C2IT7cyf78YLGqgMJlCysqN2DRP8FDu2gtASciIiIiIidPxV5bitQmO4D70Cc4s5dhWAXYZnioJb8RhmVY2GY4hhnqa2nYQZoEttLP6WCb4ywy7VjyDA9+y8YqZxxe+Na/rLF+4f7CwX3ZDJqGOWjiNvn5sB8HNtiVK+0vCNo0dTv4n27eSn1ORERERESkupQIkDplFuwkbN9UzGAmthmO7Yg44fEFlo0PF5t8iXgMH20daZhWU7YHmlHZjoGlTRuwCVUUnGh2gGFAuMPAaZokR9ukZgUI2jbhjopdPzdg4XU7eKZPHBFOLdwhIiIiIiInV7UTAZs3b2bOnDls27aNnJycMpdgU7NAOZ6ZtwHP3pfBCJX8V0R+0MaybYK2CQb4bJPmrkMcDESQbXmwq7B8wLGLDpRX3G/bNh6HidMMfSLO48TjMNh42I9pgGXbmGVUExQEbQKWTd/4MP7SvSmRSgKIiIiIiEgdqHIiIBgMctddd/Huu+8C5a/BrkSAHMvM33I0CeAOTQOoIMsODdYjTB8+yyDMBAuTZo5sghjkWWHVTgacaFZA0DZoGV58qb9Ip0nPWDc3dG7CjG057C8I4gva+I8uH+g2DdymwelN3YzpGE2nGHel4wPIyc1na1oGqzeksubnVI5k5wLgdjlJbtOc3qd1okPbFiTEerUKgYiIiIiIlKnKiYBnnnmGd955B4fDwSWXXELPnj2Ji4vDNPWWU8ph5ePZ92qlkwAQGqQbQFvXHhba7QgjCEAzZw6HgpGEGX7y7aoNtAuTAWVFZNs2TtPAG1Y8EZATsBneJpKLWoa+8gIW27IDHPFbOAxI8DhoGeHEYVYhQWHbrNu0nfc//ppftu6kwBfAxibcE4bDNDEMA8u22bpjN1/M/xaP24W3SRQjh/yOQeeciSesas9CREREREQarionAj744AMMw2DatGlcdNFFNRmTNHBhB6ZBMA8cnkp/NtxhELSgpesALiNYtN1lWjRzZnMgEIXfdhDEcYKzhBiUtbJA6QP2oG3QOcZVrPTfsm2iXCajj1kCMNxp0tVb/QH41h0Z/O2lD9iz7xAulxO3y4XLVXKFAdMwCPeEEe4JA0KVA1Pen8Vb/5nNH4cP5IqLBqhCQEREREREilT59f2uXbto06aNkgBSKYZ/H47c1VVKAkCozD7fsol35dDUkVtspYB4ZzZuI4jH9FU8nuP+XtYMl4AFTcNMvG7HMcfa5AZs7unurdH5/oFAkNf+9V/+5/9e5tDhbCIjwnGXkgAoi2maREdG4HA4ePPD2dz+yBT27D9UY/GJiIiIiEj9VuXRS3x8PE2aNKnJWKQRcB2eTfkt+cqW5bcIVdjbXBCzgXz71wGyYUAbd6hSwCxzkcCSjk8GBI8LL2CFKhE6RLuOOcYmJ2BzW9cm9I6rWlKjNPkFPu5+4lU+/WopER4PLmfV+3kahkFkRDg7M/Yz7sEX+HlrWo3FKSIiIiIi9VeVEwGXXnopGzZsYO/evTUZjzRkdhBn7k9gVn3gvDsvSLjDwLYNekVsp7krE7/961t6l2nRIWwfYaa/0uc2IbQSwTGZgIAFEU6Dbl43pmFg2zZZviBuw+CJnrEMaRVZ5Xs5ns/v555Jr7Flx24iIyq2ikJZLNvi4OEjZOw9wL4Dmew/lMltD7+kZICIiIiIiFQ9ETBx4kSSk5O5/vrr2b17d03GJA2UEdgHduUH6MfKDVo4DQOnCRg218YuBWyC9q/v9R2GRcewvRVeO8AGHAY0dRt4HAY+yybbZ5FZYFEQtMgLWKw6WMCmwwVk+SyuTo7ijXMSOCM2rFr3crzHX/iAbWl7iPBU/bwFPh+paRn8uHYzm1J3kZa+j/S9B9iRvp/Nqelcdv3DfPDpfPILKj59QkREREREGpYK1R1Pnjy51O0DBw7k9ddfp1evXlxwwQW0b9+eiIiIUo81DIN777236pFKvWcWbMOw/dhUbaBr26E39IYRWrLviN+imTOHW+Lm88q+32Nj4DQswCDc8OE0Q8sNHl/qX+ychKYGhJuQFbDxF84oMCHaCZEuk0hn6Mtphq79+c48HKbJqHZROKuwEkBpFq5cww9rN1WrEmD3voOkZezDtsHpMEudVuD3B3j0+ff55Ksl3PbHC2ndunV1whYRERERkXrIyMzMLHfCdtOmTTGOlkUX+3Ap20pc4OgxhmFw8ODB6kUr9Zrr4H9wZS2q8NQAK2iRl59HuCcc02ESsOCng/lFHfADlk2238YwbPb5o3nrwAD2+6PxmH5Mw2JVXnuCOLAJJREs+9fuBMf+1BrHbDMIVQd43QY2oZUCTAMiHAZto5xEuRxFTQITwx08cmYsrSOrPo8f4Eh2Ltff+wwYRrEVCSpj1+797NqzH4fDUW4lRCAYpFVSHJEeN88/Mp7OHdpU6ZpSuvz8fNLS0mjdujUeT831jxA9WxEREZGaUqERzH333VfbcUgjYFg+SrbmqzqnaRDlgpwAxLmyuCvxKxZldWJhdmdyLDccHfgXjq0dxq8JgMKkgMcE/9GNhS/3Q58xMI7Zlhe02JDpJ84TpG2Ui0iXySGfxe3L9/L3XrF08Va9nP9fM+eTm5dPVGTp1TTlOXQ4q8JJAACHabJ730GSWyfy0DPv8uZTdxFVzZ4EIiIiIiJSf1QoEXD//ffXdhzSGJguqrNigMOA4xMJTtMgxmWQE7AI2Dbnx/zMedG/kO5vwr0ZY8gJOrDtUDLANMAB+CwwTYhwQE4wtO/Ys5Y2mDaPHrQv3yIn4KOr143LNAja8MD3B3m5fzxJ4ZWvDAgEgny99KdqTAmw2b5rLw7TrHCKxTAM/IEgefk+TDOXz+et5A+XnlfF64uIiIiISH1Tc4ufi5TDcrXCqEazQMMAl0mJXIJhQJTTJNpl4DAMDANauQ8RtN2EOQzCHaE5/hFOE9MwCHNAtNMg3wqVCBw7gLb5tQqgNE4T8gI2GzN92LaNwwhNIXj8p0PlTpMpzdIf1pGd8+t0h8rKycvH5/dX+vOmabDnwGEiIzzMmru8SrGLiIiIiEj9VKlEwIYNG/jiiy/49ttvK3T8ypUr+eKLL9i4cWOVgpOGJRjWHttwV+scEU4Tq7QdBjhMgyiXSROXgeVowilN3HSKdtG5iYvuTd20iXDgMMHjNAnaBkHLpsT42QZXOYNqhwk5AZtduUEAwhwGqdl+5qbnVvp+vlr0I2FuV6U/V2hnxn5Mo/L5PNMwKPD5sYFDR7L5af2WKscgIiIiIiL1S4VHELm5uYwYMYJrr70Wyyp1KFaCbdtcc801XHnllRQUFFQ5SGkYbFcCGFUf9AIkhTvKfXvtMQtIDXTAG+Yg1uOkaZgDl2mwIzd4dHoB5Aet0ucAGOB2lP923WHYZOQGKDi6JEGE0+DfqdmVvR12ZuzD5ap6s8G8/ALMKq5cYNs2+QU+DAx+WLu5yjGIiIiIiEj9UuFEwPTp09m9ezdjxoyhb9++FfpM3759ueaaa9i1axczZsyocpDSQBgOguHdwcqv8iminWZooH6CXIBlmywq6Fds2978IJYdmh9v2RCkZB7AJtRDoCLj6lApvs2unNBUB9Mw2JsfJC0nUOF78fn9ZGVXvorgWFY1SvotyyY7Nx+HwyTzSOWTGCIiIiIiUj9VOBHw+eefYxgGN998c6UuMG7cOGzbZubMmZUOThoen/fi6p3AgLaRLoJlDIAdBNkTjOeg1axom23b7MkL4DBCnwlaoeUES7BDUw8qymEaHPJZRYNxn2WzIdNX4c8fzMwiWMHqmrIY1ViFwTAN8vMKsG2bsLDqTdkQEREREZH6o8KjnjVr1pCUlETnzp0rdYEOHTrQokUL1qxZU+ngpOGxXUkEw08FK6/K52gaZtLE7SBolRzNuwgwPXdYsW1+CwIWRQ31/LZdshrADk0JcFRyur1l2+QFQnF4HCY/Hqx4tYM/EKx2kz7TNKq8DoMBBG0bvz9A84Rm5R4vIiIiIiINQ4WHPQcOHKB58+ZVukhSUhIHDhyo0mel4SmIGwOGB+yqvw3vEO3C7TCKlcaHk8eygt7sCrYsdmxOwCo2WLZtis0LsO3Q0oThFegNcDwLyPKH7sNhwOGCit+TwzSrvFpAoYRYL8FgsEqfDa2QYODxuBnY74xqxSEiIiIiIvVHhRMBYWFh5OVV7S1uXl4ebrdKj+UoM4L8+BvA9pVRo18+pwmnet24zFD3f49RwG4rkc/zLipxbH7Qxj42FVBKEiDKZZZcQaACTAPygtYxf6/4SaKjImokEWCaVVsF1LZtTNPklORWNG0SXa04RERERESk/qjwCCIpKYlt27ZVuvt/QUEB27ZtIykpqdLBScNlhZ9CQdx1YBeAXbU32i7T4LSmYSSE+cnwx/LikesIUHJVguMKAHAaoQRA4XSAqiYBChWmAQqCNu2jK74CQHRkOJHhnqpfGHA4HHijI6vUa8DAIMzlZMwVg6oVg4iIiIiI1C8VTgT069eP/Px8Pv3000pd4JNPPiEvL49+/fqVf7A0KsHIHuQn/g8YbghWodrEtnDYebRO6I2n7X1EuiPJDVjkBKxiUwZcJtgY2PbRXgEYRVUAEU6jWkkA2wbX0RMEbZszY8Mq9fmEOG+1Gwa2b52Ey+nAKqVnwonYtsVF5/Xi1M5tq3V9ERERERGpXyqcCBg9ejS2bfPII4+wc+fOCn0mLS2Nhx9+GMMwuPrqq6scpDRclqcDuS0fIRDVF+wARjC3/OkCdgCsPGzDTX7COArir6dnfAxT+yfwwtnxXNIykgSPA5PQ4NzjMDABj8OgebiDHs3cRLtMqtASoBQGMa7Qr1GE0+SUJpWbAtOvZ1dy86q+nCKEqgK6dWqL02lWKKlgA4FAkLimMdw5dni1ri0iIiIiIvVPhRMBffv2Zfjw4WRkZDBo0CA++eQTrDIGHZZl8fHHHzN48GD27t3L5Zdfztlnn11jQUsDY4bhi/sTuS0fw+cdim2GFw32HXYOhnUEgtlghZbms9ytyE8YT16rv2GFdyt2qnZRLsZ3bcJL/RL44Pwkpv++OTMvaEHP2DBObRpG6ygXHqdJbJiDYPUa9gNgGBDhMskPWpzZLIzISiw/CHDRub3x1MDSfW6Xi+6ntCcmKgLLtgkEgyVWE7CPbjeA2GYx3PyHwVXuLyAiIiIiIvVXxSc0A1OmTCEjI4MVK1Zw3XXXERcXR9++fWnbti0RERHk5uayfft2Vq5cyb59+7Btmz59+jBlypTail8aEkckfu8Q/N4hYPnwZ29n3+5NJDaLxx0WieVKxHY0o7K1/E7T4LSmbn486CPsaBlAywgn+wuC2HalT1fEtm3CHSYuA/ItGNs5ptLniImK4LRT2rFq/VbCqpkQcDocnJLcmkAgwO79h9h/8DBBy8K2Q00M3W4XLRNjadokGn/Az4BeXat1PRERERERqZ8qlQgIDw/ns88+4+9//zuvvvoq+/bt47PPPivW+bxwXfSoqChuuukm7r//flyukg3cRE7IdBN0tybHAL+nNQ5P9Zrq/alDDN8e2EfY0baBLodB60gn27MDOKuYCAjaBi0inOQEbK5OjqJlRKV+nYpcN+pibn/4xaoFUQqn00mrpHhaJcUf3VK8XWJuXj6DzumBJ0y/lyIiIiIijVGlRy5Op5OHHnqIO+64g6+++ooVK1aQkZFBdnY2UVFRNG/enL59+zJ48GCaNGlSGzGLVFqHGBd9YsNYub+AyKNz+hM9Do74LDJ9Fo5KVsgHbZsIp0mYYdO9aRhXt6/68nttWyZw2aB+fDpnKZHh4VU+T9l+TQIEgkG8TaIYO/JC9uzOqIVriYiIiIjIb13VXmECMTExjBw5kpEjR9ZkPCK15i/dm3LDkj34LRunaYBh0CnGxeYsPwcLLBxGxaYJ2LYNNrSIcHJmnIf/7dEMh1m9zoNjR17I0u/XkXkkF7eryr+WJ2TbNgUFPv5297W1dg0REREREfntU6cwaTSiXCaTe8Vi2+AvXGrPMOgY46ZjTKhMPmCdeNECy7LxWZAc7eIvp3r5vzOb4apmEgDA6XQw6d7rcDoM/IFAtc93PNu2yc3L57o/XEyXDq1r/PwiIiIiIlJ/KBEgjUrbaDfP9o0l0mmQEwgWbW8W5qBHbBhtIp04DAPLDiUF/MHQV+jPoUqC27s24eMLWjCkVWSx/hjVlRTfjH88eBNO06TA56+x8xYmAcaMGMSIiwbU2HlFRERERKR+Un2wNDpto9y8MSCRV34+zPyMXAosiHIaOAyDpAgnSRFOApZNbsDGF7TID9p4nCZnx4fxwOnNiHLVXv6sbctEXvi/W3n42ffYmbGPiHBPtZINefkFOJ0O/nJDCgP796i5QEVEREREpN5SIkAaJbfD4I5uXv7cMZqZO3JYkJHHYb9FwLZDSwoCEU6DxHAnfeM9jGwXTbzHcVJiS4xrypTHbuPDz7/hX7O+IRAIVjoh4PMH8Pn9nNqpLQ+M/wNNm1S9maGIiIiIiDQsSgRIo+Z1O/hzxxj+3DEGv2WzJy+Iz7JxGpAU7sTtqLnS/8owTZOrLvs9gwb05D9fLGTBstUcyc7B5XTiCXOXSArYto0/ECQvPx9PmJvO7VvypysGcdop7Wp0+oKIiIiIiNR/SgSIHOUyDVpF/rZ+JeKaNWHcny7jhj8M4fu1m/h21S9s3LKDg5nZ+AMBbMBhmkRGeGjbMoFe3TvRv1c3YpvG1HXoIiIiIiLyG/XbGvXUsR9++IFJkyaxcuVK/H4/Xbp0Ydy4cVx55ZV1HZo0ci6Xk7PP7MrZZ3at61BERERERKSeUyLgqEWLFpGSkoLb7WbEiBHExMQwa9YsbrzxRnbs2MFdd91V1yGKiIiIiIiIVJsSAUAgEOCOO+7AMAw+//xzzjjjDADuu+8+LrzwQiZNmsTw4cPp0KFDHUcqIiIiIiIiUj21tw5aPbJw4UJSU1MZOXJkURIAIDo6mnvuuYdAIMC0adPqMEIRERERERGRmqFEALB48WIABg4cWGJf4bYlS5ac1JhEREREREREaoOmBgBbtmwBKLX03+v1EhsbW3TMieTn59d4bI2Zz+cr9v9Sc/Rsa4+ebe3Rs60dHo+nrkMQERGRk0yJAODIkSMAxMSUvuRadHQ06enp5Z4nPT2dYDBYo7EJ7Nmzp65DaLD0bGuPnm3t0bOtOQ6Hg+Tk5LoOQ0RERE4yJQJqUIsWLeo6hAbF5/OxZ88eEhMTcbvddR1Og6JnW3v0bGuPnq2IiIhIzVAigF8rAQorA46XlZVVZrXAsVReWTvcbreebS3Rs609era1R89WREREpHrULJBfewOU1gcgMzOTAwcOaOlAERERERERaRCUCAAGDBgAwLx580rsK9xWeIyIiIiIiIhIfaZEAHDeeefRrl07pk+fzurVq4u2Z2Vl8dRTT+F0Ohk9enQdRigiIiIiIiJSM9QjAHA6nTz//POkpKRwySWXkJKSQnR0NLNmzWL79u089NBDdOzYsa7DFBEREREREak2JQKOOvfcc/nyyy+ZNGkSH3/8MX6/ny5duvDggw8yatSoug5PREREREREpEYoEXCMXr16MX369LoOQ0RERERERKTWqEeAiIiIiIiISCOiRICIiIiIiIhII6JEgIiIiIiIiEgjokSAiIiIiIiISCOiRICIiIiIiIhII6JEgIiIiIiIiEgjokSAiIiIiIiISCOiRICIiIiIiIhII6JEgIiIiIiIiEgjokSAiIiIiIiISCOiRICIiIiIiIhII6JEgIiIiIiIiEgjokSAiIiIiIiISCOiRICIiIiIiIhII6JEgIiIiIiIiEgjokSAiIiIiIiISCOiRICIiIiIiIhII6JEgIiIiIiIiEgjokSAiIiIiIiISCOiRICIiIiIiIhII6JEgIiIiIiIiEgjokSAiIiIiIiISCOiRICIiIiIiIhII6JEgIiIiIiIiEgjokSAiIiIiIiISCOiRID8pjkcjroOocHSs609era1R89WREREpPqMzMxMu66DEBEREREREZGTQxUBIiIiIiIiIo2IEgEiIiIiIiIijYgSASIiIiIiIiKNiBIBIiIiIiIiIo2IEgEiIiIiIiIijYgSASIiIiIiIiKNiBIBIiIiIiIiIo2IEgFV9MMPP3DllVfStm1bWrRowcCBA/nPf/5T12HVa+np6UyZMoUrrriC7t27Ex8fT+fOnRkzZgzfffddXYfXoPy///f/8Hq9eL1evv3227oOp8GYNWsWw4cPp3379iQlJXH66adz/fXXs3PnzroOrd6ybZuZM2dy6aWXcsopp9C8eXN69+7NnXfeybZt2+o6vN+8f//739x5552cf/75JCQk4PV6mTZtWpnHHzlyhIkTJ9K9e3cSEhLo3r07EydO5MiRIycxahEREaltzroOoD5atGgRKSkpuN1uRowYQUxMDLNmzeLGG29kx44d3HXXXXUdYr306quv8txzz9G+fXvOP/984uPj2bJlC59//jmff/45b7zxBldccUVdh1nv/fzzzzzxxBNERkaSk5NT1+E0CLZtM2HCBN5++23at29PSkoKUVFRZGRksGTJEtLS0mjVqlVdh1kvPfTQQ7z00kskJSUxdOhQoqOjWbt2Le+88w4zZsxg9uzZdOvWra7D/M16/PHHSUtLIzY2lsTERNLS0so8Nicnh6FDh7JmzRp+//vfM3LkSNauXcuUKVNYtGgRX375JZGRkScxehEREaktRmZmpl3XQdQngUCAs846i/T0dL766ivOOOMMALKysrjwwgvZtGkTK1asoEOHDnUcaf0zc+ZM4uLi6N+/f7HtS5cuZdiwYURFRbFx40bCwsLqKML6LxgMMnjwYAzDoEOHDnz44YfMmTOHs846q65Dq9deeeUV7r//fm688Ub+/ve/43A4iu0PBAI4ncq7VtaePXvo2rUrrVq1YvHixcTExBTtmzJlChMnTuSPf/wjL730Uh1G+du2YMECkpOTadOmDc8++yyPPvooL730En/84x9LHPvEE0/w5JNP8j//8z88+uijJbbfe++9TJw48WSGLyIiIrVEUwMqaeHChaSmpjJy5MiiJABAdHQ099xzD4FA4IRll1K2yy+/vEQSAKB///787ne/49ChQ6xfv74OIms4nnvuOdauXcuLL75YYrAqVZOXl8fkyZNp164dkyZNKvW5KglQNTt27MCyLM4+++xiSQCAiy66CID9+/fXRWj1xvnnn0+bNm3KPc62bd577z2ioqK49957i+37y1/+gtfr5f3338e29e5ARESkIVAioJIWL14MwMCBA0vsK9y2ZMmSkxpTY+ByuQA0eK2G9evXM3nyZO6++266du1a1+E0GPPnz+fQoUMMHTqUYDDIzJkzefbZZ3nzzTfZunVrXYdXr3Xo0AG3283y5cvJysoqtu+rr74C4He/+11dhNbgbNmyhYyMDPr27Vui/N/j8dC/f3/S09P1My0iItJA6DVVJW3ZsgWg1NJ/r9dLbGxs0TFSM9LS0liwYAGJiYmceuqpdR1OvRQIBBg/fjydO3dmwoQJdR1Og/Ljjz8Cobf+55xzDps2bSraZ5om48eP5/HHH6+r8Oq1Zs2a8de//pW//vWv9O3blyFDhhAVFcX69etZsGAB1157LTfffHNdh9kgFP67lZycXOr+wn/ztmzZoqlvIiIiDYASAZVU2Dn5+DLVQtHR0aSnp5/MkBo0v9/PzTffTEFBAY8++qgqAqro6aefZu3atcydO7eoukJqRmFp+osvvsgZZ5zBvHnz6Ny5M6tXr+bOO+/kxRdfpH379lx//fV1HGn9dPvtt5OUlMSECRN44403irb37duXUaNG6ee5hhT+29akSZNS90dHRxc7TkREROo3TQ2Q3yzLsrj11ltZunQp11xzDVdddVVdh1QvrVmzhn/84x/cfvvt9OjRo67DaXAsywLA7XYzbdo0evbsSVRUFP379+edd97BNE1efPHFOo6y/nrqqacYP348EyZMYN26dezatYsvv/ySQCDAZZddxsyZM+s6RBEREZF6R4mASiqsBCjrrUhWVlaZ1QJScbZtc8cdd/Dhhx8yatQonn322boOqd4aN24c7du35/7776/rUBqkwt/3Hj160Lx582L7unbtSrt27UhNTSUzM7MOoqvfvvnmG/72t79x4403ctddd9GyZUsiIyM5++yz+fe//014eLi62NeQwp/jw4cPl7q/sEeD/n0TERFpGJQIqKRj50keLzMzkwMHDmj+ZDVZlsVtt93G+++/z8iRI3n55ZcxTf2oVtXatWv55ZdfSExMxOv1Fn198MEHAAwePBiv18tnn31Wx5HWT506dQLKLqku3J6fn3/SYmooTtQQMC4ujm7durFz504OHDhwskNrcAr/3SqrGeCJ+uOIiIhI/aMeAZU0YMAAnnnmGebNm0dKSkqxffPmzSs6RqrGsixuv/12pk2bxogRI5g6dar6AlTTmDFjSt2+dOlStmzZwpAhQ4iLi6vQEmNSUuEg9Zdffimxz+/3s3XrViIjI4mLizvZodV7Pp8PKHuJwMLtbrf7pMXUUHXo0IHmzZuzYsUKcnJyiq0ckJ+fz9KlS2nevHmZzQRFRESkftFr1ko677zzaNeuHdOnT2f16tVF27OysnjqqadwOp2MHj26DiOsvworAaZNm8bw4cN59dVXlQSoAS+88EKpX3369AFCa4S/8MILnH766XUcaf3Uvn17Bg4cyNatW3n33XeL7Xv22Wc5fPgwQ4cOxelU3rWyzj77bACmTJlSomT9n//8J1u3bqVHjx5Fjeyk6gzDYMyYMWRnZ/Pkk08W2/fMM8+QmZnJmDFjMAyjjiIUERGRmmRkZmbadR1EfbNw4UJSUlIICwsjJSWF6OhoZs2axfbt23nooYe4++676zrEemnSpElMnjyZqKgobrnlllKTAEOHDtWAtYaMGzeODz74gDlz5nDWWWfVdTj1WmpqKhdeeCH79u3joosuolOnTqxevZqFCxfSunVr5s6dS2JiYl2HWe8Eg0GGDRvG4sWLiYuLY8iQIXi9XtauXcv8+fMJCwvjk08+oV+/fnUd6m/Wu+++y7JlywBYv349q1at4uyzz6Z9+/ZA6L+pl156KQA5OTlcfPHFrFmzht///vf06NGDtWvXMmfOHE477TS+/PLLYpUCIiIiUn/pFVUVnHvuuXz55ZdMmjSJjz/+GL/fT5cuXXjwwQcZNWpUXYdXb+3YsQOA7Oxs/vGPf5R6TJs2bZQIkN+c9u3bM3/+fJ544gm+/vpr5s2bR2JiIjfeeCP33nsv8fHxdR1iveRwOJgxYwavvPIKH330ETNmzMDn85GQkMCVV17JhAkT6NatW12H+Zu2bNmyon4ghZYvX87y5cuB0H9TCxMBkZGRfPbZZ0yePJmZM2eyePFiEhMTGT9+PPfdd5+SACIiIg2IKgJEREREREREGhH1CBARERERERFpRJQIEBEREREREWlElAgQERERERERaUSUCBARERERERFpRJQIEBEREREREWlElAgQERERERERaUSUCBARERERERFpRJQIEBEREREREWlElAgQERERERERaUSUCBCpoEmTJuH1epk0aVKlPjdt2jS8Xi/jxo0rtn379u14vV5OO+20Ssdy2mmn4fV62b59e6U/KyIiIiIijZuzrgMQqSvLly/ngw8+YOnSpezZs4f8/HxiY2M5/fTTGTp0KCkpKURGRtZ1mCIiIiIiIjVKFQHS6OTm5jJ27Fguvvhi3nnnHdLS0mjZsiWnnnoqtm0ze/Zs7rjjDnr16sW6deuqfb2YmBg6depEUlJSDUQvIiIiIiJSPaoIkEbF7/czYsQIli9fTmJiIo888gjDhw8nPDy86JiNGzcydepU3nvvPVJTUzn11FOrdc3LLruMyy67rLqhi4iIiIiI1AglAqRRmTx5MsuXLychIYGvvvqKtm3bljimS5cuPPvss4waNQrTVNGMiIiIiIg0LBrlSKNx+PBhpk6dCoQa/5WWBDhWv3796Nu3b5nnuv/+++nevTsJCQmceeaZPPnkkwQCgRLHltUssDw7duzgpptuomPHjjRv3pz+/fvz2muvYdt2mZ85tongwoULGTlyJMnJyXi9XhYtWlR0XG5uLs899xznn38+rVu3pnnz5pxzzjk8//zzFBQUlDjvsY0SK3PvJ3Lsc8nKymLixImcdtppJCYmcsYZZ/DYY4+Rm5tb5ucPHTrEY489Rr9+/WjRogWtWrVi0KBBvPPOO1iWVeL4cePG4fV6mTZtGtu2bWPcuHF07dqV2NjYchtArlq1Cq/Xy7nnnlti37PPPovX68Xr9ZKamlps344dO8psCJmWlsZf/vIXTj/9dBISEkhOTmbkyJHMmTOn1BiO/R4cPHiQu+66i27dupGUlMSAAQOYMWNGseuOHz+eLl26kJSUxHnnncfs2bNLPe+2bdt47rnnGDp0KKeeeioJCQl06NCBlJSUMj+zaNEivF4vQ4cOxbIsXn75Zfr160diYiKdOnXitttuY//+/WU+TxERERGpW6oIkEbjq6++Iisri7i4OIYNG1bl8xw5coQLL7yQLVu20LVrV0zTJDU1lSeeeIKdO3fy/PPPVzvWn3/+mSFDhnDw4EE8Hg9dunRh//793HPPPfz888/lfn7GjBk8/vjjxMTEkJycXGzqQ3p6OiNGjGDjxo04nU7atGmDy+Vi48aN/O///i///e9/+eijj4p9pjbv3efzMXToUNasWUOXLl2Ijo5mw4YNPP300yxcuJBPP/2UiIiIYp/ZsGEDKSkppKen43a7SU5OpqCggO+//57vvvuOefPm8fbbb2MYRonrbd68mYkTJ5Kfn190vdKOO9Zpp51GTEwMa9euJTMzE6/XW7Rv6dKlRX9evHgx7du3L/r7kiVLABgwYECx83333XekpKRw+PBhIiMj6datG/v27WPu3LnMnTuXe+65hwcffLDUWDIzMxk0aBA7d+6ka9euAKxbt47rr78en89H7969ueSSS8jJyaFz5874/X5WrVrF6NGjmTFjBueff36x8z399NO89957REVFkZSUxKmnnkpGRgZff/01X3/9NY888gh33nlnmc/m5ptv5j//+Q8dOnQgOTmZTZs28f777/P999+zYMECwsLCTvhsRUREROTkU0WANBorV64EoG/fvjidVc+Bvf7668TGxrJmzRoWLVrE6tWr+eCDD3A4HLz77rv88ssv1YrTtm1uuukmDh48yAUXXMCGDRtYsGABa9eu5Y033uCdd94hIyPjhOf429/+xn333cfmzZuZN28ea9eupU+fPliWxdixY9m4cSMpKSmsX7+eH374gRUrVrBq1Sr69evHsmXLeOKJJ07avX/66afs37+fhQsXsmzZMpYuXcqSJUto1aoV3377bYm39Tk5OYwePZr09HRuvvlmNm/ezPLly/nxxx9ZtmwZXbt25dNPP+X1118v9XrPP/88/fv3Z+PGjXzzzTesXLnyhANdANM06devH5ZlsXz58qLtwWCQFStW0KJFC+DXgX+h0hIBubm5XHvttRw+fJgrrriCjRs3smDBAtatW8eUKVNwOBw89dRTZVYGvPnmm7Rs2ZJ169bxzTffsH79eh555BEAHn30UW655RbOPfdcfv75ZxYsWMCmTZsYO3YswWCQxx57rMT5Lr/8cubOnUtaWhrfffcd8+fPZ+PGjXzxxRckJSXx2GOPlah0KLRy5UoWL17M119/zffff8+yZctYvnw5LVu2ZMOGDUybNu2Ez1VERERE6oYSAdJopKenA5Q7JaA8TqeT1157jebNmxdtGzJkCJdccglAmQO4ilq4cCGrVq0iPDycV199laZNmxbtS0lJ4brrriu3DH/w4MHcd999RQkPwzAICwtj9uzZrFixgp49ezJ16lQSEhKKPtOyZUveeustoqKieOutt8jLyzsp9x4IBJg8eXKx8vlu3brx1FNPAaGBb1ZWVtG+999/n9TUVC699FImT55MTExM0b4uXbrw2muvYRgGL730UqnXi4uL4/XXXy/2XD0eT7lx9u/fHyg+2F+9ejVHjhxh+PDhtG7dusxEwDnnnFO0bfr06ezcuZOEhARefvlloqOji/aNHj2asWPHAvDMM8+UGofT6eTVV18lPj6+aNvtt99Oy5Yt2b17N7t27eKFF14oOq9pmjz88MN4PB6+//57Dh06VOx8gwcPpnfv3iWqIvr378/EiRMJBoN89NFHpcbi9/uZPHkyvXr1KtrWsWNH7rjjDqD6vwsiIiIiUjuUCJBGIzs7G6BEmXllXXDBBbRs2bLE9p49ewKhOdfV8fXXXwMwbNgwYmNjS+y/4YYbyj3H1VdfXer2WbNmAaEBZ2lVEUlJSZx55plkZ2fz008/ldhfG/feokULhg4dWmL7xRdfTKtWrcjJyWHFihUl7uHPf/5zqefr3r07bdq0Ydu2bezatavE/ssvv5zIyMhKx1n4Vv/YqQDHvvEfMGAAaWlp7NixA4CMjAxSU1Np3rx5sekC8+bNK4q/tATELbfcAoTetufk5JTYP2jQoGKJGACHw0G3bt2AULLo+J9xr9dblADbvn17iXPu37+fl19+mRtuuIFhw4Zx8cUXc/HFF/PKK68AsHbt2lKfidfr5fLLLy+xvfDnobRriYiIiEjdU48AaTSioqIATtiAriKOHdQdKy4uDqDUwVtlbN68GYBTTjml1P0dOnTA6XSesCqgc+fOpW5fv349EHrLPn369BNev7TpB7Vx7x07dix1dQbDMOjUqRM7d+5k8+bNDBo0qNg9PPHEE2W+NT948GDRPRyfuCjr2ZSnR48eREZGsmrVKrKzs4mKimLJkiUYhkH//v05ePAg//rXv1iyZAlt2rQpsz9A4fPt0qVLqdfp0KEDbrcbn89Hamoq3bt3L7a/rO9BYdKovP2FCbFC8+bN49prr+XIkSNl3vvxVQTlxVJYrXD8tURERETkt0GJAGk0CudxV/ctZVkVBYWD2RN19a+IwsF0adUAhdeJjY1lz549lY6xcLBXOJg+kdKmBtTGvR9b4l7WvmMHlIX3UFrFwvEqcw/lcTqd9OnTh/nz57NixQoGDhzIsmXL6NatG02bNi0a8C9ZsoSrr766zERA4fe3rPs2DIO4uDjS09NLHUiX1sSx8HMV2X/s9ygzM5PrrruOI0eOcNVVV3HDDTfQsWNHYmJiME2TBQsWMHz4cPx+f6nnLOtZlnYtEREREfntUCJAGo0+ffrw2muvsXLlSgKBQLUaBtamwrL1AwcOlLrfsqyiN95VPfcnn3xSont8XTnRMnOF+wqrOSB0D4cPH+aHH34gOTm51uM7Vv/+/Zk/fz5LliwhISGBzMxMRo0aBUBycjItWrQoSgCUlQgo/B7s27ev1GvYtl3qfdeGuXPnkpmZSZ8+fXj55ZdL9AnYuXNnrV5fREREROqGegRIozF48GCioqLYt28fn376aV2HU6aOHTsClNmBf+vWrWW+oS1PYTl6RSoCTpbNmzdjWVaJ7bZts2nTJuDXZwJ1ew/H9gko7BVw7EC/f//+pKam8tNPP/HLL78QHx9fYipC4b1s3Lix1Gts2bIFn8+Hw+Eos/S+phT2MzjrrLNKXUKxrN4AIiIiIlK/KREgjYbX6+Wmm24C4IEHHih3isDy5cuLNak7WQYOHAiEltUr7c1/WcviVcSll14KwNtvv01+fn6Vz1OTdu3axX//+98S22fPnk1aWhqRkZH07du3aHvhPUydOvWkl5736tULj8fDDz/8wNy5c4GSiQCAJ598stjfj1X4/X333XdL/R5MnToVCC1zWZWmhpVR2KywtOqEgwcP8v7779fq9UVERESkbigRII3K/fffT58+fdi7dy8XXngh//rXv0oMxjZv3szdd9/NpZdeWmb5dm0677zzOP3008nNzeXmm28mMzOzaN/HH3/Mm2++WeVpDZdddhlnnXUWv/zyC1dddRVbt24ttr+goIDZs2dz6623VucWKsXpdHLfffexbt26om0bN27knnvuAWDs2LHFltgbO3Ys7dq1Y9GiRdx4443s3r272Pmys7P5+OOPmThxYo3HGhYWRq9evfD5fMydO5cuXboUNUqEX5MChYmN46cFAIwcOZJWrVqxd+9exo8fX6wPwL///W/eeustACZMmFDj8R+vMFHx8ccfs2DBgqLtu3fvZsyYMeUuUykiIiIi9dNvc5K0SC1xu9189NFHjB8/npkzZ3LLLbcwYcIE2rdvj8fjYffu3aSnpwPQsmXLkz4HHUKN1qZOncoll1zCnDlz6Nq1K126dGH//v2kpaVxww03FL0tryzTNHnvvfcYNWoUCxYsoGfPniQnJ9OsWTOys7PZunUrPp+PhISEWriz0g0bNoxNmzZxzjnn0LVrVwA2bNiAbdv07NmTBx54oNjxUVFRfPjhh1x55ZVMnz6djz76iE6dOhEdHU1mZiapqakEg0F69+5dK/H279+fJUuWYNt2iYH+KaecQnx8fFECqbREQEREBG+//TYjRozgo48+Yvbs2XTu3Jl9+/YVzcm/++67GTx4cK3Ef6wePXowbNgwPv30U4YPH05ycjKRkZFs2LCB8PBwHn744RLPX0RERETqP1UESKMTFRXFu+++yxdffMGYMWNo2bIlO3bsYO3atdi2zUUXXcQLL7zAd999V7Q2+8nWtWtX5s+fz5VXXkl4eDgbNmwgOjqaJ598kqeeeqpa505KSmLOnDk8/fTTRcverV69muzsbHr16sUDDzzArFmzauhOyud2u/n888+55ZZbOHLkCJs3b6ZVq1ZMmDCBWbNmlVoe37lzZxYvXswjjzxCz549ycjIYM2aNfh8PgYMGMBjjz3GG2+8USvxnnPOOUV/Lm2gX/iWvWnTpmX+/PTu3ZvFixczduxYmjVrxrp168jOzmbgwIF8+OGHPPTQQ7USe2lee+017rnnHtq0aUNaWhp79+5l2LBhzJs3r8TShSIiIiLSMBiZmZla30lETrpp06Zx6623cvXVV/Pyyy/XdTgiIiIiIo2GKgJEREREREREGhElAkREREREREQaESUCRERERERERBoRJQJEREREREREGhE1CxQRERERERFpRFQRICIiIiIiItKIKBEgIiIiIiIi0ogoESAiIiIiIiLSiCgRICIiIiIiItKIKBEgIiIiIiIi0ogoESAiIiIiIiLSiCgRICIiIiIiItKIKBEgIiIiIiIi0oj8f9sIaK/RLHyLAAAAAElFTkSuQmCC\n",
          "text/plain": "<Figure size 500x500 with 1 Axes>"
         },
         "metadata": {},
         "output_type": "display_data"
        }
       ]
      }
     },
     "9d83c6fca46d4e16a522de30d8349aca": {
      "model_module": "@jupyter-widgets/controls",
      "model_module_version": "1.5.0",
      "model_name": "IntSliderModel",
      "state": {
       "_dom_classes": [],
       "_model_module": "@jupyter-widgets/controls",
       "_model_module_version": "1.5.0",
       "_model_name": "IntSliderModel",
       "_view_count": null,
       "_view_module": "@jupyter-widgets/controls",
       "_view_module_version": "1.5.0",
       "_view_name": "IntSliderView",
       "continuous_update": true,
       "description": "year",
       "description_tooltip": null,
       "disabled": false,
       "layout": "IPY_MODEL_78885588a250499fb1c52248789f3744",
       "max": 2020,
       "min": 1960,
       "orientation": "horizontal",
       "readout": true,
       "readout_format": "d",
       "step": 1,
       "style": "IPY_MODEL_84098ed0583e442ba6d146dc5cdcf148",
       "value": 1960
      }
     },
     "aca25b259dbd47d8832565e723282646": {
      "model_module": "@jupyter-widgets/base",
      "model_module_version": "1.2.0",
      "model_name": "LayoutModel",
      "state": {
       "_model_module": "@jupyter-widgets/base",
       "_model_module_version": "1.2.0",
       "_model_name": "LayoutModel",
       "_view_count": null,
       "_view_module": "@jupyter-widgets/base",
       "_view_module_version": "1.2.0",
       "_view_name": "LayoutView",
       "align_content": null,
       "align_items": null,
       "align_self": null,
       "border": null,
       "bottom": null,
       "display": null,
       "flex": null,
       "flex_flow": null,
       "grid_area": null,
       "grid_auto_columns": null,
       "grid_auto_flow": null,
       "grid_auto_rows": null,
       "grid_column": null,
       "grid_gap": null,
       "grid_row": null,
       "grid_template_areas": null,
       "grid_template_columns": null,
       "grid_template_rows": null,
       "height": null,
       "justify_content": null,
       "justify_items": null,
       "left": null,
       "margin": null,
       "max_height": null,
       "max_width": null,
       "min_height": null,
       "min_width": null,
       "object_fit": null,
       "object_position": null,
       "order": null,
       "overflow": null,
       "overflow_x": null,
       "overflow_y": null,
       "padding": null,
       "right": null,
       "top": null,
       "visibility": null,
       "width": null
      }
     },
     "cc232071f4d640e99885ef01cb9972c4": {
      "model_module": "@jupyter-widgets/controls",
      "model_module_version": "1.5.0",
      "model_name": "DescriptionStyleModel",
      "state": {
       "_model_module": "@jupyter-widgets/controls",
       "_model_module_version": "1.5.0",
       "_model_name": "DescriptionStyleModel",
       "_view_count": null,
       "_view_module": "@jupyter-widgets/base",
       "_view_module_version": "1.2.0",
       "_view_name": "StyleView",
       "description_width": ""
      }
     },
     "e0df113d622549f88c410bd23d3e560c": {
      "model_module": "@jupyter-widgets/controls",
      "model_module_version": "1.5.0",
      "model_name": "DropdownModel",
      "state": {
       "_dom_classes": [],
       "_model_module": "@jupyter-widgets/controls",
       "_model_module_version": "1.5.0",
       "_model_name": "DropdownModel",
       "_options_labels": [
        "Angola",
        "Albania",
        "United Arab Emirates",
        "Argentina",
        "Armenia",
        "Australia",
        "Austria",
        "Azerbaijan",
        "Burundi",
        "Belgium",
        "Benin",
        "Burkina Faso",
        "Bangladesh",
        "Bulgaria",
        "Bosnia and Herzegovina",
        "Belarus",
        "Belize",
        "Bolivia",
        "Brazil",
        "Bhutan",
        "Botswana",
        "Central African Republic",
        "Canada",
        "Switzerland",
        "Chile",
        "China",
        "Cote d'Ivoire",
        "Cameroon",
        "Congo, Dem. Rep.",
        "Congo, Rep.",
        "Colombia",
        "Comoros",
        "Cape Verde",
        "Costa Rica",
        "Cyprus",
        "Czech Republic",
        "Germany",
        "Djibouti",
        "Denmark",
        "Dominican Republic",
        "Algeria",
        "Ecuador",
        "Egypt",
        "Spain",
        "Estonia",
        "Ethiopia",
        "Finland",
        "Fiji",
        "France",
        "Micronesia, Fed. Sts.",
        "Gabon",
        "United Kingdom",
        "Georgia",
        "Ghana",
        "Guinea",
        "Gambia",
        "Guinea-Bissau",
        "Greece",
        "Guatemala",
        "Guyana",
        "Honduras",
        "Croatia",
        "Haiti",
        "Hungary",
        "Indonesia",
        "India",
        "Ireland",
        "Iran",
        "Iraq",
        "Iceland",
        "Israel",
        "Italy",
        "Jamaica",
        "Jordan",
        "Japan",
        "Kazakhstan",
        "Kenya",
        "Kyrgyz Republic",
        "Kiribati",
        "South Korea",
        "Lao",
        "Lebanon",
        "Liberia",
        "St. Lucia",
        "Sri Lanka",
        "Lesotho",
        "Lithuania",
        "Luxembourg",
        "Latvia",
        "Morocco",
        "Moldova",
        "Madagascar",
        "Maldives",
        "Mexico",
        "Marshall Islands",
        "Macedonia, FYR",
        "Mali",
        "Malta",
        "Myanmar",
        "Montenegro",
        "Mongolia",
        "Mozambique",
        "Mauritania",
        "Mauritius",
        "Malawi",
        "Malaysia",
        "Namibia",
        "Niger",
        "Nigeria",
        "Nicaragua",
        "Netherlands",
        "Norway",
        "Nepal",
        "Nauru",
        "Pakistan",
        "Panama",
        "Peru",
        "Philippines",
        "Papua New Guinea",
        "Poland",
        "Portugal",
        "Paraguay",
        "Palestine",
        "Romania",
        "Russia",
        "Rwanda",
        "Sudan",
        "Senegal",
        "Solomon Islands",
        "Sierra Leone",
        "El Salvador",
        "Somalia",
        "Serbia",
        "South Sudan",
        "Sao Tome and Principe",
        "Suriname",
        "Slovak Republic",
        "Slovenia",
        "Sweden",
        "Swaziland",
        "Seychelles",
        "Syria",
        "Chad",
        "Togo",
        "Thailand",
        "Tajikistan",
        "Turkmenistan",
        "Timor-Leste",
        "Tonga",
        "Trinidad and Tobago",
        "Tunisia",
        "Turkey",
        "Tuvalu",
        "Tanzania",
        "Uganda",
        "Ukraine",
        "Uruguay",
        "United States",
        "Uzbekistan",
        "Venezuela",
        "Vietnam",
        "Vanuatu",
        "Samoa",
        "Yemen",
        "South Africa",
        "Zambia",
        "Zimbabwe"
       ],
       "_view_count": null,
       "_view_module": "@jupyter-widgets/controls",
       "_view_module_version": "1.5.0",
       "_view_name": "DropdownView",
       "description": "country",
       "description_tooltip": null,
       "disabled": false,
       "index": 0,
       "layout": "IPY_MODEL_aca25b259dbd47d8832565e723282646",
       "style": "IPY_MODEL_cc232071f4d640e99885ef01cb9972c4"
      }
     }
    },
    "version_major": 2,
    "version_minor": 0
   }
  }
 },
 "nbformat": 4,
 "nbformat_minor": 4
}
