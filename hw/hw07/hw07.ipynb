{
 "cells": [
  {
   "cell_type": "code",
   "execution_count": null,
   "id": "ca29aca2",
   "metadata": {
    "deletable": false,
    "editable": false
   },
   "outputs": [],
   "source": [
    "# Initialize Otter\n",
    "import otter\n",
    "grader = otter.Notebook(\"hw07.ipynb\")"
   ]
  },
  {
   "cell_type": "markdown",
   "id": "a2af1ce7",
   "metadata": {
    "jp-MarkdownHeadingCollapsed": true,
    "tags": []
   },
   "source": [
    "<img style=\"display: block; margin-left: auto; margin-right: auto\" src=\"./ccsf-logo.png\" width=\"250rem;\" alt=\"The CCSF black and white logo\">"
   ]
  },
  {
   "cell_type": "markdown",
   "id": "1790e782",
   "metadata": {},
   "source": [
    "<div style=\"text-align: center;\">\n",
    "    <h1>Homework 7: Testing Hypotheses</h1>\n",
    "    <em>View the related <a href=\"https://ccsf.instructure.com\" target=\"_blank\">Canvas</a> Assignment page for additional details.</em>\n",
    "</div>"
   ]
  },
  {
   "cell_type": "markdown",
   "id": "e54acf4c",
   "metadata": {},
   "source": [
    "**Recommended Readings**: \n",
    "\n",
    "* [Testing Hypotheses](https://www.inferentialthinking.com/chapters/11/Testing_Hypotheses.html)\n",
    "* [A/B Testing](https://inferentialthinking.com/chapters/12/1/AB_Testing.html)"
   ]
  },
  {
   "cell_type": "markdown",
   "id": "165c0d9c",
   "metadata": {},
   "source": [
    "Please complete this notebook by filling in the cells provided. **Before you begin, execute the cell below to setup the notebook by importing some helpful libraries.** Each time you start your server, you will need to execute this cell again.\n",
    "\n",
    "For all problems that you must write explanations and sentences for, you **must** provide your answer in the designated space. Moreover, throughout this homework and all future ones, **please be sure to not re-assign variables throughout the notebook!** For example, if you use `max_temperature` in your answer to one question, do not reassign it later on. Otherwise, you will fail tests that you thought you were passing previously!"
   ]
  },
  {
   "cell_type": "code",
   "execution_count": null,
   "id": "10f09712",
   "metadata": {
    "tags": []
   },
   "outputs": [],
   "source": [
    "# Run this cell to set up the notebook, but please don't change it.\n",
    "\n",
    "import numpy as np\n",
    "from datascience import *\n",
    "import matplotlib\n",
    "%matplotlib inline\n",
    "import matplotlib.pyplot as plt\n",
    "plt.style.use('fivethirtyeight')\n",
    "import warnings\n",
    "warnings.simplefilter('ignore', FutureWarning)"
   ]
  },
  {
   "cell_type": "markdown",
   "id": "a90f5ab3",
   "metadata": {},
   "source": [
    "## Vaccinations Across The Nation"
   ]
  },
  {
   "cell_type": "markdown",
   "id": "ad43b37d",
   "metadata": {},
   "source": [
    "A vaccination clinic has two types of vaccines against a disease. Each person who comes in to be vaccinated gets either Vaccine 1 or Vaccine 2. One week, everyone who came in on Monday, Wednesday, and Friday was given Vaccine 1. Everyone who came in on Tuesday and Thursday was given Vaccine 2. The clinic is closed on weekends.\n",
    "\n",
    "Doctor DeNero at the clinic said, \"Oh wow, it's just like tossing a coin that lands heads with chance $\\frac{3}{5}$. Heads you get Vaccine 1 and Tails you get Vaccine 2.\"\n",
    "\n",
    "But Doctor Sahai said, \"No, it's not. We're not doing anything like tossing a coin.\"\n",
    "\n",
    "That week, the clinic gave Vaccine 1 to 211 people and Vaccine 2 to 107 people. Conduct a test of hypotheses to see which doctor's position is better supported by the data."
   ]
  },
  {
   "cell_type": "markdown",
   "id": "91926561",
   "metadata": {
    "tags": []
   },
   "source": [
    "### Task 01 📍"
   ]
  },
  {
   "cell_type": "markdown",
   "id": "cdbc6d98",
   "metadata": {},
   "source": [
    "Given the information above, what was the sample size for the data, and what was the percentage of people who got **Vaccine 1?**\n",
    "\n",
    "*Note*: Your percent should be a number between 0 and 100.\n",
    "\n",
    "_Points:_ 3"
   ]
  },
  {
   "cell_type": "code",
   "execution_count": null,
   "id": "233eab3b",
   "metadata": {
    "tags": []
   },
   "outputs": [],
   "source": [
    "sample_size = ...\n",
    "percent_V1 = ...\n",
    "\n",
    "print(f\"Sample Size: {sample_size}\")\n",
    "print(f\"Vaccine 1 Percent: {percent_V1}\")"
   ]
  },
  {
   "cell_type": "code",
   "execution_count": null,
   "id": "17e39f37",
   "metadata": {
    "deletable": false,
    "editable": false
   },
   "outputs": [],
   "source": [
    "grader.check(\"task_01\")"
   ]
  },
  {
   "cell_type": "markdown",
   "id": "b7c2d96b",
   "metadata": {},
   "source": [
    "### Task 02 📍🔎"
   ]
  },
  {
   "cell_type": "markdown",
   "id": "98b4faef",
   "metadata": {},
   "source": [
    "<!-- BEGIN QUESTION -->\n",
    "\n",
    "State the null hypothesis. It should reflect the position of either Dr. DeNero or Dr. Sahai.\n",
    "\n",
    "*Note:* Check out [11.3](https://inferentialthinking.com/chapters/11/3/Decisions_and_Uncertainty.html#step-1-the-hypotheses) for a refresher on hypotheses.\n",
    "\n",
    "_Points:_ 2"
   ]
  },
  {
   "cell_type": "markdown",
   "id": "7498f0de",
   "metadata": {},
   "source": [
    "_Type your answer here, replacing this text._"
   ]
  },
  {
   "cell_type": "markdown",
   "id": "8ac2b448",
   "metadata": {},
   "source": [
    "<!-- END QUESTION -->\n",
    "\n",
    "### Task 03 📍🔎"
   ]
  },
  {
   "cell_type": "markdown",
   "id": "c6384fbb",
   "metadata": {},
   "source": [
    "<!-- BEGIN QUESTION -->\n",
    "\n",
    "State the alternative hypothesis. It should reflect the position of the doctor you did not choose to represent in Task 02.\n",
    "\n",
    "*Note:* Check out [11.3](https://inferentialthinking.com/chapters/11/3/Decisions_and_Uncertainty.html#step-1-the-hypotheses) for a refresher on hypotheses.\n",
    "\n",
    "_Points:_ 2"
   ]
  },
  {
   "cell_type": "markdown",
   "id": "5ea9518c",
   "metadata": {},
   "source": [
    "_Type your answer here, replacing this text._"
   ]
  },
  {
   "cell_type": "markdown",
   "id": "70fb96df",
   "metadata": {
    "tags": []
   },
   "source": [
    "<!-- END QUESTION -->\n",
    "\n",
    "### Task 04 📍"
   ]
  },
  {
   "cell_type": "markdown",
   "id": "08749a05",
   "metadata": {},
   "source": [
    "One of the test statistics below is appropriate for testing these hypotheses. Assign the variable `valid_test_stat` to the number corresponding to the correct test statistic.\n",
    "\n",
    "1. percent of heads - 60\n",
    "2. percent of heads - 50\n",
    "3. |percent of heads - 60|\n",
    "4. |percent of heads - 50|\n",
    "\n",
    "_Points:_ 2"
   ]
  },
  {
   "cell_type": "code",
   "execution_count": null,
   "id": "ee96dff2",
   "metadata": {
    "tags": []
   },
   "outputs": [],
   "source": [
    "valid_test_stat = ...\n",
    "valid_test_stat"
   ]
  },
  {
   "cell_type": "code",
   "execution_count": null,
   "id": "4624627d",
   "metadata": {
    "deletable": false,
    "editable": false
   },
   "outputs": [],
   "source": [
    "grader.check(\"task_04\")"
   ]
  },
  {
   "cell_type": "markdown",
   "id": "32e1f8ed",
   "metadata": {
    "tags": []
   },
   "source": [
    "### Task 05 📍"
   ]
  },
  {
   "cell_type": "markdown",
   "id": "58ba19fa",
   "metadata": {},
   "source": [
    "Using your answer from Task 01 and Task 04, find the observed value of the test statistic and assign it to the variable `observed_statistic`.\n",
    "\n",
    "_Points:_ 2"
   ]
  },
  {
   "cell_type": "code",
   "execution_count": null,
   "id": "9768d7b8",
   "metadata": {
    "tags": []
   },
   "outputs": [],
   "source": [
    "observed_statistic = ...\n",
    "observed_statistic"
   ]
  },
  {
   "cell_type": "code",
   "execution_count": null,
   "id": "aa996884",
   "metadata": {
    "deletable": false,
    "editable": false
   },
   "outputs": [],
   "source": [
    "grader.check(\"task_05\")"
   ]
  },
  {
   "cell_type": "markdown",
   "id": "bea1739f",
   "metadata": {
    "tags": []
   },
   "source": [
    "### Task 06 📍"
   ]
  },
  {
   "cell_type": "markdown",
   "id": "6c8854ce",
   "metadata": {},
   "source": [
    "In order to perform this hypothesis test, you must simulate the test statistic. From the four options below, pick the assumption that is needed for this simulation. Assign `assumption_needed` to an integer corresponding to the assumption.\n",
    "\n",
    "1. The statistic must be simulated under the null hypothesis.\n",
    "2. The statistic must be simulated under the alternative hypothesis.\n",
    "3. The statistic must be simulated under both hypotheses.\n",
    "4. No assumptions are needed. We can just simulate the statistic.\n",
    "\n",
    "_Points:_ 2"
   ]
  },
  {
   "cell_type": "code",
   "execution_count": null,
   "id": "9b99c3e7",
   "metadata": {
    "tags": []
   },
   "outputs": [],
   "source": [
    "assumption_needed = ...\n",
    "assumption_needed"
   ]
  },
  {
   "cell_type": "code",
   "execution_count": null,
   "id": "2e275616",
   "metadata": {
    "deletable": false,
    "editable": false
   },
   "outputs": [],
   "source": [
    "grader.check(\"task_06\")"
   ]
  },
  {
   "cell_type": "markdown",
   "id": "ba84b410",
   "metadata": {},
   "source": [
    "### Task 07 📍🔎"
   ]
  },
  {
   "cell_type": "markdown",
   "id": "7081cc6c",
   "metadata": {},
   "source": [
    "<!-- BEGIN QUESTION -->\n",
    "\n",
    "Simulate 20,000 values of the test statistic under the assumption you picked in Task 06. \n",
    "\n",
    "As usual, start by defining a function that simulates one value of the statistic. Your function should use `sample_proportions`. (You may find a variable defined in Task 01 useful here!) Then, write a `for` loop to simulate multiple values and collect them in the array `simulated_statistics`.\n",
    "\n",
    "Use as many lines of code as you need. We have included the code that visualizes the distribution of the simulated values. The red dot represents the observed statistic you found in Task 05.\n",
    "\n",
    "_Points:_ 4"
   ]
  },
  {
   "cell_type": "code",
   "execution_count": null,
   "id": "6e57f45a",
   "metadata": {
    "tags": []
   },
   "outputs": [],
   "source": [
    "def one_simulated_statistic():\n",
    "    ...\n",
    "\n",
    "num_simulations = 20000\n",
    "\n",
    "simulated_statistics = ...\n",
    "for ... in ...:\n",
    "    ...\n",
    "\n",
    "# Run the this cell a few times to see how the simulated statistic changes\n",
    "one_simulated_statistic()"
   ]
  },
  {
   "cell_type": "code",
   "execution_count": null,
   "id": "4b709fee",
   "metadata": {
    "tags": []
   },
   "outputs": [],
   "source": [
    "# Run this cell to produce a histogram of the simulated statistics\n",
    "\n",
    "Table().with_columns('Simulated Statistic', simulated_statistics).hist()\n",
    "plt.scatter(observed_statistic, -0.002, color='red', s=40);"
   ]
  },
  {
   "cell_type": "markdown",
   "id": "6dbe28d3",
   "metadata": {
    "tags": []
   },
   "source": [
    "<!-- END QUESTION -->\n",
    "\n",
    "### Task 08 📍"
   ]
  },
  {
   "cell_type": "markdown",
   "id": "2c1494c9",
   "metadata": {},
   "source": [
    "Using `simulated_statistics`, `observed_statistic`, and `num_simulations`, find the empirical p-value based on the simulation.\n",
    "\n",
    "_Points:_ 2"
   ]
  },
  {
   "cell_type": "code",
   "execution_count": null,
   "id": "d6451db2",
   "metadata": {
    "tags": []
   },
   "outputs": [],
   "source": [
    "p_value = ...\n",
    "p_value"
   ]
  },
  {
   "cell_type": "code",
   "execution_count": null,
   "id": "1c966497",
   "metadata": {
    "deletable": false,
    "editable": false
   },
   "outputs": [],
   "source": [
    "grader.check(\"task_08\")"
   ]
  },
  {
   "cell_type": "markdown",
   "id": "b94b1674",
   "metadata": {
    "tags": []
   },
   "source": [
    "### Task 09 📍"
   ]
  },
  {
   "cell_type": "markdown",
   "id": "679aa917",
   "metadata": {},
   "source": [
    "Assign `correct_doctor` to the number corresponding to the correct statement below. Use the 5% cutoff for the p-value.\n",
    "\n",
    "1. The data support Dr. DeNero's position more than they support Dr. Sahai's.\n",
    "2. The data support Dr. Sahai's position more than they support Dr. DeNero's.\n",
    "\n",
    "As a reminder, here are the two claims made by Dr. DeNero and Dr. Sahai:\n",
    "> **Doctor DeNero:** \"Oh wow, it's just like tossing a coin that lands heads with chance $\\frac{3}{5}$. Heads you get Vaccine 1 and Tails you get Vaccine 2.\"\n",
    "\n",
    ">**Doctor Sahai:** \"No, it's not. We're not doing anything like tossing a coin.\"\n",
    "\n",
    "_Points:_ 2"
   ]
  },
  {
   "cell_type": "code",
   "execution_count": null,
   "id": "2de53025",
   "metadata": {
    "tags": []
   },
   "outputs": [],
   "source": [
    "correct_doctor = ...\n",
    "correct_doctor"
   ]
  },
  {
   "cell_type": "code",
   "execution_count": null,
   "id": "e0eeaad5",
   "metadata": {
    "deletable": false,
    "editable": false
   },
   "outputs": [],
   "source": [
    "grader.check(\"task_09\")"
   ]
  },
  {
   "cell_type": "markdown",
   "id": "3ee2b88e",
   "metadata": {},
   "source": [
    "## Using TVD as a Test Statistic"
   ]
  },
  {
   "cell_type": "markdown",
   "id": "0a3c06fd",
   "metadata": {},
   "source": [
    "Before beginning this section, please read [this section](https://inferentialthinking.com/chapters/11/2/Multiple_Categories.html#a-new-statistic-the-distance-between-two-distributions) of the textbook on TVD!"
   ]
  },
  {
   "cell_type": "markdown",
   "id": "50edc96c",
   "metadata": {},
   "source": [
    "**Total variation distance (TVD)** is a special type of test statistic that we use when we want to compare two distributions of *categorical data*. It is often used when we observe that a set of observed proportions/probabilities is different than what we expect under the null model. \n",
    "\n",
    "Consider a six-sided die that we roll 6,000 times. If the die is fair, we would expect that each face comes up $\\frac{1}{6}$ of the time. By random chance, a fair die won't always result in equal proportions (that is, we won't get exactly 1,000 of each face). However, if we suspect that the die might be unfair based on the data, we can conduct a hypothesis test using TVD to compare the expected [$\\frac{1}{6}$, $\\frac{1}{6}$, $\\frac{1}{6}$, $\\frac{1}{6}$, $\\frac{1}{6}$, $\\frac{1}{6}$] distribution to what is actually observed.\n",
    "\n",
    "In this part of the homework, we'll look at how we can use TVD to determine the effect that different factors have on happiness. \n",
    "\n",
    "We will be working with data from the [Gallup World Poll](https://www.gallup.com/analytics/349487/gallup-global-happiness-center.aspx#:~:text=World%20Happiness%20Report&text=Using%20the%20Gallup%20World%20Poll,about%20the%20World%20Happiness%20Report.) that is presented in the World Happiness Report, a survey of the state of global happiness. The survey ranked 155 countries by overall happiness and estimated the influence that economic production, social support, life expectancy, freedom, absence of corruption, and generosity had on population happiness. The study has been repeated for several years, but we'll be looking at data from the 2016 survey.\n",
    "\n",
    "Run the cell below to load in the `happiness_scores` table."
   ]
  },
  {
   "cell_type": "code",
   "execution_count": null,
   "id": "24f9ebce",
   "metadata": {},
   "outputs": [],
   "source": [
    "happiness_scores = Table.read_table(\"happiness_scores.csv\")\n",
    "happiness_scores.show(5)"
   ]
  },
  {
   "cell_type": "markdown",
   "id": "11e498b8",
   "metadata": {},
   "source": [
    "Participants in the study were asked to evaluate their life satisfaction from a scale of 0 (worst possible life) to 10 (best possible life). The responses for each country were averaged to create the `Happiness Score`.\n",
    "\n",
    "The columns `Economy (GDP per Capita)`, `Family`, `Health (Life Expectancy)`, `Freedom`, `Trust (Government Corruption)`, and `Generosity` estimate the extent to which each factor influences happiness, both for better or for worse. The happiness score is the sum of these factors; the larger a factor is, the more it contributes to overall happiness. [In other words, if you add up all the factors (in addition to a \"Difference from Dystopia\" value we excluded in the dataset), you get the happiness score.]\n",
    "\n",
    "Let's look at the different factors that affect happiness in the United States. Run the cell below to view the row in `us_happiness` that contains data for the United States."
   ]
  },
  {
   "cell_type": "code",
   "execution_count": null,
   "id": "72cebef1",
   "metadata": {},
   "outputs": [],
   "source": [
    "us_happiness = happiness_scores.where(\"Country\", \"United States\")\n",
    "us_happiness"
   ]
  },
  {
   "cell_type": "markdown",
   "id": "639d4b10",
   "metadata": {},
   "source": [
    "**To compare the different factors, we'll look at the proportion of the happiness score that is attributed to each variable. \n",
    "You can find these proportions in the table `us_happiness_factors` after running the cell below.**\n",
    "\n",
    "*Note:* The factors shown in `us_happiness` don't add up exactly to the happiness score, so we adjusted the proportions to  only account for the data we have access to. The proportions were found by dividing each Happiness Factor value by the sum of all Happiness Factor values in `us_happiness`."
   ]
  },
  {
   "cell_type": "code",
   "execution_count": null,
   "id": "7c11645e",
   "metadata": {},
   "outputs": [],
   "source": [
    "us_happiness_factors = Table().read_table(\"us_happiness_factors.csv\")\n",
    "us_happiness_factors"
   ]
  },
  {
   "cell_type": "markdown",
   "id": "4f105e5d",
   "metadata": {},
   "source": [
    "### Task 09 📍🔎"
   ]
  },
  {
   "cell_type": "markdown",
   "id": "8cba9791",
   "metadata": {},
   "source": [
    "<!-- BEGIN QUESTION -->\n",
    "\n",
    "Suppose we want to test whether or not each factor contributes the same amount to the overall Happiness Score. Define the null hypothesis, alternative hypothesis, and test statistic in the cell below. Feel free to check your work with another student or course staff.\n",
    "\n",
    "*Note:* Please format your answer as follows:\n",
    "- Null Hypothesis: ...  \n",
    "- Alternative Hypothesis: ...  \n",
    "- Test Statistic: ...  \n",
    "\n",
    "_Points:_ 2"
   ]
  },
  {
   "cell_type": "markdown",
   "id": "b3e5cb20",
   "metadata": {},
   "source": [
    "_Type your answer here, replacing this text._"
   ]
  },
  {
   "cell_type": "code",
   "execution_count": null,
   "id": "5bcd7be8",
   "metadata": {
    "deletable": false,
    "editable": false
   },
   "outputs": [],
   "source": [
    "grader.check(\"task_09\")"
   ]
  },
  {
   "cell_type": "markdown",
   "id": "ee8dc6d6",
   "metadata": {
    "tags": []
   },
   "source": [
    "<!-- END QUESTION -->\n",
    "\n",
    "### Task 10 📍"
   ]
  },
  {
   "cell_type": "markdown",
   "id": "fd92c1a1",
   "metadata": {},
   "source": [
    "Write a function `calculate_tvd` that takes in the observed distribution (`obs_dist`) and expected distribution under the null hypothesis (`null_dist`) and calculates the total variation distance. Use this function to set `observed_tvd` to be equal to the observed test statistic.\n",
    "\n",
    "_Points:_ 2"
   ]
  },
  {
   "cell_type": "code",
   "execution_count": null,
   "id": "b15bdc6d",
   "metadata": {
    "tags": []
   },
   "outputs": [],
   "source": [
    "null_distribution = np.ones(6) * (1/6)\n",
    "\n",
    "def calculate_tvd(obs_dist, null_dist):\n",
    "    ...\n",
    "    \n",
    "observed_tvd = ...\n",
    "observed_tvd"
   ]
  },
  {
   "cell_type": "code",
   "execution_count": null,
   "id": "4046c21e",
   "metadata": {
    "deletable": false,
    "editable": false
   },
   "outputs": [],
   "source": [
    "grader.check(\"task_10\")"
   ]
  },
  {
   "cell_type": "markdown",
   "id": "901199eb",
   "metadata": {
    "tags": []
   },
   "source": [
    "### Task 11 📍"
   ]
  },
  {
   "cell_type": "markdown",
   "id": "b34a76ac",
   "metadata": {},
   "source": [
    "Create an array called `simulated_tvds` that contains 10,000 simulated values under the null hypothesis. Assume that the original sample consisted of 1,000 individuals.\n",
    "\n",
    "*Hint:* The `sample_proportions` function may be helpful to you. Refer to the Python Reference Guide in Canvas."
   ]
  },
  {
   "cell_type": "code",
   "execution_count": null,
   "id": "b9a7b673",
   "metadata": {
    "tags": []
   },
   "outputs": [],
   "source": [
    "simulated_tvds = ...\n",
    "\n",
    "..."
   ]
  },
  {
   "cell_type": "markdown",
   "id": "79e702b7",
   "metadata": {},
   "source": [
    "Run the cell below to plot a histogram of your simulated test statistics, as well as a red dot representing the observed value of the test statistic.\n",
    "\n",
    "_Points:_ 4"
   ]
  },
  {
   "cell_type": "code",
   "execution_count": null,
   "id": "6c878c7f",
   "metadata": {},
   "outputs": [],
   "source": [
    "Table().with_column(\"Simulated TVDs\", simulated_tvds).hist()\n",
    "plt.scatter(observed_tvd, 0, color='red', s=70, zorder=2);\n",
    "plt.show();"
   ]
  },
  {
   "cell_type": "code",
   "execution_count": null,
   "id": "43c070ba",
   "metadata": {
    "deletable": false,
    "editable": false
   },
   "outputs": [],
   "source": [
    "grader.check(\"task_11\")"
   ]
  },
  {
   "cell_type": "markdown",
   "id": "25e942b2",
   "metadata": {
    "tags": []
   },
   "source": [
    "### Task 12 📍"
   ]
  },
  {
   "cell_type": "markdown",
   "id": "5b9d1f93",
   "metadata": {},
   "source": [
    "Use your simulated statistics to calculate the p-value of your test. Make sure that this number is consistent with what you observed in the histogram above.\n",
    "\n",
    "_Points:_ 1"
   ]
  },
  {
   "cell_type": "code",
   "execution_count": null,
   "id": "bd11bb34",
   "metadata": {
    "tags": []
   },
   "outputs": [],
   "source": [
    "p_value_tvd = ...\n",
    "p_value_tvd"
   ]
  },
  {
   "cell_type": "code",
   "execution_count": null,
   "id": "798a7947",
   "metadata": {
    "deletable": false,
    "editable": false
   },
   "outputs": [],
   "source": [
    "grader.check(\"task_12\")"
   ]
  },
  {
   "cell_type": "markdown",
   "id": "a11d85c5",
   "metadata": {
    "toc-hr-collapsed": true
   },
   "source": [
    "### Task 13 📍🔎"
   ]
  },
  {
   "cell_type": "markdown",
   "id": "aad48e87",
   "metadata": {},
   "source": [
    "<!-- BEGIN QUESTION -->\n",
    "\n",
    "What can you conclude about how each factor contributes to the overall happiness score in the US? Explain your answer using the results of your hypothesis test. Assume a p-value cutoff of 5%.\n",
    "\n",
    "_Points:_ 2"
   ]
  },
  {
   "cell_type": "markdown",
   "id": "dcf718e0",
   "metadata": {},
   "source": [
    "_Type your answer here, replacing this text._"
   ]
  },
  {
   "cell_type": "markdown",
   "id": "358412ed",
   "metadata": {},
   "source": [
    "<!-- END QUESTION -->\n",
    "\n",
    "## Who is Older?"
   ]
  },
  {
   "cell_type": "markdown",
   "id": "d23c7fbb",
   "metadata": {},
   "source": [
    "Data scientists have drawn a simple random sample of size 500 from a large population of adults. Each member of the population happened to identify as either \"male\" or \"female\". Data was collected on several attributes of the sampled people, including age. The table `sampled_ages` contains one row for each person in the sample, with columns containing the individual's gender identity."
   ]
  },
  {
   "cell_type": "code",
   "execution_count": null,
   "id": "fa115484",
   "metadata": {},
   "outputs": [],
   "source": [
    "sampled_ages = Table.read_table('age.csv')\n",
    "sampled_ages.show(5)"
   ]
  },
  {
   "cell_type": "markdown",
   "id": "73529bf4",
   "metadata": {
    "tags": []
   },
   "source": [
    "### Task 14 📍"
   ]
  },
  {
   "cell_type": "markdown",
   "id": "bf2d7b54",
   "metadata": {},
   "source": [
    "How many females were there in our sample? Please use the provided skeleton code.\n",
    "\n",
    "*Hint:* Keep in mind that `.group` sorts categories in alphabetical order!\n",
    "\n",
    "_Points:_ 2"
   ]
  },
  {
   "cell_type": "code",
   "execution_count": null,
   "id": "4abeb966",
   "metadata": {
    "tags": []
   },
   "outputs": [],
   "source": [
    "num_females = sampled_ages.group(...)...\n",
    "num_females"
   ]
  },
  {
   "cell_type": "code",
   "execution_count": null,
   "id": "96392d01",
   "metadata": {
    "deletable": false,
    "editable": false
   },
   "outputs": [],
   "source": [
    "grader.check(\"task_14\")"
   ]
  },
  {
   "cell_type": "markdown",
   "id": "822231e4",
   "metadata": {
    "tags": []
   },
   "source": [
    "### Task 15 📍"
   ]
  },
  {
   "cell_type": "markdown",
   "id": "7aafdb68",
   "metadata": {},
   "source": [
    "Complete the cell below so that `avg_male_vs_female` evaluates to `True` if the sampled males are older than the sampled females on average, and `False` otherwise. Use Python code to achieve this.\n",
    "\n",
    "_Points:_ 2"
   ]
  },
  {
   "cell_type": "code",
   "execution_count": null,
   "id": "d555fa3a",
   "metadata": {
    "tags": []
   },
   "outputs": [],
   "source": [
    "group_mean_tbl = sampled_ages.group(...)\n",
    "group_means = group_mean_tbl...       # array of mean ages\n",
    "avg_male_vs_female = group_means... > group_means...\n",
    "avg_male_vs_female"
   ]
  },
  {
   "cell_type": "code",
   "execution_count": null,
   "id": "9c6bc63c",
   "metadata": {
    "deletable": false,
    "editable": false
   },
   "outputs": [],
   "source": [
    "grader.check(\"task_15\")"
   ]
  },
  {
   "cell_type": "markdown",
   "id": "1d6cdb69",
   "metadata": {
    "tags": []
   },
   "source": [
    "### Task 16 📍"
   ]
  },
  {
   "cell_type": "markdown",
   "id": "cdac28b9",
   "metadata": {},
   "source": [
    "The data scientists want to use the data to test whether males are older than females—or, in other words, whether the ages of the two groups have the same distribution. One of the following statements is their null hypothesis and another is their alternative hypothesis. Assign `null_statement_number` and `alternative_statement_number` to the numbers of the correct statements in the code cell below.\n",
    "\n",
    "1. In the sample, the males and females have the same distribution of ages; the sample averages of the two groups are different due to chance.\n",
    "2. In the population, the males and females have the same distribution of ages; the sample averages of the two groups are different due to chance.\n",
    "3. The age distributions of males and females in the population are different due to chance.\n",
    "4. The males in the sample are older than the females, on average.\n",
    "5. The males in the population are older than the females, on average.\n",
    "6. The average ages of the males and females in the population are different.\n",
    "\n",
    "_Points:_ 3"
   ]
  },
  {
   "cell_type": "code",
   "execution_count": null,
   "id": "a7779767",
   "metadata": {
    "tags": []
   },
   "outputs": [],
   "source": [
    "null_statement_number = ...\n",
    "alternative_statement_number = ..."
   ]
  },
  {
   "cell_type": "code",
   "execution_count": null,
   "id": "e811c05a",
   "metadata": {
    "deletable": false,
    "editable": false
   },
   "outputs": [],
   "source": [
    "grader.check(\"task_16\")"
   ]
  },
  {
   "cell_type": "markdown",
   "id": "1b129b8e",
   "metadata": {
    "tags": []
   },
   "source": [
    "### Task 17 📍"
   ]
  },
  {
   "cell_type": "markdown",
   "id": "8d778737",
   "metadata": {},
   "source": [
    "The data scientists have decided to use a permutation test. Assign `permutation_test_reason` to the number corresponding to the reason they made this choice.\n",
    "\n",
    "1. Since a person's age shouldn't be related to their gender, it doesn't matter who is labeled \"male\" and who is labeled \"female\", so you can use permutations.\n",
    "2. Under the null hypothesis, permuting the labels in the `sampled_ages` table is equivalent to drawing a new random sample with the same number of males and females as in the original sample.\n",
    "3. Under the null hypothesis, permuting the rows of `sampled_ages` table is equivalent to drawing a new random sample with the same number of males and females as in the original sample.\n",
    "\n",
    "_Points:_ 2"
   ]
  },
  {
   "cell_type": "code",
   "execution_count": null,
   "id": "bf28ef1a",
   "metadata": {
    "tags": []
   },
   "outputs": [],
   "source": [
    "permutation_test_reason = ...\n",
    "permutation_test_reason"
   ]
  },
  {
   "cell_type": "code",
   "execution_count": null,
   "id": "8f5d86a9",
   "metadata": {
    "deletable": false,
    "editable": false
   },
   "outputs": [],
   "source": [
    "grader.check(\"task_17\")"
   ]
  },
  {
   "cell_type": "markdown",
   "id": "c7e4ecf5",
   "metadata": {
    "tags": []
   },
   "source": [
    "### Task 18 📍"
   ]
  },
  {
   "cell_type": "markdown",
   "id": "999b2208",
   "metadata": {},
   "source": [
    "To test their hypotheses, the data scientists have followed our textbook's advice and chosen a test statistic where the following statement is true: Large values of the test statistic favor the alternative hypothesis.\n",
    "\n",
    "The data scientists' test statistic is one of the two options below. Which one is it? Assign the appropriate number to the variable `correct_test_stat`.\n",
    "\n",
    "1. \"male age average - female age average\" in a sample created by randomly shuffling the male/female labels\n",
    "2. \"|male age average - female age average|\" in a sample created by randomly shuffling the male/female labels\n",
    "\n",
    "_Points:_ 2"
   ]
  },
  {
   "cell_type": "code",
   "execution_count": null,
   "id": "31fc3312",
   "metadata": {
    "tags": []
   },
   "outputs": [],
   "source": [
    "correct_test_stat = ...\n",
    "correct_test_stat"
   ]
  },
  {
   "cell_type": "code",
   "execution_count": null,
   "id": "604bdf64",
   "metadata": {
    "deletable": false,
    "editable": false
   },
   "outputs": [],
   "source": [
    "grader.check(\"task_18\")"
   ]
  },
  {
   "cell_type": "markdown",
   "id": "f28835b3",
   "metadata": {
    "tags": []
   },
   "source": [
    "### Task 19 📍"
   ]
  },
  {
   "cell_type": "markdown",
   "id": "1945b19f",
   "metadata": {},
   "source": [
    "Complete the cell below so that `observed_statistic_ab` evaluates to the observed value of the data scientists' test statistic. Use as many lines of code as you need, and remember that you can use any quantity, table, or array that you created earlier.\n",
    "\n",
    "_Points:_ 2"
   ]
  },
  {
   "cell_type": "code",
   "execution_count": null,
   "id": "e4dbecc9",
   "metadata": {
    "tags": []
   },
   "outputs": [],
   "source": [
    "observed_statistic_ab = ...\n",
    "observed_statistic_ab"
   ]
  },
  {
   "cell_type": "code",
   "execution_count": null,
   "id": "4844d20d",
   "metadata": {
    "deletable": false,
    "editable": false
   },
   "outputs": [],
   "source": [
    "grader.check(\"task_19\")"
   ]
  },
  {
   "cell_type": "markdown",
   "id": "7e5d7b1f",
   "metadata": {
    "tags": []
   },
   "source": [
    "### Task 20 📍"
   ]
  },
  {
   "cell_type": "markdown",
   "id": "c961cc59",
   "metadata": {},
   "source": [
    "Assign `shuffled_labels` to an array of shuffled male/female labels. The rest of the code puts the array in a table along with the data in `sampled_ages`.\n",
    "\n",
    "*Note:* Check out [12.1](https://inferentialthinking.com/chapters/12/1/AB_Testing.html#predicting-the-statistic-under-the-null-hypothesis) for a refresher on random permutations.\n",
    "\n",
    "_Points:_ 4"
   ]
  },
  {
   "cell_type": "code",
   "execution_count": null,
   "id": "a0a993ca",
   "metadata": {
    "tags": []
   },
   "outputs": [],
   "source": [
    "shuffled_labels = ...\n",
    "original_with_shuffled_labels = sampled_ages.with_columns('Shuffled Label', shuffled_labels)\n",
    "original_with_shuffled_labels"
   ]
  },
  {
   "cell_type": "code",
   "execution_count": null,
   "id": "9e996271",
   "metadata": {
    "deletable": false,
    "editable": false
   },
   "outputs": [],
   "source": [
    "grader.check(\"task_20\")"
   ]
  },
  {
   "cell_type": "markdown",
   "id": "48477411",
   "metadata": {
    "tags": []
   },
   "source": [
    "### Task 21 📍"
   ]
  },
  {
   "cell_type": "markdown",
   "id": "0dcb302e",
   "metadata": {},
   "source": [
    "The comparison below uses the array `shuffled_labels` from Task 20 and the count `num_females` from Task 14.\n",
    "\n",
    "For this comparison, assign the correct number from one of the following options to the variable `correct_q8`. **Pretend this is a midterm problem and solve it without doing the calculation in a code cell.**\n",
    "\n",
    "`comp = np.count_nonzero(shuffled_labels == 'female') == num_females`\n",
    "\n",
    "1. `comp` is set to `True`.\n",
    "2. `comp` is set to `False`.\n",
    "3. `comp` is set to `True` or `False`, depending on how the shuffle came out.\n",
    "\n",
    "_Points:_ 2"
   ]
  },
  {
   "cell_type": "code",
   "execution_count": null,
   "id": "e37ffd5d",
   "metadata": {
    "tags": []
   },
   "outputs": [],
   "source": [
    "correct_q8 = ...\n",
    "correct_q8"
   ]
  },
  {
   "cell_type": "code",
   "execution_count": null,
   "id": "d566f7fb",
   "metadata": {
    "deletable": false,
    "editable": false
   },
   "outputs": [],
   "source": [
    "grader.check(\"task_21\")"
   ]
  },
  {
   "cell_type": "markdown",
   "id": "80bab85e",
   "metadata": {
    "tags": []
   },
   "source": [
    "### Task 22 📍"
   ]
  },
  {
   "cell_type": "markdown",
   "id": "36a05d24",
   "metadata": {},
   "source": [
    "Define a function `simulate_one_statistic` that takes no arguments and returns one simulated value of the test statistic. We've given you a skeleton, but feel free to approach this question in a way that makes sense to you. Use as many lines of code as you need. Refer to the code you have previously written in this problem, as you might be able to re-use some of it."
   ]
  },
  {
   "cell_type": "code",
   "execution_count": null,
   "id": "1b7a39f6",
   "metadata": {
    "tags": []
   },
   "outputs": [],
   "source": [
    "def simulate_one_statistic():\n",
    "    \"Returns one value of our simulated test statistic\"\n",
    "    shuffled_labels = ...\n",
    "    shuffled_tbl = ...\n",
    "    group_means = ...\n",
    "    ..."
   ]
  },
  {
   "cell_type": "markdown",
   "id": "a82a3a93",
   "metadata": {},
   "source": [
    "After you have defined your function, run the following cell a few times to see how the statistic varies.\n",
    "\n",
    "_Points:_ 1"
   ]
  },
  {
   "cell_type": "code",
   "execution_count": null,
   "id": "fed90853",
   "metadata": {},
   "outputs": [],
   "source": [
    "simulate_one_statistic()"
   ]
  },
  {
   "cell_type": "code",
   "execution_count": null,
   "id": "6b81eae1",
   "metadata": {
    "deletable": false,
    "editable": false
   },
   "outputs": [],
   "source": [
    "grader.check(\"task_22\")"
   ]
  },
  {
   "cell_type": "markdown",
   "id": "8cc5b71c",
   "metadata": {
    "tags": []
   },
   "source": [
    "### Task 23 📍"
   ]
  },
  {
   "cell_type": "markdown",
   "id": "42f6151e",
   "metadata": {},
   "source": [
    "Complete the cell to simulate 4,000 values of the statistic. We have included the code that draws the empirical distribution of the statistic and shows the value of `observed_statistic_ab` from Question 3.6. Feel free to use as many lines of code as you need.\n",
    "\n",
    "*Note:* This cell will take around a minute to run.\n",
    "\n",
    "_Points:_ 1"
   ]
  },
  {
   "cell_type": "code",
   "execution_count": null,
   "id": "b9607d8f",
   "metadata": {
    "tags": []
   },
   "outputs": [],
   "source": [
    "repetitions = 4000\n",
    "\n",
    "simulated_statistics_ab = make_array()\n",
    "...\n",
    "    simulated_statistics_ab = ...\n",
    "\n",
    "# Do not change these lines\n",
    "Table().with_columns('Simulated Statistic', simulated_statistics_ab).hist()\n",
    "plt.scatter(observed_statistic_ab, -0.002, color='red', s=70);"
   ]
  },
  {
   "cell_type": "code",
   "execution_count": null,
   "id": "e243dfe0",
   "metadata": {
    "deletable": false,
    "editable": false
   },
   "outputs": [],
   "source": [
    "grader.check(\"task_23\")"
   ]
  },
  {
   "cell_type": "markdown",
   "id": "578ebbf9",
   "metadata": {
    "tags": []
   },
   "source": [
    "### Task 24 📍"
   ]
  },
  {
   "cell_type": "markdown",
   "id": "b21a362c",
   "metadata": {},
   "source": [
    "Use the simulation to find an empirical approximation to the p-value. Assign `p_val` to the appropriate p-value from this simulation. Then, assign `conclusion` to either `null_hyp` or `alt_hyp`.\n",
    "\n",
    "*Note:* Assume that we use the 5% cutoff for the p-value.\n",
    "\n",
    "_Points:_ 3"
   ]
  },
  {
   "cell_type": "code",
   "execution_count": null,
   "id": "39a9ee39",
   "metadata": {
    "tags": []
   },
   "outputs": [],
   "source": [
    "# These are variables provided for you to use.\n",
    "null_hyp = 'The data are consistent with the null hypothesis.'\n",
    "alt_hyp = 'The data support the alternative more than the null.'\n",
    "\n",
    "p_val = ...\n",
    "conclusion = ...\n",
    "\n",
    "p_val, conclusion # Do not change this line"
   ]
  },
  {
   "cell_type": "code",
   "execution_count": null,
   "id": "05c7b253",
   "metadata": {
    "deletable": false,
    "editable": false
   },
   "outputs": [],
   "source": [
    "grader.check(\"task_24\")"
   ]
  },
  {
   "cell_type": "markdown",
   "id": "8787770d",
   "metadata": {},
   "source": [
    "## Submit your Homework to Canvas\n",
    "\n",
    "Once you have finished working on the homework tasks, prepare to submit your work in Canvas by completing the following steps.\n",
    "\n",
    "1. In the related Canvas Assignment page, check the rubric to know how you will be scored for this assignment.\n",
    "2. Double-check that you have run the code cell near the end of the notebook that contains the command `\"grader.check_all()\"`. This command will run all of the run tests on all your responses to the auto-graded tasks marked with 📍.\n",
    "3. Double-check your responses to the manually graded tasks marked with 📍🔎.\n",
    "3. Select the menu item \"File\" and \"Save Notebook\" in the notebook's Toolbar to save your work and create a specific checkpoint in the notebook's work history.\n",
    "4. Select the menu items \"File\", \"Download\" in the notebook's Toolbar to download the notebook (.ipynb) file. \n",
    "5. In the related Canvas Assignment page, click Start Assignment or New Attempt to upload the downloaded .ipynb file.\n",
    "\n",
    "**Keep in mind that the autograder does not always check for correctness. Sometimes it just checks for the format of your answer, so passing the autograder for a question does not mean you got the answer correct for that question.**"
   ]
  },
  {
   "cell_type": "markdown",
   "id": "d141a4fe",
   "metadata": {
    "deletable": false,
    "editable": false
   },
   "source": [
    "---\n",
    "\n",
    "To double-check your work, the cell below will rerun all of the autograder tests."
   ]
  },
  {
   "cell_type": "code",
   "execution_count": null,
   "id": "22896284",
   "metadata": {
    "deletable": false,
    "editable": false
   },
   "outputs": [],
   "source": [
    "grader.check_all()"
   ]
  }
 ],
 "metadata": {
  "kernelspec": {
   "display_name": "Python 3 (ipykernel)",
   "language": "python",
   "name": "python3"
  },
  "language_info": {
   "codemirror_mode": {
    "name": "ipython",
    "version": 3
   },
   "file_extension": ".py",
   "mimetype": "text/x-python",
   "name": "python",
   "nbconvert_exporter": "python",
   "pygments_lexer": "ipython3",
   "version": "3.10.9"
  },
  "otter": {
   "OK_FORMAT": true,
   "assignment_name": "hw07_sp23",
   "tests": {
    "task_01": {
     "name": "task_01",
     "points": 3,
     "suites": [
      {
       "cases": [
        {
         "code": ">>> \n>>> type(sample_size) == int\nTrue",
         "failure_message": "❌ sample_size should be an int",
         "hidden": false,
         "locked": false,
         "points": 0.25,
         "success_message": "✅ sample_size is an int"
        },
        {
         "code": ">>> \n>>> type(percent_V1) == float or type(percent_V1) == int\nTrue",
         "failure_message": "❌ percent_V1 should be numerical (float or int)",
         "hidden": false,
         "locked": false,
         "points": 0.25,
         "success_message": "✅ percent_V1 is numerical (float or int)"
        },
        {
         "code": ">>> \n>>> 100 <= sample_size <= 500\nTrue",
         "failure_message": "❌ sample_size is not within a possible range of values.",
         "hidden": false,
         "locked": false,
         "points": 0.25,
         "success_message": "✅ sample_size is within a possible range of values."
        },
        {
         "code": ">>> \n>>> 0 <= percent_V1 <= 100\nTrue",
         "failure_message": "❌ percent_V1 should be a value betwen 0 and 100.",
         "hidden": false,
         "locked": false,
         "points": 0.25,
         "success_message": "✅ percent_V1 is a value betwen 0 and 100."
        }
       ],
       "scored": true,
       "setup": "",
       "teardown": "",
       "type": "doctest"
      }
     ]
    },
    "task_04": {
     "name": "task_04",
     "points": 2,
     "suites": [
      {
       "cases": [
        {
         "code": ">>> \n>>> type(valid_test_stat) == int\nTrue",
         "failure_message": "❌ valid_test_stat should be an integer.",
         "hidden": false,
         "locked": false,
         "points": 0.5,
         "success_message": "✅ valid_test_stat is an integer."
        },
        {
         "code": ">>> \n>>> any((valid_test_stat == x for x in np.arange(1,5)))\nTrue",
         "failure_message": "❌ valid_test_stat should be a number between 1 and 4.",
         "hidden": false,
         "locked": false,
         "points": 0.5,
         "success_message": "✅ valid_test_stat is a number between 1 and 4."
        }
       ],
       "scored": true,
       "setup": "",
       "teardown": "",
       "type": "doctest"
      }
     ]
    },
    "task_05": {
     "name": "task_05",
     "points": 2,
     "suites": [
      {
       "cases": [
        {
         "code": ">>> \n>>> type(observed_statistic) == float\nTrue",
         "failure_message": "❌ observed_statistic should be a float.",
         "hidden": false,
         "locked": false,
         "points": 0.5,
         "success_message": "✅ observed_statistic is a float."
        },
        {
         "code": ">>> \n>>> 0 <= observed_statistic <= 100\nTrue",
         "failure_message": "❌ observed_statistic should be a number between 0 and 100.",
         "hidden": false,
         "locked": false,
         "points": 0.5,
         "success_message": "✅ observed_statistic is a number between 0 and 100."
        }
       ],
       "scored": true,
       "setup": "",
       "teardown": "",
       "type": "doctest"
      }
     ]
    },
    "task_06": {
     "name": "task_06",
     "points": 2,
     "suites": [
      {
       "cases": [
        {
         "code": ">>> \n>>> type(assumption_needed) == int\nTrue",
         "failure_message": "❌ assumption_needed should be an int.",
         "hidden": false,
         "locked": false,
         "points": 0.5,
         "success_message": "✅ assumption_needed is an int."
        },
        {
         "code": ">>> \n>>> 1 <= assumption_needed <= 4\nTrue",
         "failure_message": "❌ assumption_needed should be a number between 1 and 4.",
         "hidden": false,
         "locked": false,
         "points": 0.5,
         "success_message": "✅ assumption_needed is a number between 1 and 4."
        }
       ],
       "scored": true,
       "setup": "",
       "teardown": "",
       "type": "doctest"
      }
     ]
    },
    "task_08": {
     "name": "task_08",
     "points": 2,
     "suites": [
      {
       "cases": [
        {
         "code": ">>> \n>>> import numpy as np\n>>> type(p_value) == float or type(p_value) == np.float64\nTrue",
         "failure_message": "❌ p_value should be a float.",
         "hidden": false,
         "locked": false,
         "points": 0.5,
         "success_message": "✅ p_value is a float."
        },
        {
         "code": ">>> \n>>> 0 <= p_value <= 1\nTrue",
         "failure_message": "❌ p_value should be a number between 0 and 1.",
         "hidden": false,
         "locked": false,
         "points": 0.5,
         "success_message": "✅ p_value is a number between 0 and 1."
        }
       ],
       "scored": true,
       "setup": "",
       "teardown": "",
       "type": "doctest"
      }
     ]
    },
    "task_09": {
     "name": "task_09",
     "points": 2,
     "suites": [
      {
       "cases": [
        {
         "code": ">>> \n>>> type(correct_doctor) == int\nTrue",
         "failure_message": "❌ correct_doctor should be an int.",
         "hidden": false,
         "locked": false,
         "points": 0.5,
         "success_message": "✅ correct_doctor is an int."
        },
        {
         "code": ">>> \n>>> any((correct_doctor == x for x in (1,2)))\nTrue",
         "failure_message": "❌ correct_doctor should be either 1 or 2.",
         "hidden": false,
         "locked": false,
         "points": 0.5,
         "success_message": "✅ correct_doctor is either 1 or 2."
        }
       ],
       "scored": true,
       "setup": "",
       "teardown": "",
       "type": "doctest"
      }
     ]
    },
    "task_10": {
     "name": "task_10",
     "points": 2,
     "suites": [
      {
       "cases": [
        {
         "code": ">>> \n>>> import numpy as np\n>>> type(observed_tvd) in set([float, np.float32, np.float64])\nTrue",
         "failure_message": "❌ observed_tvd should be a float.",
         "hidden": false,
         "locked": false,
         "points": 1,
         "success_message": "✅ observed_tvd is a float."
        },
        {
         "code": ">>> \n>>> np.isclose(round(observed_tvd, 6), 0.262086)\nTrue",
         "failure_message": "❌ observed_tvd doesn't seem correct.",
         "hidden": false,
         "locked": false,
         "points": 1,
         "success_message": "✅ observed_tvd seems correct."
        }
       ],
       "scored": true,
       "setup": "",
       "teardown": "",
       "type": "doctest"
      }
     ]
    },
    "task_11": {
     "name": "task_11",
     "points": 4,
     "suites": [
      {
       "cases": [
        {
         "code": ">>> \n>>> len(simulated_tvds) == 10000\nTrue",
         "failure_message": "❌ simulated_tvds should have 10,000 items in it.",
         "hidden": false,
         "locked": false,
         "points": 1,
         "success_message": "✅ simulated_tvds has 10,000 items in it."
        },
        {
         "code": ">>> \n>>> all(simulated_tvds >= 0)\nTrue",
         "failure_message": "❌ Each value in simulated_tvds should be 0 or larger.",
         "hidden": false,
         "locked": false,
         "points": 1,
         "success_message": "✅ Each value in simulated_tvds is 0 or larger."
        },
        {
         "code": ">>> \n>>> # Make sure that your test statistic is not always the same value \n>>> len(np.unique(simulated_tvds)) != 1\nTrue",
         "failure_message": "❌ None of the values in simulated_tvds should be the same.",
         "hidden": false,
         "locked": false,
         "points": 1,
         "success_message": "✅ None of the values in simulated_tvds are the same."
        },
        {
         "code": ">>> \n>>> # Make sure you're simulating under the null hypothesis\n>>> np.mean(simulated_tvds) < 0.1\nTrue",
         "failure_message": "❌ It doesn't seem like you are simulating under the null hypothesis.",
         "hidden": false,
         "locked": false,
         "points": 1,
         "success_message": "✅ It seems like you are simulating under the null hypothesis."
        }
       ],
       "scored": true,
       "setup": "",
       "teardown": "",
       "type": "doctest"
      }
     ]
    },
    "task_12": {
     "name": "task_12",
     "points": 1,
     "suites": [
      {
       "cases": [
        {
         "code": ">>> \n>>> 0 <= p_value_tvd <= 1\nTrue",
         "failure_message": "❌ p_value_tvd should be a number between 0 and 1.",
         "hidden": false,
         "locked": false,
         "points": 1,
         "success_message": "✅ p_value_tvd is a number between 0 and 1."
        }
       ],
       "scored": true,
       "setup": "",
       "teardown": "",
       "type": "doctest"
      }
     ]
    },
    "task_14": {
     "name": "task_14",
     "points": 2,
     "suites": [
      {
       "cases": [
        {
         "code": ">>> \n>>> 0 <= num_females <= 500\nTrue",
         "failure_message": "❌ num_females should be a value betwen 0 and 500.",
         "hidden": false,
         "locked": false,
         "points": 1,
         "success_message": "✅ num_females is a value betwen 0 and 500."
        }
       ],
       "scored": true,
       "setup": "",
       "teardown": "",
       "type": "doctest"
      }
     ]
    },
    "task_15": {
     "name": "task_15",
     "points": 2,
     "suites": [
      {
       "cases": [
        {
         "code": ">>> \n>>> import numpy as np\n>>> type(avg_male_vs_female) in set([bool, np.bool_])\nTrue",
         "failure_message": "❌ avg_male_vs_female should be a bool.",
         "hidden": false,
         "locked": false,
         "points": 1,
         "success_message": "✅ avg_male_vs_female is a bool."
        }
       ],
       "scored": true,
       "setup": "",
       "teardown": "",
       "type": "doctest"
      }
     ]
    },
    "task_16": {
     "name": "task_16",
     "points": 3,
     "suites": [
      {
       "cases": [
        {
         "code": ">>> \n>>> type(null_statement_number) == int\nTrue",
         "failure_message": "❌ null_statement_number should be an int.",
         "hidden": false,
         "locked": false,
         "points": 0.2,
         "success_message": "✅ null_statement_number is an int."
        },
        {
         "code": ">>> \n>>> type(alternative_statement_number) == int\nTrue",
         "failure_message": "❌ alternative_statement_number should be an int.",
         "hidden": false,
         "locked": false,
         "points": 0.2,
         "success_message": "✅ alternative_statement_number is an int."
        },
        {
         "code": ">>> \n>>> any(null_statement_number == x for x in np.arange(1,7))\nTrue",
         "failure_message": "❌ null_statement_number should be a number between 1 and 6.",
         "hidden": false,
         "locked": false,
         "points": 0.2,
         "success_message": "✅ null_statement_number is a number between 1 and 6."
        },
        {
         "code": ">>> \n>>> any(alternative_statement_number == x for x in np.arange(1,7))\nTrue",
         "failure_message": "❌ alternative_statement_number should be a number between 1 and 6.",
         "hidden": false,
         "locked": false,
         "points": 0.2,
         "success_message": "✅ alternative_statement_number is a number between 1 and 6."
        },
        {
         "code": ">>> \n>>> null_statement_number != alternative_statement_number\nTrue",
         "failure_message": "❌ null_statement_number should not the same as alternative_statement_number.",
         "hidden": false,
         "locked": false,
         "points": 0.2,
         "success_message": "✅ null_statement_number is not the same as alternative_statement_number."
        }
       ],
       "scored": true,
       "setup": "",
       "teardown": "",
       "type": "doctest"
      }
     ]
    },
    "task_17": {
     "name": "task_17",
     "points": 2,
     "suites": [
      {
       "cases": [
        {
         "code": ">>> \n>>> type(permutation_test_reason) == int\nTrue",
         "failure_message": "❌ permutation_test_reason should be an int.",
         "hidden": false,
         "locked": false,
         "points": 0.5,
         "success_message": "✅ permutation_test_reason is an int."
        },
        {
         "code": ">>> \n>>> any(permutation_test_reason == x for x in np.arange(1,4))\nTrue",
         "failure_message": "❌ permutation_test_reason should be a value between 1 and 3.",
         "hidden": false,
         "locked": false,
         "points": 0.5,
         "success_message": "✅ permutation_test_reason is a value between 1 and 3."
        }
       ],
       "scored": true,
       "setup": "",
       "teardown": "",
       "type": "doctest"
      }
     ]
    },
    "task_18": {
     "name": "task_18",
     "points": 2,
     "suites": [
      {
       "cases": [
        {
         "code": ">>> \n>>> type(correct_test_stat) == int\nTrue",
         "failure_message": "❌ correct_test_stat should be an int.",
         "hidden": false,
         "locked": false,
         "points": 0.5,
         "success_message": "✅ correct_test_stat is an int."
        },
        {
         "code": ">>> \n>>> any(correct_test_stat == x for x in np.arange(1,3))\nTrue",
         "failure_message": "❌ correct_test_stat should be either 1 or 2.",
         "hidden": false,
         "locked": false,
         "points": 0.5,
         "success_message": "✅ correct_test_stat is either 1 or 2."
        }
       ],
       "scored": true,
       "setup": "",
       "teardown": "",
       "type": "doctest"
      }
     ]
    },
    "task_19": {
     "name": "task_19",
     "points": 2,
     "suites": [
      {
       "cases": [
        {
         "code": ">>> \n>>> type(observed_statistic_ab) == float\nTrue",
         "failure_message": "❌ observed_statistic_ab should be a float.",
         "hidden": false,
         "locked": false,
         "points": 0.5,
         "success_message": "✅ observed_statistic_ab is a float."
        },
        {
         "code": ">>> \n>>> observed_statistic_ab >= 0\nTrue",
         "failure_message": "❌ observed_statistic_ab should be 0 or larger.",
         "hidden": false,
         "locked": false,
         "points": 0.5,
         "success_message": "✅ observed_statistic_ab is 0 or larger."
        }
       ],
       "scored": true,
       "setup": "",
       "teardown": "",
       "type": "doctest"
      }
     ]
    },
    "task_20": {
     "name": "task_20",
     "points": 4,
     "suites": [
      {
       "cases": [
        {
         "code": ">>> \n>>> type(original_with_shuffled_labels) == Table\nTrue",
         "failure_message": "❌ original_with_shuffled_labels should be a Table.",
         "hidden": false,
         "locked": false,
         "points": 0.25,
         "success_message": "✅ original_with_shuffled_labels is a Table."
        },
        {
         "code": ">>> \n>>> set(original_with_shuffled_labels.labels) == {\"Gender\", \"Age\", \"Shuffled Label\"}\nTrue",
         "failure_message": "❌ The labels for original_with_shuffled_labels are not correct.",
         "hidden": false,
         "locked": false,
         "points": 0.25,
         "success_message": "✅ The labels for original_with_shuffled_labels are correct."
        },
        {
         "code": ">>> \n>>> original_with_shuffled_labels.num_rows == 500\nTrue",
         "failure_message": "❌ original_with_shuffled_labels doesn't have the correct number of rows.",
         "hidden": false,
         "locked": false,
         "points": 0.5,
         "success_message": "✅ original_with_shuffled_labels has the correct number of rows."
        }
       ],
       "scored": true,
       "setup": "",
       "teardown": "",
       "type": "doctest"
      }
     ]
    },
    "task_21": {
     "name": "task_21",
     "points": 2,
     "suites": [
      {
       "cases": [
        {
         "code": ">>> \n>>> type(correct_q8) == int\nTrue",
         "failure_message": "❌ correct_q8 should be an int.",
         "hidden": false,
         "locked": false,
         "points": 0.5,
         "success_message": "✅ correct_q8 is an int."
        },
        {
         "code": ">>> \n>>> any(correct_q8 == x for x in np.arange(1,4))\nTrue",
         "failure_message": "❌ correct_q8 should be a number between 1 and 3.",
         "hidden": false,
         "locked": false,
         "points": 0.5,
         "success_message": "✅ correct_q8 is a number between 1 and 3."
        }
       ],
       "scored": true,
       "setup": "",
       "teardown": "",
       "type": "doctest"
      }
     ]
    },
    "task_22": {
     "name": "task_22",
     "points": 1,
     "suites": [
      {
       "cases": [
        {
         "code": ">>> \n>>> -5 < simulate_one_statistic() < 5\nTrue",
         "failure_message": "❌ simulate_one_statistic() should return a value strictly between -5 and 5.",
         "hidden": false,
         "locked": false,
         "points": 1,
         "success_message": "✅ simulate_one_statistic() returns a value strictly between -5 and 5."
        }
       ],
       "scored": true,
       "setup": "",
       "teardown": "",
       "type": "doctest"
      }
     ]
    },
    "task_23": {
     "name": "task_23",
     "points": 1,
     "suites": [
      {
       "cases": [
        {
         "code": ">>> \n>>> len(simulated_statistics_ab) == 4000\nTrue",
         "failure_message": "❌ simulated_statistics_ab should have 4,000 elements.",
         "hidden": false,
         "locked": false,
         "points": 1,
         "success_message": "✅ simulated_statistics_ab has 4,000 elements."
        }
       ],
       "scored": true,
       "setup": "",
       "teardown": "",
       "type": "doctest"
      }
     ]
    },
    "task_24": {
     "name": "task_24",
     "points": 3,
     "suites": [
      {
       "cases": [
        {
         "code": ">>> \n>>> import numpy as np\n>>> type(p_val) in set([float, np.float32, np.float64])\nTrue",
         "failure_message": "❌ p_val should be a float.",
         "hidden": false,
         "locked": false,
         "points": 0.25,
         "success_message": "✅ p_val is a float."
        },
        {
         "code": ">>> \n>>> 0 <= p_val <= 1\nTrue",
         "failure_message": "❌ p_val should be a number between 0 and 1.",
         "hidden": false,
         "locked": false,
         "points": 0.5,
         "success_message": "✅ p_val is a number between 0 and 1."
        },
        {
         "code": ">>> \n>>> type(conclusion) == str\nTrue",
         "failure_message": "❌ conclusion should be a string.",
         "hidden": false,
         "locked": false,
         "points": 0.25,
         "success_message": "✅ conclusion is a string."
        }
       ],
       "scored": true,
       "setup": "",
       "teardown": "",
       "type": "doctest"
      }
     ]
    }
   }
  }
 },
 "nbformat": 4,
 "nbformat_minor": 5
}
