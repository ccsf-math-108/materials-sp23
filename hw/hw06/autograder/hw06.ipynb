{
 "cells": [
  {
   "cell_type": "code",
   "execution_count": 1,
   "metadata": {
    "deletable": false,
    "editable": false,
    "execution": {
     "iopub.execute_input": "2023-03-08T23:55:38.772174Z",
     "iopub.status.busy": "2023-03-08T23:55:38.770982Z",
     "iopub.status.idle": "2023-03-08T23:55:42.785359Z",
     "shell.execute_reply": "2023-03-08T23:55:42.780757Z"
    }
   },
   "outputs": [],
   "source": [
    "# Initialize Otter\n",
    "import otter\n",
    "grader = otter.Notebook(\"hw06.ipynb\")"
   ]
  },
  {
   "cell_type": "markdown",
   "metadata": {},
   "source": [
    "<img style=\"display: block; margin-left: auto; margin-right: auto\" src=\"./ccsf-logo.png\" width=\"250rem;\" alt=\"The CCSF black and white logo\">"
   ]
  },
  {
   "cell_type": "markdown",
   "metadata": {},
   "source": [
    "<div style=\"text-align: center;\">\n",
    "    <h1>Homework 06: Probability and Simulation</h1>\n",
    "    <em>View the related <a href=\"https://ccsf.instructure.com\" target=\"_blank\">Canvas</a> Assignment page for additional details.</em>\n",
    "</div>"
   ]
  },
  {
   "cell_type": "markdown",
   "metadata": {},
   "source": [
    "**Reading**: \n",
    "* [Randomness](https://inferentialthinking.com/chapters/09/Randomness.html) \n",
    "* [Sampling and Empirical Distributions](https://inferentialthinking.com/chapters/10/Sampling_and_Empirical_Distributions.html)\n",
    "* [Testing Hypotheses](https://inferentialthinking.com/chapters/11/Testing_Hypotheses.html)"
   ]
  },
  {
   "cell_type": "markdown",
   "metadata": {},
   "source": [
    "Please complete this notebook by filling in the cells provided. \n",
    "\n",
    "For all problems that you must write our explanations and sentences for, you **must** provide your answer in the designated space. Moreover, throughout this homework and all future ones, please be sure to not re-assign variables throughout the notebook! For example, if you use `max_temperature` in your answer to one question, do not reassign it later on.\n",
    "\n",
    "Run the following cell:"
   ]
  },
  {
   "cell_type": "code",
   "execution_count": 2,
   "metadata": {
    "execution": {
     "iopub.execute_input": "2023-03-08T23:55:42.804585Z",
     "iopub.status.busy": "2023-03-08T23:55:42.801904Z",
     "iopub.status.idle": "2023-03-08T23:55:48.026732Z",
     "shell.execute_reply": "2023-03-08T23:55:48.022871Z"
    }
   },
   "outputs": [],
   "source": [
    "import numpy as np\n",
    "from datascience import *\n",
    "import matplotlib\n",
    "%matplotlib inline\n",
    "import matplotlib.pyplot as plt\n",
    "plt.style.use('fivethirtyeight')"
   ]
  },
  {
   "cell_type": "markdown",
   "metadata": {},
   "source": [
    "## Roulette"
   ]
  },
  {
   "cell_type": "markdown",
   "metadata": {},
   "source": [
    "A Nevada roulette wheel has 38 pockets and a small ball that rests on the wheel. When the wheel is spun, the ball comes to rest in one of the 38 pockets. That pocket is declared the winner. \n",
    "\n",
    "The pockets are labeled 0, 00, 1, 2, 3, 4, ... , 36. Pockets 0 and 00 are green, and the other pockets are alternately red and black. The table `wheel` is a representation of a Nevada roulette wheel. **Note that *both* columns consist of strings.** Below is an example of a roulette wheel!\n",
    "\n",
    "<img src=\"./roulette_wheel.jpeg\" width=\"330px\">\n",
    "\n",
    "Run the cell below to load the `wheel` table."
   ]
  },
  {
   "cell_type": "code",
   "execution_count": 3,
   "metadata": {
    "execution": {
     "iopub.execute_input": "2023-03-08T23:55:48.042634Z",
     "iopub.status.busy": "2023-03-08T23:55:48.040181Z",
     "iopub.status.idle": "2023-03-08T23:55:48.107615Z",
     "shell.execute_reply": "2023-03-08T23:55:48.103703Z"
    }
   },
   "outputs": [
    {
     "data": {
      "text/html": [
       "<table border=\"1\" class=\"dataframe\">\n",
       "    <thead>\n",
       "        <tr>\n",
       "            <th>Pocket</th> <th>Color</th>\n",
       "        </tr>\n",
       "    </thead>\n",
       "    <tbody>\n",
       "        <tr>\n",
       "            <td>00    </td> <td>green</td>\n",
       "        </tr>\n",
       "        <tr>\n",
       "            <td>0     </td> <td>green</td>\n",
       "        </tr>\n",
       "        <tr>\n",
       "            <td>1     </td> <td>red  </td>\n",
       "        </tr>\n",
       "        <tr>\n",
       "            <td>2     </td> <td>black</td>\n",
       "        </tr>\n",
       "        <tr>\n",
       "            <td>3     </td> <td>red  </td>\n",
       "        </tr>\n",
       "        <tr>\n",
       "            <td>4     </td> <td>black</td>\n",
       "        </tr>\n",
       "        <tr>\n",
       "            <td>5     </td> <td>red  </td>\n",
       "        </tr>\n",
       "        <tr>\n",
       "            <td>6     </td> <td>black</td>\n",
       "        </tr>\n",
       "        <tr>\n",
       "            <td>7     </td> <td>red  </td>\n",
       "        </tr>\n",
       "        <tr>\n",
       "            <td>8     </td> <td>black</td>\n",
       "        </tr>\n",
       "    </tbody>\n",
       "</table>\n",
       "<p>... (28 rows omitted)</p>"
      ],
      "text/plain": [
       "Pocket | Color\n",
       "00     | green\n",
       "0      | green\n",
       "1      | red\n",
       "2      | black\n",
       "3      | red\n",
       "4      | black\n",
       "5      | red\n",
       "6      | black\n",
       "7      | red\n",
       "8      | black\n",
       "... (28 rows omitted)"
      ]
     },
     "execution_count": 3,
     "metadata": {},
     "output_type": "execute_result"
    }
   ],
   "source": [
    "wheel = Table.read_table('roulette_wheel.csv', dtype=str)\n",
    "wheel"
   ]
  },
  {
   "cell_type": "markdown",
   "metadata": {},
   "source": [
    "### Betting on Red"
   ]
  },
  {
   "cell_type": "markdown",
   "metadata": {},
   "source": [
    "If you bet on *red*, you are betting that the winning pocket will be red. This bet *pays 1 to 1*. That means if you place a one-dollar bet on red, then:\n",
    "\n",
    "- If the winning pocket is red, you gain 1 dollar. That is, you get your original dollar back, plus one more dollar.\n",
    "- if the winning pocket is not red, you lose your dollar. In other words, you gain -1 dollars.\n",
    "\n",
    "Let's see if you can make money by betting on red at roulette."
   ]
  },
  {
   "cell_type": "markdown",
   "metadata": {},
   "source": [
    "#### Task 01 📍"
   ]
  },
  {
   "cell_type": "markdown",
   "metadata": {},
   "source": [
    "Define a function `dollar_bet_on_red`. The function definition should:\n",
    "1. Have one argument `color` that is a `str` for the name of a color.\n",
    "2. Return your gain in dollars as an `int` if that color had won and you had placed a one-dollar bet on red. \n",
    "\n",
    "Consider the following as you work:\n",
    "* Remember that the gain can be negative.\n",
    "* Make sure your function returns an integer.\n",
    "* You can assume that the only colors that will be passed as arguments are `'red'`, `'black'`, and `'green'`. Your function doesn't have to check that the input is correct.\n",
    "\n",
    "_Points:_ 3"
   ]
  },
  {
   "cell_type": "code",
   "execution_count": 4,
   "metadata": {
    "execution": {
     "iopub.execute_input": "2023-03-08T23:55:48.323479Z",
     "iopub.status.busy": "2023-03-08T23:55:48.322314Z",
     "iopub.status.idle": "2023-03-08T23:55:48.349900Z",
     "shell.execute_reply": "2023-03-08T23:55:48.341584Z"
    },
    "tags": [
     "otter_assign_solution_cell"
    ]
   },
   "outputs": [],
   "source": [
    "\"\"\" # BEGIN PROMPT\n",
    "def dollar_bet_on_red(...):\n",
    "    ...\n",
    "\"\"\"; # END PROMPT\n",
    "# BEGIN SOLUTION NO PROMPT\n",
    "def dollar_bet_on_red(color):\n",
    "    if color == 'red':\n",
    "        return 1\n",
    "    else:\n",
    "        return -1\n",
    "# END SOLUTION"
   ]
  },
  {
   "cell_type": "code",
   "execution_count": 5,
   "metadata": {
    "deletable": false,
    "editable": false,
    "execution": {
     "iopub.execute_input": "2023-03-08T23:55:48.362994Z",
     "iopub.status.busy": "2023-03-08T23:55:48.361571Z",
     "iopub.status.idle": "2023-03-08T23:55:48.640755Z",
     "shell.execute_reply": "2023-03-08T23:55:48.637720Z"
    }
   },
   "outputs": [
    {
     "data": {
      "text/html": [
       "<p><strong><pre style='display: inline;'>task_01</pre></strong> passed! ✨</p><p><strong><pre style='display: inline;'>task_01 - 1</pre> message:</strong> ✅ Your function correctly returns 1 when it is called on 'red'.</p>"
      ],
      "text/plain": [
       "task_01 results: All test cases passed!\n",
       "task_01 - 1 message: ✅ Your function correctly returns 1 when it is called on 'red'."
      ]
     },
     "execution_count": 5,
     "metadata": {},
     "output_type": "execute_result"
    }
   ],
   "source": [
    "grader.check(\"task_01\")"
   ]
  },
  {
   "cell_type": "markdown",
   "metadata": {},
   "source": [
    "Run the cell below to make sure your function is working."
   ]
  },
  {
   "cell_type": "code",
   "execution_count": 6,
   "metadata": {
    "execution": {
     "iopub.execute_input": "2023-03-08T23:55:48.655608Z",
     "iopub.status.busy": "2023-03-08T23:55:48.652717Z",
     "iopub.status.idle": "2023-03-08T23:55:48.672242Z",
     "shell.execute_reply": "2023-03-08T23:55:48.669094Z"
    }
   },
   "outputs": [
    {
     "name": "stdout",
     "output_type": "stream",
     "text": [
      "-1\n",
      "-1\n",
      "1\n"
     ]
    }
   ],
   "source": [
    "print(dollar_bet_on_red('green'))\n",
    "print(dollar_bet_on_red('black'))\n",
    "print(dollar_bet_on_red('red'))"
   ]
  },
  {
   "cell_type": "markdown",
   "metadata": {
    "tags": []
   },
   "source": [
    "#### Task 02 📍"
   ]
  },
  {
   "cell_type": "markdown",
   "metadata": {},
   "source": [
    "1. Add a column labeled `'Winnings: Red'` as the last column in the table `wheel` such that, for each pocket, the column should contain your gain in dollars if that pocket won and you had bet one dollar on red. \n",
    "2. Your code should apply the function `dollar_bet_on_red` on the `wheel` table to create an array `red_winnings`.\n",
    "\n",
    "_Points:_ 3"
   ]
  },
  {
   "cell_type": "code",
   "execution_count": 7,
   "metadata": {
    "execution": {
     "iopub.execute_input": "2023-03-08T23:55:48.685694Z",
     "iopub.status.busy": "2023-03-08T23:55:48.684649Z",
     "iopub.status.idle": "2023-03-08T23:55:48.713857Z",
     "shell.execute_reply": "2023-03-08T23:55:48.710139Z"
    },
    "tags": [
     "otter_assign_solution_cell"
    ]
   },
   "outputs": [
    {
     "data": {
      "text/html": [
       "<table border=\"1\" class=\"dataframe\">\n",
       "    <thead>\n",
       "        <tr>\n",
       "            <th>Pocket</th> <th>Color</th> <th>Winnings: Red</th>\n",
       "        </tr>\n",
       "    </thead>\n",
       "    <tbody>\n",
       "        <tr>\n",
       "            <td>00    </td> <td>green</td> <td>-1           </td>\n",
       "        </tr>\n",
       "        <tr>\n",
       "            <td>0     </td> <td>green</td> <td>-1           </td>\n",
       "        </tr>\n",
       "        <tr>\n",
       "            <td>1     </td> <td>red  </td> <td>1            </td>\n",
       "        </tr>\n",
       "        <tr>\n",
       "            <td>2     </td> <td>black</td> <td>-1           </td>\n",
       "        </tr>\n",
       "        <tr>\n",
       "            <td>3     </td> <td>red  </td> <td>1            </td>\n",
       "        </tr>\n",
       "        <tr>\n",
       "            <td>4     </td> <td>black</td> <td>-1           </td>\n",
       "        </tr>\n",
       "        <tr>\n",
       "            <td>5     </td> <td>red  </td> <td>1            </td>\n",
       "        </tr>\n",
       "        <tr>\n",
       "            <td>6     </td> <td>black</td> <td>-1           </td>\n",
       "        </tr>\n",
       "        <tr>\n",
       "            <td>7     </td> <td>red  </td> <td>1            </td>\n",
       "        </tr>\n",
       "        <tr>\n",
       "            <td>8     </td> <td>black</td> <td>-1           </td>\n",
       "        </tr>\n",
       "    </tbody>\n",
       "</table>\n",
       "<p>... (28 rows omitted)</p>"
      ],
      "text/plain": [
       "Pocket | Color | Winnings: Red\n",
       "00     | green | -1\n",
       "0      | green | -1\n",
       "1      | red   | 1\n",
       "2      | black | -1\n",
       "3      | red   | 1\n",
       "4      | black | -1\n",
       "5      | red   | 1\n",
       "6      | black | -1\n",
       "7      | red   | 1\n",
       "8      | black | -1\n",
       "... (28 rows omitted)"
      ]
     },
     "execution_count": 7,
     "metadata": {},
     "output_type": "execute_result"
    }
   ],
   "source": [
    "\"\"\" # BEGIN PROMPT\n",
    "red_winnings = ...\n",
    "wheel = ...\n",
    "wheel\n",
    "\"\"\"; # END PROMPT\n",
    "# BEGIN SOLUTION NO PROMPT\n",
    "red_winnings = wheel.apply(dollar_bet_on_red, 'Color')\n",
    "wheel = wheel.with_column('Winnings: Red', red_winnings)\n",
    "wheel\n",
    "# END SOLUTION"
   ]
  },
  {
   "cell_type": "code",
   "execution_count": 8,
   "metadata": {
    "deletable": false,
    "editable": false,
    "execution": {
     "iopub.execute_input": "2023-03-08T23:55:48.727419Z",
     "iopub.status.busy": "2023-03-08T23:55:48.725459Z",
     "iopub.status.idle": "2023-03-08T23:55:48.795456Z",
     "shell.execute_reply": "2023-03-08T23:55:48.791078Z"
    }
   },
   "outputs": [
    {
     "data": {
      "text/html": [
       "<p><strong><pre style='display: inline;'>task_02</pre></strong> passed! 🙌</p><p><strong><pre style='display: inline;'>task_02 - 1</pre> message:</strong> ✅ It seems that red_winnings is an array.</p><p><strong><pre style='display: inline;'>task_02 - 2</pre> message:</strong> ✅ wheel is a table with the correct labels.</p>"
      ],
      "text/plain": [
       "task_02 results: All test cases passed!\n",
       "task_02 - 1 message: ✅ It seems that red_winnings is an array.\n",
       "task_02 - 2 message: ✅ wheel is a table with the correct labels."
      ]
     },
     "execution_count": 8,
     "metadata": {},
     "output_type": "execute_result"
    }
   ],
   "source": [
    "grader.check(\"task_02\")"
   ]
  },
  {
   "cell_type": "markdown",
   "metadata": {},
   "source": [
    "### Simulating 10 Bets on Red"
   ]
  },
  {
   "cell_type": "markdown",
   "metadata": {},
   "source": [
    "Roulette wheels are set up so that each time they are spun, the winning pocket is equally likely to be any of the 38 pockets regardless of the results of all other spins. Let's see what would happen if we decided to bet one dollar on red each round."
   ]
  },
  {
   "cell_type": "markdown",
   "metadata": {},
   "source": [
    "#### Task 03 📍"
   ]
  },
  {
   "cell_type": "markdown",
   "metadata": {},
   "source": [
    "1. Create a table `ten_bets` by sampling the table `wheel` to simulate 10 spins of the roulette wheel. \n",
    "2. Your table should have the same three column labels as in `wheel`. \n",
    "3. Once you've created that table, set `sum_bets` to your net gain, an integer, in all 10 bets, assuming that you bet one dollar on red each time.\n",
    "\n",
    "While you are working on this, it may be helpful to print out `ten_bets` after you create it!\n",
    "\n",
    "_Points:_ 5"
   ]
  },
  {
   "cell_type": "code",
   "execution_count": 9,
   "metadata": {
    "execution": {
     "iopub.execute_input": "2023-03-08T23:55:48.811434Z",
     "iopub.status.busy": "2023-03-08T23:55:48.808117Z",
     "iopub.status.idle": "2023-03-08T23:55:48.838681Z",
     "shell.execute_reply": "2023-03-08T23:55:48.835781Z"
    },
    "tags": [
     "otter_assign_solution_cell"
    ]
   },
   "outputs": [
    {
     "data": {
      "text/plain": [
       "0"
      ]
     },
     "execution_count": 9,
     "metadata": {},
     "output_type": "execute_result"
    }
   ],
   "source": [
    "\"\"\" # BEGIN PROMPT\n",
    "ten_bets = ...\n",
    "sum_bets = ...(ten_bets.column('Winnings: Red'))\n",
    "sum_bets\n",
    "\"\"\"; # END PROMPT\n",
    "# BEGIN SOLUTION NO PROMPT\n",
    "ten_bets = wheel.sample(10, with_replacement=True)\n",
    "sum_bets = sum(ten_bets.column('Winnings: Red'))\n",
    "sum_bets\n",
    "# END SOLUTION"
   ]
  },
  {
   "cell_type": "code",
   "execution_count": 10,
   "metadata": {
    "deletable": false,
    "editable": false,
    "execution": {
     "iopub.execute_input": "2023-03-08T23:55:48.853383Z",
     "iopub.status.busy": "2023-03-08T23:55:48.851285Z",
     "iopub.status.idle": "2023-03-08T23:55:48.922166Z",
     "shell.execute_reply": "2023-03-08T23:55:48.919399Z"
    }
   },
   "outputs": [
    {
     "data": {
      "text/html": [
       "<p><strong><pre style='display: inline;'>task_03</pre></strong> passed! 🚀</p><p><strong><pre style='display: inline;'>task_03 - 1</pre> message:</strong> ✅ ten_bets has 10 rows.</p><p><strong><pre style='display: inline;'>task_03 - 2</pre> message:</strong> ✅ ten_bets has the same column labels as wheels.</p><p><strong><pre style='display: inline;'>task_03 - 3</pre> message:</strong> ✅ sum_bets is an integer.</p>"
      ],
      "text/plain": [
       "task_03 results: All test cases passed!\n",
       "task_03 - 1 message: ✅ ten_bets has 10 rows.\n",
       "task_03 - 2 message: ✅ ten_bets has the same column labels as wheels.\n",
       "task_03 - 3 message: ✅ sum_bets is an integer."
      ]
     },
     "execution_count": 10,
     "metadata": {},
     "output_type": "execute_result"
    }
   ],
   "source": [
    "grader.check(\"task_03\")"
   ]
  },
  {
   "cell_type": "markdown",
   "metadata": {},
   "source": [
    "Run the cells above a few times to see how much money you would make if you made 10 one-dollar bets on red. Making a negative amount of money doesn't feel good, but it is a reality in gambling. Casinos are a business, and they make money when gamblers lose."
   ]
  },
  {
   "cell_type": "markdown",
   "metadata": {},
   "source": [
    "#### Task 04 📍"
   ]
  },
  {
   "cell_type": "markdown",
   "metadata": {},
   "source": [
    "Let's see what would happen if you made more bets. \n",
    "\n",
    "Define a function `net_gain_red` with one arguement that takes the number (`int`) of bets and returns the net gain (`int`) in that number of one-dollar bets on red.\n",
    "\n",
    "Reference the `wheel` table that you've defined in the notebook within your function.\n",
    "\n",
    "_Points:_ 2"
   ]
  },
  {
   "cell_type": "code",
   "execution_count": 11,
   "metadata": {
    "execution": {
     "iopub.execute_input": "2023-03-08T23:55:48.936498Z",
     "iopub.status.busy": "2023-03-08T23:55:48.935100Z",
     "iopub.status.idle": "2023-03-08T23:55:48.961649Z",
     "shell.execute_reply": "2023-03-08T23:55:48.958526Z"
    },
    "tags": [
     "otter_assign_solution_cell"
    ]
   },
   "outputs": [
    {
     "data": {
      "text/plain": [
       "6"
      ]
     },
     "execution_count": 11,
     "metadata": {},
     "output_type": "execute_result"
    }
   ],
   "source": [
    "\"\"\" # BEGIN PROMPT\n",
    "def net_gain_red(...):\n",
    "    ...\n",
    "    \n",
    "net_gain_red(10)\n",
    "\"\"\"; # END PROMPT\n",
    "# BEGIN SOLUTION NO PROMPT\n",
    "def net_gain_red(n):\n",
    "    n_bets = wheel.sample(n, with_replacement=True)\n",
    "    net_gain = sum(n_bets.column('Winnings: Red'))\n",
    "    return net_gain\n",
    "\n",
    "net_gain_red(10)\n",
    "# END SOLUTION"
   ]
  },
  {
   "cell_type": "code",
   "execution_count": 12,
   "metadata": {
    "deletable": false,
    "editable": false,
    "execution": {
     "iopub.execute_input": "2023-03-08T23:55:48.974026Z",
     "iopub.status.busy": "2023-03-08T23:55:48.972792Z",
     "iopub.status.idle": "2023-03-08T23:55:49.580085Z",
     "shell.execute_reply": "2023-03-08T23:55:49.576751Z"
    }
   },
   "outputs": [
    {
     "data": {
      "text/html": [
       "<p><strong style='color: red;'><pre style='display: inline;'>task_04</pre> results:</strong></p><p><strong><pre style='display: inline;'>task_04 - 1</pre> message:</strong> ❌ There is essentially no chance that the net gain for 2 rounds of 10,000 bets should the same.</p><p><strong><pre style='display: inline;'>task_04 - 1</pre> result:</strong></p><pre>    ❌ Test case failed\n",
       "    Trying:\n",
       "        net_gain_red(10000) != net_gain_red(10000)\n",
       "    Expecting:\n",
       "        True\n",
       "    **********************************************************************\n",
       "    Line 2, in task_04 0\n",
       "    Failed example:\n",
       "        net_gain_red(10000) != net_gain_red(10000)\n",
       "    Expected:\n",
       "        True\n",
       "    Got:\n",
       "        False\n",
       "</pre><p><strong><pre style='display: inline;'>task_04 - 2</pre> result:</strong></p><pre>    ✅ Test case passed</pre>"
      ],
      "text/plain": [
       "task_04 results:\n",
       "    task_04 - 1 message: ❌ There is essentially no chance that the net gain for 2 rounds of 10,000 bets should the same.\n",
       "\n",
       "    task_04 - 1 result:\n",
       "        ❌ Test case failed\n",
       "        Trying:\n",
       "            net_gain_red(10000) != net_gain_red(10000)\n",
       "        Expecting:\n",
       "            True\n",
       "        **********************************************************************\n",
       "        Line 2, in task_04 0\n",
       "        Failed example:\n",
       "            net_gain_red(10000) != net_gain_red(10000)\n",
       "        Expected:\n",
       "            True\n",
       "        Got:\n",
       "            False\n",
       "\n",
       "    task_04 - 2 result:\n",
       "        ✅ Test case passed"
      ]
     },
     "execution_count": 12,
     "metadata": {},
     "output_type": "execute_result"
    }
   ],
   "source": [
    "grader.check(\"task_04\")"
   ]
  },
  {
   "cell_type": "markdown",
   "metadata": {},
   "source": [
    "#### Task 05 📍"
   ]
  },
  {
   "cell_type": "markdown",
   "metadata": {},
   "source": [
    "1. Complete the cell below to simulate the net gain in 200 one-dollar bets on red, repeating the process 10,000 times. \n",
    "2. After the cell is run, `all_gains_red` should be an array with 10,000 entries, each of which is the net gain in 200 one-dollar bets on red.\n",
    "\n",
    "_Points:_ 2"
   ]
  },
  {
   "cell_type": "code",
   "execution_count": 13,
   "metadata": {
    "execution": {
     "iopub.execute_input": "2023-03-08T23:55:49.593382Z",
     "iopub.status.busy": "2023-03-08T23:55:49.592356Z",
     "iopub.status.idle": "2023-03-08T23:56:33.068455Z",
     "shell.execute_reply": "2023-03-08T23:56:33.064521Z"
    },
    "tags": [
     "otter_assign_solution_cell"
    ]
   },
   "outputs": [
    {
     "data": {
      "text/plain": [
       "10000"
      ]
     },
     "execution_count": 13,
     "metadata": {},
     "output_type": "execute_result"
    }
   ],
   "source": [
    "\"\"\" # BEGIN PROMPT\n",
    "num_bets = ...\n",
    "repetitions = ...\n",
    "\n",
    "all_gains_red = ...\n",
    "...\n",
    "\n",
    "len(all_gains_red) # Do not change this line! Check that all_gains_red is length 10000.\n",
    "\"\"\"; # END PROMPT\n",
    "# BEGIN SOLUTION NO PROMPT\n",
    "num_bets = 200\n",
    "repetitions = 10000\n",
    "\n",
    "all_gains_red = make_array()\n",
    "for __ in np.arange(repetitions):\n",
    "    all_gains_red = np.append(all_gains_red, net_gain_red(num_bets))\n",
    "\n",
    "len(all_gains_red) # Do not change this line! Check that all_gains_red is length 10000.\n",
    "# END SOLUTION"
   ]
  },
  {
   "cell_type": "code",
   "execution_count": 14,
   "metadata": {
    "deletable": false,
    "editable": false,
    "execution": {
     "iopub.execute_input": "2023-03-08T23:56:33.084141Z",
     "iopub.status.busy": "2023-03-08T23:56:33.082941Z",
     "iopub.status.idle": "2023-03-08T23:56:33.160570Z",
     "shell.execute_reply": "2023-03-08T23:56:33.156059Z"
    }
   },
   "outputs": [
    {
     "data": {
      "text/html": [
       "<p><strong><pre style='display: inline;'>task_05</pre></strong> passed! ✨</p><p><strong><pre style='display: inline;'>task_05 - 1</pre> message:</strong> ✅ all_gains_red is an array with 10,000 items.</p>"
      ],
      "text/plain": [
       "task_05 results: All test cases passed!\n",
       "task_05 - 1 message: ✅ all_gains_red is an array with 10,000 items."
      ]
     },
     "execution_count": 14,
     "metadata": {},
     "output_type": "execute_result"
    }
   ],
   "source": [
    "grader.check(\"task_05\")"
   ]
  },
  {
   "cell_type": "markdown",
   "metadata": {
    "tags": []
   },
   "source": [
    "Run the cell below to visualize the results of your simulation."
   ]
  },
  {
   "cell_type": "code",
   "execution_count": 15,
   "metadata": {
    "execution": {
     "iopub.execute_input": "2023-03-08T23:56:33.174296Z",
     "iopub.status.busy": "2023-03-08T23:56:33.172959Z",
     "iopub.status.idle": "2023-03-08T23:56:34.363289Z",
     "shell.execute_reply": "2023-03-08T23:56:34.358942Z"
    }
   },
   "outputs": [
    {
     "data": {
      "image/png": "[encoded data removed]",
      "text/plain": [
       "<Figure size 600x400 with 1 Axes>"
      ]
     },
     "metadata": {},
     "output_type": "display_data"
    }
   ],
   "source": [
    "gains = Table().with_columns('Net Gain on Red', all_gains_red)\n",
    "gains.hist(bins = np.arange(-80, 41, 4))"
   ]
  },
  {
   "cell_type": "markdown",
   "metadata": {},
   "source": [
    "#### Task 06 📍"
   ]
  },
  {
   "cell_type": "markdown",
   "metadata": {},
   "source": [
    "Using the histogram above, decide whether the following statement is true or false:\n",
    "\n",
    ">If you make 200 one-dollar bets on red, your chance of losing money is more than 50%.\n",
    "\n",
    "Assign `loss_more_than_50` to either `True` or `False` depending on your answer to the question.\n",
    "\n",
    "_Points:_ 2"
   ]
  },
  {
   "cell_type": "code",
   "execution_count": 16,
   "metadata": {
    "execution": {
     "iopub.execute_input": "2023-03-08T23:56:34.379372Z",
     "iopub.status.busy": "2023-03-08T23:56:34.375283Z",
     "iopub.status.idle": "2023-03-08T23:56:34.393848Z",
     "shell.execute_reply": "2023-03-08T23:56:34.389186Z"
    },
    "tags": [
     "otter_assign_solution_cell"
    ]
   },
   "outputs": [],
   "source": [
    "loss_more_than_50 = True # SOLUTION"
   ]
  },
  {
   "cell_type": "code",
   "execution_count": 17,
   "metadata": {
    "deletable": false,
    "editable": false,
    "execution": {
     "iopub.execute_input": "2023-03-08T23:56:34.408525Z",
     "iopub.status.busy": "2023-03-08T23:56:34.405768Z",
     "iopub.status.idle": "2023-03-08T23:56:34.467750Z",
     "shell.execute_reply": "2023-03-08T23:56:34.464626Z"
    }
   },
   "outputs": [
    {
     "data": {
      "text/html": [
       "<p><strong><pre style='display: inline;'>task_06</pre></strong> passed! 🎉</p><p><strong><pre style='display: inline;'>task_06 - 1</pre> message:</strong> ✅ loss_more_than_50 is a bool value.</p>"
      ],
      "text/plain": [
       "task_06 results: All test cases passed!\n",
       "task_06 - 1 message: ✅ loss_more_than_50 is a bool value."
      ]
     },
     "execution_count": 17,
     "metadata": {},
     "output_type": "execute_result"
    }
   ],
   "source": [
    "grader.check(\"task_06\")"
   ]
  },
  {
   "cell_type": "markdown",
   "metadata": {},
   "source": [
    "### Betting on a Split"
   ]
  },
  {
   "cell_type": "markdown",
   "metadata": {},
   "source": [
    "If betting on red doesn't seem like a good idea, maybe a gambler might want to try a different bet. A bet on a *split* is a bet on two consecutive numbers such as 5 and 6. This bets pays 17 to 1. That means if you place a one-dollar bet on the split 5 and 6, then:\n",
    "\n",
    "- If the winning pocket is either 5 or 6, your gain is 17 dollars.\n",
    "- If any other pocket wins, you lose your dollar, so your gain is -1 dollars."
   ]
  },
  {
   "cell_type": "markdown",
   "metadata": {},
   "source": [
    "#### Task 07 📍"
   ]
  },
  {
   "cell_type": "markdown",
   "metadata": {},
   "source": [
    "Define a function `dollar_bet_on_5_6_split`.\n",
    "1. The function should have 1 argument (type `str`) that represents the pocket number\n",
    "2. The function should return the gain in dollars if that pocket won and they had bet one dollar on the 5-6 split.\n",
    "\n",
    "Remember that the pockets are represented as strings.\n",
    "\n",
    "_Points:_ 4"
   ]
  },
  {
   "cell_type": "code",
   "execution_count": 18,
   "metadata": {
    "execution": {
     "iopub.execute_input": "2023-03-08T23:56:34.482325Z",
     "iopub.status.busy": "2023-03-08T23:56:34.481255Z",
     "iopub.status.idle": "2023-03-08T23:56:34.498423Z",
     "shell.execute_reply": "2023-03-08T23:56:34.495280Z"
    },
    "tags": [
     "otter_assign_solution_cell"
    ]
   },
   "outputs": [],
   "source": [
    "\"\"\" # BEGIN PROMPT\n",
    "def dollar_bet_on_5_6_split(...):\n",
    "    ...\n",
    "\"\"\"; # END PROMPT\n",
    "# BEGIN SOLUTION NO PROMPT\n",
    "def dollar_bet_on_5_6_split(pocket_number):\n",
    "    if pocket_number == '5' or pocket_number == '6':\n",
    "        return 17\n",
    "    else:\n",
    "        return -1\n",
    "# END SOLUTION"
   ]
  },
  {
   "cell_type": "code",
   "execution_count": 19,
   "metadata": {
    "deletable": false,
    "editable": false,
    "execution": {
     "iopub.execute_input": "2023-03-08T23:56:34.512879Z",
     "iopub.status.busy": "2023-03-08T23:56:34.511522Z",
     "iopub.status.idle": "2023-03-08T23:56:34.581051Z",
     "shell.execute_reply": "2023-03-08T23:56:34.578019Z"
    }
   },
   "outputs": [
    {
     "data": {
      "text/html": [
       "<p><strong><pre style='display: inline;'>task_07</pre></strong> passed! 🍀</p><p><strong><pre style='display: inline;'>task_07 - 1</pre> message:</strong> ✅ Your function returned the correct value for the 5 pocket.</p><p><strong><pre style='display: inline;'>task_07 - 2</pre> message:</strong> ✅ Your function returned the correct value for the 00 pocket.</p>"
      ],
      "text/plain": [
       "task_07 results: All test cases passed!\n",
       "task_07 - 1 message: ✅ Your function returned the correct value for the 5 pocket.\n",
       "task_07 - 2 message: ✅ Your function returned the correct value for the 00 pocket."
      ]
     },
     "execution_count": 19,
     "metadata": {},
     "output_type": "execute_result"
    }
   ],
   "source": [
    "grader.check(\"task_07\")"
   ]
  },
  {
   "cell_type": "markdown",
   "metadata": {},
   "source": [
    "Run the cell below to check that your function is doing what it should."
   ]
  },
  {
   "cell_type": "code",
   "execution_count": 20,
   "metadata": {
    "execution": {
     "iopub.execute_input": "2023-03-08T23:56:34.594301Z",
     "iopub.status.busy": "2023-03-08T23:56:34.593006Z",
     "iopub.status.idle": "2023-03-08T23:56:34.612295Z",
     "shell.execute_reply": "2023-03-08T23:56:34.608550Z"
    }
   },
   "outputs": [
    {
     "name": "stdout",
     "output_type": "stream",
     "text": [
      "17\n",
      "17\n",
      "-1\n",
      "-1\n"
     ]
    }
   ],
   "source": [
    "print(dollar_bet_on_5_6_split('5'))\n",
    "print(dollar_bet_on_5_6_split('6'))\n",
    "print(dollar_bet_on_5_6_split('00'))\n",
    "print(dollar_bet_on_5_6_split('23'))"
   ]
  },
  {
   "cell_type": "markdown",
   "metadata": {},
   "source": [
    "#### Task 08 📍"
   ]
  },
  {
   "cell_type": "markdown",
   "metadata": {},
   "source": [
    "Add a column `'Winnings: 5-6 Split'` to the end of the `wheel` table. For each pocket, the column should contain your gain in dollars if that pocket won and you had bet one dollar on the 5-6 split.\n",
    "\n",
    "_Points:_ 3"
   ]
  },
  {
   "cell_type": "code",
   "execution_count": 21,
   "metadata": {
    "execution": {
     "iopub.execute_input": "2023-03-08T23:56:34.628566Z",
     "iopub.status.busy": "2023-03-08T23:56:34.625932Z",
     "iopub.status.idle": "2023-03-08T23:56:34.652780Z",
     "shell.execute_reply": "2023-03-08T23:56:34.649069Z"
    },
    "tags": [
     "otter_assign_solution_cell"
    ]
   },
   "outputs": [
    {
     "data": {
      "text/html": [
       "<table border=\"1\" class=\"dataframe\">\n",
       "    <thead>\n",
       "        <tr>\n",
       "            <th>Pocket</th> <th>Color</th> <th>Winnings: Red</th> <th>Winnings: 5-6 Split</th>\n",
       "        </tr>\n",
       "    </thead>\n",
       "    <tbody>\n",
       "        <tr>\n",
       "            <td>00    </td> <td>green</td> <td>-1           </td> <td>-1                 </td>\n",
       "        </tr>\n",
       "        <tr>\n",
       "            <td>0     </td> <td>green</td> <td>-1           </td> <td>-1                 </td>\n",
       "        </tr>\n",
       "        <tr>\n",
       "            <td>1     </td> <td>red  </td> <td>1            </td> <td>-1                 </td>\n",
       "        </tr>\n",
       "        <tr>\n",
       "            <td>2     </td> <td>black</td> <td>-1           </td> <td>-1                 </td>\n",
       "        </tr>\n",
       "        <tr>\n",
       "            <td>3     </td> <td>red  </td> <td>1            </td> <td>-1                 </td>\n",
       "        </tr>\n",
       "        <tr>\n",
       "            <td>4     </td> <td>black</td> <td>-1           </td> <td>-1                 </td>\n",
       "        </tr>\n",
       "        <tr>\n",
       "            <td>5     </td> <td>red  </td> <td>1            </td> <td>17                 </td>\n",
       "        </tr>\n",
       "    </tbody>\n",
       "</table>\n",
       "<p>... (31 rows omitted)</p>"
      ],
      "text/plain": [
       "<IPython.core.display.HTML object>"
      ]
     },
     "metadata": {},
     "output_type": "display_data"
    }
   ],
   "source": [
    "\"\"\" # BEGIN PROMPT\n",
    "split_winnings = ...\n",
    "wheel = ...\n",
    "wheel.show(5) # Do not change this line.\"\"\"; # END PROMPT\n",
    "# BEGIN SOLUTION NO PROMPT\n",
    "split_winnings = wheel.apply(dollar_bet_on_5_6_split, 'Pocket')\n",
    "wheel = wheel.with_column('Winnings: 5-6 Split', split_winnings)\n",
    "wheel.show(7) # Do not change this line.\n",
    "# END SOLUTION"
   ]
  },
  {
   "cell_type": "code",
   "execution_count": 22,
   "metadata": {
    "deletable": false,
    "editable": false,
    "execution": {
     "iopub.execute_input": "2023-03-08T23:56:34.671570Z",
     "iopub.status.busy": "2023-03-08T23:56:34.669319Z",
     "iopub.status.idle": "2023-03-08T23:56:34.746809Z",
     "shell.execute_reply": "2023-03-08T23:56:34.742180Z"
    }
   },
   "outputs": [
    {
     "data": {
      "text/html": [
       "<p><strong><pre style='display: inline;'>task_08</pre></strong> passed! 🌟</p><p><strong><pre style='display: inline;'>task_08 - 1</pre> message:</strong> ✅ Your last column label is 'Winnings: 5-6 Split'.</p><p><strong><pre style='display: inline;'>task_08 - 2</pre> message:</strong> ✅ The added column value associated with the 5 pocket is correct.</p>"
      ],
      "text/plain": [
       "task_08 results: All test cases passed!\n",
       "task_08 - 1 message: ✅ Your last column label is 'Winnings: 5-6 Split'.\n",
       "task_08 - 2 message: ✅ The added column value associated with the 5 pocket is correct."
      ]
     },
     "execution_count": 22,
     "metadata": {},
     "output_type": "execute_result"
    }
   ],
   "source": [
    "grader.check(\"task_08\")"
   ]
  },
  {
   "cell_type": "markdown",
   "metadata": {},
   "source": [
    "#### Task 09 📍"
   ]
  },
  {
   "cell_type": "markdown",
   "metadata": {},
   "source": [
    "1. Simulate the net gain in 200 one-dollar bets on the 5-6 split.\n",
    "2. Repeat the simulation for a total of 10,000 times.\n",
    "3. Store your gains in the array `all_gains_split`.\n",
    "\n",
    "_Points:_ 2"
   ]
  },
  {
   "cell_type": "code",
   "execution_count": 23,
   "metadata": {
    "execution": {
     "iopub.execute_input": "2023-03-08T23:56:34.762663Z",
     "iopub.status.busy": "2023-03-08T23:56:34.761160Z",
     "iopub.status.idle": "2023-03-08T23:57:33.455086Z",
     "shell.execute_reply": "2023-03-08T23:57:33.449789Z"
    },
    "tags": [
     "otter_assign_solution_cell"
    ]
   },
   "outputs": [
    {
     "data": {
      "image/png": "[encoded data removed]",
      "text/plain": [
       "<Figure size 600x400 with 1 Axes>"
      ]
     },
     "metadata": {},
     "output_type": "display_data"
    }
   ],
   "source": [
    "\"\"\" # BEGIN PROMPT\n",
    "all_gains_split = ...\n",
    "...\n",
    "\n",
    "# Do not change the two lines below\n",
    "gains = gains.with_columns('Net Gain on Split', all_gains_split)\n",
    "gains.hist(bins = np.arange(-200, 150, 20))\n",
    "\"\"\"; # END PROMPT\n",
    "# BEGIN SOLUTION NO PROMPT\n",
    "all_gains_split = make_array()\n",
    "for __ in np.arange(10000):\n",
    "    net_gains_on_200_bets = sum(wheel.sample(200).column('Winnings: 5-6 Split'))\n",
    "    all_gains_split = np.append(all_gains_split, net_gains_on_200_bets)\n",
    "\n",
    "# Do not change the two lines below\n",
    "gains = gains.with_columns('Net Gain on Split', all_gains_split)\n",
    "gains.hist(bins = np.arange(-200, 150, 20))\n",
    "# END SOLUTION"
   ]
  },
  {
   "cell_type": "code",
   "execution_count": 24,
   "metadata": {
    "deletable": false,
    "editable": false,
    "execution": {
     "iopub.execute_input": "2023-03-08T23:57:33.478919Z",
     "iopub.status.busy": "2023-03-08T23:57:33.477768Z",
     "iopub.status.idle": "2023-03-08T23:57:33.595091Z",
     "shell.execute_reply": "2023-03-08T23:57:33.588081Z"
    }
   },
   "outputs": [
    {
     "data": {
      "text/html": [
       "<p><strong><pre style='display: inline;'>task_09</pre></strong> passed! 🍀</p><p><strong><pre style='display: inline;'>task_09 - 1</pre> message:</strong> ✅ There are 10,000 items in all_gains_split.</p>"
      ],
      "text/plain": [
       "task_09 results: All test cases passed!\n",
       "task_09 - 1 message: ✅ There are 10,000 items in all_gains_split."
      ]
     },
     "execution_count": 24,
     "metadata": {},
     "output_type": "execute_result"
    }
   ],
   "source": [
    "grader.check(\"task_09\")"
   ]
  },
  {
   "cell_type": "markdown",
   "metadata": {},
   "source": [
    "#### Task 10 📍"
   ]
  },
  {
   "cell_type": "markdown",
   "metadata": {},
   "source": [
    "Look carefully at the visualization above, and assign `histogram_statements` to an array of the numbers of each statement below that can be correctly inferred from the overlaid histogram.\n",
    "\n",
    "1. If you bet one dollar 200 times on a split, your chance of losing money is more than 50%.\n",
    "2. If you bet one dollar 200 times in roulette, your chance of making more than 50 dollars is greater if you bet on a split each time than if you bet on red each time.\n",
    "3. If you bet one dollar 200 times in roulette, your chance of losing more than 50 dollars is greater if you bet on a split each time than if you bet on red each time.\n",
    "\n",
    "Notice that you've already seen one of these statements in a prior question.\n",
    "\n",
    "_Points:_ 3"
   ]
  },
  {
   "cell_type": "code",
   "execution_count": 25,
   "metadata": {
    "execution": {
     "iopub.execute_input": "2023-03-08T23:57:33.615100Z",
     "iopub.status.busy": "2023-03-08T23:57:33.613899Z",
     "iopub.status.idle": "2023-03-08T23:57:33.634086Z",
     "shell.execute_reply": "2023-03-08T23:57:33.629095Z"
    },
    "tags": [
     "otter_assign_solution_cell"
    ]
   },
   "outputs": [],
   "source": [
    "\"\"\" # BEGIN PROMPT\n",
    "histogram_statements = ...\n",
    "\"\"\"; # END PROMPT\n",
    "# BEGIN SOLUTION NO PROMPT\n",
    "histogram_statements = make_array(1, 2, 3)\n",
    "# END SOLUTION"
   ]
  },
  {
   "cell_type": "code",
   "execution_count": 26,
   "metadata": {
    "deletable": false,
    "editable": false,
    "execution": {
     "iopub.execute_input": "2023-03-08T23:57:33.648450Z",
     "iopub.status.busy": "2023-03-08T23:57:33.647285Z",
     "iopub.status.idle": "2023-03-08T23:57:33.720713Z",
     "shell.execute_reply": "2023-03-08T23:57:33.717347Z"
    }
   },
   "outputs": [
    {
     "data": {
      "text/html": [
       "<p><strong><pre style='display: inline;'>task_10</pre></strong> passed! 🎉</p><p><strong><pre style='display: inline;'>task_10 - 1</pre> message:</strong> ✅ histogram_statements is an array.</p><p><strong><pre style='display: inline;'>task_10 - 2</pre> message:</strong> ✅ histogram_statements contains at least one integer.</p>"
      ],
      "text/plain": [
       "task_10 results: All test cases passed!\n",
       "task_10 - 1 message: ✅ histogram_statements is an array.\n",
       "task_10 - 2 message: ✅ histogram_statements contains at least one integer."
      ]
     },
     "execution_count": 26,
     "metadata": {},
     "output_type": "execute_result"
    }
   ],
   "source": [
    "grader.check(\"task_10\")"
   ]
  },
  {
   "cell_type": "markdown",
   "metadata": {},
   "source": [
    "## Chances"
   ]
  },
  {
   "cell_type": "markdown",
   "metadata": {},
   "source": [
    "Before you do this exercise, make sure you understand the logic behind all the examples in [Section 9.5](https://inferentialthinking.com/chapters/09/5/Finding_Probabilities.html). \n",
    "\n",
    "Good ways to approach probability calculations include:\n",
    "\n",
    "- Thinking one trial at a time: What does the first one have to be? Then what does the next one have to be?\n",
    "- Breaking up the event into distinct ways in which it can happen.\n",
    "- Seeing if it is easier to find the chance that the event does not happen."
   ]
  },
  {
   "cell_type": "markdown",
   "metadata": {},
   "source": [
    "### Finding Chances"
   ]
  },
  {
   "cell_type": "markdown",
   "metadata": {},
   "source": [
    "On each spin of a roulette wheel, all 38 pockets are equally likely to be the winner regardless of the results of other spins. Among the 38 pockets, 18 are red, 18 black, and 2 green. In each part below, write an expression that Python evaluates to the chance of the event described."
   ]
  },
  {
   "cell_type": "markdown",
   "metadata": {
    "tags": []
   },
   "source": [
    "#### Task 11 📍"
   ]
  },
  {
   "cell_type": "markdown",
   "metadata": {},
   "source": [
    "The winning pocket is black on all of the first three spins.\n",
    "\n",
    "_Points:_ 2"
   ]
  },
  {
   "cell_type": "code",
   "execution_count": 27,
   "metadata": {
    "execution": {
     "iopub.execute_input": "2023-03-08T23:57:33.735976Z",
     "iopub.status.busy": "2023-03-08T23:57:33.734907Z",
     "iopub.status.idle": "2023-03-08T23:57:33.752647Z",
     "shell.execute_reply": "2023-03-08T23:57:33.747414Z"
    },
    "tags": [
     "otter_assign_solution_cell"
    ]
   },
   "outputs": [],
   "source": [
    "first_three_black = (18 / 38) ** 3# SOLUTION"
   ]
  },
  {
   "cell_type": "code",
   "execution_count": 28,
   "metadata": {
    "deletable": false,
    "editable": false,
    "execution": {
     "iopub.execute_input": "2023-03-08T23:57:33.768308Z",
     "iopub.status.busy": "2023-03-08T23:57:33.765304Z",
     "iopub.status.idle": "2023-03-08T23:57:33.830097Z",
     "shell.execute_reply": "2023-03-08T23:57:33.826044Z"
    }
   },
   "outputs": [
    {
     "data": {
      "text/html": [
       "<p><strong><pre style='display: inline;'>task_11</pre></strong> passed! 🌟</p><p><strong><pre style='display: inline;'>task_11 - 1</pre> message:</strong> ✅ first_three_black is a numerical value between 0 and 1, inclusive.</p>"
      ],
      "text/plain": [
       "task_11 results: All test cases passed!\n",
       "task_11 - 1 message: ✅ first_three_black is a numerical value between 0 and 1, inclusive."
      ]
     },
     "execution_count": 28,
     "metadata": {},
     "output_type": "execute_result"
    }
   ],
   "source": [
    "grader.check(\"task_11\")"
   ]
  },
  {
   "cell_type": "markdown",
   "metadata": {
    "tags": []
   },
   "source": [
    "#### Task 12 📍"
   ]
  },
  {
   "cell_type": "markdown",
   "metadata": {},
   "source": [
    "The color green never wins in the first 10 spins.\n",
    "\n",
    "_Points:_ 2"
   ]
  },
  {
   "cell_type": "code",
   "execution_count": 29,
   "metadata": {
    "execution": {
     "iopub.execute_input": "2023-03-08T23:57:33.849204Z",
     "iopub.status.busy": "2023-03-08T23:57:33.844344Z",
     "iopub.status.idle": "2023-03-08T23:57:33.865194Z",
     "shell.execute_reply": "2023-03-08T23:57:33.858888Z"
    },
    "tags": [
     "otter_assign_solution_cell"
    ]
   },
   "outputs": [],
   "source": [
    "no_green = (1 - (2 / 38)) ** 10# SOLUTION"
   ]
  },
  {
   "cell_type": "code",
   "execution_count": 30,
   "metadata": {
    "deletable": false,
    "editable": false,
    "execution": {
     "iopub.execute_input": "2023-03-08T23:57:33.878837Z",
     "iopub.status.busy": "2023-03-08T23:57:33.877761Z",
     "iopub.status.idle": "2023-03-08T23:57:33.945375Z",
     "shell.execute_reply": "2023-03-08T23:57:33.941179Z"
    }
   },
   "outputs": [
    {
     "data": {
      "text/html": [
       "<p><strong><pre style='display: inline;'>task_12</pre></strong> passed! ✨</p><p><strong><pre style='display: inline;'>task_12 - 1</pre> message:</strong> ✅ no_green is a numerical value between 0 and 1, inclusive.</p>"
      ],
      "text/plain": [
       "task_12 results: All test cases passed!\n",
       "task_12 - 1 message: ✅ no_green is a numerical value between 0 and 1, inclusive."
      ]
     },
     "execution_count": 30,
     "metadata": {},
     "output_type": "execute_result"
    }
   ],
   "source": [
    "grader.check(\"task_12\")"
   ]
  },
  {
   "cell_type": "markdown",
   "metadata": {
    "tags": []
   },
   "source": [
    "#### Task 13 📍"
   ]
  },
  {
   "cell_type": "markdown",
   "metadata": {},
   "source": [
    "The color green wins **at least** once on the first 10 spins.\n",
    "\n",
    "_Points:_ 2"
   ]
  },
  {
   "cell_type": "code",
   "execution_count": 31,
   "metadata": {
    "execution": {
     "iopub.execute_input": "2023-03-08T23:57:33.960345Z",
     "iopub.status.busy": "2023-03-08T23:57:33.958115Z",
     "iopub.status.idle": "2023-03-08T23:57:33.976743Z",
     "shell.execute_reply": "2023-03-08T23:57:33.972862Z"
    },
    "tags": [
     "otter_assign_solution_cell"
    ]
   },
   "outputs": [],
   "source": [
    "at_least_one_green = 1 - (1 - 2 / 38) ** 10# SOLUTION"
   ]
  },
  {
   "cell_type": "code",
   "execution_count": 32,
   "metadata": {
    "deletable": false,
    "editable": false,
    "execution": {
     "iopub.execute_input": "2023-03-08T23:57:33.994676Z",
     "iopub.status.busy": "2023-03-08T23:57:33.992288Z",
     "iopub.status.idle": "2023-03-08T23:57:34.075682Z",
     "shell.execute_reply": "2023-03-08T23:57:34.071451Z"
    }
   },
   "outputs": [
    {
     "data": {
      "text/html": [
       "<p><strong><pre style='display: inline;'>task_13</pre></strong> passed! 💯</p><p><strong><pre style='display: inline;'>task_13 - 1</pre> message:</strong> ✅ at_least_one_green is a numerical value between 0 and 1, inclusive.</p>"
      ],
      "text/plain": [
       "task_13 results: All test cases passed!\n",
       "task_13 - 1 message: ✅ at_least_one_green is a numerical value between 0 and 1, inclusive."
      ]
     },
     "execution_count": 32,
     "metadata": {},
     "output_type": "execute_result"
    }
   ],
   "source": [
    "grader.check(\"task_13\")"
   ]
  },
  {
   "cell_type": "markdown",
   "metadata": {
    "tags": []
   },
   "source": [
    "#### Task 14 📍"
   ]
  },
  {
   "cell_type": "markdown",
   "metadata": {},
   "source": [
    "One of the three colors **never** wins in the first 10 spins.\n",
    "\n",
    "_Points:_ 2"
   ]
  },
  {
   "cell_type": "code",
   "execution_count": 33,
   "metadata": {
    "execution": {
     "iopub.execute_input": "2023-03-08T23:57:34.093554Z",
     "iopub.status.busy": "2023-03-08T23:57:34.090862Z",
     "iopub.status.idle": "2023-03-08T23:57:34.112373Z",
     "shell.execute_reply": "2023-03-08T23:57:34.106170Z"
    },
    "tags": [
     "otter_assign_solution_cell"
    ]
   },
   "outputs": [],
   "source": [
    "lone_winners = (1 - (2 / 38)) ** 10 + 2 * (1 - (18 / 38)) ** 10 # SOLUTION"
   ]
  },
  {
   "cell_type": "code",
   "execution_count": 34,
   "metadata": {
    "deletable": false,
    "editable": false,
    "execution": {
     "iopub.execute_input": "2023-03-08T23:57:34.135725Z",
     "iopub.status.busy": "2023-03-08T23:57:34.133769Z",
     "iopub.status.idle": "2023-03-08T23:57:34.215506Z",
     "shell.execute_reply": "2023-03-08T23:57:34.210366Z"
    }
   },
   "outputs": [
    {
     "data": {
      "text/html": [
       "<p><strong><pre style='display: inline;'>task_14</pre></strong> passed! 🙌</p><p><strong><pre style='display: inline;'>task_14 - 1</pre> message:</strong> ✅ lone_winners is a numerical value between 0 and 1, inclusive.</p>"
      ],
      "text/plain": [
       "task_14 results: All test cases passed!\n",
       "task_14 - 1 message: ✅ lone_winners is a numerical value between 0 and 1, inclusive."
      ]
     },
     "execution_count": 34,
     "metadata": {},
     "output_type": "execute_result"
    }
   ],
   "source": [
    "grader.check(\"task_14\")"
   ]
  },
  {
   "cell_type": "markdown",
   "metadata": {},
   "source": [
    "### Comparing Chances"
   ]
  },
  {
   "cell_type": "markdown",
   "metadata": {},
   "source": [
    "In each of the following 3 questions, two events A and B are described. Choose from one of the following three options and set each answer variable to a single integer:\n",
    "\n",
    "1. Event A is more likely than Event B\n",
    "2. Event B is more likely than Event A\n",
    "3. The two events have the same chance.\n",
    "\n",
    "You should be able to make the choices **without calculation**. Good ways to approach this exercise include imagining carrying out the chance experiments yourself, one trial at a time, and by thinking about the [law of averages](https://inferentialthinking.com/chapters/10/1/Empirical_Distributions.html#the-law-of-averages)."
   ]
  },
  {
   "cell_type": "markdown",
   "metadata": {
    "tags": []
   },
   "source": [
    "#### Task 15 📍"
   ]
  },
  {
   "cell_type": "markdown",
   "metadata": {},
   "source": [
    "A child picks four times at random from a box that has four toy animals: a bear, an elephant, a giraffe, and a kangaroo.\n",
    "\n",
    "- Event A: all four different animals are picked (assuming the child picks without replacement)\n",
    "- Event B: all four different animals are picked (assuming the child picks with replacement)\n",
    "\n",
    "_Points:_ 2"
   ]
  },
  {
   "cell_type": "code",
   "execution_count": 35,
   "metadata": {
    "execution": {
     "iopub.execute_input": "2023-03-08T23:57:34.235986Z",
     "iopub.status.busy": "2023-03-08T23:57:34.234785Z",
     "iopub.status.idle": "2023-03-08T23:57:34.255472Z",
     "shell.execute_reply": "2023-03-08T23:57:34.245679Z"
    },
    "tags": [
     "otter_assign_solution_cell"
    ]
   },
   "outputs": [],
   "source": [
    "toys_option = 1 # SOLUTION"
   ]
  },
  {
   "cell_type": "code",
   "execution_count": 36,
   "metadata": {
    "deletable": false,
    "editable": false,
    "execution": {
     "iopub.execute_input": "2023-03-08T23:57:34.272465Z",
     "iopub.status.busy": "2023-03-08T23:57:34.269054Z",
     "iopub.status.idle": "2023-03-08T23:57:34.339021Z",
     "shell.execute_reply": "2023-03-08T23:57:34.334723Z"
    }
   },
   "outputs": [
    {
     "data": {
      "text/html": [
       "<p><strong><pre style='display: inline;'>task_15</pre></strong> passed! 🍀</p><p><strong><pre style='display: inline;'>task_15 - 1</pre> message:</strong> ✅ This is a possible value for toys_option.</p>"
      ],
      "text/plain": [
       "task_15 results: All test cases passed!\n",
       "task_15 - 1 message: ✅ This is a possible value for toys_option."
      ]
     },
     "execution_count": 36,
     "metadata": {},
     "output_type": "execute_result"
    }
   ],
   "source": [
    "grader.check(\"task_15\")"
   ]
  },
  {
   "cell_type": "markdown",
   "metadata": {
    "tags": []
   },
   "source": [
    "#### Task 16 📍"
   ]
  },
  {
   "cell_type": "markdown",
   "metadata": {},
   "source": [
    "In a lottery, two numbers are drawn at random without replacement from the integers 1 through 1000.\n",
    "\n",
    "- Event A: The number 8 is picked on both draws\n",
    "- Event B: The same number is picked on both draws\n",
    "\n",
    "\n",
    "_Points:_ 2"
   ]
  },
  {
   "cell_type": "code",
   "execution_count": 37,
   "metadata": {
    "execution": {
     "iopub.execute_input": "2023-03-08T23:57:34.360568Z",
     "iopub.status.busy": "2023-03-08T23:57:34.356329Z",
     "iopub.status.idle": "2023-03-08T23:57:34.382322Z",
     "shell.execute_reply": "2023-03-08T23:57:34.375524Z"
    },
    "tags": [
     "otter_assign_solution_cell"
    ]
   },
   "outputs": [],
   "source": [
    "lottery_option = 3 # SOLUTION"
   ]
  },
  {
   "cell_type": "code",
   "execution_count": 38,
   "metadata": {
    "deletable": false,
    "editable": false,
    "execution": {
     "iopub.execute_input": "2023-03-08T23:57:34.402136Z",
     "iopub.status.busy": "2023-03-08T23:57:34.400770Z",
     "iopub.status.idle": "2023-03-08T23:57:34.473858Z",
     "shell.execute_reply": "2023-03-08T23:57:34.468415Z"
    }
   },
   "outputs": [
    {
     "data": {
      "text/html": [
       "<p><strong><pre style='display: inline;'>task_16</pre></strong> passed! 🚀</p><p><strong><pre style='display: inline;'>task_16 - 1</pre> message:</strong> ✅ This is a possible value for lottery_option.</p>"
      ],
      "text/plain": [
       "task_16 results: All test cases passed!\n",
       "task_16 - 1 message: ✅ This is a possible value for lottery_option."
      ]
     },
     "execution_count": 38,
     "metadata": {},
     "output_type": "execute_result"
    }
   ],
   "source": [
    "grader.check(\"task_16\")"
   ]
  },
  {
   "cell_type": "markdown",
   "metadata": {
    "tags": []
   },
   "source": [
    "#### Task 17 📍"
   ]
  },
  {
   "cell_type": "markdown",
   "metadata": {},
   "source": [
    "A fair coin is tossed repeatedly.\n",
    "\n",
    "- Event A: There are 600 or more heads in 1000 tosses\n",
    "- Event B: There are 60 or more heads in 100 tosses\n",
    "\n",
    "Remember the law of averages!\n",
    "\n",
    "_Points:_ 2"
   ]
  },
  {
   "cell_type": "code",
   "execution_count": 39,
   "metadata": {
    "execution": {
     "iopub.execute_input": "2023-03-08T23:57:34.488643Z",
     "iopub.status.busy": "2023-03-08T23:57:34.487572Z",
     "iopub.status.idle": "2023-03-08T23:57:34.506275Z",
     "shell.execute_reply": "2023-03-08T23:57:34.498421Z"
    },
    "tags": [
     "otter_assign_solution_cell"
    ]
   },
   "outputs": [],
   "source": [
    "coin_option = 2# SOLUTION"
   ]
  },
  {
   "cell_type": "code",
   "execution_count": 40,
   "metadata": {
    "deletable": false,
    "editable": false,
    "execution": {
     "iopub.execute_input": "2023-03-08T23:57:34.524496Z",
     "iopub.status.busy": "2023-03-08T23:57:34.523314Z",
     "iopub.status.idle": "2023-03-08T23:57:34.595903Z",
     "shell.execute_reply": "2023-03-08T23:57:34.589244Z"
    }
   },
   "outputs": [
    {
     "data": {
      "text/html": [
       "<p><strong><pre style='display: inline;'>task_17</pre></strong> passed! 🚀</p><p><strong><pre style='display: inline;'>task_17 - 1</pre> message:</strong> ✅ This is a possible value for coin_option</p>"
      ],
      "text/plain": [
       "task_17 results: All test cases passed!\n",
       "task_17 - 1 message: ✅ This is a possible value for coin_option"
      ]
     },
     "execution_count": 40,
     "metadata": {},
     "output_type": "execute_result"
    }
   ],
   "source": [
    "grader.check(\"task_17\")"
   ]
  },
  {
   "cell_type": "markdown",
   "metadata": {},
   "source": [
    "## Submit your Homework to Canvas\n",
    "\n",
    "Once you have finished working on the homework tasks, prepare to submit your work in Canvas by completing the following steps.\n",
    "\n",
    "1. In the related Canvas Assignment page, check the rubric to know how you will be scored for this assignment.\n",
    "2. Double-check that you have run the code cell near the end of the notebook that contains the command `\"grader.check_all()\"`. This command will run all of the run tests on all your responses to the auto-graded tasks marked with 📍.\n",
    "3. Double-check your responses to the manually graded tasks marked with 📍🔎.\n",
    "3. Select the menu item \"File\" and \"Save Notebook\" in the notebook's Toolbar to save your work and create a specific checkpoint in the notebook's work history.\n",
    "4. Select the menu items \"File\", \"Download\" in the notebook's Toolbar to download the notebook (.ipynb) file. \n",
    "5. In the related Canvas Assignment page, click Start Assignment or New Attempt to upload the downloaded .ipynb file.\n",
    "\n",
    "**Keep in mind that the autograder does not always check for correctness. Sometimes it just checks for the format of your answer, so passing the autograder for a question does not mean you got the answer correct for that question.**"
   ]
  },
  {
   "cell_type": "markdown",
   "metadata": {
    "deletable": false,
    "editable": false
   },
   "source": [
    "---\n",
    "\n",
    "To double-check your work, the cell below will rerun all of the autograder tests."
   ]
  },
  {
   "cell_type": "code",
   "execution_count": 41,
   "metadata": {
    "deletable": false,
    "editable": false,
    "execution": {
     "iopub.execute_input": "2023-03-08T23:57:34.644280Z",
     "iopub.status.busy": "2023-03-08T23:57:34.641394Z",
     "iopub.status.idle": "2023-03-08T23:57:36.265888Z",
     "shell.execute_reply": "2023-03-08T23:57:36.259831Z"
    }
   },
   "outputs": [
    {
     "data": {
      "text/plain": [
       "task_01 results: All test cases passed!\n",
       "task_01 - 1 message: ✅ Your function correctly returns 1 when it is called on 'red'.\n",
       "\n",
       "task_02 results: All test cases passed!\n",
       "task_02 - 1 message: ✅ It seems that red_winnings is an array.\n",
       "task_02 - 2 message: ✅ wheel is a table with the correct labels.\n",
       "\n",
       "task_03 results: All test cases passed!\n",
       "task_03 - 1 message: ✅ ten_bets has 10 rows.\n",
       "task_03 - 2 message: ✅ ten_bets has the same column labels as wheels.\n",
       "task_03 - 3 message: ✅ sum_bets is an integer.\n",
       "\n",
       "task_04 results: All test cases passed!\n",
       "task_04 - 1 message: ✅ There is essentially no chance that the net gain for 2 rounds of 10,000 bets should the same.\n",
       "\n",
       "task_05 results: All test cases passed!\n",
       "task_05 - 1 message: ✅ all_gains_red is an array with 10,000 items.\n",
       "\n",
       "task_06 results: All test cases passed!\n",
       "task_06 - 1 message: ✅ loss_more_than_50 is a bool value.\n",
       "\n",
       "task_07 results: All test cases passed!\n",
       "task_07 - 1 message: ✅ Your function returned the correct value for the 5 pocket.\n",
       "task_07 - 2 message: ✅ Your function returned the correct value for the 00 pocket.\n",
       "\n",
       "task_08 results: All test cases passed!\n",
       "task_08 - 1 message: ✅ Your last column label is 'Winnings: 5-6 Split'.\n",
       "task_08 - 2 message: ✅ The added column value associated with the 5 pocket is correct.\n",
       "\n",
       "task_09 results: All test cases passed!\n",
       "task_09 - 1 message: ✅ There are 10,000 items in all_gains_split.\n",
       "\n",
       "task_10 results: All test cases passed!\n",
       "task_10 - 1 message: ✅ histogram_statements is an array.\n",
       "task_10 - 2 message: ✅ histogram_statements contains at least one integer.\n",
       "\n",
       "task_11 results: All test cases passed!\n",
       "task_11 - 1 message: ✅ first_three_black is a numerical value between 0 and 1, inclusive.\n",
       "\n",
       "task_12 results: All test cases passed!\n",
       "task_12 - 1 message: ✅ no_green is a numerical value between 0 and 1, inclusive.\n",
       "\n",
       "task_13 results: All test cases passed!\n",
       "task_13 - 1 message: ✅ at_least_one_green is a numerical value between 0 and 1, inclusive.\n",
       "\n",
       "task_14 results: All test cases passed!\n",
       "task_14 - 1 message: ✅ lone_winners is a numerical value between 0 and 1, inclusive.\n",
       "\n",
       "task_15 results: All test cases passed!\n",
       "task_15 - 1 message: ✅ This is a possible value for toys_option.\n",
       "\n",
       "task_16 results: All test cases passed!\n",
       "task_16 - 1 message: ✅ This is a possible value for lottery_option.\n",
       "\n",
       "task_17 results: All test cases passed!\n",
       "task_17 - 1 message: ✅ This is a possible value for coin_option"
      ]
     },
     "execution_count": 41,
     "metadata": {},
     "output_type": "execute_result"
    }
   ],
   "source": [
    "grader.check_all()"
   ]
  }
 ],
 "metadata": {
  "hide_input": false,
  "kernelspec": {
   "display_name": "Python 3 (ipykernel)",
   "language": "python",
   "name": "python3"
  },
  "language_info": {
   "codemirror_mode": {
    "name": "ipython",
    "version": 3
   },
   "file_extension": ".py",
   "mimetype": "text/x-python",
   "name": "python",
   "nbconvert_exporter": "python",
   "pygments_lexer": "ipython3",
   "version": "3.10.9"
  },
  "otter": {
   "OK_FORMAT": true,
   "assignment_name": "hw06_sp23",
   "tests": {
    "task_01": {
     "name": "task_01",
     "points": 3,
     "suites": [
      {
       "cases": [
        {
         "code": ">>> \n>>> dollar_bet_on_red('red') == 1\nTrue",
         "failure_message": "❌ Your function should return 1 when it is called on 'red'.",
         "hidden": false,
         "locked": false,
         "points": 1,
         "success_message": "✅ Your function correctly returns 1 when it is called on 'red'."
        },
        {
         "code": ">>> \n>>> dollar_bet_on_red('black') == -1\nTrue",
         "hidden": true,
         "locked": false,
         "points": 1
        },
        {
         "code": ">>> \n>>> dollar_bet_on_red('green') == -1\nTrue",
         "hidden": true,
         "locked": false,
         "points": 1
        }
       ],
       "scored": true,
       "setup": "",
       "teardown": "",
       "type": "doctest"
      }
     ]
    },
    "task_02": {
     "name": "task_02",
     "points": 3,
     "suites": [
      {
       "cases": [
        {
         "code": ">>> \n>>> isinstance(red_winnings, np.ndarray)\nTrue",
         "failure_message": "❌ red_winnings should be an array.",
         "hidden": false,
         "locked": false,
         "points": 1,
         "success_message": "✅ It seems that red_winnings is an array."
        },
        {
         "code": ">>> \n>>> wheel.labels[2] == \"Winnings: Red\"\nTrue",
         "failure_message": "❌ wheel is not a table with the correct labels.",
         "hidden": false,
         "locked": false,
         "points": 1,
         "success_message": "✅ wheel is a table with the correct labels."
        },
        {
         "code": ">>> \n>>> sum(wheel.column('Winnings: Red')) == -2\nTrue",
         "hidden": true,
         "locked": false,
         "points": 1
        }
       ],
       "scored": true,
       "setup": "",
       "teardown": "",
       "type": "doctest"
      }
     ]
    },
    "task_03": {
     "name": "task_03",
     "points": 5,
     "suites": [
      {
       "cases": [
        {
         "code": ">>> \n>>> ten_bets.num_rows == 10\nTrue",
         "failure_message": "❌ ten_bets should have 10 rows.",
         "hidden": false,
         "locked": false,
         "points": 1,
         "success_message": "✅ ten_bets has 10 rows."
        },
        {
         "code": ">>> \n>>> set([\"Pocket\", \"Color\", \"Winnings: Red\"]) == set(ten_bets.labels)\nTrue",
         "failure_message": "❌ ten_bets should have the same column labels as wheels.",
         "hidden": false,
         "locked": false,
         "points": 1,
         "success_message": "✅ ten_bets has the same column labels as wheels."
        },
        {
         "code": ">>> \n>>> isinstance(sum_bets, int) or isinstance(sum_bets, np.int64)\nTrue",
         "failure_message": "❌ sum_bets should be an integer.",
         "hidden": false,
         "locked": false,
         "points": 1,
         "success_message": "✅ sum_bets is an integer."
        },
        {
         "code": ">>> \n>>> -10 <= sum_bets <= 10\nTrue",
         "hidden": true,
         "locked": false,
         "points": 1
        },
        {
         "code": ">>> \n>>> ten_bets.column('Pocket').item(4) in wheel.column('Pocket')\nTrue",
         "hidden": true,
         "locked": false,
         "points": 1
        }
       ],
       "scored": true,
       "setup": "",
       "teardown": "",
       "type": "doctest"
      }
     ]
    },
    "task_04": {
     "name": "task_04",
     "points": 2,
     "suites": [
      {
       "cases": [
        {
         "code": ">>> \n>>> net_gain_red(10000) != net_gain_red(10000)\nTrue",
         "failure_message": "❌ There is essentially no chance that the net gain for 2 rounds of 10,000 bets should the same.",
         "hidden": false,
         "locked": false,
         "points": 1,
         "success_message": "✅ There is essentially no chance that the net gain for 2 rounds of 10,000 bets should the same."
        },
        {
         "code": ">>> \n>>> -10000 <= net_gain_red(10000) <= 10000\nTrue",
         "hidden": true,
         "locked": false,
         "points": 1
        }
       ],
       "scored": true,
       "setup": "",
       "teardown": "",
       "type": "doctest"
      }
     ]
    },
    "task_05": {
     "name": "task_05",
     "points": 2,
     "suites": [
      {
       "cases": [
        {
         "code": ">>> \n>>> len(all_gains_red) == 10000\nTrue",
         "failure_message": "❌ all_gains_red should be an array with 10,000 items.",
         "hidden": false,
         "locked": false,
         "points": 1,
         "success_message": "✅ all_gains_red is an array with 10,000 items."
        },
        {
         "code": ">>> \n>>> (-80 <= all_gains_red).all() and (all_gains_red <= 60).all()\nTrue",
         "hidden": true,
         "locked": false,
         "points": 1
        }
       ],
       "scored": true,
       "setup": "",
       "teardown": "",
       "type": "doctest"
      }
     ]
    },
    "task_06": {
     "name": "task_06",
     "points": 2,
     "suites": [
      {
       "cases": [
        {
         "code": ">>> \n>>> isinstance(loss_more_than_50, bool)\nTrue",
         "failure_message": "❌ loss_more_than_50 should be a bool value.",
         "hidden": false,
         "locked": false,
         "points": 1,
         "success_message": "✅ loss_more_than_50 is a bool value."
        },
        {
         "code": ">>> \n>>> loss_more_than_50 == True\nTrue",
         "hidden": true,
         "locked": false,
         "points": 1
        }
       ],
       "scored": true,
       "setup": "",
       "teardown": "",
       "type": "doctest"
      }
     ]
    },
    "task_07": {
     "name": "task_07",
     "points": 4,
     "suites": [
      {
       "cases": [
        {
         "code": ">>> \n>>> dollar_bet_on_5_6_split('5') == 17\nTrue",
         "failure_message": "❌ Your function didn't return the correct value for the 5 pocket.",
         "hidden": false,
         "locked": false,
         "points": 1,
         "success_message": "✅ Your function returned the correct value for the 5 pocket."
        },
        {
         "code": ">>> \n>>> dollar_bet_on_5_6_split('00') == -1\nTrue",
         "failure_message": "❌ Your function didn't return the correct value for the 00 pocket.",
         "hidden": false,
         "locked": false,
         "points": 1,
         "success_message": "✅ Your function returned the correct value for the 00 pocket."
        },
        {
         "code": ">>> \n>>> dollar_bet_on_5_6_split('6') == 17\nTrue",
         "hidden": true,
         "locked": false,
         "points": 1
        },
        {
         "code": ">>> \n>>> dollar_bet_on_5_6_split('23') == -1\nTrue",
         "hidden": true,
         "locked": false,
         "points": 1
        }
       ],
       "scored": true,
       "setup": "",
       "teardown": "",
       "type": "doctest"
      }
     ]
    },
    "task_08": {
     "name": "task_08",
     "points": 3,
     "suites": [
      {
       "cases": [
        {
         "code": ">>> \n>>> wheel.labels[3] == 'Winnings: 5-6 Split'\nTrue",
         "failure_message": "❌ Your last column label should be 'Winnings: 5-6 Split'.",
         "hidden": false,
         "locked": false,
         "points": 1,
         "success_message": "✅ Your last column label is 'Winnings: 5-6 Split'."
        },
        {
         "code": ">>> \n>>> wheel.where('Pocket', '5').column('Winnings: 5-6 Split').item(0) == 17\nTrue",
         "failure_message": "❌ The added column value associated with the 5 pocket is not correct.",
         "hidden": false,
         "locked": false,
         "points": 1,
         "success_message": "✅ The added column value associated with the 5 pocket is correct."
        },
        {
         "code": ">>> \n>>> sum(wheel.column('Winnings: 5-6 Split')) == -2\nTrue",
         "hidden": true,
         "locked": false,
         "points": 1
        }
       ],
       "scored": true,
       "setup": "",
       "teardown": "",
       "type": "doctest"
      }
     ]
    },
    "task_09": {
     "name": "task_09",
     "points": 2,
     "suites": [
      {
       "cases": [
        {
         "code": ">>> \n>>> len(all_gains_split) == 10000\nTrue",
         "failure_message": "❌ There should be 10,000 items in all_gains_split.",
         "hidden": false,
         "locked": false,
         "points": 1,
         "success_message": "✅ There are 10,000 items in all_gains_split."
        },
        {
         "code": ">>> \n>>> sum(gains.column(1) < -50) > sum(gains.column(0) < -50)\nTrue",
         "hidden": true,
         "locked": false,
         "points": 1
        }
       ],
       "scored": true,
       "setup": "",
       "teardown": "",
       "type": "doctest"
      }
     ]
    },
    "task_10": {
     "name": "task_10",
     "points": 3,
     "suites": [
      {
       "cases": [
        {
         "code": ">>> \n>>> isinstance(histogram_statements, np.ndarray)\nTrue",
         "failure_message": "❌ histogram_statements should be an array.",
         "hidden": false,
         "locked": false,
         "points": 0,
         "success_message": "✅ histogram_statements is an array."
        },
        {
         "code": ">>> \n>>> isinstance(histogram_statements.item(0), int)\nTrue",
         "failure_message": "❌ histogram_statements should contain at least one integer.",
         "hidden": false,
         "locked": false,
         "points": 0,
         "success_message": "✅ histogram_statements contains at least one integer."
        },
        {
         "code": ">>> \n>>> 1 in histogram_statements\nTrue",
         "hidden": true,
         "locked": false,
         "points": 1
        },
        {
         "code": ">>> \n>>> 2 in histogram_statements\nTrue",
         "hidden": true,
         "locked": false,
         "points": 1
        },
        {
         "code": ">>> \n>>> 3 in histogram_statements\nTrue",
         "hidden": true,
         "locked": false,
         "points": 1
        }
       ],
       "scored": true,
       "setup": "",
       "teardown": "",
       "type": "doctest"
      }
     ]
    },
    "task_11": {
     "name": "task_11",
     "points": 2,
     "suites": [
      {
       "cases": [
        {
         "code": ">>> \n>>> 0 <= first_three_black <= 1\nTrue",
         "failure_message": "❌ first_three_black should be a numerical value between 0 and 1, inclusive.",
         "hidden": false,
         "locked": false,
         "points": 1,
         "success_message": "✅ first_three_black is a numerical value between 0 and 1, inclusive."
        },
        {
         "code": ">>> \n>>> np.isclose(first_three_black, (18 / 38) ** 3)\nTrue",
         "hidden": true,
         "locked": false,
         "points": 1
        }
       ],
       "scored": true,
       "setup": "",
       "teardown": "",
       "type": "doctest"
      }
     ]
    },
    "task_12": {
     "name": "task_12",
     "points": 2,
     "suites": [
      {
       "cases": [
        {
         "code": ">>> \n>>> 0 <= no_green <= 1\nTrue",
         "failure_message": "❌ no_green should be a numerical value between 0 and 1, inclusive.",
         "hidden": false,
         "locked": false,
         "points": 1,
         "success_message": "✅ no_green is a numerical value between 0 and 1, inclusive."
        },
        {
         "code": ">>> \n>>> np.isclose(no_green, (1 - (2 / 38)) ** 10)\nTrue",
         "hidden": true,
         "locked": false,
         "points": 1
        }
       ],
       "scored": true,
       "setup": "",
       "teardown": "",
       "type": "doctest"
      }
     ]
    },
    "task_13": {
     "name": "task_13",
     "points": 2,
     "suites": [
      {
       "cases": [
        {
         "code": ">>> \n>>> 0 <= at_least_one_green <= 1\nTrue",
         "failure_message": "❌ at_least_one_green should be a numerical value between 0 and 1, inclusive.",
         "hidden": false,
         "locked": false,
         "points": 1,
         "success_message": "✅ at_least_one_green is a numerical value between 0 and 1, inclusive."
        },
        {
         "code": ">>> \n>>> np.isclose(at_least_one_green, 1 - (1 - 2 / 38) ** 10)\nTrue",
         "hidden": true,
         "locked": false,
         "points": 1
        }
       ],
       "scored": true,
       "setup": "",
       "teardown": "",
       "type": "doctest"
      }
     ]
    },
    "task_14": {
     "name": "task_14",
     "points": 2,
     "suites": [
      {
       "cases": [
        {
         "code": ">>> \n>>> 0 <= lone_winners <= 1\nTrue",
         "failure_message": "❌ lone_winners should be a numerical value between 0 and 1, inclusive.",
         "hidden": false,
         "locked": false,
         "points": 1,
         "success_message": "✅ lone_winners is a numerical value between 0 and 1, inclusive."
        },
        {
         "code": ">>> \n>>> np.isclose(lone_winners, (1 - (2 / 38)) ** 10 + 2 * (1 - (18 / 38)) ** 10)\nTrue",
         "hidden": true,
         "locked": false,
         "points": 1
        }
       ],
       "scored": true,
       "setup": "",
       "teardown": "",
       "type": "doctest"
      }
     ]
    },
    "task_15": {
     "name": "task_15",
     "points": 2,
     "suites": [
      {
       "cases": [
        {
         "code": ">>> \n>>> toys_option in [1, 2, 3]\nTrue",
         "failure_message": "❌ 1, 2, or 3 should be assigned to toys_option.",
         "hidden": false,
         "locked": false,
         "points": 1,
         "success_message": "✅ This is a possible value for toys_option."
        },
        {
         "code": ">>> \n>>> toys_option == 1\nTrue",
         "hidden": true,
         "locked": false,
         "points": 1
        }
       ],
       "scored": true,
       "setup": "",
       "teardown": "",
       "type": "doctest"
      }
     ]
    },
    "task_16": {
     "name": "task_16",
     "points": 2,
     "suites": [
      {
       "cases": [
        {
         "code": ">>> \n>>> lottery_option in [1, 2, 3]\nTrue",
         "failure_message": "❌ 1, 2, or 3 should be assigned to lottery_option.",
         "hidden": false,
         "locked": false,
         "points": 1,
         "success_message": "✅ This is a possible value for lottery_option."
        },
        {
         "code": ">>> \n>>> lottery_option == 3\nTrue",
         "hidden": true,
         "locked": false,
         "points": 1
        }
       ],
       "scored": true,
       "setup": "",
       "teardown": "",
       "type": "doctest"
      }
     ]
    },
    "task_17": {
     "name": "task_17",
     "points": 2,
     "suites": [
      {
       "cases": [
        {
         "code": ">>> \n>>> coin_option in [1, 2, 3]\nTrue",
         "failure_message": "❌ 1, 2, or 3 should be assigned to coin_option.",
         "hidden": false,
         "locked": false,
         "points": 1,
         "success_message": "✅ This is a possible value for coin_option"
        },
        {
         "code": ">>> \n>>> coin_option == 2\nTrue",
         "hidden": true,
         "locked": false,
         "points": 1
        }
       ],
       "scored": true,
       "setup": "",
       "teardown": "",
       "type": "doctest"
      }
     ]
    }
   }
  },
  "toc-autonumbering": false
 },
 "nbformat": 4,
 "nbformat_minor": 4
}
