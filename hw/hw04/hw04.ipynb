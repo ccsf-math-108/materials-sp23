{
 "cells": [
  {
   "cell_type": "code",
   "execution_count": null,
   "metadata": {
    "deletable": false,
    "editable": false
   },
   "outputs": [],
   "source": [
    "# Initialize Otter\n",
    "import otter\n",
    "grader = otter.Notebook(\"hw04.ipynb\")"
   ]
  },
  {
   "cell_type": "markdown",
   "metadata": {},
   "source": [
    "<img style=\"display: block; margin-left: auto; margin-right: auto\" src=\"./ccsf-logo.png\" width=\"250rem;\" alt=\"The CCSF black and white logo\">"
   ]
  },
  {
   "cell_type": "markdown",
   "metadata": {},
   "source": [
    "<div style=\"text-align: center;\">\n",
    "    <h1>Homework 4: Functions, Histograms, and Groups</h1>\n",
    "    <em>View the related <a href=\"https://ccsf.instructure.com\" target=\"_blank\">Canvas</a> Assignment page for additional details.</em>\n",
    "</div>"
   ]
  },
  {
   "cell_type": "markdown",
   "metadata": {},
   "source": [
    "**Reading**: \n",
    "\n",
    "* [Visualizing Numerical Distributions](https://inferentialthinking.com/chapters/07/2/Visualizing_Numerical_Distributions.html) \n",
    "* [Functions and Tables](https://inferentialthinking.com/chapters/08/Functions_and_Tables.html)"
   ]
  },
  {
   "cell_type": "markdown",
   "metadata": {},
   "source": [
    "Please complete this notebook by filling in the cells provided. Before you begin, execute the following cell to load the provided tests. Each time you start your server, you will need to execute this cell again to load the tests.\n",
    "\n",
    "\n",
    "**Throughout this homework and all future ones, please be sure to not re-assign variables throughout the notebook!** For example, if you use `max_temperature` in your answer to one question, do not reassign it later on. Moreover, please be sure to only put your written answers in the provided cells. "
   ]
  },
  {
   "cell_type": "markdown",
   "metadata": {},
   "source": [
    "Run the following cell to import the relevant modules and settings."
   ]
  },
  {
   "cell_type": "code",
   "execution_count": null,
   "metadata": {
    "tags": []
   },
   "outputs": [],
   "source": [
    "import numpy as np\n",
    "from datascience import *\n",
    "import matplotlib\n",
    "%matplotlib inline\n",
    "import matplotlib.pyplot as plots\n",
    "plots.style.use('fivethirtyeight')\n",
    "\n",
    "import warnings\n",
    "warnings.simplefilter('ignore', FutureWarning)\n",
    "warnings.filterwarnings(\"ignore\")"
   ]
  },
  {
   "cell_type": "markdown",
   "metadata": {},
   "source": [
    "## San Francisco City and County Employee Salaries"
   ]
  },
  {
   "cell_type": "markdown",
   "metadata": {},
   "source": [
    "In this homework assignment, you will focus on [Employee Compensation](https://data.sfgov.org/City-Management-and-Ethics/Employee-Compensation/88g8-5mnd) data provided by the SF Controller's Office. We have filtered it to retain just the relevant columns and restricted the data to the year 2022. Run the following cell to load our data into a table called `sf`."
   ]
  },
  {
   "cell_type": "code",
   "execution_count": null,
   "metadata": {},
   "outputs": [],
   "source": [
    "sf = Table.read_table('sf_2022.csv')\n",
    "sf"
   ]
  },
  {
   "cell_type": "markdown",
   "metadata": {},
   "source": [
    "* Each line represents an employee's job information such as job family and salary. \n",
    "* They provide [a PDF explaining what each variable means](https://data.sfgov.org/api/views/88g8-5mnd/files/OMBVvreoXRjXG6oP4Ts4497dNxt14XlBqB6uIL6cq-o?download=True&filename=N:\\EIS\\DataCoordination\\Metadata%20Spring%20Cleaning\\CON_DataDictionary_Employee-Compensation.pdf).\n",
    "* You can _approximately_ think of every row representing an employee. _Since a few employees transfer jobs throughout the year or hold multiple jobs, it is not exactly true that each row represents an employee._\n",
    "* There are some jobs associated with a negative total compensation."
   ]
  },
  {
   "cell_type": "markdown",
   "metadata": {},
   "source": [
    "---\n",
    "\n",
    "**The `sf` contains just over 40,000 rows of information, so it takes up a lot of the memory you have available. We highly recommend that you only run this notebook kernel while working on this assignment. You can review [Jupyter Lab's documentation on managing your running kernels](https://jupyterlab.readthedocs.io/en/stable/user/running.html) or ask someone in the class for help.**\n",
    "\n",
    "---"
   ]
  },
  {
   "cell_type": "markdown",
   "metadata": {},
   "source": [
    "### Task 01 📍🔎"
   ]
  },
  {
   "cell_type": "markdown",
   "metadata": {},
   "source": [
    "<!-- BEGIN QUESTION -->\n",
    "\n",
    "The departments do not all have the same number of jobs. \n",
    "\n",
    "1. Create a visualization that shows the distribution of departments represented in this data set in terms of the number of employees within each department.\n",
    "2. Make sure the visualization highlights the departments with the most number of employees represented in the data set.\n",
    "3. Provide the name of the department with the most number of employees.\n",
    "\n",
    "\n",
    "_Points:_ 3"
   ]
  },
  {
   "cell_type": "markdown",
   "metadata": {},
   "source": [
    "_Type your answer here, replacing this text._"
   ]
  },
  {
   "cell_type": "code",
   "execution_count": null,
   "metadata": {
    "tags": []
   },
   "outputs": [],
   "source": [
    "...\n",
    "\n",
    "# Leave this to provide a title to your visualization\n",
    "plots.title('Departments (Employee Count)')\n",
    "plots.show()"
   ]
  },
  {
   "cell_type": "markdown",
   "metadata": {},
   "source": [
    "<!-- END QUESTION -->\n",
    "\n",
    "### Task 02 📍"
   ]
  },
  {
   "cell_type": "markdown",
   "metadata": {},
   "source": [
    "Some employees for the city and county make a lot of money. Identify who makes the most in terms of total compensation (the sum of salary and benefits).\n",
    "1. Assign the largest total compensation (a `float` value) to `max_compensation`.\n",
    "2. Assign the job title (a `str` value) associated with the highest total compensation to the name `max_compensation_position`.\n",
    "\n",
    "_Points:_ 4"
   ]
  },
  {
   "cell_type": "code",
   "execution_count": null,
   "metadata": {
    "tags": []
   },
   "outputs": [],
   "source": [
    "max_compensation = ...\n",
    "max_compensation_position = ...\n",
    "max_compensation, max_compensation_position"
   ]
  },
  {
   "cell_type": "code",
   "execution_count": null,
   "metadata": {
    "deletable": false,
    "editable": false
   },
   "outputs": [],
   "source": [
    "grader.check(\"task_02\")"
   ]
  },
  {
   "cell_type": "markdown",
   "metadata": {},
   "source": [
    "### Task 03 📍🔎"
   ]
  },
  {
   "cell_type": "markdown",
   "metadata": {},
   "source": [
    "<!-- BEGIN QUESTION -->\n",
    "\n",
    "1. Create a histogram showing the distribution of total compensation. \n",
    "2. Use the `unit = '$'` argument and use the default bins.\n",
    "3. Explain why there seems to be no information visualized on the right-side of the histogram.\n",
    "\n",
    "\n",
    "_Points:_ 4"
   ]
  },
  {
   "cell_type": "markdown",
   "metadata": {},
   "source": [
    "_Type your answer here, replacing this text._"
   ]
  },
  {
   "cell_type": "code",
   "execution_count": null,
   "metadata": {
    "tags": []
   },
   "outputs": [],
   "source": [
    "...\n",
    "\n",
    "# Leave this to provide a title to your visualization\n",
    "plots.title('Total Compensation')\n",
    "plots.show()"
   ]
  },
  {
   "cell_type": "markdown",
   "metadata": {},
   "source": [
    "<!-- END QUESTION -->\n",
    "\n",
    "### Task 04 📍🔎"
   ]
  },
  {
   "cell_type": "markdown",
   "metadata": {},
   "source": [
    "<!-- BEGIN QUESTION -->\n",
    "\n",
    "The area of a bar in a histogram reflect the percentage of the data represented in that particular bar. To have you think more deeply about this, we want you to create a strange version of the histogram you just made.\n",
    "\n",
    "1. Create an array called `equal_split_bins` that can be used to form the bins for a histogram of total compensation that splits the data into two equal bins.\n",
    "    * _Hint: The median of a collection of numbers can be used to split the numbers in two equal halves._\n",
    "1. Create a histogram for the total compensation values by using `equal_split_bins` such that your histogram only shows 2 bins (bars).\n",
    "2. The height of the bins should not be the same, explain why the visualization shows the data is split equally into two bins.\n",
    "\n",
    "_Points:_ 4"
   ]
  },
  {
   "cell_type": "markdown",
   "metadata": {},
   "source": [
    "_Type your answer here, replacing this text._"
   ]
  },
  {
   "cell_type": "code",
   "execution_count": null,
   "metadata": {
    "tags": []
   },
   "outputs": [],
   "source": [
    "# Define the bins\n",
    "equal_split_bins = ...\n",
    "# Create the histogram\n",
    "...\n",
    "\n",
    "# Leave this to provide a title to your visualization\n",
    "plots.title('Total Compensation')\n",
    "plots.show()"
   ]
  },
  {
   "cell_type": "markdown",
   "metadata": {},
   "source": [
    "<!-- END QUESTION -->\n",
    "\n",
    "The visualization of numerical data formed using a histogram can varied wildly depending on how you bin the data, but both of the above visualizations represent the same data!"
   ]
  },
  {
   "cell_type": "markdown",
   "metadata": {},
   "source": [
    "Continuing, you will be exploring the data set and demonstrating some more of the things you've learned about so far in the class!"
   ]
  },
  {
   "cell_type": "markdown",
   "metadata": {},
   "source": [
    "### Task 05 📍"
   ]
  },
  {
   "cell_type": "markdown",
   "metadata": {},
   "source": [
    "California has laws in place to help govern how much an employee should be paid for overtime work. There could be several reasons for why an employee works overtime. Some are healthy reasons and some are not. The ratio of overtime compensation to total compensation can provide a signal for health of departments and their employees. According to [Indeed.com](https://www.indeed.com/career-advice/career-development/working-overtime), here are some potential disadvantages of working extra hours:\n",
    "\n",
    "> Focus loss:\n",
    ">\n",
    "> You will likely want to take breaks while working overtime, and you may lose focus and productivity naturally as your working hours increase. \n",
    "> \n",
    "> Safety and health risk:\n",
    ">\n",
    "> Working longer hours also can be dangerous, depending on the job. Working overtime regularly can also disrupt your work-life balance, lead to burnout or create health risks, such as sitting at a computer for long periods. Due to these risks, more companies are limiting the number of hours worked in certain positions, such as truck drivers. \n",
    "> \n",
    "> Less work-life balance:\n",
    ">\n",
    "> There are only 24 hours in the day, and working overtime reduces the time for a good work-life balance. More work hours mean fewer hours for family, relaxation and sleep. \n",
    "\n",
    "Let's see which employees are earning a lot of overtime relative to the their total compensation.\n",
    "\n",
    "1. Filter the data in `sf` to only include rows with a total compensation above $20,000. Name the resulting table, `sf_above_20k`.\n",
    "1. Create an array `overtime_ratios` that contains the ratio of overtime pay to total compensation pay for all the employees in the data set.\n",
    "2. Using that array, create a table called `overtime_ratio_top_10` with a column called `Overtime Ratio` that shows the top 10 employees that have the highest overtime pay to total compensation pay ratio.\n",
    "\n",
    "_Points:_ 6"
   ]
  },
  {
   "cell_type": "code",
   "execution_count": null,
   "metadata": {
    "tags": []
   },
   "outputs": [],
   "source": [
    "sf_above_20k = ...\n",
    "overtime_ratios = ...\n",
    "overtime_ratio_top_10 = ...\n",
    "overtime_ratio_top_10"
   ]
  },
  {
   "cell_type": "code",
   "execution_count": null,
   "metadata": {
    "deletable": false,
    "editable": false
   },
   "outputs": [],
   "source": [
    "grader.check(\"task_05\")"
   ]
  },
  {
   "cell_type": "markdown",
   "metadata": {},
   "source": [
    "### Task 06 📍"
   ]
  },
  {
   "cell_type": "markdown",
   "metadata": {},
   "source": [
    "Set `job_titles` to a table with two columns. \n",
    "* The first column should be called \"Organization Group\".\n",
    "* The first column should have the name of every \"Organization Group\" once\n",
    "* The second column should be called \"Jobs\" with each row in that second column containing an *array* of the names of all the job titles within that \"Organization Group\". \n",
    "* Don't worry if there are multiple of the same job titles.\n",
    "\n",
    "Consider a few things while working on this:\n",
    "* Think about how `group` works: it collects values into an array and then applies a function to that array. We have defined two functions below for you, and you will need to use one of them in your call to `group`. \n",
    "* It might be helpful to create intermediary tables and experiment with the given functions.\n",
    "\n",
    "_Points:_ 6"
   ]
  },
  {
   "cell_type": "code",
   "execution_count": null,
   "metadata": {
    "tags": []
   },
   "outputs": [],
   "source": [
    "# Pick one of the two functions defined below in your call to group.\n",
    "def first_item(array):\n",
    "    '''Returns the first item'''\n",
    "    return array.item(0)\n",
    "\n",
    "def full_array(array):\n",
    "    '''Returns the array that is passed through'''\n",
    "    return array \n",
    "\n",
    "# Make a call to group using one of the functions above when you define job_titles\n",
    "job_titles = ...\n",
    "job_titles"
   ]
  },
  {
   "cell_type": "code",
   "execution_count": null,
   "metadata": {
    "deletable": false,
    "editable": false
   },
   "outputs": [],
   "source": [
    "grader.check(\"task_06\")"
   ]
  },
  {
   "cell_type": "markdown",
   "metadata": {},
   "source": [
    "---\n",
    "\n",
    "Understanding the code you just wrote in the previous task is important for moving forward with the class! If you made a lucky guess, take some time to look at the code, step by step.\n",
    "\n",
    "---"
   ]
  },
  {
   "cell_type": "markdown",
   "metadata": {},
   "source": [
    "### Task 07 📍🔎"
   ]
  },
  {
   "cell_type": "markdown",
   "metadata": {},
   "source": [
    "<!-- BEGIN QUESTION -->\n",
    "\n",
    "At the moment, the `Job` column of the `sf` table is not sorted (no particular order). Would the arrays you generated in the `Jobs` column of the previous question be the same if we had sorted alphabetically instead before generating them? Explain your answer. To receive full credit, your answer should reference\n",
    "1. *how* the `.group` method works\n",
    "2. *how* sorting the `Job` column would affect this.\n",
    "\n",
    "Keep in mind that two arrays are the **same** if they contain the same number of elements and the elements located at corresponding indexes in the two arrays are identical. An example of arrays that are NOT the same: `array([1,2]) != array([2,1])`.\n",
    "\n",
    "\n",
    "_Points:_ 2"
   ]
  },
  {
   "cell_type": "markdown",
   "metadata": {},
   "source": [
    "_Type your answer here, replacing this text._"
   ]
  },
  {
   "cell_type": "markdown",
   "metadata": {},
   "source": [
    "<!-- END QUESTION -->\n",
    "\n",
    "### Task 08 📍"
   ]
  },
  {
   "cell_type": "markdown",
   "metadata": {},
   "source": [
    "Set `department_ranges` to a table containing departments as the rows, and the organization groups as the columns. The values in the rows should correspond to a total compensation range, where range is defined as the **difference between the highest total compensation and the lowest total compensation in the department for that organization group**.\n",
    "\n",
    "Keep in mind the following while working on this:\n",
    "\n",
    "* First you'll need to define a new function `compensation_range` which takes in an array of compensations and returns the range of compensations in that array.\n",
    "* What table function allows you to specify the rows and columns of a new table?\n",
    "\n",
    "\n",
    "_Points:_ 4"
   ]
  },
  {
   "cell_type": "code",
   "execution_count": null,
   "metadata": {
    "tags": []
   },
   "outputs": [],
   "source": [
    "# Define compensation_range first\n",
    "...\n",
    "    ...\n",
    "\n",
    "department_ranges = ...\n",
    "department_ranges"
   ]
  },
  {
   "cell_type": "code",
   "execution_count": null,
   "metadata": {
    "deletable": false,
    "editable": false
   },
   "outputs": [],
   "source": [
    "grader.check(\"task_08\")"
   ]
  },
  {
   "cell_type": "markdown",
   "metadata": {},
   "source": [
    "### Task 09 📍🔎"
   ]
  },
  {
   "cell_type": "markdown",
   "metadata": {},
   "source": [
    "<!-- BEGIN QUESTION -->\n",
    "\n",
    "Provide at least **two** different explanations as to why some of the row values are `0` in the `department_ranges` table from the previous question.\n",
    "\n",
    "\n",
    "_Points:_ 2"
   ]
  },
  {
   "cell_type": "markdown",
   "metadata": {},
   "source": [
    "_Type your answer here, replacing this text._"
   ]
  },
  {
   "cell_type": "markdown",
   "metadata": {},
   "source": [
    "<!-- END QUESTION -->\n",
    "\n",
    "### Task 10 📍"
   ]
  },
  {
   "cell_type": "markdown",
   "metadata": {},
   "source": [
    "Find the number of departments appearing in the `sf` table that have an average total compensation of greater than 125,000 dollars; assign this value to the variable `num_over_125k`.\n",
    "\n",
    "The variable names we've provided below are meant to help guide the intermediate steps and general thought process. Feel free to delete them if you'd prefer to start from scratch, but make sure your final answer is assigned to `num_over_125k`!\n",
    "\n",
    "_Points:_ 2"
   ]
  },
  {
   "cell_type": "code",
   "execution_count": null,
   "metadata": {
    "tags": []
   },
   "outputs": [],
   "source": [
    "depts_and_comp = ...\n",
    "avg_of_depts = ...\n",
    "over_125k = ...\n",
    "num_over_125k = ...\n",
    "num_over_125k"
   ]
  },
  {
   "cell_type": "code",
   "execution_count": null,
   "metadata": {
    "deletable": false,
    "editable": false
   },
   "outputs": [],
   "source": [
    "grader.check(\"task_10\")"
   ]
  },
  {
   "cell_type": "markdown",
   "metadata": {},
   "source": [
    "There are many things you can explore in this data set, but that is enough for now!"
   ]
  },
  {
   "cell_type": "markdown",
   "metadata": {},
   "source": [
    "## Submit your Homework to Canvas\n",
    "\n",
    "Once you have finished working on the homework tasks, prepare to submit your work in Canvas by completing the following steps.\n",
    "\n",
    "1. In the related Canvas Assignment page, check the rubric to know how you will be scored for this assignment.\n",
    "2. Double-check that you have run the code cell near the end of the notebook that contains the command `\"grader.check_all()\"`. This command will run all of the run tests on all your responses to the auto-graded tasks marked with 📍.\n",
    "3. Double-check your responses to the manually graded tasks marked with 📍🔎.\n",
    "3. Select the menu item \"File\" and \"Save Notebook\" in the notebook's Toolbar to save your work and create a specific checkpoint in the notebook's work history.\n",
    "4. Select the menu items \"File\", \"Download\" in the notebook's Toolbar to download the notebook (.ipynb) file. \n",
    "5. In the related Canvas Assignment page, click Start Assignment or New Attempt to upload the downloaded .ipynb file.\n",
    "\n",
    "**Keep in mind that the autograder does not always check for correctness. Sometimes it just checks for the format of your answer, so passing the autograder for a question does not mean you got the answer correct for that question.**"
   ]
  },
  {
   "cell_type": "markdown",
   "metadata": {
    "deletable": false,
    "editable": false
   },
   "source": [
    "---\n",
    "\n",
    "To double-check your work, the cell below will rerun all of the autograder tests."
   ]
  },
  {
   "cell_type": "code",
   "execution_count": null,
   "metadata": {
    "deletable": false,
    "editable": false
   },
   "outputs": [],
   "source": [
    "grader.check_all()"
   ]
  }
 ],
 "metadata": {
  "hide_input": false,
  "kernelspec": {
   "display_name": "Python 3 (ipykernel)",
   "language": "python",
   "name": "python3"
  },
  "language_info": {
   "codemirror_mode": {
    "name": "ipython",
    "version": 3
   },
   "file_extension": ".py",
   "mimetype": "text/x-python",
   "name": "python",
   "nbconvert_exporter": "python",
   "pygments_lexer": "ipython3",
   "version": "3.10.9"
  },
  "otter": {
   "OK_FORMAT": true,
   "assignment_name": "hw04_sp23",
   "tests": {
    "task_02": {
     "name": "task_02",
     "points": 4,
     "suites": [
      {
       "cases": [
        {
         "code": ">>> \n>>> isinstance(max_compensation, float)\nTrue",
         "failure_message": "❌ max_compensation should represent a float.",
         "hidden": false,
         "locked": false,
         "points": 1,
         "success_message": "✅ max_compensation represents a float."
        },
        {
         "code": ">>> \n>>> isinstance(max_compensation_position, str)\nTrue",
         "failure_message": "❌ max_compensation_position should represent a string.",
         "hidden": false,
         "locked": false,
         "points": 1,
         "success_message": "✅ max_compensation_position represents a string."
        }
       ],
       "scored": true,
       "setup": "",
       "teardown": "",
       "type": "doctest"
      }
     ]
    },
    "task_05": {
     "name": "task_05",
     "points": 6,
     "suites": [
      {
       "cases": [
        {
         "code": ">>> \n>>> min(sf_above_20k.column('Total Compensation')) > 20_000\nTrue",
         "failure_message": "❌ sf_above_20k should refect the data with total compensation over 20,000.",
         "hidden": false,
         "locked": false,
         "points": 1,
         "success_message": "✅ sf_above_20k seems to refect the data with total compensation over 20,000."
        },
        {
         "code": ">>> \n>>> np.isclose(np.sum(overtime_ratios), 1973.054)\nTrue",
         "failure_message": "❌ Your overtime_ratios array doesn't seem to contain the correct values.",
         "hidden": false,
         "locked": false,
         "points": 1,
         "success_message": "✅ It seems like your overtime_ratios array contains the correct values."
        },
        {
         "code": ">>> \n>>> overtime_ratio_top_10.num_rows == 10\nTrue",
         "failure_message": "❌ The overtime_ratio_top_10 table should have 10 rows.",
         "hidden": false,
         "locked": false,
         "points": 1,
         "success_message": "✅ The overtime_ratio_top_10 table has 10 rows."
        },
        {
         "code": ">>> \n>>> 'Overtime Ratio' in overtime_ratio_top_10.labels\nTrue",
         "failure_message": "❌ The overtime_ratio_top_10 table should contain the 'Overtime Ratio' column label.",
         "hidden": false,
         "locked": false,
         "points": 1,
         "success_message": "✅ The overtime_ratio_top_10 table contains the 'Overtime Ratio' column label."
        }
       ],
       "scored": true,
       "setup": "",
       "teardown": "",
       "type": "doctest"
      }
     ]
    },
    "task_06": {
     "name": "task_06",
     "points": 6,
     "suites": [
      {
       "cases": [
        {
         "code": ">>> \n>>> job_titles.num_columns == 2\nTrue",
         "failure_message": "❌ You don't have the correct number of columns. Remove the columns you don't need.",
         "hidden": false,
         "locked": false,
         "points": 1,
         "success_message": "✅ You have the correct number of columns."
        },
        {
         "code": ">>> \n>>> job_titles.num_rows == 5\nFalse",
         "failure_message": "❌ It doesn't seem that you have the correct number of columns.",
         "hidden": false,
         "locked": false,
         "points": 1,
         "success_message": "✅ You have the correct number of rows."
        },
        {
         "code": ">>> \n>>> np.asarray(job_titles.labels).item(0) == \"Organization Group\"\nTrue",
         "failure_message": "❌ The first column label doesn't look correct.",
         "hidden": false,
         "locked": false,
         "points": 1,
         "success_message": "✅ The first column label looks correct."
        },
        {
         "code": ">>> \n>>> # Make sure that you have the correct column labels!\n>>> np.asarray(job_titles.labels).item(1) not in [\"Job full_array\", \"Job first_item\"]\nTrue",
         "failure_message": "❌ Your last column label don't look correct.",
         "hidden": false,
         "locked": false,
         "points": 1,
         "success_message": "✅ Your last column label looks correct.."
        }
       ],
       "scored": true,
       "setup": "",
       "teardown": "",
       "type": "doctest"
      }
     ]
    },
    "task_08": {
     "name": "task_08",
     "points": 4,
     "suites": [
      {
       "cases": [
        {
         "code": ">>> \n>>> compensation_range(make_array(5, 1, 20, 1000)) == 999\nTrue",
         "failure_message": "❌ Your function compensation_range doesn't seem to be working correctly.",
         "hidden": false,
         "locked": false,
         "points": 1,
         "success_message": "✅ Your function compensation_range seems to be working correctly."
        },
        {
         "code": ">>> \n>>> set(['Department', 'Culture & Recreation','General Administration & Finance',\n...      'Human Welfare & Neighborhood Development', 'Public Protection', \n...      'Public Works, Transportation & Commerce']) == set(department_ranges.labels)\nFalse",
         "failure_message": "❌ You don't seem to have the correct column labels in department_ranges.",
         "hidden": false,
         "locked": false,
         "points": 1,
         "success_message": "✅ You have the correct column labels in department_ranges."
        },
        {
         "code": ">>> \n>>> sum(department_ranges.column(1)) == 589454.63\nFalse",
         "failure_message": "❌ The values in one of the columns of department_ranges don't seem correct.",
         "hidden": false,
         "locked": false,
         "points": 1,
         "success_message": "✅ The values in one of the columns of department_ranges seem correct."
        }
       ],
       "scored": true,
       "setup": "",
       "teardown": "",
       "type": "doctest"
      }
     ]
    },
    "task_10": {
     "name": "task_10",
     "points": 2,
     "suites": [
      {
       "cases": [
        {
         "code": ">>> \n>>> isinstance(num_over_125k, (int, np.int32, np.int64))\nTrue",
         "failure_message": "❌ num_over_125k should be an integer.",
         "hidden": false,
         "locked": false,
         "points": 1,
         "success_message": "✅ You have num_over_125k assigned to an integer value."
        }
       ],
       "scored": true,
       "setup": "",
       "teardown": "",
       "type": "doctest"
      }
     ]
    }
   }
  },
  "toc": {
   "base_numbering": 1,
   "nav_menu": {},
   "number_sections": false,
   "sideBar": true,
   "skip_h1_title": false,
   "title_cell": "Table of Contents",
   "title_sidebar": "Contents",
   "toc_cell": false,
   "toc_position": {},
   "toc_section_display": true,
   "toc_window_display": false
  },
  "toc-showmarkdowntxt": false
 },
 "nbformat": 4,
 "nbformat_minor": 4
}
