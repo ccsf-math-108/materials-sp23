{
 "cells": [
  {
   "cell_type": "code",
   "execution_count": null,
   "metadata": {
    "deletable": false,
    "editable": false
   },
   "outputs": [],
   "source": [
    "# Initialize Otter\n",
    "import otter\n",
    "grader = otter.Notebook(\"lab05.ipynb\")"
   ]
  },
  {
   "cell_type": "markdown",
   "metadata": {},
   "source": [
    "<img style=\"display: block; margin-left: auto; margin-right: auto\" src=\"./ccsf-logo.png\" width=\"250rem;\" alt=\"The CCSF black and white logo\">"
   ]
  },
  {
   "cell_type": "markdown",
   "metadata": {},
   "source": [
    "<div style=\"text-align: center;\">\n",
    "    <h1>Lab 05: Visualizations</h1>\n",
    "    <em>View the related <a href=\"https://ccsf.instructure.com\" target=\"_blank\">Canvas</a> Assignment page for additional details.</em>\n",
    "</div>"
   ]
  },
  {
   "cell_type": "markdown",
   "metadata": {},
   "source": [
    "This week, you will focus on creating visualizations to support the analysis of BART ridership data in addition to practicing more with the `group` and `join` methods.\n",
    "\n",
    "First, set up the notebook by running the cell below."
   ]
  },
  {
   "cell_type": "code",
   "execution_count": null,
   "metadata": {
    "tags": []
   },
   "outputs": [],
   "source": [
    "import numpy as np\n",
    "from datascience import *\n",
    "import matplotlib\n",
    "%matplotlib inline\n",
    "import matplotlib.pyplot as plots\n",
    "plots.style.use('fivethirtyeight')"
   ]
  },
  {
   "cell_type": "markdown",
   "metadata": {
    "tags": []
   },
   "source": [
    "## SF311"
   ]
  },
  {
   "cell_type": "markdown",
   "metadata": {},
   "source": [
    "The City and County of San Francisco established SF311 to provide an easy-to-remember telephone number that connects residents, businesses, and visitors to Customer Service Representatives ready to help with general government information and services in 2007. SF311 started taking web requests in 2008, social media in 2009, and mobile requests in 2010 from apps that connect to the open311 API. Departments can also use the 311 system to report inter-agency issues.\n",
    "\n",
    "This dataset includes cases generally associated with a place or thing (for example parks, streets, or buildings) and created July 1, 2008 or later. Cases generally logged by a user regarding their own needs (for example, property or business tax questions, parking permit requests) are not included. Cases prior to July 1, 2008 are not included due to significant data structure changes in the spring of 2008. General Requests are multipurpose requests that can be routed to the majority of City Agencies. SF311 case data is provided as is and without warranty but works with its departmental partners to continuously improve business processes and data quality.\n",
    "\n",
    "The following is a list of the included case types:\n",
    "\n",
    "* 311 External Request\n",
    "* Abandoned Vehicle\n",
    "* Blocked Street or Sidewalk\n",
    "* Catch Basin Maintenance\n",
    "* Color Curb\n",
    "* Construction Zone Permits\n",
    "* Damaged Property\n",
    "* DPW Volunteer Programs\n",
    "* Encampments\n",
    "* Entertainment Commission\n",
    "* General Request (Multiple Agencies)\n",
    "* Graffiti\n",
    "* Homeless Concerns\n",
    "* Illegal Postings\n",
    "* Litter Receptacles\n",
    "* MUNI Feedback\n",
    "* Noise Report\n",
    "* Parking Enforcement\n",
    "* Rec and Park Requests\n",
    "* Residential Building Request\n",
    "* Sewer Issues\n",
    "* SFHA Requests\n",
    "* Sidewalk or Curb\n",
    "* Sign Repair\n",
    "* Street and Sidewalk Cleaning\n",
    "* Street Defects\n",
    "* Streetlights\n",
    "* Temporary Sign Request\n",
    "* Tree Maintenance"
   ]
  },
  {
   "cell_type": "markdown",
   "metadata": {},
   "source": [
    "Run the following code cell to to load the current (February 28, 2023) 311 data sourced from [the DataSF 311 Cases data set](https://data.sfgov.org/City-Infrastructure/311-Cases/vw6y-z8j6)."
   ]
  },
  {
   "cell_type": "code",
   "execution_count": null,
   "metadata": {},
   "outputs": [],
   "source": [
    "# You are not response for the following code. Lambda functions are covered in more advanced Python courses\n",
    "sf311 = Table.read_table('sf311.csv')\n",
    "sf311 = sf311.with_column('supervisor_district', sf311.apply(lambda x: str(int(x)), 'supervisor_district'))\n",
    "sf311"
   ]
  },
  {
   "cell_type": "markdown",
   "metadata": {},
   "source": [
    "The data contains information on the supervisor districts in the city. These districts are regions of the city that are represented by an elected district supervisor. The districts were re-drawn in 2022. You can read more about the districts and the 2022 changes in the SF Chronicle article [_These 11 maps show exactly how San Francisco's supervisor districts will be redrawn_](https://www.sfchronicle.com/projects/2022/san-francisco-redistricting-final-map/)"
   ]
  },
  {
   "cell_type": "markdown",
   "metadata": {},
   "source": [
    "### Join"
   ]
  },
  {
   "cell_type": "markdown",
   "metadata": {},
   "source": [
    "The `join` table method allows you to combine the information in one table with the information in another table by relating the data through matching values in a specific column from each table."
   ]
  },
  {
   "cell_type": "markdown",
   "metadata": {},
   "source": [
    "For example, the following two tables `tbl1` and `tbl2` share common information in columns `'tbl1_col1'` and `'tbl2_col2'`."
   ]
  },
  {
   "cell_type": "code",
   "execution_count": null,
   "metadata": {},
   "outputs": [],
   "source": [
    "tbl1 = Table().with_columns('tbl1_col1', ['A', 'B', 'A'], 'tbl1_col2', [1, 3, 1], 'tbl1_col3', ['Yes', 'Maybe', 'No'])\n",
    "tbl2 = Table().with_columns('tbl2_col1', [True, False, False], 'tbl2_col2', ['A', 'B', 'C'])\n",
    "display(tbl1)\n",
    "display(tbl2)"
   ]
  },
  {
   "cell_type": "markdown",
   "metadata": {},
   "source": [
    "The two tables can be joined using the following code:"
   ]
  },
  {
   "cell_type": "code",
   "execution_count": null,
   "metadata": {},
   "outputs": [],
   "source": [
    "tbl2.join('tbl2_col2', tbl1, 'tbl1_col1')"
   ]
  },
  {
   "cell_type": "markdown",
   "metadata": {},
   "source": [
    "Here are a few things to notice about the resulting table:\n",
    "* The first column is the column from `tbl2` that was used to join the data in the two tables, the second column is the rest of the column data from `tbl2`, and the remaining columns are the columns in `tbl1`, except for the column used to join the data in the the two tables.\n",
    "* There was not a match for for `'C'` in `tbl1`, so there is not a row in in the joined table containing information related to `'C'`."
   ]
  },
  {
   "cell_type": "markdown",
   "metadata": {
    "tags": []
   },
   "source": [
    "### Task 01 📍"
   ]
  },
  {
   "cell_type": "markdown",
   "metadata": {},
   "source": [
    "There can be several reasons why you might want to use a numerical code for categorical data. There are many tools that work on numerical data types that might be helpful for analyzing categorical data. The following table show a numerical translation for the descriptions `'Open'` and `'Closed'` as `1` and `0`, respectively."
   ]
  },
  {
   "cell_type": "code",
   "execution_count": null,
   "metadata": {
    "tags": []
   },
   "outputs": [],
   "source": [
    "code_table = Table().with_columns(\n",
    "    'status_description', ['Open', 'Closed'],\n",
    "    'status_code', [1, 0]\n",
    ")\n",
    "code_table"
   ]
  },
  {
   "cell_type": "markdown",
   "metadata": {},
   "source": [
    "* Use the `join` table method to create a table called `sf311_coded_status` with same information as `sf311` based on whether or not the case is open. \n",
    "* `sf311_coded_status` should only have the columns, in the following order, `'status_code'`, `'requested_datetime'`, `'closed_date'`, `'service_name'`, and `'supervisor_district'`"
   ]
  },
  {
   "cell_type": "code",
   "execution_count": null,
   "metadata": {
    "tags": []
   },
   "outputs": [],
   "source": [
    "sf311_coded_status = ...\n",
    "sf311_coded_status"
   ]
  },
  {
   "cell_type": "code",
   "execution_count": null,
   "metadata": {
    "deletable": false,
    "editable": false
   },
   "outputs": [],
   "source": [
    "grader.check(\"task_01\")"
   ]
  },
  {
   "cell_type": "markdown",
   "metadata": {},
   "source": [
    "### Group"
   ]
  },
  {
   "cell_type": "markdown",
   "metadata": {},
   "source": [
    "The `group` table method with a single argument counts the number of rows for each category in a column. The result contains one row per unique value in the grouped column."
   ]
  },
  {
   "cell_type": "markdown",
   "metadata": {
    "tags": []
   },
   "source": [
    "### Task 02 📍"
   ]
  },
  {
   "cell_type": "markdown",
   "metadata": {},
   "source": [
    "1. Use the `group` method to create a table called `sf311_by_service` with two columns (`'service name'` and `'count'`) showing the a row for each unique service name and the number of time that service request appears in the data set. \n",
    "2. Sort the rows in the table such that the services that appear the most often in the dataset appear at the top.\n",
    "\n",
    "Note: 311 External Requests have been removed form the data, so you won't find information on that service."
   ]
  },
  {
   "cell_type": "code",
   "execution_count": null,
   "metadata": {
    "tags": []
   },
   "outputs": [],
   "source": [
    "sf311_by_service = ...\n",
    "sf311_by_service"
   ]
  },
  {
   "cell_type": "code",
   "execution_count": null,
   "metadata": {
    "deletable": false,
    "editable": false
   },
   "outputs": [],
   "source": [
    "grader.check(\"task_02\")"
   ]
  },
  {
   "cell_type": "markdown",
   "metadata": {},
   "source": [
    "### Task 03 📍🔎"
   ]
  },
  {
   "cell_type": "markdown",
   "metadata": {},
   "source": [
    "Use the `sf311_by_service` table to create a visualization showing the distribution of services in the 311 data. Check with a classmate, the instructor, or a tutor to see if your visualization looks good."
   ]
  },
  {
   "cell_type": "code",
   "execution_count": null,
   "metadata": {
    "tags": []
   },
   "outputs": [],
   "source": [
    "..."
   ]
  },
  {
   "cell_type": "markdown",
   "metadata": {},
   "source": [
    "The optional second argument of `group` names the function that will be used to aggregate values in other columns for all of those rows. For example, the following code applies NumPy\\'s average function to the status codes to provide the proportion of open cases for each service name. (The average of a collection of 1\\'s and 0\\'s values is the proportion of 1\\'s in the collection.)\n",
    "\n",
    "The `group` method will try and apply `np.average` to every column in the table, except for the one used to group the data by. Notice that we first reduced the table to just the column information we want to group by and the column we want to apply `np.average` to. "
   ]
  },
  {
   "cell_type": "code",
   "execution_count": null,
   "metadata": {},
   "outputs": [],
   "source": [
    "sf311_coded_status_reduced_to_2 = sf311_coded_status.select('service_name', 'status_code')\n",
    "sf311_coded_status_reduced_to_2.group('service_name', np.average)"
   ]
  },
  {
   "cell_type": "markdown",
   "metadata": {},
   "source": [
    "It seems that 87.5% of the damaged property 311 cases are still open."
   ]
  },
  {
   "cell_type": "markdown",
   "metadata": {},
   "source": [
    "The group method also allows us to classify individuals according to multiple variables (cross-classify). Instead of providing a column label or column index for the first argument to `group`, you can provide a list of column labels or column indices to group by. Each row in the resulting table will show a unique combination of the values associated with the provided columns."
   ]
  },
  {
   "cell_type": "code",
   "execution_count": null,
   "metadata": {},
   "outputs": [],
   "source": [
    "sf311.group(['service_name', 'supervisor_district']).sort('count', True)"
   ]
  },
  {
   "cell_type": "markdown",
   "metadata": {
    "tags": []
   },
   "source": [
    "### Task 04 📍"
   ]
  },
  {
   "cell_type": "markdown",
   "metadata": {},
   "source": [
    "Create a table called `sf311_coded_status_relabled` using the following steps:\n",
    "1. Reduce the `sf311_coded_status` table to only have the columns `'service_name'`, `'supervisor_district'`, and `'status_code'`.\n",
    "2. Use the `group` method to cross-classify the data based on the values in the `'service_name'` and `'supervisor_district'` columns, and use `np.average` for the the optional second parameter for `group` to include the proportion of open cases for each service name and supervisor district combination.\n",
    "3. Relabel the status code average column to be `'proportion_open'`.\n",
    "\n",
    "For the auto-grader, make sure you use `np.average` when you group the data."
   ]
  },
  {
   "cell_type": "code",
   "execution_count": null,
   "metadata": {
    "tags": []
   },
   "outputs": [],
   "source": [
    "sf311_coded_status_reduced_to_3 = ...\n",
    "sf311_coded_status_by_service_and_district = ...\n",
    "sf311_coded_status_relabled = ...\n",
    "sf311_coded_status_relabled"
   ]
  },
  {
   "cell_type": "code",
   "execution_count": null,
   "metadata": {
    "deletable": false,
    "editable": false
   },
   "outputs": [],
   "source": [
    "grader.check(\"task_04\")"
   ]
  },
  {
   "cell_type": "markdown",
   "metadata": {
    "tags": []
   },
   "source": [
    "### Task 05 📍"
   ]
  },
  {
   "cell_type": "markdown",
   "metadata": {},
   "source": [
    "Focusing on just the supervisor districts and the case status, use some of the tools you have learned to determine the supervisor district with the largest total proportion of open cases. \n",
    "\n",
    "1. Create the table `sf311_district_prop_open` using the `group` method and the `np.average` function that has two columns, `'supervisor_district'` and `'Proportion Open'` showing the proportion of open cases for each district.\n",
    "2. Assign `district_with_largest_prop_open` to the district number (`str`) with the largest proportion of open cases."
   ]
  },
  {
   "cell_type": "code",
   "execution_count": null,
   "metadata": {
    "tags": []
   },
   "outputs": [],
   "source": [
    "sf311_district_prop_open = ...\n",
    "district_with_largest_prop_open = ...\n",
    "district_with_largest_prop_open"
   ]
  },
  {
   "cell_type": "code",
   "execution_count": null,
   "metadata": {
    "deletable": false,
    "editable": false
   },
   "outputs": [],
   "source": [
    "grader.check(\"task_05\")"
   ]
  },
  {
   "cell_type": "markdown",
   "metadata": {},
   "source": [
    "Next, focus on the closed 311 cases. That information has been in a table named `sf311_closed`."
   ]
  },
  {
   "cell_type": "code",
   "execution_count": null,
   "metadata": {},
   "outputs": [],
   "source": [
    "sf311_closed = sf311.where('status_description', 'Closed').drop('status_description')\n",
    "sf311_closed"
   ]
  },
  {
   "cell_type": "markdown",
   "metadata": {},
   "source": [
    "### Datetime Data"
   ]
  },
  {
   "cell_type": "markdown",
   "metadata": {},
   "source": [
    "The data in the `'requested_datetime'` and '`closed_date'` columns of `sf311_closed` are in format that you might not be familiar with, but it (ISO format) is a standard format. Python has tools to work with that data, and the related module for that are curious is called [`datetime`](https://docs.python.org/3/library/datetime.html). \n",
    "\n",
    "**You will not be tested on the information in the `datetime` module.**\n",
    "\n",
    "The following function returns the number of seconds it took for SF311 to close each 311 case in the data set."
   ]
  },
  {
   "cell_type": "code",
   "execution_count": null,
   "metadata": {},
   "outputs": [],
   "source": [
    "def completion_time(requested_datetime, closed_date):\n",
    "    '''Returns the amount of time (in seconds) from the requested date to the closed date for the 311 case.'''\n",
    "    from datetime import datetime\n",
    "    time_delta = datetime.fromisoformat(closed_date) - datetime.fromisoformat(requested_datetime)\n",
    "    return time_delta.seconds"
   ]
  },
  {
   "cell_type": "markdown",
   "metadata": {},
   "source": [
    "The following code shows you how the function was used to determine that first case listed in `sf311_closed` took 1,200 seconds to close."
   ]
  },
  {
   "cell_type": "code",
   "execution_count": null,
   "metadata": {},
   "outputs": [],
   "source": [
    "completion_time('2023-02-27T23:48:00.000', '2023-02-28T00:08:00.000')"
   ]
  },
  {
   "cell_type": "markdown",
   "metadata": {
    "tags": []
   },
   "source": [
    "### Task 06 📍"
   ]
  },
  {
   "cell_type": "markdown",
   "metadata": {},
   "source": [
    "Use the `completion_time` function to update the `sf311_closed` table with an additional column `'Completion Time'` that contains the time (in seconds) it took for the case to be closed."
   ]
  },
  {
   "cell_type": "code",
   "execution_count": null,
   "metadata": {
    "tags": []
   },
   "outputs": [],
   "source": [
    "completion_times = ...\n",
    "sf311_closed = ...\n",
    "sf311_closed"
   ]
  },
  {
   "cell_type": "code",
   "execution_count": null,
   "metadata": {
    "deletable": false,
    "editable": false
   },
   "outputs": [],
   "source": [
    "grader.check(\"task_06\")"
   ]
  },
  {
   "cell_type": "markdown",
   "metadata": {},
   "source": [
    "### Task 07 📍🔎"
   ]
  },
  {
   "cell_type": "markdown",
   "metadata": {},
   "source": [
    "<!-- BEGIN QUESTION -->\n",
    "\n",
    "Create a histogram showing the distribution of case completion times. Use the `unit='second'` parameter. Check with a classmate, the instructor, or a tutor to see if your visualization looks good."
   ]
  },
  {
   "cell_type": "markdown",
   "metadata": {},
   "source": [
    "_Type your answer here, replacing this text._"
   ]
  },
  {
   "cell_type": "code",
   "execution_count": null,
   "metadata": {
    "tags": []
   },
   "outputs": [],
   "source": [
    "...\n",
    "\n",
    "# Leave the following code to show the plot title.\n",
    "plots.title('311 Case Completion Times')\n",
    "plots.show()"
   ]
  },
  {
   "cell_type": "markdown",
   "metadata": {
    "tags": []
   },
   "source": [
    "<!-- END QUESTION -->\n",
    "\n",
    "### Task 08 📍"
   ]
  },
  {
   "cell_type": "markdown",
   "metadata": {},
   "source": [
    "Assign `completion_time_hist_description` to one of the following strings that best describes the histogram: `'skewed_left'`, `'skewed_right'`, '`neither_skewed_left_or_skewed_right'`."
   ]
  },
  {
   "cell_type": "code",
   "execution_count": null,
   "metadata": {
    "tags": []
   },
   "outputs": [],
   "source": [
    "completion_time_hist_description = ...\n",
    "completion_time_hist_description"
   ]
  },
  {
   "cell_type": "code",
   "execution_count": null,
   "metadata": {
    "deletable": false,
    "editable": false
   },
   "outputs": [],
   "source": [
    "grader.check(\"task_08\")"
   ]
  },
  {
   "cell_type": "markdown",
   "metadata": {
    "tags": []
   },
   "source": [
    "### Task 09 📍"
   ]
  },
  {
   "cell_type": "markdown",
   "metadata": {},
   "source": [
    "The following table shows you the number of 311 cases within each bar of the above histogram. For example, there are 43 data values included in the bin cover the completion times from 3034 seconds up to, but not including, 6027 seconds."
   ]
  },
  {
   "cell_type": "code",
   "execution_count": null,
   "metadata": {},
   "outputs": [],
   "source": [
    "sf311_closed.bin('Completion Time').show()"
   ]
  },
  {
   "cell_type": "markdown",
   "metadata": {},
   "source": [
    "Suppose that the bins were created such that there was a bin $[3034, 9020)$ that combined the information from $[3034, 6027)$ and $[6027, 9020)$. Assign the height that wider bar to the name `wide_bar_height`. Make sure to use the intermediate variables to guide your calculation."
   ]
  },
  {
   "cell_type": "code",
   "execution_count": null,
   "metadata": {
    "tags": []
   },
   "outputs": [],
   "source": [
    "percent_of_data_in_wide_bin = ...\n",
    "wide_bar_height = ...\n",
    "wide_bar_height"
   ]
  },
  {
   "cell_type": "code",
   "execution_count": null,
   "metadata": {
    "deletable": false,
    "editable": false
   },
   "outputs": [],
   "source": [
    "grader.check(\"task_09\")"
   ]
  },
  {
   "cell_type": "markdown",
   "metadata": {},
   "source": [
    "### Task 10 📍🔎"
   ]
  },
  {
   "cell_type": "markdown",
   "metadata": {},
   "source": [
    "<!-- BEGIN QUESTION -->\n",
    "\n",
    "Early you created the table `sf311_district_prop_open` that contained the proportion of open 311 cases for each district. Now, you have the table `average_completion_time_by_district` that contains the average completion time for a 311 case for each district.\n",
    "\n",
    "1. Create a visualization to explore whether or not there is a strong association between these two variables. \n",
    "2. Provide a sentence with your interpretation of the scatter plot in terms of whether or not it provides visual evidence of a strong association between the proportion of open cases in a district and the average case completion time in that district.\n",
    "\n",
    "Check with a classmate, the instructor, or a tutor to see if your visualization and interpretation look good.\n"
   ]
  },
  {
   "cell_type": "markdown",
   "metadata": {},
   "source": [
    "_Type your answer here, replacing this text._"
   ]
  },
  {
   "cell_type": "code",
   "execution_count": null,
   "metadata": {
    "tags": []
   },
   "outputs": [],
   "source": [
    "..."
   ]
  },
  {
   "cell_type": "markdown",
   "metadata": {},
   "source": [
    "<!-- END QUESTION -->\n",
    "\n",
    "Great work so far! There is a lot to analyze in this data set. If you pay taxes in San Francisco, I encourage you to dig deeper into this data set since you pay for this service and data! For now, make sure to submit your work. "
   ]
  },
  {
   "cell_type": "markdown",
   "metadata": {},
   "source": [
    "## Submit your Lab to Canvas\n",
    "\n",
    "Once you have finished working on the lab questions, prepare to submit your work in Canvas by completing the following steps.\n",
    "\n",
    "1. In the related Canvas Assignment page, check the requirements for a Complete score for this lab assignments.\n",
    "2. Double-check that you have run the code cell near the end of the notebook that contains the command `\"grader.check_all()\"`. This command will run all of the run tests on all your responses to the auto-graded tasks marked with 📍.\n",
    "3. Double-check your responses to the manually graded tasks marked with 📍🔎.\n",
    "4. Select the menu items \"File\", \"Save and Export Notebook As...\", and \"HTML (.html)\" in the notebook's Toolbar to download an HTML version of this notebook file.\n",
    "5. In the related Canvas Assignment page, click Start Assignment or New Attempt to upload the downloaded HTML file."
   ]
  },
  {
   "cell_type": "markdown",
   "metadata": {
    "deletable": false,
    "editable": false
   },
   "source": [
    "---\n",
    "\n",
    "To double-check your work, the cell below will rerun all of the autograder tests."
   ]
  },
  {
   "cell_type": "code",
   "execution_count": null,
   "metadata": {
    "deletable": false,
    "editable": false
   },
   "outputs": [],
   "source": [
    "grader.check_all()"
   ]
  }
 ],
 "metadata": {
  "anaconda-cloud": {},
  "hide_input": false,
  "kernelspec": {
   "display_name": "Python 3 (ipykernel)",
   "language": "python",
   "name": "python3"
  },
  "language_info": {
   "codemirror_mode": {
    "name": "ipython",
    "version": 3
   },
   "file_extension": ".py",
   "mimetype": "text/x-python",
   "name": "python",
   "nbconvert_exporter": "python",
   "pygments_lexer": "ipython3",
   "version": "3.10.9"
  },
  "otter": {
   "OK_FORMAT": true,
   "assignment_name": "lab05_sp23",
   "tests": {
    "task_01": {
     "name": "task_01",
     "points": null,
     "suites": [
      {
       "cases": [
        {
         "code": ">>> \n>>> isinstance(sf311_coded_status, Table)\nTrue",
         "failure_message": "❌ sf311_coded_status should be a Table. Make sure you are using the join method.",
         "hidden": false,
         "locked": false,
         "points": 1,
         "success_message": "✅ sf311_coded_status is a Table."
        },
        {
         "code": ">>> \n>>> (sf311_coded_status.labels) == ('status_code', \n...                                 'requested_datetime',\n...                                 'closed_date',\n...                                 'service_name',\n...                                 'supervisor_district')\nTrue",
         "failure_message": "❌ sf311_coded_status should have exactly the same labels and in the same ordered mentioned. You might need to drop the 'status_description' column or reorder the columns.",
         "hidden": false,
         "locked": false,
         "points": 1,
         "success_message": "✅ sf311_coded_status has the correct labels that are in the correct order."
        },
        {
         "code": ">>> \n>>> print(sf311_coded_status.sort('requested_datetime'))\nstatus_code | requested_datetime      | closed_date             | service_name                 | supervisor_district\n0           | 2023-02-27T13:46:00.000 | 2023-02-27T19:21:47.000 | Parking Enforcement          | 6\n1           | 2023-02-27T13:46:00.000 | nan                     | Rec and Park Requests        | 5\n1           | 2023-02-27T13:46:37.000 | nan                     | Sign Repair                  | 4\n1           | 2023-02-27T13:46:53.000 | nan                     | Sewer Issues                 | 1\n0           | 2023-02-27T13:47:00.000 | 2023-02-27T14:08:33.000 | Parking Enforcement          | 6\n1           | 2023-02-27T13:47:39.000 | nan                     | Streetlights                 | 4\n0           | 2023-02-27T13:47:52.000 | 2023-02-27T16:49:49.000 | Sewer Issues                 | 4\n1           | 2023-02-27T13:47:55.000 | nan                     | Sign Repair                  | 5\n1           | 2023-02-27T13:48:25.000 | nan                     | Sign Repair                  | 5\n0           | 2023-02-27T13:48:59.000 | 2023-02-27T19:45:36.000 | Street and Sidewalk Cleaning | 10\n... (979 rows omitted)\n",
         "failure_message": "❌ sf311_coded_status doesn't seem correct. Double check with someone about how you are using the join method.",
         "hidden": false,
         "locked": false,
         "points": 1,
         "success_message": "✅ sf311_coded_status seems to be correct."
        }
       ],
       "scored": true,
       "setup": "",
       "teardown": "",
       "type": "doctest"
      }
     ]
    },
    "task_02": {
     "name": "task_02",
     "points": null,
     "suites": [
      {
       "cases": [
        {
         "code": ">>> \n>>> isinstance(sf311_by_service, Table)\nTrue",
         "failure_message": "❌ sf311_by_service should be a Table. Use sf311.group() to complete this task.",
         "hidden": false,
         "locked": false,
         "points": 1,
         "success_message": "✅ sf311_by_service is a Table"
        },
        {
         "code": ">>> \n>>> sf311_by_service.num_rows == 28\nTrue",
         "failure_message": "❌ sf311_by_service should have 28 rows. Make sure to group by the service_name column in the sf311 table.",
         "hidden": false,
         "locked": false,
         "points": 1,
         "success_message": "✅ sf311_by_service should have 28 rows"
        },
        {
         "code": ">>> \n>>> set(sf311_by_service.labels) == {'service_name', 'count'}\nTrue",
         "failure_message": "❌ sf311_by_service should have a 'service_name' column and a 'count' column. Make sure to group by the service_name column in the sf311 table.",
         "hidden": false,
         "locked": false,
         "points": 1,
         "success_message": "✅ sf311_by_service has the correct column labels."
        }
       ],
       "scored": true,
       "setup": "",
       "teardown": "",
       "type": "doctest"
      }
     ]
    },
    "task_04": {
     "name": "task_04",
     "points": null,
     "suites": [
      {
       "cases": [
        {
         "code": ">>> \n>>> sf311_coded_status_relabled.num_columns == 3\nTrue",
         "failure_message": "❌ sf311_coded_status_relabled doesn't seem to have 3 columns. Make sure you selected the columns above.",
         "hidden": false,
         "locked": false,
         "points": 1,
         "success_message": "✅ sf311_coded_status_relabled has 3 columns"
        },
        {
         "code": ">>> \n>>> np.isclose(sum(sf311_coded_status_relabled.drop('service_name', 'supervisor_district').column(0)), 127.53924096391582)\nTrue",
         "failure_message": "❌ sf311_coded_status_relabled doesn't to contain the correct proportion of open cases for each service name and district combinations. Make sure you are using the np.average function with group method.",
         "hidden": false,
         "locked": false,
         "points": 1,
         "success_message": "✅ sf311_coded_status_relabled seems to contain the correct proportion of open cases for each service name and district combinations."
        },
        {
         "code": ">>> \n>>> 'proportion_open' in sf311_coded_status_relabled.labels\nTrue",
         "failure_message": "❌ sf311_coded_status_relabled doesn't seem to have a column labeled 'proportion_open'. Make sure to relabeled 'status_code average'.",
         "hidden": false,
         "locked": false,
         "points": 1,
         "success_message": "✅ sf311_coded_status_relabled has a column labeled 'proportion_open'"
        },
        {
         "code": ">>> \n>>> sf311_coded_status_relabled.where('service_name', 'Encampments').where('supervisor_district', '2').column('proportion_open').item(0) == 0.875\nTrue",
         "failure_message": "❌ The value we checked in sf311_coded_status_relabled doesn't seem correct.",
         "hidden": false,
         "locked": false,
         "points": 1,
         "success_message": "✅ The value we checked in sf311_coded_status_relabled seems correct."
        }
       ],
       "scored": true,
       "setup": "",
       "teardown": "",
       "type": "doctest"
      }
     ]
    },
    "task_05": {
     "name": "task_05",
     "points": null,
     "suites": [
      {
       "cases": [
        {
         "code": ">>> \n>>> 'Proportion Open' in sf311_district_prop_open.labels\nTrue",
         "failure_message": "❌ sf311_district_prop_open should contain a column called 'Proportion Open'. You will probably need to relabel a column in your sf311_district_prop_open table.",
         "hidden": false,
         "locked": false,
         "points": 1,
         "success_message": "✅ sf311_district_prop_open contains a column called 'Proportion Open'."
        },
        {
         "code": ">>> \n>>> np.isclose(np.sum(sf311_district_prop_open.column('Proportion Open')), 7.7674900296331648)\nTrue",
         "failure_message": "❌ sf311_district_prop_open doesn't seem to contain the correct proportions of open cases. Check with someone to check your thought process.",
         "hidden": false,
         "locked": false,
         "points": 1,
         "success_message": "✅ sf311_district_prop_open seems to contain the correct proportions of open cases."
        },
        {
         "code": ">>> \n>>> isinstance(district_with_largest_prop_open, str)\nTrue",
         "failure_message": "❌ district_with_largest_prop_open should represent a string.",
         "hidden": false,
         "locked": false,
         "points": 1,
         "success_message": "✅ district_with_largest_prop_open represents a string."
        },
        {
         "code": ">>> \n>>> district_with_largest_prop_open == '7'\nTrue",
         "failure_message": "❌ You haven't correctly identified the district with the largest proportion of open 311 cases.",
         "hidden": false,
         "locked": false,
         "points": 1,
         "success_message": "✅ You have correctly identified the district with the largest proportion of open 311 cases."
        }
       ],
       "scored": true,
       "setup": "",
       "teardown": "",
       "type": "doctest"
      }
     ]
    },
    "task_06": {
     "name": "task_06",
     "points": null,
     "suites": [
      {
       "cases": [
        {
         "code": ">>> \n>>> sf311_closed.num_columns == 5 and 'Completion Time' in sf311_closed.labels\nTrue",
         "failure_message": "❌ sf311_closed should have 5 columns, including 'Completion Time'. You can use the with_column method to add a column to an extisting table.",
         "hidden": false,
         "locked": false,
         "points": 1,
         "success_message": "✅ sf311_closed has 5 columns, include 'Completion Time'"
        },
        {
         "code": ">>> \n>>> np.sum(sf311_closed.column('Completion Time')) == 2413824\nTrue",
         "failure_message": "❌ The time to time_to_complete values don't seem correct. Did you use the apply method with the completion_time function? Make sure you have the column labels in the correct order with the apply method.",
         "hidden": false,
         "locked": false,
         "points": 1,
         "success_message": "✅ The time_to_complete values seem correct'"
        }
       ],
       "scored": true,
       "setup": "",
       "teardown": "",
       "type": "doctest"
      }
     ]
    },
    "task_08": {
     "name": "task_08",
     "points": null,
     "suites": [
      {
       "cases": [
        {
         "code": ">>> \n>>> completion_time_hist_description == 'skewed_right'\nTrue",
         "failure_message": "❌ Since the histogram tapers off to the right, this histogram could be generally desribed as oen that is skewed right.",
         "hidden": false,
         "locked": false,
         "points": 1,
         "success_message": "✅ Since the histogram tapers off to the right, this histogram could be generally desribed as oen that is skewed right."
        }
       ],
       "scored": true,
       "setup": "",
       "teardown": "",
       "type": "doctest"
      }
     ]
    },
    "task_09": {
     "name": "task_09",
     "points": null,
     "suites": [
      {
       "cases": [
        {
         "code": ">>> \n>>> 0 <= percent_of_data_in_wide_bin <= 100 and np.round(percent_of_data_in_wide_bin, 3) != 0.261\nTrue",
         "failure_message": "❌ percent_of_data_in_wide_bin should reflect a percentage (between 0 and 100). Make sure you are calculating the number of cases included in the new bin divdied by the total number of cases. Also, don't foget to conver the proportion to a percentage value.",
         "hidden": false,
         "locked": false,
         "points": 1,
         "success_message": "✅ percent_of_data_in_wide_bin seems to reflect the correct percentage."
        },
        {
         "code": ">>> \n>>> np.isclose(2 ** wide_bar_height, 1.0030271553154249)\nTrue",
         "failure_message": "❌ Your value for wide_bar_height doesn't seem correct. Make sure you are divding the percentage of the data in the new bin by the width of the new bin.",
         "hidden": false,
         "locked": false,
         "points": 1,
         "success_message": "✅ It seems that you have the corret value for wide_bar_height."
        }
       ],
       "scored": true,
       "setup": "",
       "teardown": "",
       "type": "doctest"
      }
     ]
    }
   }
  },
  "widgets": {
   "application/vnd.jupyter.widget-state+json": {
    "state": {
     "09bc9d68c03a43b9be15a8324740376f": {
      "model_module": "@jupyter-widgets/base",
      "model_module_version": "1.2.0",
      "model_name": "LayoutModel",
      "state": {
       "_model_module": "@jupyter-widgets/base",
       "_model_module_version": "1.2.0",
       "_model_name": "LayoutModel",
       "_view_count": null,
       "_view_module": "@jupyter-widgets/base",
       "_view_module_version": "1.2.0",
       "_view_name": "LayoutView",
       "align_content": null,
       "align_items": null,
       "align_self": null,
       "border": null,
       "bottom": null,
       "display": null,
       "flex": null,
       "flex_flow": null,
       "grid_area": null,
       "grid_auto_columns": null,
       "grid_auto_flow": null,
       "grid_auto_rows": null,
       "grid_column": null,
       "grid_gap": null,
       "grid_row": null,
       "grid_template_areas": null,
       "grid_template_columns": null,
       "grid_template_rows": null,
       "height": null,
       "justify_content": null,
       "justify_items": null,
       "left": null,
       "margin": null,
       "max_height": null,
       "max_width": null,
       "min_height": null,
       "min_width": null,
       "object_fit": null,
       "object_position": null,
       "order": null,
       "overflow": null,
       "overflow_x": null,
       "overflow_y": null,
       "padding": null,
       "right": null,
       "top": null,
       "visibility": null,
       "width": null
      }
     },
     "0c08103621b64f7980354cf4d5b35bd9": {
      "model_module": "@jupyter-widgets/controls",
      "model_module_version": "1.5.0",
      "model_name": "VBoxModel",
      "state": {
       "_dom_classes": [
        "widget-interact"
       ],
       "_model_module": "@jupyter-widgets/controls",
       "_model_module_version": "1.5.0",
       "_model_name": "VBoxModel",
       "_view_count": null,
       "_view_module": "@jupyter-widgets/controls",
       "_view_module_version": "1.5.0",
       "_view_name": "VBoxView",
       "box_style": "",
       "children": [
        "IPY_MODEL_17bf521d460d4e2a85d594901df29dfe",
        "IPY_MODEL_4a65e1fe65de45f795ad0ce01e91b987"
       ],
       "layout": "IPY_MODEL_2d7addb2c8d940348b82591bdb8502b4"
      }
     },
     "17bf521d460d4e2a85d594901df29dfe": {
      "model_module": "@jupyter-widgets/controls",
      "model_module_version": "1.5.0",
      "model_name": "DropdownModel",
      "state": {
       "_dom_classes": [],
       "_model_module": "@jupyter-widgets/controls",
       "_model_module_version": "1.5.0",
       "_model_name": "DropdownModel",
       "_options_labels": [
        "1",
        "2",
        "3",
        "4",
        "5",
        "6",
        "7",
        "8",
        "9"
       ],
       "_view_count": null,
       "_view_module": "@jupyter-widgets/controls",
       "_view_module_version": "1.5.0",
       "_view_name": "DropdownView",
       "description": "k",
       "description_tooltip": null,
       "disabled": false,
       "index": 0,
       "layout": "IPY_MODEL_09bc9d68c03a43b9be15a8324740376f",
       "style": "IPY_MODEL_5620b6e432954a8895060924181a941f"
      }
     },
     "2d7addb2c8d940348b82591bdb8502b4": {
      "model_module": "@jupyter-widgets/base",
      "model_module_version": "1.2.0",
      "model_name": "LayoutModel",
      "state": {
       "_model_module": "@jupyter-widgets/base",
       "_model_module_version": "1.2.0",
       "_model_name": "LayoutModel",
       "_view_count": null,
       "_view_module": "@jupyter-widgets/base",
       "_view_module_version": "1.2.0",
       "_view_name": "LayoutView",
       "align_content": null,
       "align_items": null,
       "align_self": null,
       "border": null,
       "bottom": null,
       "display": null,
       "flex": null,
       "flex_flow": null,
       "grid_area": null,
       "grid_auto_columns": null,
       "grid_auto_flow": null,
       "grid_auto_rows": null,
       "grid_column": null,
       "grid_gap": null,
       "grid_row": null,
       "grid_template_areas": null,
       "grid_template_columns": null,
       "grid_template_rows": null,
       "height": null,
       "justify_content": null,
       "justify_items": null,
       "left": null,
       "margin": null,
       "max_height": null,
       "max_width": null,
       "min_height": null,
       "min_width": null,
       "object_fit": null,
       "object_position": null,
       "order": null,
       "overflow": null,
       "overflow_x": null,
       "overflow_y": null,
       "padding": null,
       "right": null,
       "top": null,
       "visibility": null,
       "width": null
      }
     },
     "4a65e1fe65de45f795ad0ce01e91b987": {
      "model_module": "@jupyter-widgets/output",
      "model_module_version": "1.0.0",
      "model_name": "OutputModel",
      "state": {
       "_dom_classes": [],
       "_model_module": "@jupyter-widgets/output",
       "_model_module_version": "1.0.0",
       "_model_name": "OutputModel",
       "_view_count": null,
       "_view_module": "@jupyter-widgets/output",
       "_view_module_version": "1.0.0",
       "_view_name": "OutputView",
       "layout": "IPY_MODEL_83e169e74a9248a8a62a5aabf5d019d4",
       "msg_id": "",
       "outputs": [
        {
         "name": "stdout",
         "output_type": "stream",
         "text": "Year number 1 for total gross movie sales was: 2015\n"
        }
       ]
      }
     },
     "5620b6e432954a8895060924181a941f": {
      "model_module": "@jupyter-widgets/controls",
      "model_module_version": "1.5.0",
      "model_name": "DescriptionStyleModel",
      "state": {
       "_model_module": "@jupyter-widgets/controls",
       "_model_module_version": "1.5.0",
       "_model_name": "DescriptionStyleModel",
       "_view_count": null,
       "_view_module": "@jupyter-widgets/base",
       "_view_module_version": "1.2.0",
       "_view_name": "StyleView",
       "description_width": ""
      }
     },
     "83e169e74a9248a8a62a5aabf5d019d4": {
      "model_module": "@jupyter-widgets/base",
      "model_module_version": "1.2.0",
      "model_name": "LayoutModel",
      "state": {
       "_model_module": "@jupyter-widgets/base",
       "_model_module_version": "1.2.0",
       "_model_name": "LayoutModel",
       "_view_count": null,
       "_view_module": "@jupyter-widgets/base",
       "_view_module_version": "1.2.0",
       "_view_name": "LayoutView",
       "align_content": null,
       "align_items": null,
       "align_self": null,
       "border": null,
       "bottom": null,
       "display": null,
       "flex": null,
       "flex_flow": null,
       "grid_area": null,
       "grid_auto_columns": null,
       "grid_auto_flow": null,
       "grid_auto_rows": null,
       "grid_column": null,
       "grid_gap": null,
       "grid_row": null,
       "grid_template_areas": null,
       "grid_template_columns": null,
       "grid_template_rows": null,
       "height": null,
       "justify_content": null,
       "justify_items": null,
       "left": null,
       "margin": null,
       "max_height": null,
       "max_width": null,
       "min_height": null,
       "min_width": null,
       "object_fit": null,
       "object_position": null,
       "order": null,
       "overflow": null,
       "overflow_x": null,
       "overflow_y": null,
       "padding": null,
       "right": null,
       "top": null,
       "visibility": null,
       "width": null
      }
     }
    },
    "version_major": 2,
    "version_minor": 0
   }
  }
 },
 "nbformat": 4,
 "nbformat_minor": 4
}
