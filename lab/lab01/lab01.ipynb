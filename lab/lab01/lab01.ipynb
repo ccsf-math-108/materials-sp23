{
 "cells": [
  {
   "cell_type": "markdown",
   "id": "2bc3a2b1",
   "metadata": {
    "tags": []
   },
   "source": [
    "<img style=\"display: block; margin-left: auto; margin-right: auto\" src=\"./ccsf-logo.png\" width=\"250rem;\" alt=\"The CCSF black and white logo\">"
   ]
  },
  {
   "cell_type": "markdown",
   "id": "8f3ba4ae",
   "metadata": {
    "tags": []
   },
   "source": [
    "<div style=\"text-align: center;\">\n",
    "    <h1>Lab 01 - Expressions</h1>\n",
    "    <em>View the related <a href=\"https://ccsf.instructure.com\" target=\"_blank\">Canvas</a> Assignment page for additional details.</em>\n",
    "</div>"
   ]
  },
  {
   "cell_type": "markdown",
   "id": "48055c5a",
   "metadata": {},
   "source": [
    "## Welcome 🎉"
   ]
  },
  {
   "cell_type": "markdown",
   "id": "78bfde60",
   "metadata": {},
   "source": [
    "Welcome to your first Foundations of Data Science lab assignment! In almost every week, you will complete a lab assignment like this one. Most people cannot learn technical subjects without hands-on practice, so labs are an important part of the course! You will make mistakes as you complete the assignments in this course and that is okay! We are here to support you as you learn from those mistakes."
   ]
  },
  {
   "cell_type": "markdown",
   "id": "14e9f2fe",
   "metadata": {},
   "source": [
    "## References"
   ]
  },
  {
   "cell_type": "markdown",
   "id": "ea697a22",
   "metadata": {},
   "source": [
    "_You were **not** expected to engage with any of the following reference material before this lab. For the most part, the last 3 references are for students that plan to continue using Python beyond this course._\n",
    "\n",
    "* [Sections 3.0 - 3.3 of the Course Textbook](https://inferentialthinking.com/chapters/03/programming-in-python.html) - A reference for the last part of the assignment\n",
    "* [Jupyterlab Documentation](https://jupyterlab.readthedocs.io/) - A reference for the JupyterLab notebook interface. We've configured assignments to open in the [Simple Interface mode](https://jupyterlab.readthedocs.io/en/stable/user/interface.html#tabs-and-simple-interface-mode) to reduce the number of features present.\n",
    "* [Markdown Cheat Sheet](https://www.markdownguide.org/cheat-sheet/) - For formatting text in these notebooks\n",
    "* [The Zen of Python](https://peps.python.org/pep-0020) - Guiding principles for writing Python code\n",
    "* [PEP 8 Style Guide](https://peps.python.org/pep-0008) - A standard for formatting Python code\n",
    "* [Python 3.10 Documentation](https://docs.python.org/3.10/) - Official Python documentation (not written for newcomers to coding)."
   ]
  },
  {
   "cell_type": "markdown",
   "id": "be31dc5d",
   "metadata": {
    "tags": []
   },
   "source": [
    "## Jupyter Notebooks"
   ]
  },
  {
   "cell_type": "markdown",
   "id": "76904de0",
   "metadata": {
    "tags": []
   },
   "source": [
    "<img style=\"display: block; margin-left: auto; margin-right: auto\" src=\"jupyter-main-logo.svg\" alt=\"Jupyter's main logo\" width=\"100rem;\">\n",
    "\n",
    "This web application is called a Jupyter notebook and is part of [Project Jupyter](https://jupyter.org/). A notebook is a place to host share explanatory content intended for humans usually in association with computational programs and their results. This notebook format supports reproducible computational research where anyone with access to the notebook and the relevant data will more than likely be able to reproduce the work done by the original researchers. Reproducibility is part of the backbone of modern scientific research. Notebook files on a computer end in `.ipynb`. This file extension is a reference to the IPython programming environment developed by [Fernando Pérez](https://en.wikipedia.org/wiki/Fernando_P%C3%A9rez_(software_developer)). You'll notice that these notebooks can be edited and run on several different platforms such as the [CCSF JupyterHub](https://ccsf.cloudbank.2i2c.cloud/), [Google Colab](colab.research.google.com), [VS Code](https://code.visualstudio.com/), etc. The different platforms allow you to interact with the notebooks in slightly different ways, but the main components of a notebook typically persist through those differences.\n",
    "\n",
    "<img style=\"display: block; margin-left: auto; margin-right: auto\" src=\"otter-logo-smaller.png\" alt=\"Otter-Grader's logo\" width=\"100rem;\">\n",
    "\n",
    "We will utilize notebooks for lecture demonstrations and assignments such as this one. Typically, you will need to provide explanatory content or code for the associated **Tasks** throughout the notebook. To assist in grading your work, we will use an auto-grading tool called [Otter-Grader](https://otter-grader.readthedocs.io/en/latest). You'll learn about that grader later in this assignment. Let's get started by exploring the various types of cells you will work with in this course."
   ]
  },
  {
   "cell_type": "markdown",
   "id": "a9be2382",
   "metadata": {},
   "source": [
    "## Cells"
   ]
  },
  {
   "cell_type": "markdown",
   "id": "00d18109",
   "metadata": {},
   "source": [
    "From our point of view, notebooks consist of building blocks called cells. If you navigate through the document, you'll notice that the various cells are outlined by a rectangle. In terms of the basics of cells, you will work with Markdown cells and code cells."
   ]
  },
  {
   "cell_type": "markdown",
   "id": "ddedfd3a",
   "metadata": {},
   "source": [
    "### Markdown Cells"
   ]
  },
  {
   "cell_type": "markdown",
   "id": "76bbc280",
   "metadata": {},
   "source": [
    "Markdown cells are typically where you will find the content intended for the explanatory material. There could be text, images, etc. in these cells to explain what is going on in the notebook and in the code cells. The text in these cells are formatted with a language called Markdown. You don't need to learn all the details of Markdown, but you might find it helpful to go through the tutorial on [markdowntutorial.com](https://www.markdowntutorial.com/) or reference the [Markdown Cheat Sheet](https://www.markdownguide.org/cheat-sheet/). \n",
    "\n",
    "* If you double-click a Markdown cell, then you'll be able to see how it was formatted. Sometimes we lock the Markdown cells in these notebooks, so you won't accidentally modify our explanatory content or instructions. You should have no program editing cells that you create or cells that are associated with the assignment tasks.\n",
    "* To return back to the formatted version of the cell, select the ▶ button on the toolbar."
   ]
  },
  {
   "cell_type": "markdown",
   "id": "c090ad3a",
   "metadata": {},
   "source": [
    "#### Task 01 📍🔎"
   ]
  },
  {
   "cell_type": "markdown",
   "id": "cebc93b2",
   "metadata": {
    "jp-MarkdownHeadingCollapsed": true,
    "tags": []
   },
   "source": [
    "<!-- BEGIN QUESTION -->\n",
    "\n",
    "For your first task, edit the following Markdown cell and replace the text `_Type your answer here, replacing this text._`, with your name and a song, movie, book, etc. that you have been enjoying recently. \n",
    "\n",
    "If you want to practice using Markdown, try to format your response as an unordered list with your name in **bold** and the name of the song, movie, book, etc. in _italics_. If you need to, review the [Markdown Cheat Sheet](https://www.markdownguide.org/cheat-sheet/)."
   ]
  },
  {
   "cell_type": "markdown",
   "id": "1f345ef5",
   "metadata": {},
   "source": [
    "_Type your answer here, replacing this text._"
   ]
  },
  {
   "cell_type": "markdown",
   "id": "776df723",
   "metadata": {},
   "source": [
    "<!-- END QUESTION -->\n",
    "\n",
    "### Code Cells"
   ]
  },
  {
   "cell_type": "markdown",
   "id": "4f147058",
   "metadata": {},
   "source": [
    "Code cells host text associated with some programming language. We will utilize the Python 3 programming language in this course, and you will learn some of the basics of that language throughout the semester. The following cell is a Code cell. You'll notice that Code cells have a different structure than Markdown cells. You can run the Code cell by selecting it and pressing the ▶ button.\n",
    "\n",
    "As you progress, you'll want to familiarize yourself with a few shortcuts rather than selecting the buttons. For example, to run a Code cell, you can hold down <kbd>Shift</kbd> and press <kbd>Return/Enter</kbd>."
   ]
  },
  {
   "cell_type": "code",
   "execution_count": null,
   "id": "12445fef",
   "metadata": {},
   "outputs": [],
   "source": [
    "print(\"Hello, World!\")"
   ]
  },
  {
   "cell_type": "markdown",
   "id": "5ebfe95a",
   "metadata": {},
   "source": [
    "If you ran the above cell, you should notice that next to the Code cell is a set of square brackets with a number inside of it. \n",
    "* If a Code cell has not been run, then it will not contain a number `[ ]:`.\n",
    "* Depending on how long it takes for the code to run, you'll see an asterisk within the brackets while the code is running `[*]:`.\n",
    "* If it is the first cell to be executed in the notebook, then it will have a 1 in it `[1]:`. \n",
    "* The next cell (including the same cell) that is run will have a 2 within the brackets `[2]:`.\n",
    "* The numbers in the code cells provide us with the sequence in which the Code cells were run. It is important to know which cells have been executed because Code cells ran later in time might depend on Code cells previously executed."
   ]
  },
  {
   "cell_type": "markdown",
   "id": "27794339",
   "metadata": {},
   "source": [
    "#### Output"
   ]
  },
  {
   "cell_type": "markdown",
   "id": "75050b6e",
   "metadata": {},
   "source": [
    "Notice that once the above code cell was run, `Hello, World!` appeared below the Code cell as output. The output of a code cell contain images, data tables, etc. produced by the output from running the Python commands."
   ]
  },
  {
   "cell_type": "markdown",
   "id": "c382c6e4",
   "metadata": {},
   "source": [
    "##### Task 02 📍"
   ]
  },
  {
   "cell_type": "markdown",
   "id": "799408c7",
   "metadata": {},
   "source": [
    "In most of the assignments, it will be easy for us to run some checks on your code to see if you are doing things correctly. That auto-grading is done with the help of the Otter-Grader library. Otter runs tests on your code that we create to see how you are doing. Sometimes these tests show you what we are testing for and what the results are, but there will be times when we run hidden tests after you submit your work to help grade for correctness. In most cases, the lab assignments do not have hidden tests, but the homework and project assignments do have hidden tests. For every assignment, you'll run a cell that initializes Otter. Usually, that Code cell will appear at the top of the notebook, but for this first assignment it is below.\n",
    "\n",
    "For this task:\n",
    "\n",
    "1. Run the following Code cell that starts with `# Initialize Otter`. Before you run the cell, Python doesn't understand what the word `grader` means, but after you run the cell, Python has an association of the name `grader` with the Otter grader and its configurations for this assignment.\n",
    "2. Run the grader.check(\"task_02\") cell. \n",
    "\n",
    "You should see that there was one test performed and you passed. If you are having troubles, ask for help before moving on. For example, if you find the text `NameError: name 'grader' is not defined` as output and has been shaded red, then that means that you have not run the cell that initializes Otter. "
   ]
  },
  {
   "cell_type": "code",
   "execution_count": null,
   "id": "4bb5a867",
   "metadata": {
    "tags": []
   },
   "outputs": [],
   "source": [
    "# Initialize Otter\n",
    "import otter\n",
    "grader = otter.Notebook(\"lab01.ipynb\")"
   ]
  },
  {
   "cell_type": "code",
   "execution_count": null,
   "id": "22502962",
   "metadata": {
    "deletable": false,
    "editable": false
   },
   "outputs": [],
   "source": [
    "grader.check(\"task_02\")"
   ]
  },
  {
   "cell_type": "markdown",
   "id": "5a97e30d",
   "metadata": {},
   "source": [
    "### Adding Cells to Jupyter Notebooks"
   ]
  },
  {
   "cell_type": "markdown",
   "id": "ade222e1",
   "metadata": {},
   "source": [
    "So far, you have only edited the content of this notebook. There will be times when you want to add your own cells to notebooks. To add a cell, click the + button in the toolbar.  It'll start out as a Code cell.  In order to change the cell type:\n",
    "\n",
    "1. Click to the cell that you want to change the type of.\n",
    "2. Click the drop-down box in the toolbar and choose `Markdown`."
   ]
  },
  {
   "cell_type": "markdown",
   "id": "1e44131b",
   "metadata": {},
   "source": [
    "### Making Mistakes"
   ]
  },
  {
   "cell_type": "markdown",
   "id": "03d51816",
   "metadata": {},
   "source": [
    "Before you begin the next task, we want to remind you that you will make mistakes as you work with these notebooks. Consider the following three pieces of advice:\n",
    "\n",
    "1. If you find that you have just made a mistake, be careful of compounding the mistakes by trying to fix them. Instead, select `Edit` in the menu bar and select a relevant `Undo` option. You can undo changes made to notebook and to the individual cells.\n",
    "2. You can create checkpoints in your notebook's history by selecting `File` in the menu bar, then `Save`. You can revert to the last checkpoint by selecting `File` in the menu bar, followed by `Revert Notebook to Checkpoint`.\n",
    "3. If you feel that you just want to start your assignment over, then select `File` in the menu bar, followed by `Rename ...`. This keeps your work in your JupyterHub. After that, go back to Canvas and open the link to the notebook from the assignment page. This will create a new copy of the original notebook that we shared with you."
   ]
  },
  {
   "cell_type": "markdown",
   "id": "3cb61e01",
   "metadata": {},
   "source": [
    "### Task 03 📍🔎"
   ]
  },
  {
   "cell_type": "markdown",
   "id": "e6eea577",
   "metadata": {},
   "source": [
    "<!-- BEGIN QUESTION -->\n",
    "\n",
    "For this task,\n",
    "\n",
    "1. Add a code cell to the notebook and **position it below** this Markdown cell.\n",
    "2. Type `2 + 2` in the code cell and run it so that `4` appears in its associated output.\n",
    "3. Add a Markdown cell to the notebook and **position it above** the code cell you created.\n",
    "4. Type `I'm getting the hang of this! Here is some code:` in the Markdown cell that you added.\n",
    "\n",
    "You might need to ask for help when it comes to moving the cells around. Don't give up!"
   ]
  },
  {
   "cell_type": "markdown",
   "id": "31ec6b89",
   "metadata": {},
   "source": [
    "<!-- END QUESTION -->\n",
    "\n",
    "### Edit and Command Modes"
   ]
  },
  {
   "cell_type": "markdown",
   "id": "b6d04d39",
   "metadata": {},
   "source": [
    "Notebooks have two modes. In edit mode, you can edit text in cells. Command mode is used for navigating the notebook using keyboard shortcuts.\n",
    "\n",
    "- If the notebook is in command mode, press `enter` on the keyboard to change to edit mode.\n",
    "- If the notebook is in edit mode, press `esc` on the keyboard to change to command mode.\n",
    "\n",
    "It can be tricky at first understanding the difference between the two modes, but you will get the hang of it over time!"
   ]
  },
  {
   "cell_type": "markdown",
   "id": "8cc8f6e2",
   "metadata": {},
   "source": [
    "## Shortcuts"
   ]
  },
  {
   "cell_type": "markdown",
   "id": "97b4995d",
   "metadata": {},
   "source": [
    "After a few lessons, you will mind might end up moving quicker than you can edit the notebook. Learning a few shortcuts can help you speed up your editing process. You can find most of the notebook book shortcuts by selecting `Help` in the menu bar and clicking `Notebook Shortcuts`.\n",
    "\n",
    "A few of the most common shortcuts that we use are:\n",
    "\n",
    "1. Hold `shift` while pressing `return` on the keyboard: This shortcut runs the selected cell and moves to the next cell.\n",
    "2. While in command mode, pressing `b` on the keyboard will create a new cell below the selected cell.\n",
    "3. While in command mode, pressing `d` on the keyboard twice will delete the selected cell.\n",
    "4. While in command mode, pressing `m` on the keyboard turns the selected cell into a Markdown cell."
   ]
  },
  {
   "cell_type": "markdown",
   "id": "5f0fc7ca",
   "metadata": {},
   "source": [
    "## The Kernel"
   ]
  },
  {
   "cell_type": "markdown",
   "id": "9ac711ed",
   "metadata": {},
   "source": [
    "The kernel is a program that executes the code inside your notebook and outputs the results. We running a Python 3 kernel in this course. In the top right of your window, you can see a circle that indicates the status of your kernel. If the circle is empty (⚪), the kernel is idle and ready to execute code. If the circle is filled in (⚫), the kernel is busy running some code. \n",
    "\n",
    "As we described above, next to every code cell, you'll see some text that reads `[ ]:`. Before you run the cell, you'll see `[ ]:`. When the cell is running, you'll see `In [*]`. If you see an asterisk (\\*) next to a cell that doesn't go away, it's likely that the code inside the cell is taking too long to run, and it might be a good time to interrupt the kernel (discussed below). When a cell is finished running, you'll see a number inside the brackets, like so: `In [1]`. The number corresponds to the order in which you run the cells; so, the first cell you run will show a 1 when it's finished running, the second will show a 2, and so on. "
   ]
  },
  {
   "cell_type": "markdown",
   "id": "5ca3af04",
   "metadata": {},
   "source": [
    "### Restarting the Kernel"
   ]
  },
  {
   "cell_type": "markdown",
   "id": "235dd3d8",
   "metadata": {},
   "source": [
    "You may run into problems where your kernel is stuck for an excessive amount of time, your notebook is very slow and unresponsive, or your kernel loses its connection. If this happens, try the following steps:\n",
    "\n",
    "* At the top of your screen, click `Kernel` in the menu bar, then `Interrupt Kernel`.\n",
    "* If that doesn't help, click `Kernel` in the menu bar, then `Restart Kernel`. If you do this, you will have to run your code cells from the start of your notebook up until where you paused your work.\n",
    "* If that doesn't help, restart your server by completing the following tasks in order:\n",
    "    1. Save your work by clicking `File` in the menu bar, then `Save Notebook`. \n",
    "    2. Click `File` again, then`Hub Control Panel`. \n",
    "    3. Choose `Stop My Server` to shut it down, then `Start My Server` to start it back up.\n",
    "    4. Open the notebook using the link from the Canvas assignment. You'll still have to run your code cells again.\n",
    "    \n",
    "Note that if your notebook is inactive for a while, then the kernel will shutdown on its own and you will have to run your code cells from the start of your notebook up until where you paused your work."
   ]
  },
  {
   "cell_type": "markdown",
   "id": "ba6d4c26",
   "metadata": {},
   "source": [
    "### Running Many Cells Automatically"
   ]
  },
  {
   "cell_type": "markdown",
   "id": "7a112487",
   "metadata": {},
   "source": [
    "There will be times when you need to re-run your cells. For example, you stopped working on an assignment and came back to it later, but the kernel had already shut down. If you want to quickly catch up to where last were, then \n",
    "\n",
    "1. Select the cell you last worked on.\n",
    "2. Select `Kernel` from the menu bar, then `Restart Kernel and Run up to Selected Cell ...`.\n",
    "\n",
    "Note that the cells will run in order from top to bottom and stop by executing the selected cell **unless** the kernel encounters an error. If there is an error in any of the code cells above the one you selected, then the process will stop at that point. You should probably address that error before moving one since most of our work depends on what has been done in previous cells."
   ]
  },
  {
   "cell_type": "markdown",
   "id": "ef66175d",
   "metadata": {},
   "source": [
    "## Errors"
   ]
  },
  {
   "cell_type": "markdown",
   "id": "be392ed1",
   "metadata": {},
   "source": [
    "Python is a language, and like natural human languages, it has rules.  It differs from natural language in two important ways:\n",
    "\n",
    "1. The rules are relatively _simple_.  You can learn most of them in a few weeks and gain reasonable proficiency with the language in a semester.\n",
    "2. The rules are _rigid_.  If you're proficient in a natural language, you can understand a non-proficient speaker, glossing over small mistakes.  A computer running Python code is not smart enough to do that.\n",
    "\n",
    "Whenever you write code, you'll make mistakes.  When you run a code cell that has errors, Python will sometimes produce error messages to tell you what you did wrong.\n",
    "\n",
    "**Errors are okay; even experienced programmers make many errors.** When you make an error, you just have to find the source of the problem, fix it, and move on.\n",
    "\n",
    "We have made an error in the next cell.  Run it and see what happens."
   ]
  },
  {
   "cell_type": "code",
   "execution_count": null,
   "id": "caa7812a",
   "metadata": {},
   "outputs": [],
   "source": [
    "print(\"This line is missing something.\""
   ]
  },
  {
   "cell_type": "markdown",
   "id": "16fc1f5b",
   "metadata": {},
   "source": [
    "Depending on the version of Python being used to run the notebook, the error might look slightly different. We are using version 3.10 of Python, so the error should show `SyntaxError: incomplete input` at the bottom of the output. Additionally, there should be a ^ symbol attempting to point to the issue. In this case, the issue is that there is a missing parenthesis.\n",
    "\n",
    "There's a lot of terminology in programming languages, but you don't need to know it all in order to program effectively. If you see a cryptic message like this, you can often get by without deciphering it. (Of course, if you're frustrated, ask for help.)"
   ]
  },
  {
   "cell_type": "markdown",
   "id": "de8e1851",
   "metadata": {},
   "source": [
    "### Task 04 📍🔎"
   ]
  },
  {
   "cell_type": "markdown",
   "id": "ebd03f78",
   "metadata": {},
   "source": [
    "<!-- BEGIN QUESTION -->\n",
    "\n",
    "For this task, complete the following:\n",
    "\n",
    "1. Edit the above cell containing the code `print(\"This line is missing something.\"` to fix the `SyntaxError`.\n",
    "2. Re-run the cell and notice that the error message is replaced with the correct output.\n",
    "3. In the following Markdown cell, explain what you did to fix the error."
   ]
  },
  {
   "cell_type": "markdown",
   "id": "c83a73d6",
   "metadata": {},
   "source": [
    "_Type your answer here, replacing this text._"
   ]
  },
  {
   "cell_type": "markdown",
   "id": "6f5066bd",
   "metadata": {},
   "source": [
    "<!-- END QUESTION -->\n",
    "\n",
    "Check out [the official Python 3.10 documentation on Exceptions](https://docs.python.org/3.10/library/exceptions.html#concrete-exceptions) to view the types of errors you could see. Note that this documentation is a bit overwhelming to newcomers"
   ]
  },
  {
   "cell_type": "markdown",
   "id": "836c2526",
   "metadata": {
    "tags": []
   },
   "source": [
    "## Expressions"
   ]
  },
  {
   "cell_type": "markdown",
   "id": "122d5172",
   "metadata": {
    "tags": []
   },
   "source": [
    "The fundamental building blocks of Python code are expressions. In these notebooks, cells can contain multiple lines with multiple expressions. When you run a cell, the lines of code are executed in the order in which they appear. Every `print` statement prints a line. Run the next cell and notice the order of the output."
   ]
  },
  {
   "cell_type": "code",
   "execution_count": null,
   "id": "4cc02143",
   "metadata": {},
   "outputs": [],
   "source": [
    "print(\"First this line is printed,\")\n",
    "print(\"and then this one.\")"
   ]
  },
  {
   "cell_type": "markdown",
   "id": "7a84623b",
   "metadata": {},
   "source": [
    "### Numbers"
   ]
  },
  {
   "cell_type": "markdown",
   "id": "5ce038d3",
   "metadata": {},
   "source": [
    "Quantitative information arises everywhere in Data Science. In addition to representing commands to print out lines, expressions can represent numbers and methods of combining numbers. The expression `3.2500` evaluates to the number `3.25`. Run the cell and see the result."
   ]
  },
  {
   "cell_type": "code",
   "execution_count": null,
   "id": "8f6654ed",
   "metadata": {},
   "outputs": [],
   "source": [
    "3.2500"
   ]
  },
  {
   "cell_type": "markdown",
   "id": "51efce31",
   "metadata": {},
   "source": [
    "Notice that we didn't have to `print`. When you run a notebook cell, if the last line has a value, then Jupyter helpfully prints out that value for you. However, it won't print out prior lines automatically."
   ]
  },
  {
   "cell_type": "code",
   "execution_count": null,
   "id": "c0245668",
   "metadata": {},
   "outputs": [],
   "source": [
    "print(2)\n",
    "3\n",
    "4"
   ]
  },
  {
   "cell_type": "markdown",
   "id": "3c04e922",
   "metadata": {},
   "source": [
    "Above, you should see that 4 is the value of the last expression, 2 is printed, but 3 is lost forever because it was neither printed nor last.\n",
    "\n",
    "You don't want to print everything all the time anyway.  But if you feel sorry for 3, change the cell above to print it."
   ]
  },
  {
   "cell_type": "markdown",
   "id": "4d9310e8",
   "metadata": {},
   "source": [
    "### Arithmetic Expressions"
   ]
  },
  {
   "cell_type": "markdown",
   "id": "ed6c815d",
   "metadata": {},
   "source": [
    "The line in the next cell subtracts.  Its value is what you'd expect.  Run it to see the result."
   ]
  },
  {
   "cell_type": "code",
   "execution_count": null,
   "id": "ef2bec80",
   "metadata": {},
   "outputs": [],
   "source": [
    "3.25 - 1.5"
   ]
  },
  {
   "cell_type": "markdown",
   "id": "b4f566ba",
   "metadata": {},
   "source": [
    "Many basic arithmetic operations are built into Python.  The textbook section on [Expressions](http://www.inferentialthinking.com/chapters/03/1/Expressions.html) describes all the arithmetic operators used in the course.  The common operator that differs from typical math notation is `**`, which raises one number to the power of the other. So, `2 ** 3` stands for $2^3$ and evaluates to 8. "
   ]
  },
  {
   "cell_type": "markdown",
   "id": "e7e3207e",
   "metadata": {},
   "source": [
    "#### Order of Operations"
   ]
  },
  {
   "cell_type": "markdown",
   "id": "44c46f20",
   "metadata": {},
   "source": [
    "The [order of operations](https://en.wikipedia.org/wiki/Order_of_operations) is the same as what you learned in previous courses. Python also has parentheses to group operations.  For example, compare the outputs of the two cells below that contain the same numbers. The first cell uses parentheses to show 2023, but the second cell produces a different number because of the lack of parentheses!"
   ]
  },
  {
   "cell_type": "code",
   "execution_count": null,
   "id": "38f7e3dd",
   "metadata": {
    "tags": []
   },
   "outputs": [],
   "source": [
    "6 + (6 * 5 - (6 * 3)) ** 2 * ((2 ** 3) / 4 * 7) + 1"
   ]
  },
  {
   "cell_type": "code",
   "execution_count": null,
   "id": "45fd4112",
   "metadata": {
    "tags": []
   },
   "outputs": [],
   "source": [
    "6 + 6 * 5 - 6 * 3 ** 2 * 2 ** 3 / 4 * 7 + 1"
   ]
  },
  {
   "cell_type": "markdown",
   "id": "b5733319",
   "metadata": {},
   "source": [
    "In common Mathematics notation, the first expression is\n",
    "\n",
    "$$6 + \\left(6 \\times 5 - (6 \\times 3)\\right)^2 \\times \\left(\\frac{\\left(2^3\\right)}{4} \\times 7\\right) + 1,$$\n",
    "\n",
    "\n",
    "while the second expression is\n",
    "\n",
    "$$6 + 6 \\times 5 - 6 \\times 3^2 \\times \\frac{2^3}{4} \\times 7 + 1.$$"
   ]
  },
  {
   "cell_type": "markdown",
   "id": "e2c74a9a",
   "metadata": {},
   "source": [
    "#### Task 05 📍🔎"
   ]
  },
  {
   "cell_type": "markdown",
   "id": "33dec4ab",
   "metadata": {
    "jp-MarkdownHeadingCollapsed": true,
    "tags": []
   },
   "source": [
    "<!-- BEGIN QUESTION -->\n",
    "\n",
    "Replace the ellipses (`...`) in the following code cell with a Python expression that evaluates to be the same value as:\n",
    "\n",
    "$$5 \\times \\left(3 \\frac{10}{11}\\right) - 50 \\frac{1}{3} + 2^{\\left(0.5 \\times 22\\right)} - \\frac{7}{33} + 6.$$  \n",
    "\n",
    "That's five times three and ten elevenths, minus fifty and a third, plus two to the power of half twenty-two, minus seven thirty-thirds plus six.  As a reminder, $3 \\frac{10}{11}$ means $3+\\frac{10}{11}$, not $3 \\times \\frac{10}{11}$."
   ]
  },
  {
   "cell_type": "code",
   "execution_count": null,
   "id": "0b93406d",
   "metadata": {
    "tags": []
   },
   "outputs": [],
   "source": [
    "..."
   ]
  },
  {
   "cell_type": "markdown",
   "id": "be39aeb9",
   "metadata": {},
   "source": [
    "<!-- END QUESTION -->\n",
    "\n",
    "## Names and Assignment Statements"
   ]
  },
  {
   "cell_type": "markdown",
   "id": "c1d5a4b6",
   "metadata": {},
   "source": [
    "In natural language, we have terminology that lets us quickly reference very complicated concepts.  We don't say, \"That's a large mammal with brown fur and sharp teeth!\"  Instead, we might say, \"That's a bear!\"\n",
    "\n",
    "In Python, we do a similar thing using _assignment statements_. An assignment statement has a name on the left side of an `=` sign and an expression to be evaluated on the right. Run the next cell that contains an assignment statement."
   ]
  },
  {
   "cell_type": "code",
   "execution_count": null,
   "id": "82f13969",
   "metadata": {},
   "outputs": [],
   "source": [
    "ten = 3 * 2 + 4"
   ]
  },
  {
   "cell_type": "markdown",
   "id": "bbd4c538",
   "metadata": {},
   "source": [
    "When you run that cell, Python first computes the value of the expression on the right-hand side, `3 * 2 + 4`, which is the number 10.  Then it assigns that value to the name `ten`.  At that point, the code in the cell is done running. It can be a little subtle to know if a code cell that contains an assignment statement has being executed. Don't forget that the number in `[...]: ` let's us know that the cell has been run. After running that cell, the value 10 is bound to the name `ten`. Take a look by running the next cell."
   ]
  },
  {
   "cell_type": "code",
   "execution_count": null,
   "id": "5bd195fa",
   "metadata": {},
   "outputs": [],
   "source": [
    "ten"
   ]
  },
  {
   "cell_type": "markdown",
   "id": "2a140da1",
   "metadata": {},
   "source": [
    "The statement `ten = 3 * 2 + 4` is not asserting that `ten` is already equal to `3 * 2 + 4`. Rather, that line of code changes what `ten` means; it now refers to the value 10, whereas before it meant nothing at all. If the designers of Python had been ruthlessly pedantic, they might have made us write\n",
    "\n",
    "    define the name ten to hereafter have the value of 3 * 2 + 4 \n",
    "\n",
    "instead.  You will probably appreciate the brevity of \"`=`\"!  But keep that more long-winded expression in mind as you work with assignment statements."
   ]
  },
  {
   "cell_type": "markdown",
   "id": "c884fc3e",
   "metadata": {},
   "source": [
    "### Task 06 📍"
   ]
  },
  {
   "cell_type": "markdown",
   "id": "12a31bd3",
   "metadata": {},
   "source": [
    "Replace the `...` in the following cell with an assignment statement where the name is `eleven` and the expression is any arithmetic expression that has a value of 11."
   ]
  },
  {
   "cell_type": "code",
   "execution_count": null,
   "id": "64a2d88e",
   "metadata": {
    "tags": []
   },
   "outputs": [],
   "source": [
    "eleven = ..."
   ]
  },
  {
   "cell_type": "code",
   "execution_count": null,
   "id": "eeb04584",
   "metadata": {
    "deletable": false,
    "editable": false
   },
   "outputs": [],
   "source": [
    "grader.check(\"task_06\")"
   ]
  },
  {
   "cell_type": "markdown",
   "id": "3e674d2d",
   "metadata": {},
   "source": [
    "A common pattern in Jupyter notebooks is to assign a value to a name and then immediately evaluate the name in the last line in the cell so that the value is displayed as output. This is demonstrated in the following cell."
   ]
  },
  {
   "cell_type": "code",
   "execution_count": null,
   "id": "e9b316a2",
   "metadata": {},
   "outputs": [],
   "source": [
    "close_to_pi = 355 / 113\n",
    "close_to_pi"
   ]
  },
  {
   "cell_type": "markdown",
   "id": "c2f3107e",
   "metadata": {},
   "source": [
    "Another common pattern is that a series of lines in a single cell will build up a complex computation in stages, naming the intermediate results. We encourage this type of thinking in this class! The next cell shows you an example."
   ]
  },
  {
   "cell_type": "code",
   "execution_count": null,
   "id": "28b8df4d",
   "metadata": {
    "tags": []
   },
   "outputs": [],
   "source": [
    "semimonthly_salary = 841.25\n",
    "monthly_salary = 2 * semimonthly_salary\n",
    "number_of_months_in_a_year = 12\n",
    "yearly_salary = number_of_months_in_a_year * monthly_salary\n",
    "yearly_salary"
   ]
  },
  {
   "cell_type": "markdown",
   "id": "eda98979",
   "metadata": {},
   "source": [
    "Names in Python can have letters (upper- and lower-case letters are both okay and count as different letters), underscores, and numbers.  The first character can't be a number (otherwise a name might look like a number).  And names can't contain spaces, since spaces are used to separate pieces of code from each other.\n",
    "\n",
    "Other than those rules, what you name something doesn't matter *to Python*.  For example, this cell does the same thing as the above cell, except everything has a different name. **However**, names are very important for making your code *readable* to yourself and others.  The cell above is shorter, but it's totally useless without an explanation of what it does."
   ]
  },
  {
   "cell_type": "code",
   "execution_count": null,
   "id": "105be2aa",
   "metadata": {},
   "outputs": [],
   "source": [
    "a = 841.25\n",
    "b = 2 * a\n",
    "c = 12\n",
    "d = c * b\n",
    "d"
   ]
  },
  {
   "cell_type": "markdown",
   "id": "4e96cfe1",
   "metadata": {},
   "source": [
    "It is common for some people in the course to ask about style in terms of writing code. It helps to follow common style pattern when you are collaborating with others. PEP 8 is the style guide outlined in the Python documentation. That guide contains a lot of advanced vocabulary, but you should check out [the PEP 8 section Naming Conventions](https://peps.python.org/pep-0008/#naming-conventions) if you plan to work with Python beyond this course."
   ]
  },
  {
   "cell_type": "markdown",
   "id": "a0ec1c56",
   "metadata": {},
   "source": [
    "### Task 07 📍"
   ]
  },
  {
   "cell_type": "markdown",
   "id": "3b891258",
   "metadata": {
    "tags": []
   },
   "source": [
    "Consider the time interval between midnight January 1, 2012 and midnight January 1, 2022. We will guide you to calculating the number of seconds in this particular decade using descriptive variable names and intermediate steps.\n",
    "\n",
    "For this task,\n",
    " 1. Assign `number_of_days` to be the total number of days in the above time interval. Note that there are three leap years in this span of this particular decade (2012, 2016, 2020). A non-leap year has 365 days and a leap year has 366 days. \n",
    " 2. Using `number_of_days`, assign the name `seconds_per_decade` to the number of seconds between midnight January 1, 2012 and midnight January 1, 2022. You are welcome to define and use more intermediate variables such as `hours_per_day` in the calculation of `seconds_per_decade`."
   ]
  },
  {
   "cell_type": "code",
   "execution_count": null,
   "id": "f4d5e60b",
   "metadata": {
    "tags": []
   },
   "outputs": [],
   "source": [
    "number_of_days = ...\n",
    "seconds_per_decade = ...\n",
    "seconds_per_decade"
   ]
  },
  {
   "cell_type": "code",
   "execution_count": null,
   "id": "e523a1be",
   "metadata": {
    "deletable": false,
    "editable": false
   },
   "outputs": [],
   "source": [
    "grader.check(\"task_07\")"
   ]
  },
  {
   "cell_type": "markdown",
   "id": "40fa842b",
   "metadata": {},
   "source": [
    "## Comments"
   ]
  },
  {
   "cell_type": "markdown",
   "id": "97b5fffe",
   "metadata": {},
   "source": [
    "You may have noticed the first line in the code cell that initializes Otter at the top of the notebook:\n",
    "\n",
    "    # Initialize Otter\n",
    "    \n",
    "This is called a *comment*. It doesn't make anything happen in Python; Python ignores anything on a line after a `#`.  Instead, it's there to communicate something about the code to you, the human. Comments are extremely useful, but keep them to a minimum when using notebooks. Instead, utilize the Markdown cells to explain what your code is doing.\n",
    "\n",
    "<img src=\"http://imgs.xkcd.com/comics/future_self.png\" alt=\"A comic showing a conversation between a programmer and their future self through comments.\">\n",
    "Image Source: <a href=\"http://imgs.xkcd.com/comics/future_self.png\">imgs.xkcd.com</a>"
   ]
  },
  {
   "cell_type": "markdown",
   "id": "d81be9b2",
   "metadata": {},
   "source": [
    "## A Physics Experiment"
   ]
  },
  {
   "cell_type": "markdown",
   "id": "341c26fc",
   "metadata": {},
   "source": [
    "On the Apollo 15 mission to the Moon, astronaut David Scott famously replicated Galileo's physics experiment in which he showed that gravity accelerates objects of different mass at the same rate. Because there is no air resistance for a falling object on the surface of the Moon, even two objects with very different masses and densities should fall at the same rate. David Scott compared a feather and a hammer.\n",
    "\n",
    "Run the following cell to watch a video of the experiment."
   ]
  },
  {
   "cell_type": "code",
   "execution_count": null,
   "id": "27cfdd28",
   "metadata": {},
   "outputs": [],
   "source": [
    "from IPython.display import YouTubeVideo\n",
    "# The original URL is: \n",
    "# https://www.youtube.com/watch?v=U7db6ZeLR5s\n",
    "\n",
    "YouTubeVideo(\"U7db6ZeLR5s\")"
   ]
  },
  {
   "cell_type": "markdown",
   "id": "425214cb",
   "metadata": {},
   "source": [
    "Here's the transcript of what was said in the original video:\n",
    "\n",
    "**167:22:06 Scott**: Well, in my left hand, I have a feather; in my right hand, a hammer. And I guess one of the reasons we got here today was because of a gentleman named Galileo, a long time ago, who made a rather significant discovery about falling objects in gravity fields. And we thought where would be a better place to confirm his findings than on the Moon. And so we thought we'd try it here for you. The feather happens to be, appropriately, a falcon feather for our Falcon. And I'll drop the two of them here and, hopefully, they'll hit the ground at the same time. \n",
    "\n",
    "**167:22:43 Scott**: How about that!\n",
    "\n",
    "**167:22:45 Allen**: How about that! (Applause in Houston)\n",
    "\n",
    "**167:22:46 Scott**: Which proves that Mr. Galileo was correct in his findings."
   ]
  },
  {
   "cell_type": "markdown",
   "id": "f17f07de",
   "metadata": {},
   "source": [
    "Using this footage, we can also attempt to confirm another famous bit of physics: Newton's law of universal gravitation. Newton's laws predict that any object dropped near the surface of the Moon should fall\n",
    "\n",
    "$$\\frac{1}{2} G \\frac{M}{R^2} t^2 \\text{ meters}$$\n",
    "\n",
    "after $t$ seconds, where $G$ is a universal constant, $M$ is the moon's mass in kilograms, and $R$ is the moon's radius in meters.  So, if we know $G$, $M$, and $R$, then Newton's laws let us predict how far an object will fall over any amount of time.\n",
    "\n",
    "To verify the accuracy of this law, we will calculate the difference between the predicted distance the hammer drops and the actual distance.  (If they are different, it might be because Newton's laws are wrong, or because our measurements are imprecise, or because there are other factors affecting the hammer for which we haven't accounted.)\n",
    "\n",
    "Someone studied the video and estimated that the hammer was dropped 113 cm from the surface. Counting frames in the video, the hammer falls for 1.2 seconds (36 frames)."
   ]
  },
  {
   "cell_type": "markdown",
   "id": "af04784f",
   "metadata": {},
   "source": [
    "### Task 08 📍"
   ]
  },
  {
   "cell_type": "markdown",
   "id": "ee3d3893",
   "metadata": {},
   "source": [
    "Complete the code in the next cell to name two variables (`time`, `estimated_distance_m`) using the information from the estimated values above. You'll use this information later. Notice that the distance estimate is given in cm, but it needs to be converted to meters."
   ]
  },
  {
   "cell_type": "code",
   "execution_count": null,
   "id": "e4a72812",
   "metadata": {
    "tags": []
   },
   "outputs": [],
   "source": [
    "# The duration of the fall in the experiment, in seconds.\n",
    "time = ...\n",
    "\n",
    "# The estimated distance the hammer actually fell, in meters.\n",
    "estimated_distance_m = ..."
   ]
  },
  {
   "cell_type": "code",
   "execution_count": null,
   "id": "553ab918",
   "metadata": {
    "deletable": false,
    "editable": false
   },
   "outputs": [],
   "source": [
    "grader.check(\"task_08\")"
   ]
  },
  {
   "cell_type": "markdown",
   "id": "81aed49d",
   "metadata": {},
   "source": [
    "### Task 09 📍"
   ]
  },
  {
   "cell_type": "markdown",
   "id": "7a9119e5",
   "metadata": {},
   "source": [
    "Now, complete the code in the next cell to compute the difference between the predicted and estimated distances (in meters) that the hammer fell in this experiment.\n",
    "\n",
    "This just means translating the formula above ($\\frac{1}{2}G\\frac{M}{R^2}t^2$) into Python code.  You'll have to replace each variable in the math formula with the name we gave that number in Python code. Try to use variables you've already defined in the previous task."
   ]
  },
  {
   "cell_type": "code",
   "execution_count": null,
   "id": "fac520f3",
   "metadata": {
    "tags": []
   },
   "outputs": [],
   "source": [
    "# First, we've written down the values of the 3 universal constants \n",
    "# that show up in Newton's formula.\n",
    "\n",
    "# G, the universal constant measuring the strength of gravity.\n",
    "gravity_constant = 6.674 * 10**-11 \n",
    "\n",
    "# M, the moon's mass, in kilograms.\n",
    "moon_mass_kg = 7.34767309 * 10**22 \n",
    "\n",
    "# R, the radius of the moon, in meters.\n",
    "moon_radius_m = 1.737 * 10**6 \n",
    "\n",
    "# The distance the hammer should have fallen \n",
    "# over the duration of the fall, in meters, \n",
    "# according to Newton's law of gravity.  \n",
    "# The text above describes the formula\n",
    "# for this distance given by Newton's law.\n",
    "predicted_distance_m = ...\n",
    "\n",
    "# Here we've computed the difference \n",
    "# between the predicted fall distance and the distance we actually measured.\n",
    "# If you've filled in the above code, this should just work.\n",
    "difference = predicted_distance_m - estimated_distance_m\n",
    "difference"
   ]
  },
  {
   "cell_type": "code",
   "execution_count": null,
   "id": "f46d5965",
   "metadata": {
    "deletable": false,
    "editable": false
   },
   "outputs": [],
   "source": [
    "grader.check(\"task_09\")"
   ]
  },
  {
   "cell_type": "markdown",
   "id": "2d95f3a5",
   "metadata": {},
   "source": [
    "## Calling Functions"
   ]
  },
  {
   "cell_type": "markdown",
   "id": "0425fa02",
   "metadata": {},
   "source": [
    "The most common way to combine or manipulate values in Python is by calling functions. As a preview, functions essentially name a logical flow of code. Python comes with many built-in functions that perform common operations.\n",
    "\n",
    "For example, the absolute value function `abs` takes a single number as its argument and returns the absolute value of that number. Run the next two cells that contain a function call using the absolute value function `abs`."
   ]
  },
  {
   "cell_type": "code",
   "execution_count": null,
   "id": "c6596a3a",
   "metadata": {},
   "outputs": [],
   "source": [
    "abs(5)"
   ]
  },
  {
   "cell_type": "code",
   "execution_count": null,
   "id": "c99eeebd",
   "metadata": {},
   "outputs": [],
   "source": [
    "abs(-5)"
   ]
  },
  {
   "cell_type": "markdown",
   "id": "53200ce3",
   "metadata": {},
   "source": [
    "Note that `abs` is the name of the function, but `abs(5)` is the call expression because it sends an input of `5` to the function to be evaluated and the function returns a value. You will learn more about functions later in the course. For now, just practice using ones that are already defined."
   ]
  },
  {
   "cell_type": "markdown",
   "id": "a1c3dda1",
   "metadata": {},
   "source": [
    "### Computing Walking Distances"
   ]
  },
  {
   "cell_type": "markdown",
   "id": "d5d784e9",
   "metadata": {},
   "source": [
    "An individual is on the corner of 7th Avenue and 42nd Street in Midtown Manhattan, and they want to know far they would have to walk to get to Gramercy School on the corner of 10th Avenue and 34th Street.\n",
    "\n",
    "They can't cut across blocks diagonally, since there are buildings in the way.  They have to walk along the sidewalks.  Using the map below, they see they would have to walk 3 avenues (long blocks) and 8 streets (short blocks).  In terms of the given numbers, they computed 3 as the difference between 7 and 10, *in absolute value*, and 8 similarly.  \n",
    "\n",
    "They also know that blocks in Manhattan are all about 80m by 274m (avenues are farther apart than streets).  So in total, they would have to walk $(80 \\times |42 - 34| + 274 \\times |7 - 10|)$ meters to get to the park.\n",
    "\n",
    "<img src=\"map.jpg\" alt=\"An aerial view of Manhattan with the measurement information overlaid on the map.\">"
   ]
  },
  {
   "cell_type": "markdown",
   "id": "13c9bcca",
   "metadata": {},
   "source": [
    "### Task 10 📍"
   ]
  },
  {
   "cell_type": "markdown",
   "id": "14da6c79",
   "metadata": {},
   "source": [
    "Call the `abs` function with the input value named `block_difference` to name `num_avenues_away` in the next cell so that the cell calculates the distance they must walk and gives it the name `manhattan_distance`. Note that everything else has been filled in for you."
   ]
  },
  {
   "cell_type": "code",
   "execution_count": null,
   "id": "5413d7cb",
   "metadata": {
    "tags": []
   },
   "outputs": [],
   "source": [
    "# Here's the number of streets away:\n",
    "num_streets_away = abs(42-34)\n",
    "\n",
    "# Compute the number of avenues away in a similar way:\n",
    "block_difference = 7 - 10\n",
    "num_avenues_away = ...\n",
    "\n",
    "street_length_m = 80\n",
    "avenue_length_m = 274\n",
    "\n",
    "# Now we compute the total distance Chunhua must walk.\n",
    "manhattan_distance = street_length_m*num_streets_away + avenue_length_m*num_avenues_away\n",
    "\n",
    "# We've included this line so that you see the distance you've computed \n",
    "# when you run this cell.  \n",
    "# You don't need to change it, but you can if you want.\n",
    "manhattan_distance"
   ]
  },
  {
   "cell_type": "code",
   "execution_count": null,
   "id": "86e25081",
   "metadata": {
    "deletable": false,
    "editable": false
   },
   "outputs": [],
   "source": [
    "grader.check(\"task_10\")"
   ]
  },
  {
   "cell_type": "markdown",
   "id": "35dafcfe",
   "metadata": {},
   "source": [
    "### Multiple Arguments"
   ]
  },
  {
   "cell_type": "markdown",
   "id": "a09c1919",
   "metadata": {},
   "source": [
    "Some functions take multiple arguments, separated by commas. For example, the built-in `max` function returns the maximum argument passed to it. Run the following cell to see how to make a function call using multiple arguments. "
   ]
  },
  {
   "cell_type": "code",
   "execution_count": null,
   "id": "73423f2b",
   "metadata": {},
   "outputs": [],
   "source": [
    "max(2, -3, 4, -5)"
   ]
  },
  {
   "cell_type": "markdown",
   "id": "9fec4867",
   "metadata": {
    "tags": []
   },
   "source": [
    "## Understanding Nested Expressions"
   ]
  },
  {
   "cell_type": "markdown",
   "id": "5ca5ab36",
   "metadata": {},
   "source": [
    "Function calls and arithmetic expressions can themselves contain expressions. You saw an example in the last question:\n",
    "\n",
    "    abs(42-34)\n",
    "\n",
    "has 2 number expressions in a subtraction expression in a function call expression.\n",
    "\n",
    "Nested expressions can turn into complicated-looking code. However, the way in which complicated expressions break down is very regular.\n",
    "\n",
    "Suppose we are interested in human heights that are very unusual.  We'll say that a height is unusual to the extent that it's far away on the number line from the average human height.  [An estimate](http://press.endocrine.org/doi/full/10.1210/jcem.86.9.7875?ck=nck&) of the average adult human height (averaging, we hope, over all humans on Earth today) is 1.688 meters.\n",
    "\n",
    "So if an individual named Kayla is 1.21 meters tall, then their height is $|1.21 - 1.688|$, or $0.478$, meters away from the average.  Here's a picture of that:\n",
    "\n",
    "<img src=\"numberline_0.png\" alt=\"A number line showing the distance as the height.\">\n",
    "\n",
    "And here's how we'd write that in one line of Python code:"
   ]
  },
  {
   "cell_type": "code",
   "execution_count": null,
   "id": "3dd9e696",
   "metadata": {
    "tags": []
   },
   "outputs": [],
   "source": [
    "abs(1.21 - 1.688)"
   ]
  },
  {
   "cell_type": "markdown",
   "id": "a753f604",
   "metadata": {},
   "source": [
    "What's going on here? `abs` takes just one argument, so the stuff inside the parentheses is all part of that *single argument*.  Specifically, the argument is the value of the expression `1.21 - 1.688`.  The value of that expression is `-.478`.  That value is the argument to `abs`.  The absolute value of that is `.478`, so `.478` is the value of the full expression `abs(1.21 - 1.688)`.\n",
    "\n",
    "Picture simplifying the expression in several steps:\n",
    "\n",
    "1. `abs(1.21 - 1.688)`\n",
    "2. `abs(-0.478)`\n",
    "3. `0.478`\n",
    "\n",
    "In fact, that's basically what Python does to compute the value of the expression!"
   ]
  },
  {
   "cell_type": "markdown",
   "id": "9928739f",
   "metadata": {},
   "source": [
    "### Task 11 📍"
   ]
  },
  {
   "cell_type": "markdown",
   "id": "30c61b19",
   "metadata": {},
   "source": [
    "Say that Paola's height is 1.76 meters.  In the next cell, use `abs` to compute the absolute value of the difference between Paola's height and the average human height.  Give that value the name `paola_distance_from_average_m`.\n",
    "\n",
    "<img src=\"numberline_1.png\" alt=\"A number line visualizing the distance between Paola's height and an average human height.\">"
   ]
  },
  {
   "cell_type": "code",
   "execution_count": null,
   "id": "5c64ae64",
   "metadata": {
    "tags": []
   },
   "outputs": [],
   "source": [
    "paola_distance_from_average_m = ...\n",
    "paola_distance_from_average_m"
   ]
  },
  {
   "cell_type": "code",
   "execution_count": null,
   "id": "049d38cf",
   "metadata": {
    "deletable": false,
    "editable": false
   },
   "outputs": [],
   "source": [
    "grader.check(\"task_11\")"
   ]
  },
  {
   "cell_type": "markdown",
   "id": "e549c9dd",
   "metadata": {},
   "source": [
    "### More Nesting"
   ]
  },
  {
   "cell_type": "markdown",
   "id": "31eb8837",
   "metadata": {},
   "source": [
    "Now, say that we want to compute the more unusual of the two heights.  We'll use the function `max`, which (again) takes two numbers as arguments and returns the larger of the two arguments.  Combining that with the `abs` function, we can compute the larger distance from average among the two heights. Just read through and run the following cell. Note that you are not expected to know how this more complex `print` statement works, but it is worth spending a few minutes trying to understand."
   ]
  },
  {
   "cell_type": "code",
   "execution_count": null,
   "id": "5e99ee31",
   "metadata": {},
   "outputs": [],
   "source": [
    "kayla_height_m = 1.21\n",
    "paola_height_m = 1.76\n",
    "average_adult_height_m = 1.688\n",
    "\n",
    "# The larger distance from the average human height, among the two heights:\n",
    "larger_distance_m = max(abs(kayla_height_m - average_adult_height_m), \n",
    "                        abs(paola_height_m - average_adult_height_m))\n",
    "\n",
    "# Print out our results in a nice readable format:\n",
    "print(\"The larger distance from the average height among these two people is\", \n",
    "      larger_distance_m, \n",
    "      \"meters.\")"
   ]
  },
  {
   "cell_type": "markdown",
   "id": "bef05e98",
   "metadata": {},
   "source": [
    "The line where `larger_distance_m` is computed looks complicated, but we can break it down into simpler components just like we did before.\n",
    "\n",
    "The basic recipe is to repeatedly simplify small parts of the expression:\n",
    "* **Basic expressions:** Start with expressions whose values we know, like names or numbers.\n",
    "    - Examples: `paola_height_m` or `5`.\n",
    "* **Find the next simplest group of expressions:** Look for basic expressions that are directly connected to each other. This can be by arithmetic or as arguments to a function call. \n",
    "    - Example: `kayla_height_m - average_adult_height_m`.\n",
    "* **Evaluate that group:** Evaluate the arithmetic expression or function call. Use the value computed to replace the group of expressions.  \n",
    "    - Example: `kayla_height_m - average_adult_height_m` becomes `-0.478`.\n",
    "* **Repeat:** Continue this process, using the value of the previously-evaluated expression as a new basic expression. Stop when we've evaluated the entire expression.\n",
    "    - Example: `abs(-0.478)` becomes `0.478`, and `max(0.478, 0.072)` becomes `0.478`.\n",
    "\n",
    "You can run the next cell to see a slideshow of that process."
   ]
  },
  {
   "cell_type": "code",
   "execution_count": null,
   "id": "2db4d040",
   "metadata": {},
   "outputs": [],
   "source": [
    "from IPython.display import IFrame\n",
    "IFrame('https://docs.google.com/presentation/d/e/2PACX-1vTiIUOa9tP4pHPesrI8p2TCp8WCOJtTb3usOacQFPfkEfvQMmX-JYEW3OnBoTmQEJWAHdBP6Mvp053G/embed?start=false&loop=false&delayms=3000', 800, 600)"
   ]
  },
  {
   "cell_type": "markdown",
   "id": "c58d2269",
   "metadata": {},
   "source": [
    "### Task 12 📍"
   ]
  },
  {
   "cell_type": "markdown",
   "id": "a4688cda",
   "metadata": {},
   "source": [
    "Given the heights of players from the Golden State Warriors, write an expression that computes the smallest difference between any of the three heights. Your expression shouldn't have any numbers in it, only function calls and the names `klay`, `steph`, and `wiggins`. Give the value of your expression the name `min_height_difference`.\n",
    "\n",
    "We recommend that you compute the absolute difference between each pair of names that represent heights using `abs` and then find the smallest of those 3 absolute differences using `min`."
   ]
  },
  {
   "cell_type": "code",
   "execution_count": null,
   "id": "a625322e",
   "metadata": {
    "tags": []
   },
   "outputs": [],
   "source": [
    "# The three players' heights, in inches\n",
    "thompson =  78 # Klay Thompson is 6'6\"\n",
    "curry = 74 # Steph Curry is 6'2\"\n",
    "wiggins = 79 # Andrew Wiggins is 6'7\"\n",
    "\n",
    "min_height_difference = ...\n",
    "min_height_difference\n",
    "print(\"The smallest difference between any of the three heights is\", \n",
    "      min_height_difference, \n",
    "      \"inche(s).\")"
   ]
  },
  {
   "cell_type": "code",
   "execution_count": null,
   "id": "a7a7ab24",
   "metadata": {
    "deletable": false,
    "editable": false
   },
   "outputs": [],
   "source": [
    "grader.check(\"task_12\")"
   ]
  },
  {
   "cell_type": "markdown",
   "id": "3642c3d5",
   "metadata": {},
   "source": [
    "## Submit your Lab to Canvas\n",
    "\n",
    "Once you have finished working on the lab questions, prepare to submit your work in Canvas by completing the following steps.\n",
    "\n",
    "1. In the related Canvas Assignment page, check the requirements for a Complete score for this lab assignments.\n",
    "2. Double-check that you have run the code cell near the end of the notebook that contains the command `\"grader.check_all()\"`. This command will run all of the run tests on all your responses to the auto-graded tasks marked with 📍.\n",
    "3. Double-check that your responses to the manually graded tasks marked with 📍🔎.\n",
    "4. Select the menu items \"File\", \"Save and Export Notebook As...\", and \"HTML (.html)\" in the notebook's Toolbar to download an HTML version of this notebook file.\n",
    "5. In the related Canvas Assignment page, click Start Assignment or New Attempt to upload the downloaded HTML file."
   ]
  },
  {
   "cell_type": "markdown",
   "id": "639a4c54",
   "metadata": {
    "deletable": false,
    "editable": false
   },
   "source": [
    "---\n",
    "\n",
    "To double-check your work, the cell below will rerun all of the autograder tests."
   ]
  },
  {
   "cell_type": "code",
   "execution_count": null,
   "id": "7344427c",
   "metadata": {
    "deletable": false,
    "editable": false
   },
   "outputs": [],
   "source": [
    "grader.check_all()"
   ]
  }
 ],
 "metadata": {
  "kernelspec": {
   "display_name": "Python 3 (ipykernel)",
   "language": "python",
   "name": "python3"
  },
  "language_info": {
   "codemirror_mode": {
    "name": "ipython",
    "version": 3
   },
   "file_extension": ".py",
   "mimetype": "text/x-python",
   "name": "python",
   "nbconvert_exporter": "python",
   "pygments_lexer": "ipython3",
   "version": "3.10.0"
  },
  "otter": {
   "OK_FORMAT": true,
   "assignment_name": "lab01_sp23",
   "tests": {
    "task_02": {
     "name": "task_02",
     "points": null,
     "suites": [
      {
       "cases": [
        {
         "code": ">>> \n>>> import sys\n>>> 'otter' in sys.modules and 'grader' in vars()\nTrue",
         "failure_message": "❌ It doesn't seem that you successfully ran the cell starting with # Initialize Otter.",
         "hidden": false,
         "locked": false,
         "points": 1,
         "success_message": "✅ You've successfully run the cell and initialized Otter!"
        }
       ],
       "scored": true,
       "setup": "",
       "teardown": "",
       "type": "doctest"
      }
     ]
    },
    "task_06": {
     "name": "task_06",
     "points": null,
     "suites": [
      {
       "cases": [
        {
         "code": ">>> \n>>> 'eleven' in globals()\nTrue",
         "failure_message": "❌ It doesn't seem that you have named an expression as eleven.",
         "hidden": false,
         "locked": false,
         "success_message": "✅ Great work Python recognizes eleven as a name!"
        },
        {
         "code": ">>> \n>>> eleven == 11\nTrue",
         "failure_message": "❌ It doesn't seem that you have assigned a value of 11 to the name eleven.",
         "hidden": false,
         "locked": false,
         "success_message": "✅ The name eleven represents the numerical value 11!"
        }
       ],
       "scored": true,
       "setup": "",
       "teardown": "",
       "type": "doctest"
      }
     ]
    },
    "task_07": {
     "name": "task_07",
     "points": null,
     "suites": [
      {
       "cases": [
        {
         "code": ">>> \n>>> ('number_of_days' in vars()\n...  and number_of_days != ...\n...  and 'seconds_per_decade' in vars()\n...  and seconds_per_decade != ...)\nTrue",
         "failure_message": "❌ Make sure you replace both sets of ... and run the cell that assigns a value to number_of_days and seconds_in_a_decade.",
         "hidden": false,
         "locked": false,
         "success_message": "✅ You have assigned values to the names number_of_days and second_per_decade."
        },
        {
         "code": ">>> \n>>> number_of_days == 3653\nTrue",
         "failure_message": "❌ You don't have the correct number of days assigned to number_of_days. Remember that 3 of the 10 years are leap years.",
         "hidden": false,
         "locked": false,
         "success_message": "✅ You have the correct number of days assigned to number_of_days!"
        },
        {
         "code": ">>> \n>>> seconds_per_decade == 315619200\nTrue",
         "failure_message": "❌ You don't have the correct number of seconds in a decade. Consider converting days to seconds.",
         "hidden": false,
         "locked": false,
         "success_message": "✅ You have the correct number of seconds in a decade!"
        }
       ],
       "scored": true,
       "setup": "",
       "teardown": "",
       "type": "doctest"
      }
     ]
    },
    "task_08": {
     "name": "task_08",
     "points": null,
     "suites": [
      {
       "cases": [
        {
         "code": ">>> \n>>> ('time' in vars()\n...  and time != ...\n...  and 'estimated_distance_m' in vars()\n...  and estimated_distance_m != ...)\nTrue",
         "failure_message": "❌ Make sure you replace both sets of ... and run the cell that assigns a value to time and estimated_distance_m.",
         "hidden": false,
         "locked": false,
         "success_message": "✅ You have assigned values to the names time and estimated_distance_m."
        },
        {
         "code": ">>> \n>>> time == 1.2\nTrue",
         "failure_message": "❌ You don't have the correct value for time. Doulbe check the estimated values in the above paragraph.",
         "hidden": false,
         "locked": false,
         "success_message": "✅ You have the correct value for time."
        },
        {
         "code": ">>> \n>>> estimated_distance_m != 113\nTrue",
         "failure_message": "❌ Remember to convert from cm to m.",
         "hidden": false,
         "locked": false,
         "success_message": "✅ Great work not using the provided cm value for estimated_distance_m."
        },
        {
         "code": ">>> \n>>> estimated_distance_m == 1.13\nTrue",
         "failure_message": "❌ You don't have the correct value for estimated_distance_m.",
         "hidden": false,
         "locked": false,
         "success_message": "✅ You have the correct value for estimated_distance_m"
        }
       ],
       "scored": true,
       "setup": "",
       "teardown": "",
       "type": "doctest"
      }
     ]
    },
    "task_09": {
     "name": "task_09",
     "points": null,
     "suites": [
      {
       "cases": [
        {
         "code": ">>> \n>>> predicted_distance_m != ... and 'predicted_distance_m' in vars()\nTrue",
         "failure_message": "❌ Make sure you replace ... and run the cell that assigns a value to predicted_distance_m.",
         "hidden": false,
         "locked": false,
         "success_message": "✅ You have assigned values to the name predicted_distance_m."
        },
        {
         "code": ">>> \n>>> round(predicted_distance_m, 5) == 1.17022\nTrue",
         "failure_message": "❌ You don't have the correct value for predicted_distance_m. Doulbe check the formula and use the named values we provided.",
         "hidden": false,
         "locked": false,
         "success_message": "✅ You have a correct value for predicted_distance_m"
        },
        {
         "code": ">>> \n>>> round(difference, 5)  == 0.04022\nTrue",
         "failure_message": "❌ You don't have the correct value for difference.",
         "hidden": false,
         "locked": false,
         "success_message": "✅ You have a correct value for difference."
        }
       ],
       "scored": true,
       "setup": "",
       "teardown": "",
       "type": "doctest"
      }
     ]
    },
    "task_10": {
     "name": "task_10",
     "points": null,
     "suites": [
      {
       "cases": [
        {
         "code": ">>> \n>>> num_avenues_away != ... and 'num_avenues_away' in vars()\nTrue",
         "failure_message": "❌ Make sure you replace ... and run the cell that assigns a value to num_avenues_away.",
         "hidden": false,
         "locked": false,
         "success_message": "✅ You have assigned values to the name num_avenues_away."
        },
        {
         "code": ">>> \n>>> num_avenues_away >= 0\nTrue",
         "failure_message": "❌ Make sure to use the abs.",
         "hidden": false,
         "locked": false,
         "success_message": "✅ Great work not getting a negative number for the number of avenues!"
        },
        {
         "code": ">>> \n>>> num_avenues_away == 3\nTrue",
         "failure_message": "❌ You don't have the correct value for num_avenues_away.",
         "hidden": false,
         "locked": false,
         "success_message": "✅ You have the correct value for num_avenues_away."
        },
        {
         "code": ">>> \n>>> manhattan_distance == 1462\nTrue",
         "failure_message": "❌ You don't have the correct value for manhattan_distance.",
         "hidden": false,
         "locked": false,
         "success_message": "✅ You have the correct value for manhattan_distancey."
        }
       ],
       "scored": true,
       "setup": "",
       "teardown": "",
       "type": "doctest"
      }
     ]
    },
    "task_11": {
     "name": "task_11",
     "points": null,
     "suites": [
      {
       "cases": [
        {
         "code": ">>> \n>>> paola_distance_from_average_m != ... and 'paola_distance_from_average_m' in vars() \nTrue",
         "failure_message": "❌ Make sure you replace ... and run the cell that assigns a value to paola_distance_from_average_m.",
         "hidden": false,
         "locked": false,
         "success_message": "✅ You have assigned values to the name paola_distance_from_average_m."
        },
        {
         "code": ">>> \n>>> round(paola_distance_from_average_m, 5) == 0.072\nTrue",
         "failure_message": "❌ You don't have the correct value for paola_distance_from_average_m. Try to use `abs` with a nested arithmetic expression as its input.",
         "hidden": false,
         "locked": false,
         "success_message": "✅ You have the correct value for paola_distance_from_average_m"
        }
       ],
       "scored": true,
       "setup": "",
       "teardown": "",
       "type": "doctest"
      }
     ]
    },
    "task_12": {
     "name": "task_12",
     "points": null,
     "suites": [
      {
       "cases": [
        {
         "code": ">>> \n>>> min_height_difference != ... and 'min_height_difference' in vars()\nTrue",
         "failure_message": "❌ Make sure you replace ... and run the cell that assigns a value to min_height_difference.",
         "hidden": false,
         "locked": false,
         "success_message": "✅ You have assigned values to the name min_height_difference."
        },
        {
         "code": ">>> \n>>> round(min_height_difference, 5) == 1\nTrue",
         "failure_message": "❌ You don't have the correct value for min_height_difference. Find the minimum of three absolute differences of heights",
         "hidden": false,
         "locked": false,
         "success_message": "✅ You have the correct value for min_height_difference"
        }
       ],
       "scored": true,
       "setup": "",
       "teardown": "",
       "type": "doctest"
      }
     ]
    }
   }
  },
  "toc": {
   "base_numbering": 1,
   "nav_menu": {},
   "number_sections": false,
   "sideBar": true,
   "skip_h1_title": false,
   "title_cell": "Table of Contents",
   "title_sidebar": "Contents",
   "toc_cell": false,
   "toc_position": {},
   "toc_section_display": true,
   "toc_window_display": false
  },
  "toc-autonumbering": false,
  "toc-showcode": false,
  "toc-showmarkdowntxt": false,
  "toc-showtags": false
 },
 "nbformat": 4,
 "nbformat_minor": 5
}
