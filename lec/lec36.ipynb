{
 "cells": [
  {
   "cell_type": "markdown",
   "metadata": {
    "slideshow": {
     "slide_type": "slide"
    }
   },
   "source": [
    "<div style=\"width: 38.5%;\">\n",
    "    <p><strong>City College of San Francisco</strong><p>\n",
    "    <hr>\n",
    "    <p>MATH 108 - Foundations of Data Science</p>\n",
    "</div>"
   ]
  },
  {
   "cell_type": "markdown",
   "metadata": {
    "tags": []
   },
   "source": [
    "# Lecture 36: Updating Predictions"
   ]
  },
  {
   "cell_type": "markdown",
   "metadata": {
    "slideshow": {
     "slide_type": "-"
    }
   },
   "source": [
    "Associated Textbook Sections: [18.0 - 18.2](https://inferentialthinking.com/chapters/18/Updating_Predictions.html)"
   ]
  },
  {
   "cell_type": "markdown",
   "metadata": {
    "slideshow": {
     "slide_type": "slide"
    },
    "tags": []
   },
   "source": [
    "## Outline"
   ]
  },
  {
   "cell_type": "markdown",
   "metadata": {},
   "source": [
    "* [Decisions](#Decisions)\n",
    "* [Conditional Probability](#Conditional-Probability)\n",
    "* [Tree Diagrams](#Tree-Diagrams)\n",
    "* [Bayes' Rule](#Bayes'-Rule)\n",
    "* [Subjective Probabilities](#Subjective-Probabilities)"
   ]
  },
  {
   "cell_type": "markdown",
   "metadata": {
    "slideshow": {
     "slide_type": "slide"
    }
   },
   "source": [
    "## Set Up the Notebook"
   ]
  },
  {
   "cell_type": "code",
   "execution_count": null,
   "metadata": {
    "slideshow": {
     "slide_type": "-"
    }
   },
   "outputs": [],
   "source": [
    "from datascience import *\n",
    "import numpy as np\n",
    "import matplotlib\n",
    "%matplotlib inline\n",
    "import matplotlib.pyplot as plots\n",
    "plots.style.use('fivethirtyeight')"
   ]
  },
  {
   "cell_type": "markdown",
   "metadata": {
    "slideshow": {
     "slide_type": "slide"
    }
   },
   "source": [
    "## Decisions"
   ]
  },
  {
   "cell_type": "markdown",
   "metadata": {
    "slideshow": {
     "slide_type": "subslide"
    },
    "tags": []
   },
   "source": [
    "### Decisions Under Uncertainty"
   ]
  },
  {
   "cell_type": "markdown",
   "metadata": {
    "slideshow": {
     "slide_type": "-"
    }
   },
   "source": [
    "[*Interpretation by Physicians of Clinical Laboratory Results (1978)*](https://www.nejm.org/doi/full/10.1056/nejm197811022991808)\n",
    "\n",
    "> We asked 20 house officers, 20 fourth-year medical students and 20 attending physicians, selected in 67 consecutive hallway encounters at four Harvard Medical School teaching hospitals, the following question:\n",
    ">\n",
    "> _If a test to detect a disease whose prevalence is 1/1000 has a false positive rate of 5%, what is the chance that a person found to have a positive result actually has the disease, assuming that you know nothing about the person's symptoms or signs?_\n",
    ">\n",
    "> Eleven of 60 participants, or 18%, gave the correct answer. These participants included four of 20 fourth-year students, three of 20 residents in internal medicine and four of 20 attending physicians. The most common answer, given by 27, was that \\[the chance that a person found to have a positive result actually has the disease\\] was 95%."
   ]
  },
  {
   "cell_type": "markdown",
   "metadata": {
    "slideshow": {
     "slide_type": "subslide"
    },
    "tags": []
   },
   "source": [
    "### Medical Testing Scenario"
   ]
  },
  {
   "cell_type": "markdown",
   "metadata": {},
   "source": [
    "* Rare disease with prevalence of 1/1000 in population\n",
    "* There is a test (e.g., antigen test) with the following properties\n",
    "    * False Positive Rate of 5%: If you do NOT have the disease then 5% of the time, the test says you do.\n",
    "    * False Negative Rate of 1%: If you DO have the disease then 1% of the time, the test says you do not have the disease.\n",
    "* If you sample a person at random and they test positive, what is the chance they have the rare disease?"
   ]
  },
  {
   "cell_type": "markdown",
   "metadata": {
    "slideshow": {
     "slide_type": "subslide"
    },
    "tags": []
   },
   "source": [
    "### Truth and Test Results"
   ]
  },
  {
   "cell_type": "markdown",
   "metadata": {},
   "source": [
    "All patients fall into one of 4 categories:\n",
    "\n",
    "<img src=\"./img/lec36_truth_and_test_results.png\" alt=\"Table showing the 4 possible outcomes for the patient.\" width=70%>"
   ]
  },
  {
   "cell_type": "markdown",
   "metadata": {
    "slideshow": {
     "slide_type": "subslide"
    },
    "tags": []
   },
   "source": [
    "### False Positive Rate"
   ]
  },
  {
   "cell_type": "markdown",
   "metadata": {},
   "source": [
    "<img src=\"./img/lec36_false_positive_rate.png\" alt=\"Same table focusing on the first row as if they test indicated positive.\"  width=70%>"
   ]
  },
  {
   "cell_type": "markdown",
   "metadata": {
    "slideshow": {
     "slide_type": "subslide"
    },
    "tags": []
   },
   "source": [
    "### False Negative Rate"
   ]
  },
  {
   "cell_type": "markdown",
   "metadata": {},
   "source": [
    "<img src=\"./img/lec36_false_negative_rate.png\" alt=\"Same table focusing on the first row as if they test indicated negative.\"  width=70%>"
   ]
  },
  {
   "cell_type": "markdown",
   "metadata": {
    "slideshow": {
     "slide_type": "subslide"
    },
    "tags": []
   },
   "source": [
    "### Another Scenario"
   ]
  },
  {
   "cell_type": "markdown",
   "metadata": {
    "slideshow": {
     "slide_type": "-"
    }
   },
   "source": [
    "* Class consists of Freshmen (60%) and Sophomores (40%)\n",
    "* Some of the students have declared their major\n",
    "    * 50% of the Freshmen years have declared their major\n",
    "    * 80% of the Sophomores years have declared their major\n",
    "* I pick one student at random ... \n",
    "* That student has declared a major!\n",
    "* Which is more likely: Freshman or Sophomore?"
   ]
  },
  {
   "cell_type": "markdown",
   "metadata": {
    "slideshow": {
     "slide_type": "subslide"
    },
    "tags": []
   },
   "source": [
    "### What do these scenarios have in common?"
   ]
  },
  {
   "cell_type": "markdown",
   "metadata": {},
   "source": [
    "* There is some chance event that I am interested in \n",
    "    * person has a disease\n",
    "    * the student's year\n",
    "* I start with some prior (before observing anything) information about that quantity P(Disease) or P(Year)\n",
    "* I then observe something whose value depends probabilistically on the original chance event Test is Positive, student has declared Neither exactly determines the original event\n",
    "* How do I update the probability of the original event given the additional information?"
   ]
  },
  {
   "cell_type": "markdown",
   "metadata": {
    "slideshow": {
     "slide_type": "slide"
    }
   },
   "source": [
    "## Conditional Probability"
   ]
  },
  {
   "cell_type": "markdown",
   "metadata": {
    "slideshow": {
     "slide_type": "subslide"
    },
    "tags": []
   },
   "source": [
    "### Conditional Probability"
   ]
  },
  {
   "cell_type": "markdown",
   "metadata": {},
   "source": [
    "Probability of an event given some information (it is conditioned on the information)\n",
    "Example: \n",
    "* “80% of third years are Declared” \n",
    "* P(Declared | Sophomore) = 0.8 <--- Notation\n",
    "\n"
   ]
  },
  {
   "cell_type": "markdown",
   "metadata": {
    "slideshow": {
     "slide_type": "subslide"
    },
    "tags": []
   },
   "source": [
    "### Conditional vs Joint Probabilities "
   ]
  },
  {
   "cell_type": "markdown",
   "metadata": {},
   "source": [
    "* Recall the joint probability of two events: \n",
    "    * P(Declared, Sophomore) = chance of a random student being a declared and a Sophomore\n",
    "* Conditional probability (the stuff after | is given):\n",
    "    * P(Declared | Sophomore) = chance of a random Sophomore student being declared \n",
    "* Which one is bigger?"
   ]
  },
  {
   "cell_type": "markdown",
   "metadata": {
    "slideshow": {
     "slide_type": "fragment"
    },
    "tags": []
   },
   "source": [
    "Answer: the conditional, will see why in a moment."
   ]
  },
  {
   "cell_type": "markdown",
   "metadata": {
    "slideshow": {
     "slide_type": "subslide"
    },
    "tags": []
   },
   "source": [
    "### An Example"
   ]
  },
  {
   "cell_type": "code",
   "execution_count": null,
   "metadata": {},
   "outputs": [],
   "source": [
    "from IPython.display import IFrame\n",
    "IFrame('https://docs.google.com/presentation/d/e/2PACX-1vRiLsFDsuuT\\\n",
    "_fGEkjNJJ5Yv6MdEkWshYniIDyrzR4F4vN7UkAUgwT-MrhUTy8_gxwyhLv3rTleNScXw\\\n",
    "/embed?start=false&loop=false&delayms=3000', 960, 569)"
   ]
  },
  {
   "cell_type": "markdown",
   "metadata": {
    "slideshow": {
     "slide_type": "slide"
    },
    "tags": []
   },
   "source": [
    "## Tree Diagrams"
   ]
  },
  {
   "cell_type": "markdown",
   "metadata": {
    "slideshow": {
     "slide_type": "subslide"
    },
    "tags": []
   },
   "source": [
    "### Tree Diagrams"
   ]
  },
  {
   "cell_type": "code",
   "execution_count": null,
   "metadata": {},
   "outputs": [],
   "source": [
    "from IPython.display import IFrame\n",
    "IFrame('https://docs.google.com/presentation/d/e/2PACX-1vTYqt2\\\n",
    "-0qckaBNAHfug29S4o0IV-tCrPkOp3a01wWsx65iyAmpFX3gI9ROkaZ21Syf77\\\n",
    "xyiIIDrGAgS/embed?start=false&loop=false&delayms=3000', 960, 569)"
   ]
  },
  {
   "cell_type": "markdown",
   "metadata": {
    "slideshow": {
     "slide_type": "slide"
    }
   },
   "source": [
    "## Bayes' Rule"
   ]
  },
  {
   "cell_type": "markdown",
   "metadata": {
    "slideshow": {
     "slide_type": "subslide"
    },
    "tags": []
   },
   "source": [
    "### Bayes' Rule"
   ]
  },
  {
   "cell_type": "code",
   "execution_count": null,
   "metadata": {
    "slideshow": {
     "slide_type": "-"
    }
   },
   "outputs": [],
   "source": [
    "from IPython.display import IFrame\n",
    "IFrame('https://docs.google.com/presentation/d/e/2PACX-1vSTI_AHfonqA-\\\n",
    "ww_uTioJOpF_sy8PHvEkaZ1B0ahy-KdKXygejBtQeQpIACZ0xNLnEYCfTbfkSC3Klw/\\\n",
    "embed?start=false&loop=false&delayms=3000', 960, 569)"
   ]
  },
  {
   "cell_type": "markdown",
   "metadata": {
    "slideshow": {
     "slide_type": "subslide"
    },
    "tags": []
   },
   "source": [
    "### A Closer Look at the Answer"
   ]
  },
  {
   "cell_type": "markdown",
   "metadata": {},
   "source": [
    "Assume a patient is picked at random.\n",
    "* Prior probability of disease \n",
    "    * P(Disease) = 0.001 = one-tenth of 1%\n",
    "* Posterior probability of disease given positive test\n",
    "    * P(Disease | Test positive) = 0.0194... ≅ 2%\n",
    "* Bigger than the prior, but still pretty small\n",
    "* Should we approve such a test?\n",
    "    * The test has low error rates compared to most tests\n",
    "* How can this be?\n"
   ]
  },
  {
   "cell_type": "markdown",
   "metadata": {
    "slideshow": {
     "slide_type": "subslide"
    },
    "tags": []
   },
   "source": [
    "### Assumptions Matter"
   ]
  },
  {
   "cell_type": "markdown",
   "metadata": {},
   "source": [
    "* \"Assume a patient is picked at random.\"\n",
    "    * But usually, people aren’t picked at random for medical tests\n",
    "    * So our intuition about randomly picked patients may not be great\n",
    "* For a randomly picked patient, the result does make sense, because the disease is very rare.\n",
    "* What if the doctor believes there is a 10% chance the patient has the disease?"
   ]
  },
  {
   "cell_type": "markdown",
   "metadata": {
    "slideshow": {
     "slide_type": "subslide"
    },
    "tags": []
   },
   "source": [
    "### Bayes' Rule and Covid Testing"
   ]
  },
  {
   "cell_type": "markdown",
   "metadata": {
    "slideshow": {
     "slide_type": "-"
    }
   },
   "source": [
    "<img src=\"img/lec36_bayes.png\" width=50%>\n",
    "\n",
    "*Image Source: [The obscure maths theorem that governs the reliability of Covid testing - The Guardian](https://www.theguardian.com/world/2021/apr/18/obscure-maths-bayes-theorem-reliability-covid-lateral-flow-tests-probability)*"
   ]
  },
  {
   "cell_type": "markdown",
   "metadata": {
    "slideshow": {
     "slide_type": "subslide"
    },
    "tags": []
   },
   "source": [
    "### Demo: Bayes' Rule"
   ]
  },
  {
   "cell_type": "markdown",
   "metadata": {
    "slideshow": {
     "slide_type": "notes"
    },
    "tags": []
   },
   "source": [
    "Create a function that calculates $P(A \\mid B) = \\frac{P(A) \\cdot P(B\\mid A)}{P(B)}$"
   ]
  },
  {
   "cell_type": "code",
   "execution_count": null,
   "metadata": {},
   "outputs": [],
   "source": [
    "def bayes_rule(pr_a, pr_b_given_a, pr_b_given_not_a):\n",
    "    \"\"\"\n",
    "    Bayes' Rule\n",
    "    P(A | B) = P(A)P(B|A) / P(B)\n",
    "    \n",
    "    To Compute P(B)\n",
    "        P(B) = P(B, A) + P(B, Not A) \n",
    "             = P(A)P(B|A) + P(Not A)P(B | Not A)\n",
    "    \"\"\"\n",
    "    prb_b = ...\n",
    "    return ..."
   ]
  },
  {
   "cell_type": "markdown",
   "metadata": {
    "slideshow": {
     "slide_type": "notes"
    },
    "tags": []
   },
   "source": [
    "Use `bayes_rule` to calculate the probability for the original medical question."
   ]
  },
  {
   "cell_type": "code",
   "execution_count": null,
   "metadata": {},
   "outputs": [],
   "source": [
    "pr_disease = ...\n",
    "pr_pos_given_disease = ...\n",
    "pr_pos_given_no_disease = ...\n",
    "\n",
    "bayes_rule(...)"
   ]
  },
  {
   "cell_type": "markdown",
   "metadata": {
    "slideshow": {
     "slide_type": "notes"
    },
    "tags": []
   },
   "source": [
    "How does the conditional probability change when the prior is larger?"
   ]
  },
  {
   "cell_type": "code",
   "execution_count": null,
   "metadata": {},
   "outputs": [],
   "source": [
    "pr_disease_update = ...\n",
    "pr_pos_given_disease = ...\n",
    "pr_pos_given_no_disease = ...\n",
    "\n",
    "bayes_rule(...)"
   ]
  },
  {
   "cell_type": "markdown",
   "metadata": {
    "slideshow": {
     "slide_type": "notes"
    },
    "tags": []
   },
   "source": [
    "Notice how quickly the Posterior probability climbs as the Prior probability increases."
   ]
  },
  {
   "cell_type": "code",
   "execution_count": null,
   "metadata": {},
   "outputs": [],
   "source": [
    "pr_disease = np.arange(1,999)/1000\n",
    "pr_pos_given_disease = 0.99\n",
    "pr_pos_given_no_disease = 0.05\n",
    "\n",
    "post = bayes_rule(pr_disease, pr_pos_given_disease, pr_pos_given_no_disease)\n",
    "Table().with_columns(\n",
    "    \"Prior Pr(Disease)\", pr_disease, \n",
    "    \"Posterior Pr(Disease | Pos. Test)\", post).iplot(\"Prior Pr(Disease)\")"
   ]
  },
  {
   "cell_type": "markdown",
   "metadata": {
    "slideshow": {
     "slide_type": "slide"
    }
   },
   "source": [
    "## Subjective Probabilities"
   ]
  },
  {
   "cell_type": "markdown",
   "metadata": {
    "slideshow": {
     "slide_type": "subslide"
    },
    "tags": []
   },
   "source": [
    "### Subjective Probabilities"
   ]
  },
  {
   "cell_type": "markdown",
   "metadata": {
    "slideshow": {
     "slide_type": "-"
    }
   },
   "source": [
    "* A probability of an outcome can be thought of as:\n",
    "    * A Perspective: The frequency with which it will occur in repeated trials\n",
    "    * Another Perspective: The **subjective** degree of belief that it will (or has) occurred\n",
    "* Why use **subjective** priors?\n",
    "    * In order to quantify a belief that is relevant to a decision\n",
    "    * If the subject of your prediction was not selected randomly from the population\n"
   ]
  },
  {
   "cell_type": "markdown",
   "metadata": {
    "slideshow": {
     "slide_type": "notes"
    }
   },
   "source": [
    "<footer>\n",
    "    <hr>\n",
    "    <p>Adopted from UC Berkeley DATA 8 course materials.</p>\n",
    "    <p>This content is offered under a <a href=\"https://creativecommons.org/licenses/by-nc-sa/4.0/\">CC Attribution Non-Commercial Share Alike</a> license.</p>\n",
    "</footer>"
   ]
  }
 ],
 "metadata": {
  "kernelspec": {
   "display_name": "Python 3 (ipykernel)",
   "language": "python",
   "name": "python3"
  },
  "language_info": {
   "codemirror_mode": {
    "name": "ipython",
    "version": 3
   },
   "file_extension": ".py",
   "mimetype": "text/x-python",
   "name": "python",
   "nbconvert_exporter": "python",
   "pygments_lexer": "ipython3",
   "version": "3.10.9"
  },
  "rise": {
   "controls": false,
   "transition": "none"
  }
 },
 "nbformat": 4,
 "nbformat_minor": 4
}
