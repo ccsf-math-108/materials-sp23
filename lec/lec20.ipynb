{
 "cells": [
  {
   "cell_type": "markdown",
   "metadata": {
    "slideshow": {
     "slide_type": "slide"
    }
   },
   "source": [
    "<div style=\"width: 38.5%;\">\n",
    "    <p><strong>City College of San Francisco</strong><p>\n",
    "    <hr>\n",
    "    <p>MATH 108 - Foundations of Data Science</p>\n",
    "</div>"
   ]
  },
  {
   "cell_type": "markdown",
   "metadata": {
    "slideshow": {
     "slide_type": "-"
    }
   },
   "source": [
    "# Lecture 20: A/B Testing"
   ]
  },
  {
   "cell_type": "markdown",
   "metadata": {
    "slideshow": {
     "slide_type": "-"
    }
   },
   "source": [
    "Associated Textbook Sections: [12.0, 12.1](https://inferentialthinking.com/chapters/12/Comparing_Two_Samples.html)"
   ]
  },
  {
   "cell_type": "markdown",
   "metadata": {
    "slideshow": {
     "slide_type": "slide"
    }
   },
   "source": [
    "## Outline"
   ]
  },
  {
   "cell_type": "markdown",
   "metadata": {
    "slideshow": {
     "slide_type": "-"
    }
   },
   "source": [
    "* [A/B Testing](#A/B-Testing)\n",
    "* [Digital Experiments](#Digital-Experiments)\n",
    "* [Hypothesis Testing Review](#Hypothesis-Testing-Review)"
   ]
  },
  {
   "cell_type": "markdown",
   "metadata": {
    "slideshow": {
     "slide_type": "slide"
    }
   },
   "source": [
    "## Set Up the Notebook"
   ]
  },
  {
   "cell_type": "code",
   "execution_count": null,
   "metadata": {
    "slideshow": {
     "slide_type": "-"
    }
   },
   "outputs": [],
   "source": [
    "from datascience import *\n",
    "import numpy as np\n",
    "%matplotlib inline\n",
    "import matplotlib.pyplot as plots\n",
    "plots.style.use('fivethirtyeight')"
   ]
  },
  {
   "cell_type": "markdown",
   "metadata": {
    "slideshow": {
     "slide_type": "fragment"
    }
   },
   "source": [
    "---"
   ]
  },
  {
   "cell_type": "markdown",
   "metadata": {
    "slideshow": {
     "slide_type": "slide"
    }
   },
   "source": [
    "## A/B Testing"
   ]
  },
  {
   "cell_type": "markdown",
   "metadata": {
    "slideshow": {
     "slide_type": "subslide"
    }
   },
   "source": [
    "### Comparing Two Samples"
   ]
  },
  {
   "cell_type": "markdown",
   "metadata": {
    "slideshow": {
     "slide_type": "-"
    }
   },
   "source": [
    "* Compare values of sampled individuals in Group A with values of sampled individuals in Group B.\n",
    "* Question: Do the two sets of values come from the same underlying distribution?\n",
    "* Answering this question by performing a statistical test is called A/B testing."
   ]
  },
  {
   "cell_type": "markdown",
   "metadata": {
    "slideshow": {
     "slide_type": "subslide"
    }
   },
   "source": [
    "### Demo: Smoking and Birth Weight"
   ]
  },
  {
   "cell_type": "markdown",
   "metadata": {},
   "source": [
    "Load the data in `baby.csv`. This data contains information on 1174 pregnancies and was part of a larger study of all the births form 1960 to 1967 among women in the Kaiser Foundation Health Plan in Oakland, California."
   ]
  },
  {
   "cell_type": "code",
   "execution_count": null,
   "metadata": {
    "slideshow": {
     "slide_type": "-"
    }
   },
   "outputs": [],
   "source": [
    "births = Table().read_table(\"./data/baby.csv\")\n",
    "births"
   ]
  },
  {
   "cell_type": "markdown",
   "metadata": {
    "slideshow": {
     "slide_type": "notes"
    }
   },
   "source": [
    "Explore the relationship between the values of `'Maternal Smoker'` and `'Birth Weight'`."
   ]
  },
  {
   "cell_type": "code",
   "execution_count": null,
   "metadata": {
    "slideshow": {
     "slide_type": "subslide"
    }
   },
   "outputs": [],
   "source": [
    "smoking_and_birthweight = births.select('Maternal Smoker', 'Birth Weight')\n",
    "smoking_and_birthweight.show(2)"
   ]
  },
  {
   "cell_type": "code",
   "execution_count": null,
   "metadata": {
    "slideshow": {
     "slide_type": "subslide"
    }
   },
   "outputs": [],
   "source": [
    "smoking_and_birthweight.group('Maternal Smoker')"
   ]
  },
  {
   "cell_type": "code",
   "execution_count": null,
   "metadata": {
    "slideshow": {
     "slide_type": "fragment"
    }
   },
   "outputs": [],
   "source": [
    "smoking_and_birthweight.group('Maternal Smoker', np.mean)"
   ]
  },
  {
   "cell_type": "code",
   "execution_count": null,
   "metadata": {
    "slideshow": {
     "slide_type": "subslide"
    },
    "tags": []
   },
   "outputs": [],
   "source": [
    "smoking_and_birthweight.hist('Birth Weight', group='Maternal Smoker')"
   ]
  },
  {
   "cell_type": "markdown",
   "metadata": {
    "slideshow": {
     "slide_type": "subslide"
    }
   },
   "source": [
    "### The Groups and the Question"
   ]
  },
  {
   "cell_type": "markdown",
   "metadata": {
    "slideshow": {
     "slide_type": "-"
    }
   },
   "source": [
    "* Sample of mothers of newborns. Compare:\n",
    "    * (A) Birth weights of babies of mothers who smoked during pregnancy \n",
    "    * (B) Birth weights of babies of mothers who didn't smoke\n",
    "* Question: Could the differences we are observing be due to chance alone?\n"
   ]
  },
  {
   "cell_type": "markdown",
   "metadata": {
    "slideshow": {
     "slide_type": "subslide"
    }
   },
   "source": [
    "### Hypotheses"
   ]
  },
  {
   "cell_type": "markdown",
   "metadata": {
    "slideshow": {
     "slide_type": "-"
    }
   },
   "source": [
    "* Null Hypothesis: ...\n",
    "* Alternative Hypothesis: ...\n"
   ]
  },
  {
   "cell_type": "markdown",
   "metadata": {
    "slideshow": {
     "slide_type": "subslide"
    }
   },
   "source": [
    "### Test Statistic"
   ]
  },
  {
   "cell_type": "markdown",
   "metadata": {
    "slideshow": {
     "slide_type": "-"
    }
   },
   "source": [
    "* Group A: non-smokers\n",
    "* Group B: smokers\n",
    "* Statistic: Difference between average weights: `group_B_mean - group_A_mean`  \n",
    "* Negative values of this statistic favor the alternative\n"
   ]
  },
  {
   "cell_type": "markdown",
   "metadata": {
    "slideshow": {
     "slide_type": "notes"
    }
   },
   "source": [
    "Determine the average difference in the birth weights associated with mothers that did and didn't smoke during pregnancy."
   ]
  },
  {
   "cell_type": "code",
   "execution_count": null,
   "metadata": {
    "slideshow": {
     "slide_type": "subslide"
    }
   },
   "outputs": [],
   "source": [
    "means_table = smoking_and_birthweight.group('Maternal Smoker', np.average)\n",
    "means_table"
   ]
  },
  {
   "cell_type": "code",
   "execution_count": null,
   "metadata": {
    "slideshow": {
     "slide_type": "fragment"
    }
   },
   "outputs": [],
   "source": [
    "means = ...\n",
    "observed_difference = ...\n",
    "observed_difference"
   ]
  },
  {
   "cell_type": "markdown",
   "metadata": {
    "slideshow": {
     "slide_type": "notes"
    }
   },
   "source": [
    "Create a function that take name of table, column label of numerical variable, column label of group-label variable and returns the difference of means of the two groups."
   ]
  },
  {
   "cell_type": "code",
   "execution_count": null,
   "metadata": {
    "slideshow": {
     "slide_type": "subslide"
    }
   },
   "outputs": [],
   "source": [
    "def difference_of_means(table, value_label, group_label):\n",
    "    \"\"\"Takes: name of table, column value_label of numerical variable,\n",
    "    column group_label of group-label variable\n",
    "    Returns: Difference of means of the two group-labels\"\"\"\n",
    "    \n",
    "    #table with the two relevant columns\n",
    "    reduced = ...  \n",
    "    \n",
    "    # table containing group means\n",
    "    means_table = ...\n",
    "    \n",
    "    # array of group means\n",
    "    means = ...\n",
    "    \n",
    "    return ..."
   ]
  },
  {
   "cell_type": "code",
   "execution_count": null,
   "metadata": {
    "slideshow": {
     "slide_type": "fragment"
    }
   },
   "outputs": [],
   "source": [
    "difference_of_means(...)"
   ]
  },
  {
   "cell_type": "markdown",
   "metadata": {
    "slideshow": {
     "slide_type": "subslide"
    }
   },
   "source": [
    "### The Data"
   ]
  },
  {
   "cell_type": "markdown",
   "metadata": {
    "slideshow": {
     "slide_type": "-"
    }
   },
   "source": [
    "<img src=\"img/lec19_the_data.png\" width=80%>"
   ]
  },
  {
   "cell_type": "markdown",
   "metadata": {
    "slideshow": {
     "slide_type": "subslide"
    }
   },
   "source": [
    "### Shuffling Labels Under the Null"
   ]
  },
  {
   "cell_type": "markdown",
   "metadata": {
    "slideshow": {
     "slide_type": "-"
    }
   },
   "source": [
    "<img src=\"img/lec19_shuffling_labels.png\" width=80%>"
   ]
  },
  {
   "cell_type": "markdown",
   "metadata": {
    "slideshow": {
     "slide_type": "subslide"
    }
   },
   "source": [
    "### Shuffling Rows"
   ]
  },
  {
   "cell_type": "markdown",
   "metadata": {
    "slideshow": {
     "slide_type": "subslide"
    }
   },
   "source": [
    "#### The `sample` table method."
   ]
  },
  {
   "cell_type": "markdown",
   "metadata": {
    "slideshow": {
     "slide_type": "-"
    }
   },
   "source": [
    "* `tbl.sample(n)`: Table of `n` rows picked randomly with replacement\n",
    "* `tbl.sample()`: Table with same number of rows as original `tbl`, picked randomly with replacement\n",
    "* `tbl.sample(n, with_replacement = False)`: Table of `n` rows picked randomly without replacement\n",
    "* `tbl.sample(with_replacement = False)`: All rows of `tbl`, in random order"
   ]
  },
  {
   "cell_type": "markdown",
   "metadata": {
    "slideshow": {
     "slide_type": "subslide"
    }
   },
   "source": [
    "#### Random Permutation (Shuffling)"
   ]
  },
  {
   "cell_type": "markdown",
   "metadata": {
    "slideshow": {
     "slide_type": "notes"
    }
   },
   "source": [
    "Demonstrate how to perform a random permutation using the `sample` method."
   ]
  },
  {
   "cell_type": "code",
   "execution_count": null,
   "metadata": {
    "slideshow": {
     "slide_type": "-"
    }
   },
   "outputs": [],
   "source": [
    "letters = Table().with_column('Letter', make_array('a', 'b', 'c', 'd', 'e'))\n",
    "letters"
   ]
  },
  {
   "cell_type": "code",
   "execution_count": null,
   "metadata": {
    "slideshow": {
     "slide_type": "subslide"
    }
   },
   "outputs": [],
   "source": [
    "# most likely not a permutation\n",
    "letters.sample()"
   ]
  },
  {
   "cell_type": "code",
   "execution_count": null,
   "metadata": {
    "slideshow": {
     "slide_type": "fragment"
    }
   },
   "outputs": [],
   "source": [
    "# a random permutation\n",
    "letters.sample(with_replacement = False)"
   ]
  },
  {
   "cell_type": "code",
   "execution_count": null,
   "metadata": {
    "slideshow": {
     "slide_type": "subslide"
    }
   },
   "outputs": [],
   "source": [
    "shuffled_letters = letters.sample(with_replacement = False).column('Letter')\n",
    "letters.with_column('Shuffled Letter', shuffled_letters)"
   ]
  },
  {
   "cell_type": "markdown",
   "metadata": {
    "slideshow": {
     "slide_type": "subslide"
    }
   },
   "source": [
    "#### Simulating Under the Null"
   ]
  },
  {
   "cell_type": "markdown",
   "metadata": {
    "slideshow": {
     "slide_type": "-"
    }
   },
   "source": [
    "* If the null is true, all rearrangements of labels are equally likely\n",
    "* Plan:\n",
    "    1. Shuffle all group labels\n",
    "    1. Assign each shuffled label to a birth weight\n",
    "    1. Find the difference between the averages of the two shuffled groups\n",
    "    1. Repeat\n",
    "* This process is generally called a permutation test.\n"
   ]
  },
  {
   "cell_type": "markdown",
   "metadata": {
    "slideshow": {
     "slide_type": "subslide"
    }
   },
   "source": [
    "### Simulation Under Null Hypothesis"
   ]
  },
  {
   "cell_type": "markdown",
   "metadata": {
    "slideshow": {
     "slide_type": "notes"
    }
   },
   "source": [
    "Perform a random permutation on the table containing a Boolean-valued column representing whether or not the mother smoked during pregnancy and a integer-valued column of their baby's birth weight."
   ]
  },
  {
   "cell_type": "code",
   "execution_count": null,
   "metadata": {
    "slideshow": {
     "slide_type": "-"
    }
   },
   "outputs": [],
   "source": [
    "smoking_and_birthweight.show(3)"
   ]
  },
  {
   "cell_type": "code",
   "execution_count": null,
   "metadata": {
    "slideshow": {
     "slide_type": "subslide"
    }
   },
   "outputs": [],
   "source": [
    "shuffled_labels = ..."
   ]
  },
  {
   "cell_type": "code",
   "execution_count": null,
   "metadata": {
    "slideshow": {
     "slide_type": "fragment"
    }
   },
   "outputs": [],
   "source": [
    "original_and_shuffled = ...\n",
    "original_and_shuffled"
   ]
  },
  {
   "cell_type": "markdown",
   "metadata": {
    "slideshow": {
     "slide_type": "notes"
    }
   },
   "source": [
    "Calculate the difference of the birth weight means for the two smoking groups based on the shuffled data and the original data."
   ]
  },
  {
   "cell_type": "code",
   "execution_count": null,
   "metadata": {
    "slideshow": {
     "slide_type": "subslide"
    }
   },
   "outputs": [],
   "source": [
    "difference_of_means(...)"
   ]
  },
  {
   "cell_type": "code",
   "execution_count": null,
   "metadata": {
    "slideshow": {
     "slide_type": "fragment"
    }
   },
   "outputs": [],
   "source": [
    "difference_of_means(...)"
   ]
  },
  {
   "cell_type": "markdown",
   "metadata": {
    "slideshow": {
     "slide_type": "subslide"
    }
   },
   "source": [
    "### Permutation Test"
   ]
  },
  {
   "cell_type": "markdown",
   "metadata": {
    "slideshow": {
     "slide_type": "notes"
    }
   },
   "source": [
    "Perform a permutation test using 2500 simulations to determine how likely it is to see the observed birth weights if it is assumed that there was no impact on birth weight due to the mother smoking or not during pregnancy. *This might take a few minutes to run.*"
   ]
  },
  {
   "cell_type": "code",
   "execution_count": null,
   "metadata": {
    "slideshow": {
     "slide_type": "-"
    }
   },
   "outputs": [],
   "source": [
    "def one_simulated_difference(table, value_label, group_label):\n",
    "    \"\"\"Takes: name of table, column value_label of numerical variable,\n",
    "    column group_label of group-label variable\n",
    "    Returns: Difference of means of the two groups after shuffling group_labels\"\"\"\n",
    "    \n",
    "    # array of shuffled labels\n",
    "    shuffled_labels = ...\n",
    "    \n",
    "    # table of numerical variable and shuffled labels\n",
    "    shuffled_table = ...\n",
    "    \n",
    "    return ...   "
   ]
  },
  {
   "cell_type": "code",
   "execution_count": null,
   "metadata": {
    "slideshow": {
     "slide_type": "fragment"
    }
   },
   "outputs": [],
   "source": [
    "one_simulated_difference(...)"
   ]
  },
  {
   "cell_type": "code",
   "execution_count": null,
   "metadata": {
    "slideshow": {
     "slide_type": "subslide"
    }
   },
   "outputs": [],
   "source": [
    "..."
   ]
  },
  {
   "cell_type": "code",
   "execution_count": null,
   "metadata": {
    "slideshow": {
     "slide_type": "subslide"
    }
   },
   "outputs": [],
   "source": [
    "Table().with_column('Difference Between Group Means', differences).hist()\n",
    "print('Observed Difference:', observed_difference)\n",
    "plots.scatter(observed_difference, 0, color='red', s=60, zorder=3)\n",
    "plots.title('Prediction Under the Null Hypothesis');"
   ]
  },
  {
   "cell_type": "markdown",
   "metadata": {
    "slideshow": {
     "slide_type": "notes"
    }
   },
   "source": [
    "Calculate the p-value."
   ]
  },
  {
   "cell_type": "code",
   "execution_count": null,
   "metadata": {
    "slideshow": {
     "slide_type": "subslide"
    }
   },
   "outputs": [],
   "source": [
    "p_value = ...\n",
    "p_value"
   ]
  },
  {
   "cell_type": "markdown",
   "metadata": {
    "slideshow": {
     "slide_type": "subslide"
    }
   },
   "source": [
    "### Conclusion"
   ]
  },
  {
   "cell_type": "markdown",
   "metadata": {
    "slideshow": {
     "slide_type": "fragment"
    }
   },
   "source": [
    "..."
   ]
  },
  {
   "cell_type": "markdown",
   "metadata": {
    "slideshow": {
     "slide_type": "fragment"
    }
   },
   "source": [
    "---"
   ]
  },
  {
   "cell_type": "markdown",
   "metadata": {
    "slideshow": {
     "slide_type": "slide"
    }
   },
   "source": [
    "## Digital Experiments"
   ]
  },
  {
   "cell_type": "markdown",
   "metadata": {},
   "source": [
    "* A/B tests are used in digital experiments. \n",
    "* Since they are typically easy to implement, it is common to find that multiple tests are actually run over a period of time.\n",
    "* The can provide a methodical way to measure whether some new feature is having a statistically significant impact.\n",
    "    * Advertising revenue\n",
    "    * Click rate\n",
    "    * etc.\n"
   ]
  },
  {
   "cell_type": "markdown",
   "metadata": {
    "slideshow": {
     "slide_type": "subslide"
    }
   },
   "source": [
    "<center>\n",
    "    <img src=\"./img/A-B_testing_example.png\" alt=\"A comparision of two versions of a website design showing how the design might impact the click rate.\" width=60%>\n",
    "</center>"
   ]
  },
  {
   "cell_type": "markdown",
   "metadata": {
    "slideshow": {
     "slide_type": "notes"
    }
   },
   "source": [
    "_Image Source: [Wikipedia - A/B Testing](https://en.wikipedia.org/wiki/A/B_testing)_"
   ]
  },
  {
   "cell_type": "markdown",
   "metadata": {
    "slideshow": {
     "slide_type": "subslide"
    }
   },
   "source": [
    "### ASOS.com"
   ]
  },
  {
   "cell_type": "markdown",
   "metadata": {
    "slideshow": {
     "slide_type": "notes"
    }
   },
   "source": [
    "[ASOS](https://www.asos.com/us/) is a fashion brand and they share [datasets from their digital experiments](https://github.com/liuchbryan/oce-dataset). For each of the experiments, you can see the change in measurements between the control and treatment groups over time.\n",
    "\n",
    "*  _This example provides an optional look at real experimental data from a corporation's test results._\n",
    "* _The company has anonymized the experiments and the measurements._\n",
    "* _Understanding the context of a data source is important for interpreting results of a statistical test._"
   ]
  },
  {
   "cell_type": "code",
   "execution_count": null,
   "metadata": {
    "slideshow": {
     "slide_type": "-"
    }
   },
   "outputs": [],
   "source": [
    "asos = Table.read_table('./data/asos_digital_experiments_dataset.csv')\n",
    "asos"
   ]
  },
  {
   "cell_type": "markdown",
   "metadata": {
    "slideshow": {
     "slide_type": "notes"
    }
   },
   "source": [
    "Here is an explanation of what the labels represent in this dataset."
   ]
  },
  {
   "cell_type": "markdown",
   "metadata": {
    "slideshow": {
     "slide_type": "subslide"
    }
   },
   "source": [
    "| Field Name | Description | Data Type | Format/ Example | Null value allowed? |\n",
    "| --- | --- | --- | --- | --- |\n",
    "| `experiment_id` | Anonymised ID for the A/B test | string | “036afc” | No |\n",
    "| `variant_id` | The ID of the treatment group. The summary statistics for the corresponding control group is included in Columns 5-7, and hence there are no dedicated rows for the control groups in this dataset. <br /><br /> Note: The variants are not necessarily numbered consecutively. | integer | 2 | No |\n",
    "| `metric_id` | The ID of the organisational metric. (See notes below on list of metric) | integer | (1 \\| 2 \\| 3 \\| 4) | No |\n",
    "| `time_since_start` | \tNumber of days since the start of the experiment. | double | 12.5 | No |\n",
    "| `count_c` | Number of samples in the control group. (The number is stored as a double, but they are clearly integers) | double | 123456.0 | No |\n",
    "| `mean_c` | The sample mean of responses across the control group. | double | 4.361 | Yes |\n",
    "| `variance_c` | The sample variance of responses across the control group. | double | 72.354 | Yes |\n",
    "| `count_t` | Number of samples in the treatment group. | double | 123572.0 | Yes |\n",
    "| `mean_t` | The sample mean of responses across the treatment group. | double | 4.345 | Yes |\n",
    "| `variance_t` | The sample variance of responses across the treatment group. | double | 73.591 | Yes |"
   ]
  },
  {
   "cell_type": "markdown",
   "metadata": {
    "slideshow": {
     "slide_type": "fragment"
    }
   },
   "source": [
    "#### List of metrics"
   ]
  },
  {
   "cell_type": "markdown",
   "metadata": {
    "slideshow": {
     "slide_type": "-"
    }
   },
   "source": [
    "The dataset features four metrics, numbered 1, 2, 3, and 4. Metric 1 accepts binary responses, metrics 2 and 3 accept count-based responses, and metric 4 accepts non-negative real number responses. The responses for metrics 2, 3, and 4 demonstrate various degrees of right skewness."
   ]
  },
  {
   "cell_type": "markdown",
   "metadata": {
    "slideshow": {
     "slide_type": "notes"
    }
   },
   "source": [
    "Visualize the trend of the observed difference in means for the experiment labeled `036afc` for metric 4. Notice the gap that is likely to reflect a gap in the time period in which the experiments where run before pausing to reflect and make modifications."
   ]
  },
  {
   "cell_type": "code",
   "execution_count": null,
   "metadata": {
    "slideshow": {
     "slide_type": "subslide"
    }
   },
   "outputs": [],
   "source": [
    "exp_id = '036afc'\n",
    "metric_id = 4\n",
    "reduced = asos.where('experiment_id', exp_id).where('metric_id', metric_id)\n",
    "times = reduced.column('time_since_start')\n",
    "diffs = reduced.column('mean_c') - reduced.column('mean_t')\n",
    "means_table = Table().with_columns(\n",
    "    'Time Since Start', times,\n",
    "    'Diff in Means', diffs\n",
    ")\n",
    "means_table.plot('Time Since Start')"
   ]
  },
  {
   "cell_type": "code",
   "execution_count": null,
   "metadata": {
    "slideshow": {
     "slide_type": "subslide"
    }
   },
   "outputs": [],
   "source": [
    "means_table.hist('Diff in Means')"
   ]
  },
  {
   "cell_type": "code",
   "execution_count": null,
   "metadata": {
    "slideshow": {
     "slide_type": "subslide"
    }
   },
   "outputs": [],
   "source": [
    "means_table_pre_40 = means_table.where('Time Since Start', are.below(40))\n",
    "means_table_post_40 = means_table.where('Time Since Start', are.above_or_equal_to(40))"
   ]
  },
  {
   "cell_type": "code",
   "execution_count": null,
   "metadata": {
    "slideshow": {
     "slide_type": "subslide"
    }
   },
   "outputs": [],
   "source": [
    "means_table_pre_40.hist('Diff in Means')\n",
    "plots.hist(means_table_post_40.column('Diff in Means'), alpha=0.5)\n",
    "plots.show()"
   ]
  },
  {
   "cell_type": "markdown",
   "metadata": {
    "slideshow": {
     "slide_type": "fragment"
    }
   },
   "source": [
    "---"
   ]
  },
  {
   "cell_type": "markdown",
   "metadata": {
    "slideshow": {
     "slide_type": "slide"
    }
   },
   "source": [
    "## Hypothesis Testing Review"
   ]
  },
  {
   "cell_type": "markdown",
   "metadata": {
    "slideshow": {
     "slide_type": "subslide"
    }
   },
   "source": [
    "### Some Hypothesis Testing Situations"
   ]
  },
  {
   "cell_type": "markdown",
   "metadata": {
    "slideshow": {
     "slide_type": "-"
    }
   },
   "source": [
    "* 1 Sample: One Category (e.g. percent of flowers that are purple)\n",
    "    * Test Statistic: `empirical_percent`, `abs(empirical_percent - null_percent)`\n",
    "    * How to Simulate: `sample_proportions(n, null_dist)`\n",
    "* 1 Sample: Multiple Categories (e.g. ethnicity distribution of jury panel)\n",
    "    * Test Statistic: `tvd(empirical_dist, null_dist)`\n",
    "    * How to Simulate: `sample_proportions(n, null_dist)`\n",
    "* 1 Sample: Numerical Data (e.g. scores in a lab section)\n",
    "    * Test Statistic: `empirical_mean`, `abs(empirical_mean - null_mean)`\n",
    "    * How to Simulate: `population_data.sample(n, with_replacement=False)`\n",
    "* 2 Samples: Numerical Data (e.g. birth weights of smokers vs. non-smokers)\n",
    "    * Test Statistic: `group_a_mean - group_b_mean`, `group_b_mean - group_a_mean`, `abs(group_a_mean - group_b_mean)`\n",
    "    * How to Simulate: `empirical_data.sample(with_replacement=False)`\n"
   ]
  },
  {
   "cell_type": "markdown",
   "metadata": {
    "slideshow": {
     "slide_type": "notes"
    }
   },
   "source": [
    "<footer>\n",
    "    <p>Adopted from UC Berkeley DATA 8 course materials.</p>\n",
    "    <p>This content is offered under a <a href=\"https://creativecommons.org/licenses/by-nc-sa/4.0/\">CC Attribution Non-Commercial Share Alike</a> license.</p>\n",
    "</footer>"
   ]
  }
 ],
 "metadata": {
  "kernelspec": {
   "display_name": "Python 3 (ipykernel)",
   "language": "python",
   "name": "python3"
  },
  "language_info": {
   "codemirror_mode": {
    "name": "ipython",
    "version": 3
   },
   "file_extension": ".py",
   "mimetype": "text/x-python",
   "name": "python",
   "nbconvert_exporter": "python",
   "pygments_lexer": "ipython3",
   "version": "3.10.9"
  },
  "rise": {
   "controls": false,
   "transition": "none"
  }
 },
 "nbformat": 4,
 "nbformat_minor": 4
}
