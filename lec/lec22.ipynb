{
 "cells": [
  {
   "cell_type": "markdown",
   "metadata": {
    "slideshow": {
     "slide_type": "slide"
    }
   },
   "source": [
    "<div style=\"width: 38.5%;\">\n",
    "    <p><strong>City College of San Francisco</strong><p>\n",
    "    <hr>\n",
    "    <p>MATH 108 - Foundations of Data Science</p>\n",
    "</div>"
   ]
  },
  {
   "cell_type": "markdown",
   "metadata": {
    "slideshow": {
     "slide_type": "-"
    }
   },
   "source": [
    "# Lecture 22: Examples"
   ]
  },
  {
   "cell_type": "markdown",
   "metadata": {
    "slideshow": {
     "slide_type": "-"
    }
   },
   "source": [
    "Associated Textbook Sections: [12.3](https://inferentialthinking.com/chapters/12/3/Deflategate.html)"
   ]
  },
  {
   "cell_type": "markdown",
   "metadata": {
    "slideshow": {
     "slide_type": "slide"
    }
   },
   "source": [
    "## Outline"
   ]
  },
  {
   "cell_type": "markdown",
   "metadata": {},
   "source": [
    "* [Benford's Law](#Benford's-Law)\n",
    "* [Reaction Time](#Reaction-Time)\n",
    "* [Zodiac Signs](#Zodiac-Signs)"
   ]
  },
  {
   "cell_type": "markdown",
   "metadata": {
    "slideshow": {
     "slide_type": "slide"
    }
   },
   "source": [
    "## Set Up the Notebook"
   ]
  },
  {
   "cell_type": "code",
   "execution_count": null,
   "metadata": {
    "slideshow": {
     "slide_type": "-"
    }
   },
   "outputs": [],
   "source": [
    "from datascience import *\n",
    "import numpy as np\n",
    "%matplotlib inline\n",
    "import matplotlib.pyplot as plots\n",
    "plots.style.use('fivethirtyeight')"
   ]
  },
  {
   "cell_type": "markdown",
   "metadata": {
    "slideshow": {
     "slide_type": "fragment"
    }
   },
   "source": [
    "---"
   ]
  },
  {
   "cell_type": "markdown",
   "metadata": {
    "slideshow": {
     "slide_type": "subslide"
    }
   },
   "source": [
    "## Benford's Law"
   ]
  },
  {
   "cell_type": "markdown",
   "metadata": {},
   "source": [
    "> [Benford's law](https://en.wikipedia.org/wiki/Benford%27s_law), also known as the Newcomb-Benford law, the law of anomalous numbers, or the first-digit law, is an observation that in many real-life sets of numerical data, the leading digit is likely to be small. Benford's law tends to apply most accurately to data that span several orders of magnitude. As a rule of thumb, the more orders of magnitude that the data evenly covers, the more accurately Benford's law applies."
   ]
  },
  {
   "cell_type": "markdown",
   "metadata": {
    "slideshow": {
     "slide_type": "notes"
    }
   },
   "source": [
    "Observe the distribution of the first digits of numbers according to Benford's model."
   ]
  },
  {
   "cell_type": "code",
   "execution_count": null,
   "metadata": {
    "slideshow": {
     "slide_type": "subslide"
    }
   },
   "outputs": [],
   "source": [
    "digits = np.arange(1, 10)\n",
    "benford_model = np.log10(1 + 1/digits)\n",
    "benford = Table().with_columns(\n",
    "    'First digit', digits,\n",
    "    'Benford model prob', benford_model)\n",
    "benford"
   ]
  },
  {
   "cell_type": "code",
   "execution_count": null,
   "metadata": {
    "slideshow": {
     "slide_type": "subslide"
    },
    "tags": []
   },
   "outputs": [],
   "source": [
    "benford.barh('First digit')"
   ]
  },
  {
   "cell_type": "markdown",
   "metadata": {
    "slideshow": {
     "slide_type": "notes"
    }
   },
   "source": [
    "Use bracket notation to get get the first character of a string. \n",
    "\n",
    "_The use of bracket notation here is just for an example. Bracket notation is a common way in Python to obtain information within a collection. This is similar to how we use `.item(0)` with arrays._"
   ]
  },
  {
   "cell_type": "code",
   "execution_count": null,
   "metadata": {
    "slideshow": {
     "slide_type": "subslide"
    }
   },
   "outputs": [],
   "source": [
    "a_string = 'data science'\n",
    "a_string[0]"
   ]
  },
  {
   "cell_type": "markdown",
   "metadata": {
    "slideshow": {
     "slide_type": "notes"
    }
   },
   "source": [
    "Try the same thing with an integer."
   ]
  },
  {
   "cell_type": "code",
   "execution_count": null,
   "metadata": {
    "slideshow": {
     "slide_type": "fragment"
    }
   },
   "outputs": [],
   "source": [
    "# Uncomment this to see a TypeError\n",
    "an_integer = 1234\n",
    "#an_integer[0]"
   ]
  },
  {
   "cell_type": "markdown",
   "metadata": {
    "slideshow": {
     "slide_type": "notes"
    }
   },
   "source": [
    "Explore the `first_digit` function."
   ]
  },
  {
   "cell_type": "code",
   "execution_count": null,
   "metadata": {
    "slideshow": {
     "slide_type": "subslide"
    }
   },
   "outputs": [],
   "source": [
    "def first_digit(num):\n",
    "    \"\"\"Returns the first digit of the interger num.\"\"\"\n",
    "    return int(str(num)[0])"
   ]
  },
  {
   "cell_type": "code",
   "execution_count": null,
   "metadata": {
    "slideshow": {
     "slide_type": "fragment"
    }
   },
   "outputs": [],
   "source": [
    "first_digit(32)"
   ]
  },
  {
   "cell_type": "markdown",
   "metadata": {
    "slideshow": {
     "slide_type": "notes"
    }
   },
   "source": [
    "Load the `counties.csv` data. This data contains county population sizes from the 2010 Census."
   ]
  },
  {
   "cell_type": "code",
   "execution_count": null,
   "metadata": {
    "slideshow": {
     "slide_type": "subslide"
    }
   },
   "outputs": [],
   "source": [
    "counties = Table.read_table('./data/counties.csv')\n",
    "counties = counties.where('SUMLEV', 50).select(5,6,9)\\\n",
    "                                       .relabeled(0,'State')\\\n",
    "                                       .relabeled(1,'County')\\\n",
    "                                       .relabeled(2,'Population')\n",
    "\n",
    "counties"
   ]
  },
  {
   "cell_type": "code",
   "execution_count": null,
   "metadata": {
    "slideshow": {
     "slide_type": "subslide"
    }
   },
   "outputs": [],
   "source": [
    "counties.where('County', 'San Francisco County')"
   ]
  },
  {
   "cell_type": "markdown",
   "metadata": {
    "slideshow": {
     "slide_type": "notes"
    }
   },
   "source": [
    "Apply `first_digit` to add a column to the `countries` table that shows the first digit of the population sizes."
   ]
  },
  {
   "cell_type": "code",
   "execution_count": null,
   "metadata": {
    "slideshow": {
     "slide_type": "fragment"
    }
   },
   "outputs": [],
   "source": [
    "first_digits = counties.apply(first_digit, 'Population')\n",
    "counties = counties.with_column('First digit', first_digits)\n",
    "counties.show(3)"
   ]
  },
  {
   "cell_type": "markdown",
   "metadata": {
    "slideshow": {
     "slide_type": "notes"
    }
   },
   "source": [
    "Visually compare the distribution of first digits from the countries data and Benford's proportions."
   ]
  },
  {
   "cell_type": "code",
   "execution_count": null,
   "metadata": {
    "slideshow": {
     "slide_type": "subslide"
    }
   },
   "outputs": [],
   "source": [
    "num_counties = counties.num_rows\n",
    "by_digit = counties.group('First digit')\n",
    "proportions = by_digit.column('count') / num_counties\n",
    "by_digit = by_digit.with_columns(\n",
    "    'Proportion', proportions,\n",
    "    'Benford proportion', benford_model\n",
    ")\n",
    "by_digit.drop('count').barh('First digit')"
   ]
  },
  {
   "cell_type": "markdown",
   "metadata": {
    "slideshow": {
     "slide_type": "notes"
    }
   },
   "source": [
    "Test whether or not the distribution of proportions in `countries` is consistent with Benford's model."
   ]
  },
  {
   "cell_type": "markdown",
   "metadata": {
    "slideshow": {
     "slide_type": "subslide"
    }
   },
   "source": [
    "Null hypothesis: ..."
   ]
  },
  {
   "cell_type": "markdown",
   "metadata": {
    "slideshow": {
     "slide_type": "fragment"
    }
   },
   "source": [
    "Alternative hypothesis: ..."
   ]
  },
  {
   "cell_type": "markdown",
   "metadata": {
    "slideshow": {
     "slide_type": "fragment"
    }
   },
   "source": [
    "Test statistic: ..."
   ]
  },
  {
   "cell_type": "markdown",
   "metadata": {
    "slideshow": {
     "slide_type": "fragment"
    }
   },
   "source": [
    "Fill in the blank with \"Bigger\" or \"Smaller\":\n",
    "\n",
    "... values of the test statistic favor the alternative"
   ]
  },
  {
   "cell_type": "code",
   "execution_count": null,
   "metadata": {
    "slideshow": {
     "slide_type": "subslide"
    }
   },
   "outputs": [],
   "source": [
    "# Calculate the observed statistic\n",
    "..."
   ]
  },
  {
   "cell_type": "code",
   "execution_count": null,
   "metadata": {
    "slideshow": {
     "slide_type": "subslide"
    }
   },
   "outputs": [],
   "source": [
    "# Demonstrate how to create simulated random samples\n",
    "..."
   ]
  },
  {
   "cell_type": "code",
   "execution_count": null,
   "metadata": {
    "slideshow": {
     "slide_type": "subslide"
    }
   },
   "outputs": [],
   "source": [
    "# Demonstrate how to calculate the test statistic for a simulated random sample\n",
    "..."
   ]
  },
  {
   "cell_type": "code",
   "execution_count": null,
   "metadata": {
    "slideshow": {
     "slide_type": "subslide"
    }
   },
   "outputs": [],
   "source": [
    "# Create a function that creats a simulated random sample and calculates the test statistic.\n",
    "def simulate_county_first_digits():\n",
    "    ...\n",
    "    return ..."
   ]
  },
  {
   "cell_type": "code",
   "execution_count": null,
   "metadata": {
    "slideshow": {
     "slide_type": "subslide"
    }
   },
   "outputs": [],
   "source": [
    "# Create an array of 10,000 simulated statistics."
   ]
  },
  {
   "cell_type": "code",
   "execution_count": null,
   "metadata": {
    "slideshow": {
     "slide_type": "subslide"
    }
   },
   "outputs": [],
   "source": [
    "# Visualize the emperical distribution for the simulated statistics\n",
    "Table().with_column(...)\n",
    "plots.scatter(observed_tvd, 0, color='red', s=60, zorder=3)\n",
    "plots.show()"
   ]
  },
  {
   "cell_type": "code",
   "execution_count": null,
   "metadata": {
    "slideshow": {
     "slide_type": "fragment"
    }
   },
   "outputs": [],
   "source": [
    "# Calculate the p-value"
   ]
  },
  {
   "cell_type": "markdown",
   "metadata": {
    "slideshow": {
     "slide_type": "subslide"
    }
   },
   "source": [
    "Are the data consistent with the null hypothesis?"
   ]
  },
  {
   "cell_type": "markdown",
   "metadata": {
    "slideshow": {
     "slide_type": "fragment"
    }
   },
   "source": [
    "..."
   ]
  },
  {
   "cell_type": "markdown",
   "metadata": {
    "slideshow": {
     "slide_type": "fragment"
    }
   },
   "source": [
    "---"
   ]
  },
  {
   "cell_type": "markdown",
   "metadata": {
    "slideshow": {
     "slide_type": "slide"
    }
   },
   "source": [
    "## Survey Observations"
   ]
  },
  {
   "cell_type": "markdown",
   "metadata": {
    "slideshow": {
     "slide_type": "fragment"
    }
   },
   "source": [
    "* _The following examples use a real data set (Class Survey) along with the hypothesis testing procedure to come to conclusions._\n",
    "* _Keep in mind that data is not form a random sample._\n",
    "* _The conclusions we reach should no te taken seriously._"
   ]
  },
  {
   "cell_type": "markdown",
   "metadata": {
    "slideshow": {
     "slide_type": "subslide"
    }
   },
   "source": [
    "### Reaction Time"
   ]
  },
  {
   "cell_type": "markdown",
   "metadata": {
    "slideshow": {
     "slide_type": "notes"
    }
   },
   "source": [
    "Load our welcome survey data from `welcome_survey_sp23.csv`."
   ]
  },
  {
   "cell_type": "code",
   "execution_count": null,
   "metadata": {
    "slideshow": {
     "slide_type": "subslide"
    }
   },
   "outputs": [],
   "source": [
    "survey = Table.read_table('./data/welcome_survey_sp23.csv')\n",
    "survey.show(3)"
   ]
  },
  {
   "cell_type": "markdown",
   "metadata": {
    "slideshow": {
     "slide_type": "notes"
    }
   },
   "source": [
    "Create a reduced table by selecting the columns:\n",
    "* `Student Status'`\n",
    "* `'Reaction Time (ms)'`"
   ]
  },
  {
   "cell_type": "code",
   "execution_count": null,
   "metadata": {
    "slideshow": {
     "slide_type": "subslide"
    }
   },
   "outputs": [],
   "source": [
    "status_reaction = (survey.select('Student Status', 'Reaction Time (ms)')\n",
    "                   .where('Reaction Time (ms)', are.above_or_equal_to(0))\n",
    "                   .where('Student Status', are.not_equal_to('nan')))\n",
    "status_reaction"
   ]
  },
  {
   "cell_type": "code",
   "execution_count": null,
   "metadata": {
    "slideshow": {
     "slide_type": "fragment"
    }
   },
   "outputs": [],
   "source": [
    "status_reaction.group('Student Status')"
   ]
  },
  {
   "cell_type": "code",
   "execution_count": null,
   "metadata": {
    "slideshow": {
     "slide_type": "subslide"
    }
   },
   "outputs": [],
   "source": [
    "status_reaction.hist('Reaction Time (ms)', group='Student Status')"
   ]
  },
  {
   "cell_type": "markdown",
   "metadata": {
    "slideshow": {
     "slide_type": "notes"
    }
   },
   "source": [
    "Determine the average reaction time for the two different groups."
   ]
  },
  {
   "cell_type": "code",
   "execution_count": null,
   "metadata": {
    "slideshow": {
     "slide_type": "subslide"
    }
   },
   "outputs": [],
   "source": [
    "status_reaction.group('Student Status', np.average)"
   ]
  },
  {
   "cell_type": "markdown",
   "metadata": {
    "slideshow": {
     "slide_type": "notes"
    }
   },
   "source": [
    "Test whether or not there is a significant difference between the average reaction time for those that have a bachelor degree or do not."
   ]
  },
  {
   "cell_type": "markdown",
   "metadata": {
    "slideshow": {
     "slide_type": "subslide"
    }
   },
   "source": [
    "Null hypothesis: **The average reaction time for full-time and part-time students is the same.**"
   ]
  },
  {
   "cell_type": "markdown",
   "metadata": {
    "slideshow": {
     "slide_type": "fragment"
    }
   },
   "source": [
    "Alternative hypothesis: **The average reaction time for full-time and part-time students is not the same.**"
   ]
  },
  {
   "cell_type": "markdown",
   "metadata": {
    "slideshow": {
     "slide_type": "fragment"
    }
   },
   "source": [
    "Test statistic: **Absolute difference in the average reaction time for the two groups.**"
   ]
  },
  {
   "cell_type": "markdown",
   "metadata": {
    "slideshow": {
     "slide_type": "fragment"
    }
   },
   "source": [
    "Fill in the blank with \"Bigger\" or \"Smaller\":\n",
    "\n",
    "**Bigger** values of the test statistic favor the alternative"
   ]
  },
  {
   "cell_type": "code",
   "execution_count": null,
   "metadata": {
    "slideshow": {
     "slide_type": "subslide"
    }
   },
   "outputs": [],
   "source": [
    "def compute_test_statistic(tbl):\n",
    "    grouped = tbl.group('Student Status', np.average)\n",
    "    avgs = grouped.column('Reaction Time (ms) average')\n",
    "    return abs(avgs.item(1) - avgs.item(0))"
   ]
  },
  {
   "cell_type": "code",
   "execution_count": null,
   "metadata": {
    "slideshow": {
     "slide_type": "fragment"
    }
   },
   "outputs": [],
   "source": [
    "obs_test_stat = compute_test_statistic(status_reaction)\n",
    "obs_test_stat"
   ]
  },
  {
   "cell_type": "code",
   "execution_count": null,
   "metadata": {
    "slideshow": {
     "slide_type": "subslide"
    }
   },
   "outputs": [],
   "source": [
    "random_labels = status_reaction.sample(with_replacement=False).column('Student Status')\n",
    "random_labels"
   ]
  },
  {
   "cell_type": "code",
   "execution_count": null,
   "metadata": {
    "slideshow": {
     "slide_type": "subslide"
    }
   },
   "outputs": [],
   "source": [
    "def simulate_under_null():\n",
    "    random_labels = status_reaction.sample(with_replacement=False).column('Student Status')\n",
    "    relabeled_tbl = status_reaction.with_column('Student Status', random_labels)\n",
    "    return compute_test_statistic(relabeled_tbl)\n"
   ]
  },
  {
   "cell_type": "code",
   "execution_count": null,
   "metadata": {
    "slideshow": {
     "slide_type": "subslide"
    }
   },
   "outputs": [],
   "source": [
    "simulated_diffs = make_array()\n",
    "\n",
    "for __ in np.arange(1000):\n",
    "    null_stat = simulate_under_null()\n",
    "    simulated_diffs = np.append(simulated_diffs, null_stat)"
   ]
  },
  {
   "cell_type": "code",
   "execution_count": null,
   "metadata": {
    "slideshow": {
     "slide_type": "subslide"
    }
   },
   "outputs": [],
   "source": [
    "Table().with_column('Simulated difference', simulated_diffs).hist(0)\n",
    "plots.scatter(obs_test_stat, 0, color='red', s=60, zorder=3)\n",
    "plots.show()"
   ]
  },
  {
   "cell_type": "code",
   "execution_count": null,
   "metadata": {
    "slideshow": {
     "slide_type": "fragment"
    }
   },
   "outputs": [],
   "source": [
    "np.mean(simulated_diffs <= obs_test_stat)"
   ]
  },
  {
   "cell_type": "markdown",
   "metadata": {
    "slideshow": {
     "slide_type": "notes"
    }
   },
   "source": [
    "Are the results statistically significant?"
   ]
  },
  {
   "cell_type": "markdown",
   "metadata": {
    "slideshow": {
     "slide_type": "fragment"
    }
   },
   "source": [
    "* **With a p-value larger than 5%, the results are not statistically significant.**\n",
    "* Notice that the choice of statistic doesn't allow us to see the difference in the shape of the distributions."
   ]
  },
  {
   "cell_type": "markdown",
   "metadata": {
    "slideshow": {
     "slide_type": "fragment"
    }
   },
   "source": [
    "---"
   ]
  },
  {
   "cell_type": "markdown",
   "metadata": {
    "slideshow": {
     "slide_type": "slide"
    }
   },
   "source": [
    "## Zodiac Signs"
   ]
  },
  {
   "cell_type": "markdown",
   "metadata": {
    "slideshow": {
     "slide_type": "notes"
    }
   },
   "source": [
    "Load the distribution of Zodiac signs in the United States (as found in 2018).\n",
    "\n",
    "_Source: https://www.statisticbrain.com/zodiac-sign-statistics_"
   ]
  },
  {
   "cell_type": "code",
   "execution_count": null,
   "metadata": {
    "slideshow": {
     "slide_type": "subslide"
    }
   },
   "outputs": [],
   "source": [
    "zodiac_distribution = Table.read_table('./data/zodiac_distribution.csv')\n",
    "zodiac_distribution.show()"
   ]
  },
  {
   "cell_type": "code",
   "execution_count": null,
   "metadata": {
    "slideshow": {
     "slide_type": "subslide"
    }
   },
   "outputs": [],
   "source": [
    "zodiac_distribution.barh('Zodiac Sign')"
   ]
  },
  {
   "cell_type": "markdown",
   "metadata": {
    "slideshow": {
     "slide_type": "notes"
    }
   },
   "source": [
    "Get the birthdays from the survey data, convert the birthdays to Zodiac signs, and determien the distribution of Zodiac signs in MATH 108."
   ]
  },
  {
   "cell_type": "code",
   "execution_count": null,
   "metadata": {
    "slideshow": {
     "slide_type": "subslide"
    }
   },
   "outputs": [],
   "source": [
    "birthdays = survey.select('Birthday').where('Birthday', are.not_equal_to('nan'))\n",
    "birthdays"
   ]
  },
  {
   "cell_type": "code",
   "execution_count": null,
   "metadata": {
    "slideshow": {
     "slide_type": "subslide"
    }
   },
   "outputs": [],
   "source": [
    "def get_zodiac_sign(birthday):\n",
    "    \"\"\"\n",
    "    Given a birthday in the format \"MM/DD\", \n",
    "    returns a string representing the corresponding zodiac sign.\n",
    "    \"\"\"\n",
    "    month, day = map(int, birthday.split(\"/\")) # map is not covered in this class\n",
    "    if month == 12:\n",
    "        # a more compact way of writing an if statement\n",
    "        astro_sign = 'Sagittarius' if (day < 22) else 'Capricorn' \n",
    "    elif month == 1:\n",
    "        astro_sign = 'Capricorn' if (day < 20) else 'Aquarius'\n",
    "    elif month == 2:\n",
    "        astro_sign = 'Aquarius' if (day < 19) else 'Pisces'\n",
    "    elif month == 3:\n",
    "        astro_sign = 'Pisces' if (day < 21) else 'Aries'\n",
    "    elif month == 4:\n",
    "        astro_sign = 'Aries' if (day < 20) else 'Taurus'\n",
    "    elif month == 5:\n",
    "        astro_sign = 'Taurus' if (day < 21) else 'Gemini'\n",
    "    elif month == 6:\n",
    "        astro_sign = 'Gemini' if (day < 21) else 'Cancer'\n",
    "    elif month == 7:\n",
    "        astro_sign = 'Cancer' if (day < 23) else 'Leo'\n",
    "    elif month == 8:\n",
    "        astro_sign = 'Leo' if (day < 23) else 'Virgo'\n",
    "    elif month == 9:\n",
    "        astro_sign = 'Virgo' if (day < 23) else 'Libra'\n",
    "    elif month == 10:\n",
    "        astro_sign = 'Libra' if (day < 23) else 'Scorpio'\n",
    "    elif month == 11:\n",
    "        astro_sign = 'Scorpio' if (day < 22) else 'Sagittarius'\n",
    "    else:\n",
    "        astro_sign = 'Invalid Date'\n",
    "    return astro_sign"
   ]
  },
  {
   "cell_type": "code",
   "execution_count": null,
   "metadata": {
    "slideshow": {
     "slide_type": "subslide"
    }
   },
   "outputs": [],
   "source": [
    "def prop_function(count):\n",
    "    \"\"\"Return the count provided as a proportion of 40 (# of respondents).\"\"\"\n",
    "    total_number = 40\n",
    "    return count/40\n",
    "\n",
    "birthdays = birthdays.with_column(\n",
    "    'Zodiac Sign',\n",
    "    birthdays.apply(get_zodiac_sign, 'Birthday')\n",
    ")\n",
    "\n",
    "birthdays_by_sign = birthdays.group('Zodiac Sign')\n",
    "birthdays_by_sign = birthdays_by_sign.with_column(\n",
    "    'Proportion in MATH 108',\n",
    "    birthdays_by_sign.apply(prop_function, 'count')\n",
    ").drop('count').sort('Zodiac Sign')\n",
    "\n",
    "zodiac = birthdays_by_sign.join('Zodiac Sign', zodiac_distribution)\n",
    "zodiac.show()"
   ]
  },
  {
   "cell_type": "code",
   "execution_count": null,
   "metadata": {},
   "outputs": [],
   "source": [
    "zodiac.barh('Zodiac Sign')"
   ]
  },
  {
   "cell_type": "markdown",
   "metadata": {
    "slideshow": {
     "slide_type": "notes"
    }
   },
   "source": [
    "Run a test to see if there is a significant difference between the distribution of Zodiac signs in the class and the nation."
   ]
  },
  {
   "cell_type": "code",
   "execution_count": null,
   "metadata": {
    "slideshow": {
     "slide_type": "subslide"
    }
   },
   "outputs": [],
   "source": [
    "observed_tvd_zodiac = np.sum(np.abs(zodiac.column('Proportion in MATH 108')\n",
    "                              - zodiac.column('Proportion of US Population')))/2\n",
    "observed_tvd_zodiac"
   ]
  },
  {
   "cell_type": "code",
   "execution_count": null,
   "metadata": {
    "slideshow": {
     "slide_type": "subslide"
    }
   },
   "outputs": [],
   "source": [
    "def simulate_zodiac_proportions():\n",
    "    simulated_proportions = sample_proportions(40, zodiac.column('Proportion of US Population'))\n",
    "    tvd = np.sum(np.abs(simulated_proportions - zodiac.column('Proportion of US Population'))) / 2\n",
    "    return tvd\n",
    "\n",
    "simulated_tvds_zodiac = make_array()\n",
    "\n",
    "for __ in np.arange(10000):\n",
    "    simulated_tvds_zodiac = np.append(simulated_tvds_zodiac, simulate_zodiac_proportions())\n",
    "    \n",
    "Table().with_column('Simulated TVD', simulated_tvds_zodiac).hist(0)\n",
    "plots.scatter(observed_tvd_zodiac, 0, color='red', s=60, zorder=3)\n",
    "plots.show()\n",
    "\n",
    "np.count_nonzero(simulated_tvds_zodiac >= observed_tvd_zodiac) / 10000"
   ]
  },
  {
   "cell_type": "markdown",
   "metadata": {
    "slideshow": {
     "slide_type": "fragment"
    }
   },
   "source": [
    "---"
   ]
  },
  {
   "cell_type": "markdown",
   "metadata": {
    "slideshow": {
     "slide_type": "subslide"
    }
   },
   "source": [
    "## Test Reflection"
   ]
  },
  {
   "cell_type": "markdown",
   "metadata": {
    "slideshow": {
     "slide_type": "-"
    }
   },
   "source": [
    "* The p-value for the last test wass almost 70%. \n",
    "* This means that our test results are NOT statistically significant. 🫣\n",
    "* The course Zodiac distribution looks wildly different form populations distribution.\n",
    "* How can this be? \n",
    "    * Sample size has a pretty big impact. \n",
    "    * Try changing the sample size in `sample_proportions` to 400, instead of 40."
   ]
  },
  {
   "cell_type": "markdown",
   "metadata": {
    "slideshow": {
     "slide_type": "slide"
    }
   },
   "source": [
    "### Hypothesis Test Concerns"
   ]
  },
  {
   "cell_type": "markdown",
   "metadata": {},
   "source": [
    "The outcome of a hypothesis test can be affected by:\n",
    "* The hypotheses you investigate: \n",
    "    * How do you define your null distribution?\n",
    "* The test statistic you choose: \n",
    "    * How do you measure a difference between samples?\n",
    "* The empirical distribution of the statistic under the null:\n",
    "    * How many times do you simulate under the null distribution?\n",
    "* The data you collected:\n",
    "    * Did you happen to collect a sample that is similar to the population?\n",
    "* The truth:\n",
    "    * If the alternative hypothesis is true, how extreme is the difference?"
   ]
  },
  {
   "cell_type": "markdown",
   "metadata": {
    "slideshow": {
     "slide_type": "subslide"
    }
   },
   "source": [
    "### Hypothesis Test Effects"
   ]
  },
  {
   "cell_type": "markdown",
   "metadata": {},
   "source": [
    "* Number of simulations: \n",
    "    * large as possible: empirical distribution → true distribution\n",
    "    * No new data needs to be collected (yay!)\n",
    "* Number of observations: \n",
    "    * A larger sample will lead you to reject the null more reliably if the alternative is in fact true.\n",
    "* Difference from the null: \n",
    "    * If truth is similar to the null hypothesis, then even a large sample may not provide enough evidence to reject the null.\n"
   ]
  },
  {
   "cell_type": "markdown",
   "metadata": {
    "slideshow": {
     "slide_type": "notes"
    }
   },
   "source": [
    "<footer>\n",
    "    <p>Adopted from UC Berkeley DATA 8 course materials.</p>\n",
    "    <p>This content is offered under a <a href=\"https://creativecommons.org/licenses/by-nc-sa/4.0/\">CC Attribution Non-Commercial Share Alike</a> license.</p>\n",
    "</footer>"
   ]
  }
 ],
 "metadata": {
  "kernelspec": {
   "display_name": "Python 3 (ipykernel)",
   "language": "python",
   "name": "python3"
  },
  "language_info": {
   "codemirror_mode": {
    "name": "ipython",
    "version": 3
   },
   "file_extension": ".py",
   "mimetype": "text/x-python",
   "name": "python",
   "nbconvert_exporter": "python",
   "pygments_lexer": "ipython3",
   "version": "3.10.9"
  },
  "rise": {
   "controls": false,
   "transition": "none"
  }
 },
 "nbformat": 4,
 "nbformat_minor": 4
}
