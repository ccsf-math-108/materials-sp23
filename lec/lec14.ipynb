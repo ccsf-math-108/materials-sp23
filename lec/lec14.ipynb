{
 "cells": [
  {
   "cell_type": "markdown",
   "metadata": {
    "slideshow": {
     "slide_type": "slide"
    }
   },
   "source": [
    "<div style=\"width: 38.5%;\">\n",
    "    <p><strong>City College of San Francisco</strong><p>\n",
    "    <hr>\n",
    "    <p>MATH 108 - Foundations of Data Science</p>\n",
    "</div>"
   ]
  },
  {
   "cell_type": "markdown",
   "metadata": {
    "slideshow": {
     "slide_type": "-"
    }
   },
   "source": [
    "# Lecture 14: Chance and Probability"
   ]
  },
  {
   "cell_type": "markdown",
   "metadata": {
    "slideshow": {
     "slide_type": "-"
    }
   },
   "source": [
    "Associated Textbook Sections: [9.4, 9.5](https://inferentialthinking.com/chapters/09/4/Monty_Hall_Problem.html)"
   ]
  },
  {
   "cell_type": "markdown",
   "metadata": {
    "slideshow": {
     "slide_type": "slide"
    }
   },
   "source": [
    "## Overview"
   ]
  },
  {
   "cell_type": "markdown",
   "metadata": {
    "slideshow": {
     "slide_type": "-"
    }
   },
   "source": [
    "* [The Monty Hall Problem](#The-Monty-Hall-Problem)\n",
    "* [Probability](#Probability)"
   ]
  },
  {
   "cell_type": "markdown",
   "metadata": {
    "slideshow": {
     "slide_type": "slide"
    }
   },
   "source": [
    "## Set Up the Notebook"
   ]
  },
  {
   "cell_type": "code",
   "execution_count": null,
   "metadata": {
    "slideshow": {
     "slide_type": "-"
    }
   },
   "outputs": [],
   "source": [
    "from datascience import *\n",
    "import numpy as np\n",
    "%matplotlib inline\n",
    "import matplotlib.pyplot as plots\n",
    "plots.style.use('fivethirtyeight')"
   ]
  },
  {
   "cell_type": "markdown",
   "metadata": {},
   "source": [
    "---"
   ]
  },
  {
   "cell_type": "markdown",
   "metadata": {
    "slideshow": {
     "slide_type": "slide"
    }
   },
   "source": [
    "## The Monty Hall Problem"
   ]
  },
  {
   "cell_type": "markdown",
   "metadata": {
    "slideshow": {
     "slide_type": "slide"
    }
   },
   "source": [
    "### Monty Hall Problem"
   ]
  },
  {
   "cell_type": "markdown",
   "metadata": {
    "slideshow": {
     "slide_type": "-"
    }
   },
   "source": [
    "* There are 3 closed doors.\n",
    "* One door has a prize and two doors have what is consider not to be a prize.\n",
    "* The contestant selects a door.\n",
    "* The host reveals what is behind the remaining door that has not be selected without the prize.\n",
    "* The contestant has the chance to change doors.\n",
    "* Are the contestant's chance of winning improved by switching doors?\n",
    "<img src=\"./img/Monty_open_door.png\" width = 40%>"
   ]
  },
  {
   "cell_type": "markdown",
   "metadata": {
    "slideshow": {
     "slide_type": "notes"
    }
   },
   "source": [
    "Image Source: [Wikipedia - Monty Hall Problem](https://en.wikipedia.org/wiki/Monty_Hall_problem)"
   ]
  },
  {
   "cell_type": "markdown",
   "metadata": {
    "slideshow": {
     "slide_type": "slide"
    }
   },
   "source": [
    "### Demo: Monty Hall"
   ]
  },
  {
   "cell_type": "markdown",
   "metadata": {
    "slideshow": {
     "slide_type": "slide"
    }
   },
   "source": [
    "Create a simulation of the Monty Hall game."
   ]
  },
  {
   "cell_type": "code",
   "execution_count": null,
   "metadata": {
    "slideshow": {
     "slide_type": "fragment"
    }
   },
   "outputs": [],
   "source": [
    "def other_goat(a_goat):\n",
    "    '''other_goat accepts either the string 'first goat' or the string 'second goat' and returns the other goat as a string.'''\n",
    "    if a_goat == 'first goat':\n",
    "        return 'second goat'\n",
    "    elif a_goat == 'second goat':\n",
    "        return 'first goat'\n",
    "    else:\n",
    "        print(\"a_goat should name 'first goat' or 'second goat'.\")"
   ]
  },
  {
   "cell_type": "code",
   "execution_count": null,
   "metadata": {
    "slideshow": {
     "slide_type": "fragment"
    }
   },
   "outputs": [],
   "source": [
    "..."
   ]
  },
  {
   "cell_type": "code",
   "execution_count": null,
   "metadata": {
    "slideshow": {
     "slide_type": "subslide"
    }
   },
   "outputs": [],
   "source": [
    "def monty_hall():\n",
    "    '''\n",
    "    monty_hall runs a simulation of the monty hall problem \n",
    "    where the three doors are represented as the strings 'first goat',\n",
    "    'second goat', and 'car'. This function returns a list with random \n",
    "    choice from the contestant, the goat revealed by the host, and the remaining car/goat.\n",
    "    '''\n",
    "    doors = make_array('car', 'first goat', 'second goat')\n",
    "    goats = make_array('first goat', 'second goat')\n",
    "    contestant_choice = np.random.choice(doors)\n",
    "    \n",
    "    if contestant_choice == 'first goat':\n",
    "        monty_choice = 'second goat'\n",
    "        remaining_door = 'car'\n",
    "        \n",
    "    elif contestant_choice == 'second goat':\n",
    "        monty_choice = 'first goat'\n",
    "        remaining_door = 'car'\n",
    "        \n",
    "    elif contestant_choice == 'car':\n",
    "        monty_choice = np.random.choice(goats)\n",
    "        remaining_door = other_goat(monty_choice)\n",
    "        \n",
    "    return [contestant_choice, monty_choice, remaining_door]"
   ]
  },
  {
   "cell_type": "code",
   "execution_count": null,
   "metadata": {
    "slideshow": {
     "slide_type": "fragment"
    }
   },
   "outputs": [],
   "source": [
    "..."
   ]
  },
  {
   "cell_type": "markdown",
   "metadata": {
    "slideshow": {
     "slide_type": "notes"
    }
   },
   "source": [
    "Store the results of several random simulations of the Monty Hall game in a Table."
   ]
  },
  {
   "cell_type": "code",
   "execution_count": null,
   "metadata": {
    "slideshow": {
     "slide_type": "subslide"
    }
   },
   "outputs": [],
   "source": [
    "games = Table(['Guess', 'Revealed', 'Remaining'])"
   ]
  },
  {
   "cell_type": "code",
   "execution_count": null,
   "metadata": {
    "slideshow": {
     "slide_type": "fragment"
    }
   },
   "outputs": [],
   "source": [
    "..."
   ]
  },
  {
   "cell_type": "code",
   "execution_count": null,
   "metadata": {
    "slideshow": {
     "slide_type": "fragment"
    }
   },
   "outputs": [],
   "source": [
    "..."
   ]
  },
  {
   "cell_type": "markdown",
   "metadata": {
    "slideshow": {
     "slide_type": "notes"
    }
   },
   "source": [
    "Determine the proportion of times that the player would have won if they switched doors."
   ]
  },
  {
   "cell_type": "code",
   "execution_count": null,
   "metadata": {
    "slideshow": {
     "slide_type": "subslide"
    }
   },
   "outputs": [],
   "source": [
    "def switch_to_win(remaining):\n",
    "    if remaining == 'car':\n",
    "        return True\n",
    "    else:\n",
    "        return False"
   ]
  },
  {
   "cell_type": "code",
   "execution_count": null,
   "metadata": {
    "slideshow": {
     "slide_type": "fragment"
    },
    "tags": []
   },
   "outputs": [],
   "source": [
    "..."
   ]
  },
  {
   "cell_type": "code",
   "execution_count": null,
   "metadata": {
    "slideshow": {
     "slide_type": "subslide"
    }
   },
   "outputs": [],
   "source": [
    "..."
   ]
  },
  {
   "cell_type": "markdown",
   "metadata": {
    "slideshow": {
     "slide_type": "slide"
    }
   },
   "source": [
    "## Probability"
   ]
  },
  {
   "cell_type": "markdown",
   "metadata": {
    "slideshow": {
     "slide_type": "subslide"
    }
   },
   "source": [
    "### Basics"
   ]
  },
  {
   "cell_type": "markdown",
   "metadata": {
    "slideshow": {
     "slide_type": "-"
    }
   },
   "source": [
    "* Lowest value: 0 (or 0%) --- Chance of event that is impossible.\n",
    "* Highest value: 1 (or 100%) --- Chance of event that is certain.\n",
    "* Complement: If an event has chance 70%, then the chance that it doesn’t happen is:\n",
    "    * 100% - 70% = 30%\n",
    "    * 1 - 0.7 = 0.3\n"
   ]
  },
  {
   "cell_type": "markdown",
   "metadata": {
    "slideshow": {
     "slide_type": "subslide"
    }
   },
   "source": [
    "### Equally Likely Outcomes"
   ]
  },
  {
   "cell_type": "markdown",
   "metadata": {
    "slideshow": {
     "slide_type": "-"
    }
   },
   "source": [
    "Assuming all outcomes are equally likely, the chance of an event $A$ is:\n",
    "                \n",
    "$$P(A) = \\frac{\\text{number of outcomes that make $A$ happen}}{\\text{total number of outcomes}}$$\n",
    "                             \n"
   ]
  },
  {
   "cell_type": "markdown",
   "metadata": {
    "slideshow": {
     "slide_type": "subslide"
    }
   },
   "source": [
    "### A Question"
   ]
  },
  {
   "cell_type": "markdown",
   "metadata": {
    "slideshow": {
     "slide_type": "-"
    }
   },
   "source": [
    "* Set Up:\n",
    "    * There are three cards: ace of hearts, king of diamonds, and queen of spades.\n",
    "    * The cards are shuffled and two cards are drawn at random without replacement.\n",
    "* What is the chance that I get the Queen followed by the King?"
   ]
  },
  {
   "cell_type": "code",
   "execution_count": null,
   "metadata": {
    "slideshow": {
     "slide_type": "fragment"
    }
   },
   "outputs": [],
   "source": [
    "..."
   ]
  },
  {
   "cell_type": "markdown",
   "metadata": {
    "slideshow": {
     "slide_type": "subslide"
    }
   },
   "source": [
    "### An Interpretation"
   ]
  },
  {
   "cell_type": "markdown",
   "metadata": {
    "slideshow": {
     "slide_type": "-"
    }
   },
   "source": [
    "[One way](https://en.wikipedia.org/wiki/Frequentist_probability) to interpret that there is an approximately 16.67% chance of selecting a Queen followed by a King is to say that if the situation was repeated many many times, the calculated proportion of Queen-King outcomes narrows in on the value of 0.1667."
   ]
  },
  {
   "cell_type": "code",
   "execution_count": null,
   "metadata": {
    "slideshow": {
     "slide_type": "subslide"
    }
   },
   "outputs": [],
   "source": [
    "# Simulation parameters\n",
    "cards = ['A', 'K', 'Q']\n",
    "max_reps = 2500\n",
    "steps = 25\n",
    "successes = make_array()\n",
    "\n",
    "# Simulate the situation -- Takes a few seconds to run\n",
    "for reps in np.arange(1, max_reps + 1, steps):\n",
    "    outcomes = make_array()\n",
    "    for _ in np.arange(reps - 1):\n",
    "        random_outcome = np.random.choice(cards, 2, replace=False)\n",
    "        first_card = random_outcome.item(0)\n",
    "        second_card = random_outcome.item(1)\n",
    "        if first_card == 'Q' and second_card == 'K':\n",
    "            outcomes = np.append(outcomes, True)\n",
    "        else:\n",
    "            outcomes = np.append(outcomes, False)\n",
    "    successes = np.append(successes, sum(outcomes) / reps)"
   ]
  },
  {
   "cell_type": "code",
   "execution_count": null,
   "metadata": {
    "slideshow": {
     "slide_type": "subslide"
    }
   },
   "outputs": [],
   "source": [
    "# Visualize the Results\n",
    "Table().with_columns('Repetitions', np.arange(1, max_reps + 1, steps),\n",
    "                     'Queen-King Proportion', successes).plot('Repetitions')\n",
    "plots.plot([0, max_reps], [0.167, 0.167], 'r--', linewidth=2, zorder=-1)\n",
    "plots.ylim(0, 0.5)\n",
    "plots.show()"
   ]
  },
  {
   "cell_type": "markdown",
   "metadata": {
    "slideshow": {
     "slide_type": "subslide"
    }
   },
   "source": [
    "### Multiplication Rule"
   ]
  },
  {
   "cell_type": "markdown",
   "metadata": {
    "slideshow": {
     "slide_type": "-"
    }
   },
   "source": [
    "* Chance that two events $A$ and $B$ both happen is $P(\\text{$A$ happens}) \\times P(\\text{$B$ happens given that $A$ has happened})$\n",
    "* The answer is less than or equal to each of the two chances being multiplied\n",
    "* The more conditions you have to satisfy, the less likely you are to satisfy them all\n"
   ]
  },
  {
   "cell_type": "markdown",
   "metadata": {
    "slideshow": {
     "slide_type": "subslide"
    }
   },
   "source": [
    "### Another Question"
   ]
  },
  {
   "cell_type": "markdown",
   "metadata": {
    "slideshow": {
     "slide_type": "-"
    }
   },
   "source": [
    "* Set up:\n",
    "    * There are three cards: ace of hearts, king of diamonds, and queen of spades.\n",
    "    * The cards are shuffled and two cards are drawn at random without replacement.\n",
    "* What is the chance that one of the cards I draw is a King and the other is Queen?\n"
   ]
  },
  {
   "cell_type": "markdown",
   "metadata": {
    "slideshow": {
     "slide_type": "subslide"
    }
   },
   "source": [
    "### Demo: Addition Rule"
   ]
  },
  {
   "cell_type": "code",
   "execution_count": null,
   "metadata": {
    "slideshow": {
     "slide_type": "fragment"
    }
   },
   "outputs": [],
   "source": [
    "..."
   ]
  },
  {
   "cell_type": "code",
   "execution_count": null,
   "metadata": {
    "slideshow": {
     "slide_type": "subslide"
    }
   },
   "outputs": [],
   "source": [
    "outcomes = make_array('AK', 'AQ', 'KQ', 'KA', 'QA', 'QK')\n",
    "first_card = make_array('A', 'A', 'K', 'K', 'Q', 'Q')\n",
    "second_card = make_array('K', 'Q', 'Q', 'A', 'A', 'K')\n",
    "Table().with_columns('First Card', first_card,\n",
    "                     'First Card Chance', np.ones(6) / 3,\n",
    "                     'Second Card', second_card,\n",
    "                     'Second Card Chance', np.ones(6) / 2,\n",
    "                     'Outcome', outcomes,\n",
    "                     'Outcome Chance', np.ones(6) / 6\n",
    "                    )"
   ]
  },
  {
   "cell_type": "markdown",
   "metadata": {
    "slideshow": {
     "slide_type": "notes"
    }
   },
   "source": [
    "Notice that there are two rows (possibilities) with the outcome of interest."
   ]
  },
  {
   "cell_type": "code",
   "execution_count": null,
   "metadata": {
    "slideshow": {
     "slide_type": "subslide"
    }
   },
   "outputs": [],
   "source": [
    "..."
   ]
  },
  {
   "cell_type": "markdown",
   "metadata": {
    "slideshow": {
     "slide_type": "subslide"
    }
   },
   "source": [
    "### Addition Rule"
   ]
  },
  {
   "cell_type": "markdown",
   "metadata": {
    "slideshow": {
     "slide_type": "-"
    }
   },
   "source": [
    "* If event $A$ can happen in exactly one of two ways, then $P(A)  =   P(\\text{first way})  +  P(\\text{second way})$\n",
    "* The answer is greater than or equal to the chance of each individual way"
   ]
  },
  {
   "cell_type": "markdown",
   "metadata": {
    "slideshow": {
     "slide_type": "subslide"
    }
   },
   "source": [
    "### Complement: At Least ..."
   ]
  },
  {
   "cell_type": "markdown",
   "metadata": {
    "slideshow": {
     "slide_type": "-"
    }
   },
   "source": [
    "What is the chance of getting at least one head in a certain number of flips of a fair coin?\n",
    "* In 3 tosses:\n",
    "    At least one head means any outcome except $TTT$\n",
    "    * $P(TTT)  =  (1/2) \\times (1/2) \\times (1/2)  =  (1/2)^{3}$\n",
    "    * $P(\\text{at least one head}) = 1 - P(TTT) = 1 - (1/2)^{3} = 87.5\\% $                                           \n",
    "* In 10 tosses: $P(\\text{at least one head}) = 1 - (1/2)^{10} \\approx 99.9\\%$\n"
   ]
  },
  {
   "cell_type": "code",
   "execution_count": null,
   "metadata": {
    "slideshow": {
     "slide_type": "fragment"
    }
   },
   "outputs": [],
   "source": [
    "..."
   ]
  },
  {
   "cell_type": "markdown",
   "metadata": {
    "slideshow": {
     "slide_type": "notes"
    }
   },
   "source": [
    "<footer>\n",
    "    <hr>\n",
    "    <p>Adopted from UC Berkeley DATA 8 course materials.</p>\n",
    "    <p>This content is offered under a <a href=\"https://creativecommons.org/licenses/by-nc-sa/4.0/\">CC Attribution Non-Commercial Share Alike</a> license.</p>\n",
    "</footer>"
   ]
  }
 ],
 "metadata": {
  "kernelspec": {
   "display_name": "Python 3 (ipykernel)",
   "language": "python",
   "name": "python3"
  },
  "language_info": {
   "codemirror_mode": {
    "name": "ipython",
    "version": 3
   },
   "file_extension": ".py",
   "mimetype": "text/x-python",
   "name": "python",
   "nbconvert_exporter": "python",
   "pygments_lexer": "ipython3",
   "version": "3.10.9"
  },
  "rise": {
   "controls": false,
   "transition": "none"
  },
  "toc": {
   "base_numbering": 1,
   "nav_menu": {},
   "number_sections": false,
   "sideBar": true,
   "skip_h1_title": false,
   "title_cell": "Table of Contents",
   "title_sidebar": "Contents",
   "toc_cell": true,
   "toc_position": {
    "height": "calc(100% - 180px)",
    "left": "10px",
    "top": "150px",
    "width": "231.797px"
   },
   "toc_section_display": false,
   "toc_window_display": false
  }
 },
 "nbformat": 4,
 "nbformat_minor": 4
}
