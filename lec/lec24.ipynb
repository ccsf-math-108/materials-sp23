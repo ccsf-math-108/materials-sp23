{
 "cells": [
  {
   "cell_type": "markdown",
   "id": "97d6f6da-60ae-43ba-8a92-6e186c01b676",
   "metadata": {
    "slideshow": {
     "slide_type": "slide"
    },
    "tags": []
   },
   "source": [
    "<div style=\"width: 38.5%;\">\n",
    "    <p><strong>City College of San Francisco</strong><p>\n",
    "    <hr>\n",
    "    <p>MATH 108 - Foundations of Data Science</p>\n",
    "</div>"
   ]
  },
  {
   "cell_type": "markdown",
   "id": "882229ac-19cb-41d6-a03c-24c039f6a90d",
   "metadata": {
    "slideshow": {
     "slide_type": "-"
    }
   },
   "source": [
    "# Lecture 24: Interpreting Confidence"
   ]
  },
  {
   "cell_type": "markdown",
   "id": "fa933f9c-009c-47ce-be50-330c4df32de2",
   "metadata": {
    "slideshow": {
     "slide_type": "-"
    }
   },
   "source": [
    "Associated Textbook Sections: [13.3, 13.4](https://inferentialthinking.com/chapters/13/3/Confidence_Intervals.html)"
   ]
  },
  {
   "cell_type": "markdown",
   "id": "05e1a866",
   "metadata": {
    "slideshow": {
     "slide_type": "slide"
    }
   },
   "source": [
    "## Outline"
   ]
  },
  {
   "cell_type": "markdown",
   "id": "00aef610",
   "metadata": {},
   "source": [
    "* [Visualizing Confidence](#Visualizing-Confidence)\n",
    "* [Use Methods Appropriately](#Use-Methods-Appropriately)\n",
    "* [Confidence Interval for Unknown Population Mean](#Confidence-Interval-for-Unknown-Population-Mean)\n",
    "* [Confidence Intervals For Testing](#Confidence-Intervals-For-Testing)"
   ]
  },
  {
   "cell_type": "markdown",
   "id": "15b681ee-8ab0-4357-a5bb-433c70e05b4d",
   "metadata": {
    "slideshow": {
     "slide_type": "slide"
    }
   },
   "source": [
    "## Set Up the Notebook"
   ]
  },
  {
   "cell_type": "code",
   "execution_count": null,
   "id": "9c400648-7bf4-416e-a1d6-67fb1952ed05",
   "metadata": {
    "slideshow": {
     "slide_type": "-"
    }
   },
   "outputs": [],
   "source": [
    "from datascience import *\n",
    "import numpy as np\n",
    "%matplotlib inline\n",
    "import matplotlib.pyplot as plots\n",
    "plots.style.use('fivethirtyeight')"
   ]
  },
  {
   "cell_type": "markdown",
   "id": "ef65490e",
   "metadata": {
    "slideshow": {
     "slide_type": "fragment"
    }
   },
   "source": [
    "---"
   ]
  },
  {
   "cell_type": "markdown",
   "id": "1e6f11d5-1de4-4f82-89f8-7411889fe0bb",
   "metadata": {
    "slideshow": {
     "slide_type": "slide"
    }
   },
   "source": [
    "## Visualizing Confidence"
   ]
  },
  {
   "cell_type": "markdown",
   "id": "0218311c-9eb4-470a-84e8-1d4c8dec9d96",
   "metadata": {
    "slideshow": {
     "slide_type": "-"
    }
   },
   "source": [
    "> The confidence is in the process that gives the interval: It generates a \"good\" interval about 95% of the time."
   ]
  },
  {
   "cell_type": "markdown",
   "id": "c630e853",
   "metadata": {
    "slideshow": {
     "slide_type": "subslide"
    }
   },
   "source": [
    "<img src=\"./img/visualizing_confidence.png\" width=30%>\n",
    "\n",
    "* Each yellow line in the visual represents a confidence interval from a fresh sample from the population.\n",
    "* The red line marks the parameter being estimated by the intervals.\n",
    "* Approximately 95% of the yellow lines intersect the red line."
   ]
  },
  {
   "cell_type": "markdown",
   "id": "697e0aee-fb02-4b82-b646-9c7ccc714b4c",
   "metadata": {
    "slideshow": {
     "slide_type": "notes"
    }
   },
   "source": [
    "A similar tool to help visualize the meaning of a confidence interval: [Interpreting Confidence Intervals](https://rpsychologist.com/d3/ci/)"
   ]
  },
  {
   "cell_type": "markdown",
   "id": "021d57ba-c95d-4c45-81c6-14d20857f333",
   "metadata": {
    "slideshow": {
     "slide_type": "slide"
    }
   },
   "source": [
    "## Use Methods Appropriately"
   ]
  },
  {
   "cell_type": "markdown",
   "id": "337c0b59-fe97-44e4-ae54-ad7b440f3d7e",
   "metadata": {
    "slideshow": {
     "slide_type": "subslide"
    }
   },
   "source": [
    "### When **Not** to Use Our Bootstrap Method"
   ]
  },
  {
   "cell_type": "markdown",
   "id": "38f8a5e8-b3b9-43a9-ae03-296dd01219c7",
   "metadata": {},
   "source": [
    "* If you’re trying to estimate any parameter that’s greatly affected by rare elements of the population\n",
    "Very high or very low percentiles, or min and max\n",
    "* If the probability distribution of your statistic is not roughly bell shaped (the shape of the empirical distribution will be a clue)\n",
    "* If the original sample is very small"
   ]
  },
  {
   "cell_type": "markdown",
   "id": "4e698906",
   "metadata": {
    "slideshow": {
     "slide_type": "fragment"
    }
   },
   "source": [
    "---"
   ]
  },
  {
   "cell_type": "markdown",
   "id": "d1fda501-a874-41cb-90d4-f92516a1ee6a",
   "metadata": {
    "slideshow": {
     "slide_type": "slide"
    }
   },
   "source": [
    "## Confidence Interval for Unknown Population Mean"
   ]
  },
  {
   "cell_type": "markdown",
   "id": "942fdc7a-bedb-4d15-9e7a-63e4e879a7f6",
   "metadata": {
    "slideshow": {
     "slide_type": "notes"
    }
   },
   "source": [
    "Load the `baby.csv` data from the Kaiser supported study on the relationship between smoking during pregnancy and low weight births."
   ]
  },
  {
   "cell_type": "code",
   "execution_count": null,
   "id": "66f943c6-80ed-430b-8e01-1ac5c41c037a",
   "metadata": {
    "slideshow": {
     "slide_type": "-"
    }
   },
   "outputs": [],
   "source": [
    "births = Table.read_table('./data/baby.csv')\n",
    "births"
   ]
  },
  {
   "cell_type": "markdown",
   "id": "394c3a8a-d857-4615-8c91-2a405e85e8bb",
   "metadata": {
    "slideshow": {
     "slide_type": "notes"
    }
   },
   "source": [
    "Visualize the distribution of maternal ages."
   ]
  },
  {
   "cell_type": "code",
   "execution_count": null,
   "id": "a1f1bbb9-b8c0-4e1a-9870-f99a427c2dd2",
   "metadata": {
    "slideshow": {
     "slide_type": "subslide"
    }
   },
   "outputs": [],
   "source": [
    "births.hist('Maternal Age')"
   ]
  },
  {
   "cell_type": "markdown",
   "id": "c0a43478-0ce0-4cce-bd15-97f33f2ee5e7",
   "metadata": {
    "slideshow": {
     "slide_type": "notes"
    }
   },
   "source": [
    "Compute the mean age of mothers in the sample."
   ]
  },
  {
   "cell_type": "code",
   "execution_count": null,
   "id": "6998408d-066a-435d-997f-107cf8fa072f",
   "metadata": {
    "slideshow": {
     "slide_type": "fragment"
    }
   },
   "outputs": [],
   "source": [
    "np.mean(births.column('Maternal Age'))"
   ]
  },
  {
   "cell_type": "markdown",
   "id": "a39c6128-8e64-44f2-92eb-85f6a491d8ae",
   "metadata": {
    "slideshow": {
     "slide_type": "subslide"
    }
   },
   "source": [
    "**Question**: What is the mean age of the mothers in the population?"
   ]
  },
  {
   "cell_type": "markdown",
   "id": "dccdc617-85c4-46b3-b541-49f7769fba14",
   "metadata": {
    "slideshow": {
     "slide_type": "notes"
    },
    "tags": []
   },
   "source": [
    "Define a function to create one bootstrap resample and calculate the mean age for that resample."
   ]
  },
  {
   "cell_type": "code",
   "execution_count": null,
   "id": "bd1c1c1f-429f-4cda-ba94-fa8b8bc481aa",
   "metadata": {
    "slideshow": {
     "slide_type": "subslide"
    }
   },
   "outputs": [],
   "source": [
    "def one_bootstrap_mean():\n",
    "    ...\n",
    "    return ..."
   ]
  },
  {
   "cell_type": "markdown",
   "id": "16ecbf14-8b8a-43ea-ac36-0ee3df1199af",
   "metadata": {
    "slideshow": {
     "slide_type": "notes"
    }
   },
   "source": [
    "Generate means from 3000 bootstrap samples"
   ]
  },
  {
   "cell_type": "code",
   "execution_count": null,
   "id": "f3aad35a-027d-43a9-b321-f2fecf810a4b",
   "metadata": {
    "slideshow": {
     "slide_type": "fragment"
    }
   },
   "outputs": [],
   "source": [
    "..."
   ]
  },
  {
   "cell_type": "markdown",
   "id": "14d9b8db-4b26-48ee-ac70-68b4a201c858",
   "metadata": {
    "slideshow": {
     "slide_type": "notes"
    }
   },
   "source": [
    "Get the endpoints of the 95% confidence interval"
   ]
  },
  {
   "cell_type": "code",
   "execution_count": null,
   "id": "793bf13c-3271-4e34-b7dd-bce4fd563d4f",
   "metadata": {
    "slideshow": {
     "slide_type": "fragment"
    }
   },
   "outputs": [],
   "source": [
    "left = ...\n",
    "right = ...\n",
    "\n",
    "make_array(left, right)"
   ]
  },
  {
   "cell_type": "markdown",
   "id": "2ae479d0-d57c-4f48-95a7-8c6f7e6ae086",
   "metadata": {
    "slideshow": {
     "slide_type": "notes"
    }
   },
   "source": [
    "Visualize the distribution of the bootstrap sample means."
   ]
  },
  {
   "cell_type": "code",
   "execution_count": null,
   "id": "9fbbd1a1-7d4f-4e49-83bd-c0ad88dacac1",
   "metadata": {
    "slideshow": {
     "slide_type": "subslide"
    }
   },
   "outputs": [],
   "source": [
    "resampled_means = Table().with_columns(\n",
    "    'Bootstrap Sample Mean', ...\n",
    ")\n",
    "resampled_means.hist(bins=15)\n",
    "plots.plot([left, right], [0, 0], color='yellow', lw=8);\n",
    "print(f\"We are 95% confidence that the mean age of the mothers in the population is between {left} and {right} years old.\")"
   ]
  },
  {
   "cell_type": "markdown",
   "id": "8340d066-f2d5-47ef-a71c-821228f54491",
   "metadata": {
    "slideshow": {
     "slide_type": "subslide"
    },
    "tags": []
   },
   "source": [
    "### Can You Use a CI Like This?"
   ]
  },
  {
   "cell_type": "markdown",
   "id": "8edbbeab-0f86-4120-a59e-1ce8494ddd2d",
   "metadata": {},
   "source": [
    "By our calculation, an approximate 95% confidence interval for the average age of the mothers in the population is (26.9, 27.6) years.\n",
    "\n",
    "True or False:\n",
    "About 95% of the mothers in the population were between 26.9 years and 27.6 years old."
   ]
  },
  {
   "cell_type": "markdown",
   "id": "3f84f464",
   "metadata": {
    "slideshow": {
     "slide_type": "fragment"
    }
   },
   "source": [
    "Answer: _False. We're estimating that their average age is in this interval._"
   ]
  },
  {
   "cell_type": "code",
   "execution_count": null,
   "id": "f7184907-f0f6-44b6-84ae-d463264adcd2",
   "metadata": {
    "slideshow": {
     "slide_type": "subslide"
    },
    "tags": []
   },
   "outputs": [],
   "source": [
    "births.hist('Maternal Age')\n",
    "plots.plot([left, right], [0, 0], color='yellow', lw=8);"
   ]
  },
  {
   "cell_type": "markdown",
   "id": "5fb8e367-f2f4-436f-9ec4-04bda2b43398",
   "metadata": {
    "slideshow": {
     "slide_type": "subslide"
    },
    "tags": []
   },
   "source": [
    "### Is This What a CI Means?"
   ]
  },
  {
   "cell_type": "markdown",
   "id": "1a37db34-75c0-42c7-bb9f-e8cfe74cce25",
   "metadata": {},
   "source": [
    "An approximate 95% confidence interval for the average age of the mothers in the population is (26.9, 27.6) years.\n",
    "\n",
    "True or False:\n",
    "There is a 0.95 probability that the average age of mothers in the population is in the range 26.9 to 27.6 years."
   ]
  },
  {
   "cell_type": "markdown",
   "id": "a342c617",
   "metadata": {
    "slideshow": {
     "slide_type": "fragment"
    }
   },
   "source": [
    "Answer: _False. The parameter is fixed, and the interval (26.9, 27.2) is fixed. The parameter is either in that interval, or not. Once you've picked an interval, there's no probability involved._"
   ]
  },
  {
   "cell_type": "markdown",
   "id": "18a73a3c-70a1-4031-8fed-db4027cdf24a",
   "metadata": {
    "slideshow": {
     "slide_type": "subslide"
    },
    "tags": []
   },
   "source": [
    "### 95% Confidence"
   ]
  },
  {
   "cell_type": "markdown",
   "id": "fcc1ba65-b5df-49ac-8a5b-7fba3bde01d8",
   "metadata": {},
   "source": [
    "* Interval of estimates of a parameter\n",
    "* Based on random sampling\n",
    "* The process results in a random interval\n",
    "* A \"good\" interval is one that contains the parameter\n",
    "* The confidence is in the process that creates the interval: It generates a \"good\" interval with chance 95%\n"
   ]
  },
  {
   "cell_type": "markdown",
   "id": "d6325a78",
   "metadata": {
    "slideshow": {
     "slide_type": "fragment"
    }
   },
   "source": [
    "---"
   ]
  },
  {
   "cell_type": "markdown",
   "id": "9e875bba-5a9a-477c-9756-2adc24dfb2e8",
   "metadata": {
    "slideshow": {
     "slide_type": "slide"
    }
   },
   "source": [
    "## Confidence Intervals For Testing"
   ]
  },
  {
   "cell_type": "markdown",
   "id": "04916e2f-d020-4856-9670-de156f6abc7a",
   "metadata": {
    "slideshow": {
     "slide_type": "subslide"
    }
   },
   "source": [
    "### Using a CI for Testing"
   ]
  },
  {
   "cell_type": "markdown",
   "id": "acaa19ba-2cba-4c94-809e-d12653747c3b",
   "metadata": {},
   "source": [
    "* Null hypothesis: $\\text{Population mean} = x$\n",
    "* Alternative hypothesis: $\\text{Population mean} \\neq x$\n",
    "* Cutoff for p-value: p%\n",
    "* Method:\n",
    "    * Construct a (100-p)% confidence interval for the population mean\n",
    "    * Make a decision:\n",
    "        * If x is not in the interval, reject the null\n",
    "        * If x is in the interval, can't reject the null\n"
   ]
  },
  {
   "cell_type": "markdown",
   "id": "5abc091b-bdd8-4cd3-bbdc-e01c06d4de94",
   "metadata": {
    "slideshow": {
     "slide_type": "subslide"
    }
   },
   "source": [
    "### Using the Confidence Interval for Testing Hypotheses"
   ]
  },
  {
   "cell_type": "markdown",
   "id": "bb0b9fe9-2c74-4a64-abf8-5dbadcf83f7c",
   "metadata": {},
   "source": [
    "**Null:** The mean age of mothers in the population is 25 years; the random sample average is different due to chance.\n",
    "\n",
    "**Alternative:** The mean age of the mothers in the population is not 25 years.\n",
    "\n",
    "Suppose you use the 5% cutoff for the p-value.\n",
    "\n",
    "Based on the confidence interval, which hypothesis would you pick?"
   ]
  },
  {
   "cell_type": "markdown",
   "id": "3bb7475b",
   "metadata": {
    "slideshow": {
     "slide_type": "fragment"
    }
   },
   "source": [
    "Answer: _Since 25 is not in our constructed 95% confidence interval estimate for the mean age, then we reject the null hypothesis._"
   ]
  },
  {
   "cell_type": "markdown",
   "id": "6281e647",
   "metadata": {
    "slideshow": {
     "slide_type": "fragment"
    }
   },
   "source": [
    "---"
   ]
  },
  {
   "cell_type": "markdown",
   "id": "6bd1ab46",
   "metadata": {
    "slideshow": {
     "slide_type": "notes"
    }
   },
   "source": [
    "<footer>\n",
    "    <p>Adopted from UC Berkeley DATA 8 course materials.</p>\n",
    "    <p>This content is offered under a <a href=\"https://creativecommons.org/licenses/by-nc-sa/4.0/\">CC Attribution Non-Commercial Share Alike</a> license.</p>\n",
    "</footer>"
   ]
  }
 ],
 "metadata": {
  "kernelspec": {
   "display_name": "Python 3 (ipykernel)",
   "language": "python",
   "name": "python3"
  },
  "language_info": {
   "codemirror_mode": {
    "name": "ipython",
    "version": 3
   },
   "file_extension": ".py",
   "mimetype": "text/x-python",
   "name": "python",
   "nbconvert_exporter": "python",
   "pygments_lexer": "ipython3",
   "version": "3.10.9"
  },
  "rise": {
   "controls": false,
   "transition": "none"
  }
 },
 "nbformat": 4,
 "nbformat_minor": 5
}
